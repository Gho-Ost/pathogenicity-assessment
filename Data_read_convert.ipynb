{
 "cells": [
  {
   "cell_type": "markdown",
   "metadata": {},
   "source": [
    "# Notebook for initial data to CSV conversion"
   ]
  },
  {
   "cell_type": "markdown",
   "metadata": {},
   "source": [
    "### **Please use the following folder structure**:\n",
    "\n",
    "```\n",
    "└───data\n",
    "    ├───EE_015\n",
    "    |     └───EE_015.vcf.gz\n",
    "    ├───EE_050\n",
    "    |     └───EE_050.vcf.gz\n",
    "    └───EE_069\n",
    "          └───EE_069.vcf.gz\n",
    "```"
   ]
  },
  {
   "cell_type": "markdown",
   "metadata": {},
   "source": [
    "## Unpack original files to CSV"
   ]
  },
  {
   "cell_type": "code",
   "execution_count": 5,
   "metadata": {},
   "outputs": [
    {
     "name": "stdout",
     "output_type": "stream",
     "text": [
      "Requirement already satisfied: unvcf in c:\\users\\barte\\anaconda3\\envs\\pathogen\\lib\\site-packages (0.1.2)\n",
      "Requirement already satisfied: pandas>=0.22 in c:\\users\\barte\\anaconda3\\envs\\pathogen\\lib\\site-packages (from unvcf) (2.1.1)\n",
      "Requirement already satisfied: dask>=0.16.1 in c:\\users\\barte\\anaconda3\\envs\\pathogen\\lib\\site-packages (from dask[dataframe]>=0.16.1->unvcf) (2023.10.0)\n",
      "Requirement already satisfied: tqdm>=4.19.5 in c:\\users\\barte\\anaconda3\\envs\\pathogen\\lib\\site-packages (from unvcf) (4.66.1)\n",
      "Requirement already satisfied: click>=8.0 in c:\\users\\barte\\anaconda3\\envs\\pathogen\\lib\\site-packages (from dask>=0.16.1->dask[dataframe]>=0.16.1->unvcf) (8.1.7)\n",
      "Requirement already satisfied: cloudpickle>=1.5.0 in c:\\users\\barte\\anaconda3\\envs\\pathogen\\lib\\site-packages (from dask>=0.16.1->dask[dataframe]>=0.16.1->unvcf) (3.0.0)\n",
      "Requirement already satisfied: fsspec>=2021.09.0 in c:\\users\\barte\\anaconda3\\envs\\pathogen\\lib\\site-packages (from dask>=0.16.1->dask[dataframe]>=0.16.1->unvcf) (2023.9.2)\n",
      "Requirement already satisfied: packaging>=20.0 in c:\\users\\barte\\anaconda3\\envs\\pathogen\\lib\\site-packages (from dask>=0.16.1->dask[dataframe]>=0.16.1->unvcf) (23.2)\n",
      "Requirement already satisfied: partd>=1.2.0 in c:\\users\\barte\\anaconda3\\envs\\pathogen\\lib\\site-packages (from dask>=0.16.1->dask[dataframe]>=0.16.1->unvcf) (1.4.1)\n",
      "Requirement already satisfied: pyyaml>=5.3.1 in c:\\users\\barte\\anaconda3\\envs\\pathogen\\lib\\site-packages (from dask>=0.16.1->dask[dataframe]>=0.16.1->unvcf) (6.0.1)\n",
      "Requirement already satisfied: toolz>=0.10.0 in c:\\users\\barte\\anaconda3\\envs\\pathogen\\lib\\site-packages (from dask>=0.16.1->dask[dataframe]>=0.16.1->unvcf) (0.12.0)\n",
      "Requirement already satisfied: importlib-metadata>=4.13.0 in c:\\users\\barte\\anaconda3\\envs\\pathogen\\lib\\site-packages (from dask>=0.16.1->dask[dataframe]>=0.16.1->unvcf) (6.8.0)\n",
      "Requirement already satisfied: numpy>=1.23.2 in c:\\users\\barte\\anaconda3\\envs\\pathogen\\lib\\site-packages (from pandas>=0.22->unvcf) (1.26.0)\n",
      "Requirement already satisfied: python-dateutil>=2.8.2 in c:\\users\\barte\\anaconda3\\envs\\pathogen\\lib\\site-packages (from pandas>=0.22->unvcf) (2.8.2)\n",
      "Requirement already satisfied: pytz>=2020.1 in c:\\users\\barte\\anaconda3\\envs\\pathogen\\lib\\site-packages (from pandas>=0.22->unvcf) (2023.3.post1)\n",
      "Requirement already satisfied: tzdata>=2022.1 in c:\\users\\barte\\anaconda3\\envs\\pathogen\\lib\\site-packages (from pandas>=0.22->unvcf) (2023.3)\n",
      "Requirement already satisfied: colorama in c:\\users\\barte\\anaconda3\\envs\\pathogen\\lib\\site-packages (from tqdm>=4.19.5->unvcf) (0.4.6)\n",
      "Requirement already satisfied: zipp>=0.5 in c:\\users\\barte\\anaconda3\\envs\\pathogen\\lib\\site-packages (from importlib-metadata>=4.13.0->dask>=0.16.1->dask[dataframe]>=0.16.1->unvcf) (3.17.0)\n",
      "Requirement already satisfied: locket in c:\\users\\barte\\anaconda3\\envs\\pathogen\\lib\\site-packages (from partd>=1.2.0->dask>=0.16.1->dask[dataframe]>=0.16.1->unvcf) (1.0.0)\n",
      "Requirement already satisfied: six>=1.5 in c:\\users\\barte\\anaconda3\\envs\\pathogen\\lib\\site-packages (from python-dateutil>=2.8.2->pandas>=0.22->unvcf) (1.16.0)\n"
     ]
    }
   ],
   "source": [
    "!pip install unvcf"
   ]
  },
  {
   "cell_type": "code",
   "execution_count": 6,
   "metadata": {},
   "outputs": [
    {
     "name": "stdout",
     "output_type": "stream",
     "text": [
      "Microsoft Windows [Version 10.0.22621.2428]\n",
      "(c) Microsoft Corporation. All rights reserved.\n",
      "\n",
      "(pathogen) c:\\Users\\barte\\Desktop\\Studies\\V semester\\pathogenicity-assessment>\n",
      "(pathogen) c:\\Users\\barte\\Desktop\\Studies\\V semester\\pathogenicity-assessment>unvcf data/EE_015/EE_015.vcf.gz data/EE_015/\n"
     ]
    },
    {
     "name": "stdout",
     "output_type": "stream",
     "text": [
      "Destination folder: c:\\Users\\barte\\Desktop\\Studies\\V semester\\pathogenicity-assessment\\data\\EE_015\n",
      "Files that are being generated:\n",
      "- EE_015.vcf.gz.sample.AB.csv\n",
      "- EE_015.vcf.gz.sample.AD.csv\n",
      "- EE_015.vcf.gz.sample.AF.csv\n",
      "- EE_015.vcf.gz.sample.DP.csv\n",
      "- EE_015.vcf.gz.sample.F1R2.csv\n",
      "- EE_015.vcf.gz.sample.F2R1.csv\n",
      "- EE_015.vcf.gz.sample.GT.csv\n",
      "- EE_015.vcf.gz.sample.PGT.csv\n",
      "- EE_015.vcf.gz.sample.PID.csv\n",
      "- EE_015.vcf.gz.sample.PS.csv\n",
      "- EE_015.vcf.gz.sample.SB.csv\n",
      "- EE_015.vcf.gz.default.csv\n",
      "- EE_015.vcf.gz.genotype.csv\n"
     ]
    },
    {
     "name": "stderr",
     "output_type": "stream",
     "text": [
      "C:\\Users\\barte\\anaconda3\\envs\\pathogen\\Lib\\site-packages\\dask\\dataframe\\io\\csv.py:546: UserWarning: Warning gzip compression does not support breaking apart files\n",
      "Please ensure that each individual file can fit in memory and\n",
      "use the keyword ``blocksize=None to remove this message``\n",
      "Setting ``blocksize=None``\n",
      "  warn(\n"
     ]
    },
    {
     "name": "stdout",
     "output_type": "stream",
     "text": [
      "Warming up the engine... done.\n"
     ]
    },
    {
     "name": "stderr",
     "output_type": "stream",
     "text": [
      "102517 genotypes [00:28, 3569.45 genotypes/s]\n"
     ]
    },
    {
     "name": "stdout",
     "output_type": "stream",
     "text": [
      "Finished successfully!\n",
      "\n",
      "(pathogen) c:\\Users\\barte\\Desktop\\Studies\\V semester\\pathogenicity-assessment>unvcf data/EE_050/EE_050.vcf.gz data/EE_050/\n",
      "Destination folder: c:\\Users\\barte\\Desktop\\Studies\\V semester\\pathogenicity-assessment\\data\\EE_050\n",
      "Files that are being generated:\n",
      "- EE_050.vcf.gz.sample.AB.csv\n",
      "- EE_050.vcf.gz.sample.AD.csv\n",
      "- EE_050.vcf.gz.sample.AF.csv\n",
      "- EE_050.vcf.gz.sample.DP.csv\n",
      "- EE_050.vcf.gz.sample.F1R2.csv\n",
      "- EE_050.vcf.gz.sample.F2R1.csv\n",
      "- EE_050.vcf.gz.sample.GT.csv\n",
      "- EE_050.vcf.gz.sample.PGT.csv\n",
      "- EE_050.vcf.gz.sample.PID.csv\n",
      "- EE_050.vcf.gz.sample.PS.csv\n",
      "- EE_050.vcf.gz.sample.SB.csv\n",
      "- EE_050.vcf.gz.default.csv\n",
      "- EE_050.vcf.gz.genotype.csv\n"
     ]
    },
    {
     "name": "stderr",
     "output_type": "stream",
     "text": [
      "C:\\Users\\barte\\anaconda3\\envs\\pathogen\\Lib\\site-packages\\dask\\dataframe\\io\\csv.py:546: UserWarning: Warning gzip compression does not support breaking apart files\n",
      "Please ensure that each individual file can fit in memory and\n",
      "use the keyword ``blocksize=None to remove this message``\n",
      "Setting ``blocksize=None``\n",
      "  warn(\n"
     ]
    },
    {
     "name": "stdout",
     "output_type": "stream",
     "text": [
      "Warming up the engine... done.\n"
     ]
    },
    {
     "name": "stderr",
     "output_type": "stream",
     "text": [
      "201753 genotypes [00:54, 3676.53 genotypes/s]\n"
     ]
    },
    {
     "name": "stdout",
     "output_type": "stream",
     "text": [
      "Finished successfully!\n",
      "\n",
      "(pathogen) c:\\Users\\barte\\Desktop\\Studies\\V semester\\pathogenicity-assessment>unvcf data/EE_069/EE_069.vcf.gz data/EE_069/\n",
      "Destination folder: c:\\Users\\barte\\Desktop\\Studies\\V semester\\pathogenicity-assessment\\data\\EE_069\n",
      "Files that are being generated:\n",
      "- EE_069.vcf.gz.sample.AB.csv\n",
      "- EE_069.vcf.gz.sample.AD.csv\n",
      "- EE_069.vcf.gz.sample.DP.csv\n",
      "- EE_069.vcf.gz.sample.GQ.csv\n",
      "- EE_069.vcf.gz.sample.GT.csv\n",
      "- EE_069.vcf.gz.sample.PGT.csv\n",
      "- EE_069.vcf.gz.sample.PID.csv\n",
      "- EE_069.vcf.gz.sample.PL.csv\n",
      "- EE_069.vcf.gz.sample.SAC.csv\n",
      "- EE_069.vcf.gz.default.csv\n",
      "- EE_069.vcf.gz.genotype.csv\n"
     ]
    },
    {
     "name": "stderr",
     "output_type": "stream",
     "text": [
      "C:\\Users\\barte\\anaconda3\\envs\\pathogen\\Lib\\site-packages\\dask\\dataframe\\io\\csv.py:546: UserWarning: Warning gzip compression does not support breaking apart files\n",
      "Please ensure that each individual file can fit in memory and\n",
      "use the keyword ``blocksize=None to remove this message``\n",
      "Setting ``blocksize=None``\n",
      "  warn(\n"
     ]
    },
    {
     "name": "stdout",
     "output_type": "stream",
     "text": [
      "Warming up the engine... done.\n"
     ]
    },
    {
     "name": "stderr",
     "output_type": "stream",
     "text": [
      "140174 genotypes [00:37, 3740.17 genotypes/s]\n"
     ]
    },
    {
     "name": "stdout",
     "output_type": "stream",
     "text": [
      "Finished successfully!\n",
      "\n",
      "(pathogen) c:\\Users\\barte\\Desktop\\Studies\\V semester\\pathogenicity-assessment>"
     ]
    }
   ],
   "source": [
    "%%cmd\n",
    "\n",
    "unvcf data/EE_015/EE_015.vcf.gz data/EE_015/\n",
    "unvcf data/EE_050/EE_050.vcf.gz data/EE_050/\n",
    "unvcf data/EE_069/EE_069.vcf.gz data/EE_069/"
   ]
  },
  {
   "cell_type": "markdown",
   "metadata": {},
   "source": [
    "## Clean up folders"
   ]
  },
  {
   "cell_type": "code",
   "execution_count": 7,
   "metadata": {},
   "outputs": [
    {
     "name": "stderr",
     "output_type": "stream",
     "text": [
      "C:\\Users\\barte\\AppData\\Local\\Temp\\ipykernel_19604\\1200712913.py:17: DtypeWarning: Columns (12) have mixed types. Specify dtype option on import or set low_memory=False.\n",
      "  df = pd.read_csv(folder / file, sep=\"\\t\")\n"
     ]
    }
   ],
   "source": [
    "import os\n",
    "from pathlib import Path\n",
    "import pandas as pd\n",
    "\n",
    "\n",
    "vcfs = [\"EE_015\", \"EE_050\", \"EE_069\"]\n",
    "data_folders = [Path(\"data/\") / x for x in vcfs]\n",
    "\n",
    "for folder in data_folders:\n",
    "    for root, dirs, files in os.walk(folder):\n",
    "        for file in files:\n",
    "            # Remove sample files\n",
    "            if \"sample\" in file:\n",
    "                os.remove(folder / file)\n",
    "            # Rewrite genotype info without csq\n",
    "            elif \"genotype\" in file:\n",
    "                df = pd.read_csv(folder / file, sep=\"\\t\")\n",
    "                df.drop(\"CSQ\", axis=1).to_csv(folder / f\"{file[:6]}_genotype.csv.gz\", sep=\";\", compression=\"gzip\")\n",
    "                os.remove(folder / file)\n",
    "            # Change default separator and compress\n",
    "            elif \"default\" in file:\n",
    "                df = pd.read_csv(folder / file, sep=\"\\t\")\n",
    "                df.to_csv(folder / f\"{file[:6]}_default.csv.gz\", sep=\";\", compression=\"gzip\")\n",
    "                os.remove(folder / file)"
   ]
  },
  {
   "cell_type": "markdown",
   "metadata": {},
   "source": [
    "## Move CSQ"
   ]
  },
  {
   "cell_type": "code",
   "execution_count": 8,
   "metadata": {},
   "outputs": [],
   "source": [
    "import vcf\n",
    "import pandas as pd\n",
    "\n",
    "\n",
    "for i, folder in enumerate(data_folders):\n",
    "    data = []\n",
    "\n",
    "    vcf_file = folder / f\"{vcfs[i]}.vcf.gz\"\n",
    "    with open(vcf_file, 'rb') as vcf_file_binary:\n",
    "        vcf_reader = vcf.Reader(vcf_file_binary)\n",
    "        \n",
    "        column_csq_headers = vcf_reader.infos[\"CSQ\"].desc[50:].split(\"|\")\n",
    "\n",
    "        for record in vcf_reader:\n",
    "            for field in vcf_reader.infos.keys():\n",
    "                if field == \"CSQ\":\n",
    "                    data.append(record.INFO.get(field)[0].split(\"|\"))\n",
    "                    break\n",
    "\n",
    "    df = pd.DataFrame(data, columns=column_csq_headers)\n",
    "    df.to_csv(folder / f\"{vcfs[i]}_csq.csv.gz\", sep=\";\", compression=\"gzip\")"
   ]
  },
  {
   "cell_type": "markdown",
   "metadata": {},
   "source": [
    "##### To read data: \n",
    "```py\n",
    "df = pd.read_csv(\"data/EE_015/EE_015_csq.csv.gz\", sep=\";\", compression=\"gzip\")\n",
    "```"
   ]
  }
 ],
 "metadata": {
  "kernelspec": {
   "display_name": "pathogen",
   "language": "python",
   "name": "python3"
  },
  "language_info": {
   "codemirror_mode": {
    "name": "ipython",
    "version": 3
   },
   "file_extension": ".py",
   "mimetype": "text/x-python",
   "name": "python",
   "nbconvert_exporter": "python",
   "pygments_lexer": "ipython3",
   "version": "3.11.6"
  }
 },
 "nbformat": 4,
 "nbformat_minor": 2
}

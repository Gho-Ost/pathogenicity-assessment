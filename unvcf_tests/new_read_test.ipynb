{
 "cells": [
  {
   "cell_type": "code",
   "execution_count": 1,
   "metadata": {},
   "outputs": [],
   "source": [
    "from utils import get_dataset, get_sample_data"
   ]
  },
  {
   "cell_type": "code",
   "execution_count": 4,
   "metadata": {},
   "outputs": [],
   "source": [
    "df = get_dataset(\"../data/\", samples=[\"EE_015\", \"EE_050\", \"EE_069\"], file_types=[\"default\", \"genotype\", \"csq\"], option_csq=\"potential\", \n",
    "            options_genotype=[\"potential\", \"all\"])\n"
   ]
  },
  {
   "cell_type": "code",
   "execution_count": 5,
   "metadata": {},
   "outputs": [
    {
     "data": {
      "text/plain": [
       "Index(['#CHROM', 'POS', 'REF', 'ALT', 'QUAL', 'AS_FilterStatus', 'AS_SB_TABLE',\n",
       "       'CGDinheritance', 'ClinVarClass', 'ClinVarDisease', 'DANN_score',\n",
       "       'ECNT', 'GERMQ', 'Gene', 'MBQ', 'MFRL', 'MPOS', 'MutationTaster_pred',\n",
       "       'MutationTaster_score', 'POPAF', 'RPA', 'RU', 'SIFT_score', 'STR',\n",
       "       'STRQ', 'TLOD', 'coding_impact', 'cosmicFathMMPrediction',\n",
       "       'cosmicFathMMScore', 'function', 'gnomadExomes_AF', 'gnomadGenomes_AF',\n",
       "       'hgvs', 'Allele_csq', 'Consequence_csq', 'IMPACT_csq', 'SYMBOL_csq',\n",
       "       'Gene_csq', 'Feature_type_csq', 'Feature_csq', 'BIOTYPE_csq',\n",
       "       'EXON_csq', 'INTRON_csq', 'HGVSc_csq', 'HGVSp_csq', 'cDNA_position_csq',\n",
       "       'CDS_position_csq', 'Protein_position_csq', 'Amino_acids_csq',\n",
       "       'Codons_csq', 'Existing_variation_csq', 'DISTANCE_csq', 'STRAND_csq',\n",
       "       'FLAGS_csq', 'SYMBOL_SOURCE_csq', 'HGNC_ID_csq', 'CANONICAL_csq',\n",
       "       'MANE_SELECT_csq', 'MANE_PLUS_CLINICAL_csq', 'SIFT_csq', 'PolyPhen_csq',\n",
       "       'gnomADe_AF_csq', 'gnomADg_AF_csq', 'CLIN_SIG_csq', 'SOMATIC_csq',\n",
       "       'PHENO_csq', 'PUBMED_csq', 'VAR_SYNONYMS_csq', 'MOTIF_NAME_csq',\n",
       "       'MOTIF_POS_csq', 'HIGH_INF_POS_csq', 'MOTIF_SCORE_CHANGE_csq',\n",
       "       'TRANSCRIPTION_FACTORS_csq', 'EVE_CLASS_csq', 'EVE_SCORE_csq',\n",
       "       'CADD_PHRED_csq', 'CADD_RAW_csq', 'SpliceAI_pred_DP_AG_csq',\n",
       "       'SpliceAI_pred_DP_AL_csq', 'SpliceAI_pred_DP_DG_csq',\n",
       "       'SpliceAI_pred_DP_DL_csq', 'SpliceAI_pred_DS_AG_csq',\n",
       "       'SpliceAI_pred_DS_AL_csq', 'SpliceAI_pred_DS_DG_csq',\n",
       "       'SpliceAI_pred_DS_DL_csq', 'SpliceAI_pred_SYMBOL_csq', 'LOEUF_csq',\n",
       "       'PHENOTYPES_csq', 'NMD_csq', 'FILTER_strand_bias',\n",
       "       'FILTER_weak_evidence', 'FILTER_multiallelic', 'FILTER_map_qual',\n",
       "       'FILTER_slippage', 'FILTER_clustered_events', 'FILTER_haplotype',\n",
       "       'FILTER_base_qual', 'FILTER_fragment', 'FILTER_germline'],\n",
       "      dtype='object')"
      ]
     },
     "execution_count": 5,
     "metadata": {},
     "output_type": "execute_result"
    }
   ],
   "source": [
    "# df.columns"
   ]
  }
 ],
 "metadata": {
  "kernelspec": {
   "display_name": "pathogen",
   "language": "python",
   "name": "python3"
  },
  "language_info": {
   "codemirror_mode": {
    "name": "ipython",
    "version": 3
   },
   "file_extension": ".py",
   "mimetype": "text/x-python",
   "name": "python",
   "nbconvert_exporter": "python",
   "pygments_lexer": "ipython3",
   "version": "3.11.6"
  }
 },
 "nbformat": 4,
 "nbformat_minor": 2
}

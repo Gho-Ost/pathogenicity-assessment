{
 "cells": [
  {
   "cell_type": "code",
   "execution_count": 1,
   "metadata": {},
   "outputs": [],
   "source": [
    "from utils import get_dataset"
   ]
  },
  {
   "cell_type": "markdown",
   "metadata": {},
   "source": [
    "#### Get entire dataset"
   ]
  },
  {
   "cell_type": "code",
   "execution_count": 2,
   "metadata": {},
   "outputs": [],
   "source": [
    "df = get_dataset(\"../data/\", samples=[\"EE_015\", \"EE_050\", \"EE_069\"], file_type=\"both\", option_csq=\"potential\", \n",
    "            options_genotype=[\"potential\", \"all\"], with_default=True)\n"
   ]
  },
  {
   "cell_type": "code",
   "execution_count": 4,
   "metadata": {},
   "outputs": [
    {
     "name": "stdout",
     "output_type": "stream",
     "text": [
      "#CHROM\n",
      "POS\n",
      "REF\n",
      "ALT\n",
      "QUAL\n",
      "FILTER_fragment\n",
      "FILTER_clustered_events\n",
      "FILTER_weak_evidence\n",
      "FILTER_multiallelic\n",
      "FILTER_haplotype\n",
      "FILTER_base_qual\n",
      "FILTER_germline\n",
      "FILTER_map_qual\n",
      "FILTER_slippage\n",
      "FILTER_strand_bias\n",
      "ACMG_class\n",
      "AS_SB_TABLE\n",
      "ClinVarDisease\n",
      "DANN_score\n",
      "ECNT\n",
      "GERMQ\n",
      "MBQ\n",
      "MFRL\n",
      "MPOS\n",
      "POPAF\n",
      "RPA\n",
      "RU\n",
      "SIFT_score\n",
      "STR\n",
      "STRQ\n",
      "TLOD\n",
      "cosmicFathMMPrediction\n",
      "cosmicFathMMScore\n",
      "gnomadExomes_AF\n",
      "gnomadGenomes_AF\n",
      "function_0\n",
      "function_NMD\n",
      "function_3'utr\n",
      "function_5'utr\n",
      "function_3'flank\n",
      "function_5'flank\n",
      "function_coding\n",
      "function_non-coding%40exon\n",
      "function_intronic\n",
      "function_splicing\n",
      "function_splicing-ACMG\n",
      "CGDinheritance_Methylation\n",
      "CGDinheritance_Maternal\n",
      "CGDinheritance_AR\n",
      "CGDinheritance_0\n",
      "CGDinheritance_BG\n",
      "CGDinheritance_Multigenic\n",
      "CGDinheritance_YL\n",
      "CGDinheritance_Digenic\n",
      "CGDinheritance_AD\n",
      "CGDinheritance_XL\n",
      "coding_impact_nonsense\n",
      "coding_impact_stopLoss\n",
      "coding_impact_0\n",
      "coding_impact_frameshift\n",
      "coding_impact_in%40frame\n",
      "coding_impact_synonymous\n",
      "coding_impact_splice%40junction%40loss\n",
      "coding_impact_non%40coding\n",
      "coding_impact_start%40loss\n",
      "coding_impact_missense\n",
      "AS_FilterStatus_weak_evidence\n",
      "AS_FilterStatus_SITE\n",
      "AS_FilterStatus_base_qual\n",
      "AS_FilterStatus_map_qual\n",
      "AS_FilterStatus_strand_bias\n",
      "Allele\n",
      "IMPACT\n",
      "SYMBOL\n",
      "Feature_type\n",
      "Feature\n",
      "BIOTYPE\n",
      "EXON\n",
      "INTRON\n",
      "HGVSc\n",
      "Amino_acids\n",
      "Codons\n",
      "Existing_variation\n",
      "DISTANCE\n",
      "STRAND\n",
      "SYMBOL_SOURCE\n",
      "CANONICAL\n",
      "MANE_SELECT\n",
      "MANE_PLUS_CLINICAL\n",
      "gnomADe_AF\n",
      "gnomADg_AF\n",
      "VAR_SYNONYMS\n",
      "MOTIF_NAME\n",
      "MOTIF_POS\n",
      "HIGH_INF_POS\n",
      "MOTIF_SCORE_CHANGE\n",
      "EVE_CLASS\n",
      "EVE_SCORE\n",
      "CADD_PHRED\n",
      "CADD_RAW\n",
      "SpliceAI_pred_DP_AG\n",
      "SpliceAI_pred_DP_AL\n",
      "SpliceAI_pred_DP_DG\n",
      "SpliceAI_pred_DP_DL\n",
      "SpliceAI_pred_DS_AG\n",
      "SpliceAI_pred_DS_AL\n",
      "SpliceAI_pred_DS_DG\n",
      "SpliceAI_pred_DS_DL\n",
      "SpliceAI_pred_SYMBOL\n",
      "LOEUF\n",
      "NMD\n",
      "PHENOTYPES_exist\n",
      "FLAGS_start\n",
      "PUBMED_exist\n",
      "SIFT_class\n",
      "SIFT_pred\n",
      "PolyPhen_class\n",
      "PolyPhen_pred\n",
      "ACMG_class\n"
     ]
    }
   ],
   "source": [
    "for c in df.columns:\n",
    "    print(c)"
   ]
  },
  {
   "cell_type": "markdown",
   "metadata": {},
   "source": [
    "#### Get only the most important columns without default fields"
   ]
  },
  {
   "cell_type": "code",
   "execution_count": 5,
   "metadata": {},
   "outputs": [],
   "source": [
    "df = get_dataset(\"../data/\", samples=[\"EE_015\", \"EE_050\", \"EE_069\"], file_type=\"both\", option_csq=\"important\", \n",
    "            options_genotype=[\"important\", \"all\"], with_default=False)"
   ]
  },
  {
   "cell_type": "code",
   "execution_count": 6,
   "metadata": {},
   "outputs": [
    {
     "name": "stdout",
     "output_type": "stream",
     "text": [
      "ACMG_class\n",
      "AS_SB_TABLE\n",
      "ECNT\n",
      "GERMQ\n",
      "MBQ\n",
      "MFRL\n",
      "MPOS\n",
      "POPAF\n",
      "RPA\n",
      "RU\n",
      "STR\n",
      "STRQ\n",
      "TLOD\n",
      "cosmicFathMMPrediction\n",
      "cosmicFathMMScore\n",
      "gnomadExomes_AF\n",
      "gnomadGenomes_AF\n",
      "function_0\n",
      "function_NMD\n",
      "function_3'utr\n",
      "function_5'utr\n",
      "function_3'flank\n",
      "function_5'flank\n",
      "function_coding\n",
      "function_non-coding%40exon\n",
      "function_intronic\n",
      "function_splicing\n",
      "function_splicing-ACMG\n",
      "CGDinheritance_Methylation\n",
      "CGDinheritance_Maternal\n",
      "CGDinheritance_AR\n",
      "CGDinheritance_0\n",
      "CGDinheritance_BG\n",
      "CGDinheritance_Multigenic\n",
      "CGDinheritance_YL\n",
      "CGDinheritance_Digenic\n",
      "CGDinheritance_AD\n",
      "CGDinheritance_XL\n",
      "coding_impact_nonsense\n",
      "coding_impact_stopLoss\n",
      "coding_impact_0\n",
      "coding_impact_frameshift\n",
      "coding_impact_in%40frame\n",
      "coding_impact_synonymous\n",
      "coding_impact_splice%40junction%40loss\n",
      "coding_impact_non%40coding\n",
      "coding_impact_start%40loss\n",
      "coding_impact_missense\n",
      "AS_FilterStatus_weak_evidence\n",
      "AS_FilterStatus_SITE\n",
      "AS_FilterStatus_base_qual\n",
      "AS_FilterStatus_map_qual\n",
      "AS_FilterStatus_strand_bias\n",
      "Allele\n",
      "SYMBOL\n",
      "Feature_type\n",
      "Feature\n",
      "BIOTYPE\n",
      "EXON\n",
      "INTRON\n",
      "HGVSc\n",
      "Amino_acids\n",
      "Codons\n",
      "Existing_variation\n",
      "DISTANCE\n",
      "STRAND\n",
      "SYMBOL_SOURCE\n",
      "gnomADe_AF\n",
      "gnomADg_AF\n",
      "VAR_SYNONYMS\n",
      "MOTIF_NAME\n",
      "MOTIF_POS\n",
      "HIGH_INF_POS\n",
      "MOTIF_SCORE_CHANGE\n",
      "PHENOTYPES_exist\n",
      "PUBMED_exist\n",
      "ACMG_class\n"
     ]
    }
   ],
   "source": [
    "for c in df.columns:\n",
    "    print(c)"
   ]
  },
  {
   "cell_type": "markdown",
   "metadata": {},
   "source": [
    "#### Get only important csq columns (notice we get the ACMG_class target)"
   ]
  },
  {
   "cell_type": "code",
   "execution_count": 2,
   "metadata": {},
   "outputs": [],
   "source": [
    "df = get_dataset(\"../data/\", samples=[\"EE_015\", \"EE_050\", \"EE_069\"], file_type=\"csq\", option_csq=\"important\")"
   ]
  },
  {
   "cell_type": "code",
   "execution_count": 3,
   "metadata": {},
   "outputs": [
    {
     "name": "stdout",
     "output_type": "stream",
     "text": [
      "Allele\n",
      "SYMBOL\n",
      "Feature_type\n",
      "Feature\n",
      "BIOTYPE\n",
      "EXON\n",
      "INTRON\n",
      "HGVSc\n",
      "Amino_acids\n",
      "Codons\n",
      "Existing_variation\n",
      "DISTANCE\n",
      "STRAND\n",
      "SYMBOL_SOURCE\n",
      "gnomADe_AF\n",
      "gnomADg_AF\n",
      "VAR_SYNONYMS\n",
      "MOTIF_NAME\n",
      "MOTIF_POS\n",
      "HIGH_INF_POS\n",
      "MOTIF_SCORE_CHANGE\n",
      "PHENOTYPES_exist\n",
      "PUBMED_exist\n",
      "ACMG_class\n"
     ]
    }
   ],
   "source": [
    "for c in df.columns:\n",
    "    print(c)"
   ]
  },
  {
   "cell_type": "markdown",
   "metadata": {},
   "source": [
    "#### Get only EE_050 and EE_069 sample potentially interesting genotype data and only columns that appear in both original files "
   ]
  },
  {
   "cell_type": "code",
   "execution_count": 4,
   "metadata": {},
   "outputs": [],
   "source": [
    "df = get_dataset(\"../data/\", samples=[\"EE_050\", \"EE_069\"], file_type=\"genotype\", options_genotype=[\"potential\", \"common\"])"
   ]
  },
  {
   "cell_type": "code",
   "execution_count": 5,
   "metadata": {},
   "outputs": [
    {
     "name": "stdout",
     "output_type": "stream",
     "text": [
      "ACMG_class\n",
      "ClinVarDisease\n",
      "DANN_score\n",
      "SIFT_score\n",
      "gnomadExomes_AF\n",
      "gnomadGenomes_AF\n",
      "CGDinheritance_XL\n",
      "CGDinheritance_BG\n",
      "CGDinheritance_0\n",
      "CGDinheritance_Multigenic\n",
      "CGDinheritance_YL\n",
      "CGDinheritance_Digenic\n",
      "CGDinheritance_AR\n",
      "CGDinheritance_Maternal\n",
      "CGDinheritance_AD\n",
      "CGDinheritance_Methylation\n",
      "coding_impact_start%40loss\n",
      "coding_impact_synonymous\n",
      "coding_impact_non%40coding\n",
      "coding_impact_in%40frame\n",
      "coding_impact_0\n",
      "coding_impact_splice%40junction%40loss\n",
      "coding_impact_missense\n",
      "coding_impact_nonsense\n",
      "coding_impact_stopLoss\n",
      "coding_impact_frameshift\n",
      "function_0\n",
      "function_NMD\n",
      "function_3'utr\n",
      "function_5'utr\n",
      "function_3'flank\n",
      "function_5'flank\n",
      "function_coding\n",
      "function_non-coding%40exon\n",
      "function_intronic\n",
      "function_splicing\n",
      "function_splicing-ACMG\n"
     ]
    }
   ],
   "source": [
    "for c in df.columns:\n",
    "    print(c)"
   ]
  }
 ],
 "metadata": {
  "kernelspec": {
   "display_name": "pathogen",
   "language": "python",
   "name": "python3"
  },
  "language_info": {
   "codemirror_mode": {
    "name": "ipython",
    "version": 3
   },
   "file_extension": ".py",
   "mimetype": "text/x-python",
   "name": "python",
   "nbconvert_exporter": "python",
   "pygments_lexer": "ipython3",
   "version": "3.11.6"
  }
 },
 "nbformat": 4,
 "nbformat_minor": 2
}

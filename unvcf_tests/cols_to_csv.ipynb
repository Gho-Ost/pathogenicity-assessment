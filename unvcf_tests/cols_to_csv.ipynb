{
 "cells": [
  {
   "cell_type": "code",
   "execution_count": 1,
   "metadata": {},
   "outputs": [],
   "source": [
    "import pandas as pd\n",
    "import numpy as np\n",
    "\n",
    "from utils import get_data"
   ]
  },
  {
   "cell_type": "markdown",
   "metadata": {},
   "source": [
    "#### Default columns"
   ]
  },
  {
   "cell_type": "code",
   "execution_count": 5,
   "metadata": {},
   "outputs": [],
   "source": [
    "EE_default_015 = get_data(\"../data/EE_015/\", [\"default\"])\n",
    "EE_default_050 = get_data(\"../data/EE_050/\", [\"default\"])\n",
    "EE_default_069 = get_data(\"../data/EE_069/\", [\"default\"])\n",
    "EE_default = pd.concat([EE_default_015, EE_default_050, EE_default_069], ignore_index=True, axis=0)"
   ]
  },
  {
   "cell_type": "markdown",
   "metadata": {},
   "source": [
    "#### Genotype - non-CSQ columns"
   ]
  },
  {
   "cell_type": "code",
   "execution_count": 11,
   "metadata": {},
   "outputs": [],
   "source": [
    "EE_genotype_015 = get_data(\"../data/EE_015/\", [\"genotype\"])\n",
    "EE_genotype_050 = get_data(\"../data/EE_050/\", [\"genotype\"])\n",
    "EE_genotype = pd.concat([EE_genotype_015, EE_genotype_050], ignore_index=True, axis=0)"
   ]
  },
  {
   "cell_type": "code",
   "execution_count": 12,
   "metadata": {},
   "outputs": [
    {
     "name": "stderr",
     "output_type": "stream",
     "text": [
      "c:\\Users\\barte\\Desktop\\Studies\\V semester\\pathogenicity-assessment\\unvcf_tests\\utils.py:39: DtypeWarning: Columns (12) have mixed types. Specify dtype option on import or set low_memory=False.\n",
      "  return pd.read_csv(folder_path / f\"{sample}_{file_types[0]}.csv.gz\", sep=\";\", compression=\"gzip\").drop(\"Unnamed: 0\", axis=1)\n"
     ]
    }
   ],
   "source": [
    "EE_genotype_069 = get_data(\"../data/EE_069/\", [\"genotype\"])"
   ]
  },
  {
   "cell_type": "markdown",
   "metadata": {},
   "source": [
    "#### CSQ columns"
   ]
  },
  {
   "cell_type": "code",
   "execution_count": 69,
   "metadata": {},
   "outputs": [
    {
     "name": "stderr",
     "output_type": "stream",
     "text": [
      "c:\\Users\\barte\\Desktop\\Studies\\V semester\\pathogenicity-assessment\\unvcf_tests\\utils.py:39: DtypeWarning: Columns (26,40,74,75,76,78,80) have mixed types. Specify dtype option on import or set low_memory=False.\n",
      "  return pd.read_csv(folder_path / f\"{sample}_{file_types[0]}.csv.gz\", sep=\";\", compression=\"gzip\").drop(\"Unnamed: 0\", axis=1)\n",
      "c:\\Users\\barte\\Desktop\\Studies\\V semester\\pathogenicity-assessment\\unvcf_tests\\utils.py:39: DtypeWarning: Columns (26,40,74,75,76,78,80,94) have mixed types. Specify dtype option on import or set low_memory=False.\n",
      "  return pd.read_csv(folder_path / f\"{sample}_{file_types[0]}.csv.gz\", sep=\";\", compression=\"gzip\").drop(\"Unnamed: 0\", axis=1)\n",
      "c:\\Users\\barte\\Desktop\\Studies\\V semester\\pathogenicity-assessment\\unvcf_tests\\utils.py:39: DtypeWarning: Columns (26,40,74,75,76,78,80,96) have mixed types. Specify dtype option on import or set low_memory=False.\n",
      "  return pd.read_csv(folder_path / f\"{sample}_{file_types[0]}.csv.gz\", sep=\";\", compression=\"gzip\").drop(\"Unnamed: 0\", axis=1)\n"
     ]
    }
   ],
   "source": [
    "EE_csq_015 = get_data(\"../data/EE_015/\", [\"csq\"])\n",
    "EE_csq_050 = get_data(\"../data/EE_050/\", [\"csq\"])\n",
    "EE_csq_069 = get_data(\"../data/EE_069/\", [\"csq\"])\n",
    "EE_csq = pd.concat([EE_csq_015, EE_csq_050, EE_csq_069], ignore_index=True, axis=0)"
   ]
  },
  {
   "cell_type": "code",
   "execution_count": 75,
   "metadata": {},
   "outputs": [],
   "source": [
    "def save_to_file_nan_unique(df, file_path=\"\", csq=False):\n",
    "    with open(file_path, \"w\") as f:\n",
    "        dt = df.dtypes.to_numpy()\n",
    "        cols = df.columns\n",
    "        id = 0\n",
    "        f.write(\"id,col_name,dtype,unique,nans\\n\")\n",
    "        for d, col in zip(dt, cols):\n",
    "            nan = 0\n",
    "            if col == \"QUAL\":\n",
    "                nan = \".\"\n",
    "            elif d == object:\n",
    "                nan = \"0\"\n",
    "\n",
    "            num_nans = len(df[df[col]==nan])\n",
    "\n",
    "            if csq:\n",
    "                num_nans = df[col].isna().sum()\n",
    "\n",
    "            f.write(f\"{id},{col},{d},{len(df[col].unique())},{num_nans}\\n\")\n",
    "            id += 1"
   ]
  },
  {
   "cell_type": "code",
   "execution_count": 77,
   "metadata": {},
   "outputs": [],
   "source": [
    "save_to_file_nan_unique(EE_csq, \"csq_info.csv\", csq=True)"
   ]
  },
  {
   "cell_type": "code",
   "execution_count": 78,
   "metadata": {},
   "outputs": [],
   "source": [
    "save_to_file_nan_unique(EE_genotype, \"EE_015_050_genotype_info.csv\")"
   ]
  },
  {
   "cell_type": "code",
   "execution_count": 79,
   "metadata": {},
   "outputs": [],
   "source": [
    "save_to_file_nan_unique(EE_genotype_069, \"EE_genotype_069_info.csv\")"
   ]
  },
  {
   "cell_type": "code",
   "execution_count": 80,
   "metadata": {},
   "outputs": [],
   "source": [
    "save_to_file_nan_unique(EE_default, \"EE_default_info.csv\")"
   ]
  },
  {
   "cell_type": "markdown",
   "metadata": {},
   "source": [
    "### Save only column names and type (csq/default/genotype)"
   ]
  },
  {
   "cell_type": "code",
   "execution_count": 81,
   "metadata": {},
   "outputs": [],
   "source": [
    "EE_default_015 = get_data(\"../data/EE_015/\", [\"default\"])\n",
    "EE_default_050 = get_data(\"../data/EE_050/\", [\"default\"])\n",
    "EE_default_069 = get_data(\"../data/EE_069/\", [\"default\"])\n",
    "EE_default = pd.concat([EE_default_015, EE_default_050, EE_default_069], ignore_index=True, axis=0)"
   ]
  },
  {
   "cell_type": "code",
   "execution_count": 82,
   "metadata": {},
   "outputs": [
    {
     "name": "stderr",
     "output_type": "stream",
     "text": [
      "c:\\Users\\barte\\Desktop\\Studies\\V semester\\pathogenicity-assessment\\unvcf_tests\\utils.py:39: DtypeWarning: Columns (12) have mixed types. Specify dtype option on import or set low_memory=False.\n",
      "  return pd.read_csv(folder_path / f\"{sample}_{file_types[0]}.csv.gz\", sep=\";\", compression=\"gzip\").drop(\"Unnamed: 0\", axis=1)\n"
     ]
    }
   ],
   "source": [
    "EE_genotype_015 = get_data(\"../data/EE_015/\", [\"genotype\"])\n",
    "EE_genotype_050 = get_data(\"../data/EE_050/\", [\"genotype\"])\n",
    "EE_genotype = pd.concat([EE_genotype_015, EE_genotype_050], ignore_index=True, axis=0)\n",
    "EE_genotype_069 = get_data(\"../data/EE_069/\", [\"genotype\"])"
   ]
  },
  {
   "cell_type": "code",
   "execution_count": 83,
   "metadata": {},
   "outputs": [
    {
     "name": "stderr",
     "output_type": "stream",
     "text": [
      "c:\\Users\\barte\\Desktop\\Studies\\V semester\\pathogenicity-assessment\\unvcf_tests\\utils.py:39: DtypeWarning: Columns (26,40,74,75,76,78,80) have mixed types. Specify dtype option on import or set low_memory=False.\n",
      "  return pd.read_csv(folder_path / f\"{sample}_{file_types[0]}.csv.gz\", sep=\";\", compression=\"gzip\").drop(\"Unnamed: 0\", axis=1)\n",
      "c:\\Users\\barte\\Desktop\\Studies\\V semester\\pathogenicity-assessment\\unvcf_tests\\utils.py:39: DtypeWarning: Columns (26,40,74,75,76,78,80,94) have mixed types. Specify dtype option on import or set low_memory=False.\n",
      "  return pd.read_csv(folder_path / f\"{sample}_{file_types[0]}.csv.gz\", sep=\";\", compression=\"gzip\").drop(\"Unnamed: 0\", axis=1)\n",
      "c:\\Users\\barte\\Desktop\\Studies\\V semester\\pathogenicity-assessment\\unvcf_tests\\utils.py:39: DtypeWarning: Columns (26,40,74,75,76,78,80,96) have mixed types. Specify dtype option on import or set low_memory=False.\n",
      "  return pd.read_csv(folder_path / f\"{sample}_{file_types[0]}.csv.gz\", sep=\";\", compression=\"gzip\").drop(\"Unnamed: 0\", axis=1)\n"
     ]
    }
   ],
   "source": [
    "EE_csq_015 = get_data(\"../data/EE_015/\", [\"csq\"])\n",
    "EE_csq_050 = get_data(\"../data/EE_050/\", [\"csq\"])\n",
    "EE_csq_069 = get_data(\"../data/EE_069/\", [\"csq\"])\n",
    "EE_csq = pd.concat([EE_csq_015, EE_csq_050, EE_csq_069], ignore_index=True, axis=0)"
   ]
  },
  {
   "cell_type": "code",
   "execution_count": 86,
   "metadata": {},
   "outputs": [],
   "source": [
    "with open(\"data_cols.csv\", \"w\") as f:\n",
    "    f.write(\"Default\\n\")\n",
    "    f.write(\",\".join(EE_default.columns))\n",
    "    f.write(\"\\n\")\n",
    "\n",
    "    f.write(\"Genotype\\n015&050:\\n\")\n",
    "    f.write(\",\".join(EE_genotype.columns))\n",
    "    f.write(\"\\n\")\n",
    "    \n",
    "    f.write(\"069:\\n\")\n",
    "    f.write(\",\".join(EE_genotype_069.columns))\n",
    "    f.write(\"\\n\")\n",
    "\n",
    "    f.write(\"CSQ\\n\")\n",
    "    f.write(\",\".join(EE_csq.columns))\n"
   ]
  }
 ],
 "metadata": {
  "kernelspec": {
   "display_name": "pathogen",
   "language": "python",
   "name": "python3"
  },
  "language_info": {
   "codemirror_mode": {
    "name": "ipython",
    "version": 3
   },
   "file_extension": ".py",
   "mimetype": "text/x-python",
   "name": "python",
   "nbconvert_exporter": "python",
   "pygments_lexer": "ipython3",
   "version": "3.11.6"
  }
 },
 "nbformat": 4,
 "nbformat_minor": 2
}

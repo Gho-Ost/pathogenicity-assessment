{
 "cells": [
  {
   "cell_type": "code",
   "execution_count": 51,
   "metadata": {},
   "outputs": [],
   "source": [
    "import pandas as pd\n",
    "import matplotlib.pyplot as plt\n",
    "\n",
    "from utils.utils import get_data"
   ]
  },
  {
   "cell_type": "code",
   "execution_count": 35,
   "metadata": {},
   "outputs": [
    {
     "name": "stderr",
     "output_type": "stream",
     "text": [
      "c:\\Users\\barte\\Desktop\\Studies\\V semester\\pathogenicity-assessment\\utils\\utils.py:43: DtypeWarning: Columns (12) have mixed types. Specify dtype option on import or set low_memory=False.\n",
      "  df2 = pd.read_csv(folder_path / f\"{sample}_{f_type}.csv.gz\", sep=\";\", compression=\"gzip\").drop(\"Unnamed: 0\", axis=1)\n"
     ]
    }
   ],
   "source": [
    "df_015 = get_data(\"data/EE_015/\", [\"default\", \"genotype\"])\n",
    "df_050 = get_data(\"data/EE_050/\", [\"default\", \"genotype\"])\n",
    "df_069 = get_data(\"data/EE_069/\", [\"default\", \"genotype\"])\n",
    "\n",
    "unvcf_df = pd.concat([df_015, df_050, df_069], ignore_index=True, axis=0)"
   ]
  },
  {
   "cell_type": "code",
   "execution_count": 23,
   "metadata": {},
   "outputs": [
    {
     "data": {
      "text/html": [
       "<div>\n",
       "<style scoped>\n",
       "    .dataframe tbody tr th:only-of-type {\n",
       "        vertical-align: middle;\n",
       "    }\n",
       "\n",
       "    .dataframe tbody tr th {\n",
       "        vertical-align: top;\n",
       "    }\n",
       "\n",
       "    .dataframe thead th {\n",
       "        text-align: right;\n",
       "    }\n",
       "</style>\n",
       "<table border=\"1\" class=\"dataframe\">\n",
       "  <thead>\n",
       "    <tr style=\"text-align: right;\">\n",
       "      <th></th>\n",
       "      <th>#CHROM</th>\n",
       "      <th>POS</th>\n",
       "      <th>ID</th>\n",
       "      <th>REF</th>\n",
       "      <th>ALT</th>\n",
       "      <th>QUAL</th>\n",
       "      <th>FILTER</th>\n",
       "      <th>ACMG_class</th>\n",
       "      <th>ACMG_coding_impact</th>\n",
       "      <th>ACMG_gene</th>\n",
       "      <th>...</th>\n",
       "      <th>ClippingRankSum</th>\n",
       "      <th>ExcessHet</th>\n",
       "      <th>FS</th>\n",
       "      <th>MLEAC</th>\n",
       "      <th>MLEAF</th>\n",
       "      <th>MQ</th>\n",
       "      <th>MQRankSum</th>\n",
       "      <th>QD</th>\n",
       "      <th>ReadPosRankSum</th>\n",
       "      <th>SOR</th>\n",
       "    </tr>\n",
       "  </thead>\n",
       "  <tbody>\n",
       "    <tr>\n",
       "      <th>0</th>\n",
       "      <td>chr1</td>\n",
       "      <td>15820</td>\n",
       "      <td>rs2691315</td>\n",
       "      <td>G</td>\n",
       "      <td>T</td>\n",
       "      <td>.</td>\n",
       "      <td>PASS</td>\n",
       "      <td>Uncertain%40Significance</td>\n",
       "      <td>non%40coding</td>\n",
       "      <td>0</td>\n",
       "      <td>...</td>\n",
       "      <td>NaN</td>\n",
       "      <td>NaN</td>\n",
       "      <td>NaN</td>\n",
       "      <td>NaN</td>\n",
       "      <td>NaN</td>\n",
       "      <td>NaN</td>\n",
       "      <td>NaN</td>\n",
       "      <td>NaN</td>\n",
       "      <td>NaN</td>\n",
       "      <td>NaN</td>\n",
       "    </tr>\n",
       "  </tbody>\n",
       "</table>\n",
       "<p>1 rows × 74 columns</p>\n",
       "</div>"
      ],
      "text/plain": [
       "  #CHROM    POS         ID REF ALT QUAL FILTER                ACMG_class  \\\n",
       "0   chr1  15820  rs2691315   G   T    .   PASS  Uncertain%40Significance   \n",
       "\n",
       "  ACMG_coding_impact ACMG_gene  ... ClippingRankSum  ExcessHet  FS MLEAC  \\\n",
       "0       non%40coding         0  ...             NaN        NaN NaN   NaN   \n",
       "\n",
       "  MLEAF  MQ MQRankSum  QD ReadPosRankSum SOR  \n",
       "0   NaN NaN       NaN NaN            NaN NaN  \n",
       "\n",
       "[1 rows x 74 columns]"
      ]
     },
     "execution_count": 23,
     "metadata": {},
     "output_type": "execute_result"
    }
   ],
   "source": [
    "unvcf_df.head(1)"
   ]
  },
  {
   "cell_type": "code",
   "execution_count": 22,
   "metadata": {},
   "outputs": [
    {
     "name": "stdout",
     "output_type": "stream",
     "text": [
      "Dtype: float64:\n",
      " - ACMG_score\n",
      " - AMP_score\n",
      " - AMP_total_samples\n",
      " - ECNT\n",
      " - GERMQ\n",
      " - MBQ\n",
      " - MFRL\n",
      " - MMQ\n",
      " - MPOS\n",
      " - POPAF\n",
      " - RPA\n",
      " - STR\n",
      " - STRQ\n",
      " - TLOD\n",
      " - cosmicFathMMScore\n",
      " - gnomadExomes_AF\n",
      " - gnomadExomes_AF_ethnic\n",
      " - gnomadGenomes_AF\n",
      " - gnomadGenomes_AF_ethnic\n",
      " - AC\n",
      " - AF\n",
      " - AN\n",
      " - ExcessHet\n",
      " - FS\n",
      " - MLEAC\n",
      " - MLEAF\n",
      " - MQ\n",
      " - QD\n",
      " - SOR\n",
      "Dtype: int64:\n",
      " - POS\n",
      " - ClinVarDisease\n",
      " - DANN_score\n",
      " - DP\n",
      " - gnomadExomesEthnic_AC_Hom\n",
      " - gnomadExomes_AC\n",
      " - gnomadExomes_AC_Hemi\n",
      " - gnomadExomes_AC_Hom\n",
      " - gnomadExomes_AN\n",
      " - gnomadGenomesAC\n",
      " - gnomadGenomesAN\n",
      " - gnomadGenomesEthnic_AC_Hom\n",
      " - gnomadGenomes_AC_Hemi\n",
      " - gnomadGenomes_AC_Hom\n",
      "Dtype: object:\n",
      " - #CHROM\n",
      " - ID\n",
      " - REF\n",
      " - ALT\n",
      " - QUAL\n",
      " - FILTER\n",
      " - ACMG_class\n",
      " - ACMG_coding_impact\n",
      " - ACMG_gene\n",
      " - ACMG_rules\n",
      " - ACMG_transcript\n",
      " - AMP_matches\n",
      " - AMP_rules\n",
      " - AMP_tier\n",
      " - AS_FilterStatus\n",
      " - AS_SB_TABLE\n",
      " - CGDinheritance\n",
      " - ClinVarClass\n",
      " - Gene\n",
      " - MutationTaster_pred\n",
      " - MutationTaster_score\n",
      " - RU\n",
      " - SIFT_score\n",
      " - coding_impact\n",
      " - cosmicFathMMPrediction\n",
      " - function\n",
      " - hgvs\n",
      " - BaseQRankSum\n",
      " - ClippingRankSum\n",
      " - MQRankSum\n",
      " - ReadPosRankSum\n"
     ]
    }
   ],
   "source": [
    "dt = unvcf_df.dtypes.to_numpy()\n",
    "cols = unvcf_df.columns\n",
    "dt_cols = [(d, col) for d, col in zip(dt, cols)]\n",
    "for d in set(dt):\n",
    "    print(f\"Dtype: {d}:\")\n",
    "    for _d, col in dt_cols:\n",
    "        if d == _d:\n",
    "            print(f\" - {col}\")\n"
   ]
  },
  {
   "cell_type": "code",
   "execution_count": 15,
   "metadata": {},
   "outputs": [
    {
     "data": {
      "text/plain": [
       "Index(['#CHROM', 'POS', 'ID', 'REF', 'ALT', 'QUAL', 'FILTER', 'ACMG_class',\n",
       "       'ACMG_coding_impact', 'ACMG_gene', 'ACMG_rules', 'ACMG_score',\n",
       "       'ACMG_transcript', 'AMP_matches', 'AMP_rules', 'AMP_score', 'AMP_tier',\n",
       "       'AMP_total_samples', 'AS_FilterStatus', 'AS_SB_TABLE', 'CGDinheritance',\n",
       "       'ClinVarClass', 'ClinVarDisease', 'DANN_score', 'DP', 'ECNT', 'GERMQ',\n",
       "       'Gene', 'MBQ', 'MFRL', 'MMQ', 'MPOS', 'MutationTaster_pred',\n",
       "       'MutationTaster_score', 'POPAF', 'RPA', 'RU', 'SIFT_score', 'STR',\n",
       "       'STRQ', 'TLOD', 'coding_impact', 'cosmicFathMMPrediction',\n",
       "       'cosmicFathMMScore', 'function', 'gnomadExomesEthnic_AC_Hom',\n",
       "       'gnomadExomes_AC', 'gnomadExomes_AC_Hemi', 'gnomadExomes_AC_Hom',\n",
       "       'gnomadExomes_AF', 'gnomadExomes_AF_ethnic', 'gnomadExomes_AN',\n",
       "       'gnomadGenomesAC', 'gnomadGenomesAN', 'gnomadGenomesEthnic_AC_Hom',\n",
       "       'gnomadGenomes_AC_Hemi', 'gnomadGenomes_AC_Hom', 'gnomadGenomes_AF',\n",
       "       'gnomadGenomes_AF_ethnic', 'hgvs', 'AC', 'AF', 'AN', 'BaseQRankSum',\n",
       "       'ClippingRankSum', 'ExcessHet', 'FS', 'MLEAC', 'MLEAF', 'MQ',\n",
       "       'MQRankSum', 'QD', 'ReadPosRankSum', 'SOR'],\n",
       "      dtype='object')"
      ]
     },
     "execution_count": 15,
     "metadata": {},
     "output_type": "execute_result"
    }
   ],
   "source": [
    "unvcf_df.columns"
   ]
  },
  {
   "cell_type": "code",
   "execution_count": 10,
   "metadata": {},
   "outputs": [
    {
     "data": {
      "text/plain": [
       "True"
      ]
     },
     "execution_count": 10,
     "metadata": {},
     "output_type": "execute_result"
    }
   ],
   "source": [
    "all(df_050.columns == df_015.columns)"
   ]
  },
  {
   "cell_type": "code",
   "execution_count": 14,
   "metadata": {},
   "outputs": [
    {
     "data": {
      "text/plain": [
       "{'#CHROM',\n",
       " 'ACMG_class',\n",
       " 'ACMG_coding_impact',\n",
       " 'ACMG_gene',\n",
       " 'ACMG_rules',\n",
       " 'ACMG_score',\n",
       " 'ACMG_transcript',\n",
       " 'ALT',\n",
       " 'CGDinheritance',\n",
       " 'ClinVarClass',\n",
       " 'ClinVarDisease',\n",
       " 'DANN_score',\n",
       " 'DP',\n",
       " 'FILTER',\n",
       " 'Gene',\n",
       " 'ID',\n",
       " 'MutationTaster_pred',\n",
       " 'MutationTaster_score',\n",
       " 'POS',\n",
       " 'QUAL',\n",
       " 'REF',\n",
       " 'SIFT_score',\n",
       " 'coding_impact',\n",
       " 'function',\n",
       " 'gnomadExomesEthnic_AC_Hom',\n",
       " 'gnomadExomes_AC',\n",
       " 'gnomadExomes_AC_Hemi',\n",
       " 'gnomadExomes_AC_Hom',\n",
       " 'gnomadExomes_AF',\n",
       " 'gnomadExomes_AF_ethnic',\n",
       " 'gnomadExomes_AN',\n",
       " 'gnomadGenomesAC',\n",
       " 'gnomadGenomesAN',\n",
       " 'gnomadGenomesEthnic_AC_Hom',\n",
       " 'gnomadGenomes_AC_Hemi',\n",
       " 'gnomadGenomes_AC_Hom',\n",
       " 'gnomadGenomes_AF',\n",
       " 'gnomadGenomes_AF_ethnic',\n",
       " 'hgvs'}"
      ]
     },
     "execution_count": 14,
     "metadata": {},
     "output_type": "execute_result"
    }
   ],
   "source": [
    "set(df_050.columns).intersection(set(df_069.columns))"
   ]
  },
  {
   "cell_type": "code",
   "execution_count": 6,
   "metadata": {},
   "outputs": [
    {
     "data": {
      "text/plain": [
       "{'AMP_matches',\n",
       " 'AMP_rules',\n",
       " 'AMP_score',\n",
       " 'AMP_tier',\n",
       " 'AMP_total_samples',\n",
       " 'AS_FilterStatus',\n",
       " 'AS_SB_TABLE',\n",
       " 'ECNT',\n",
       " 'GERMQ',\n",
       " 'MBQ',\n",
       " 'MFRL',\n",
       " 'MMQ',\n",
       " 'MPOS',\n",
       " 'POPAF',\n",
       " 'RPA',\n",
       " 'RU',\n",
       " 'STR',\n",
       " 'STRQ',\n",
       " 'TLOD',\n",
       " 'cosmicFathMMPrediction',\n",
       " 'cosmicFathMMScore'}"
      ]
     },
     "execution_count": 6,
     "metadata": {},
     "output_type": "execute_result"
    }
   ],
   "source": [
    "set(df_050.columns).difference(set(df_069.columns))"
   ]
  },
  {
   "cell_type": "code",
   "execution_count": 13,
   "metadata": {},
   "outputs": [
    {
     "data": {
      "text/plain": [
       "{'AC',\n",
       " 'AF',\n",
       " 'AN',\n",
       " 'BaseQRankSum',\n",
       " 'ClippingRankSum',\n",
       " 'ExcessHet',\n",
       " 'FS',\n",
       " 'MLEAC',\n",
       " 'MLEAF',\n",
       " 'MQ',\n",
       " 'MQRankSum',\n",
       " 'QD',\n",
       " 'ReadPosRankSum',\n",
       " 'SOR'}"
      ]
     },
     "execution_count": 13,
     "metadata": {},
     "output_type": "execute_result"
    }
   ],
   "source": [
    "set(df_069.columns).difference(set(df_050.columns))"
   ]
  },
  {
   "cell_type": "code",
   "execution_count": 3,
   "metadata": {},
   "outputs": [
    {
     "name": "stderr",
     "output_type": "stream",
     "text": [
      "c:\\Users\\barte\\Desktop\\Studies\\V semester\\pathogenicity-assessment\\utils\\utils.py:43: DtypeWarning: Columns (26,40,74,75,76,78,80) have mixed types. Specify dtype option on import or set low_memory=False.\n",
      "  df2 = pd.read_csv(folder_path / f\"{sample}_{f_type}.csv.gz\", sep=\";\", compression=\"gzip\").drop(\"Unnamed: 0\", axis=1)\n",
      "c:\\Users\\barte\\Desktop\\Studies\\V semester\\pathogenicity-assessment\\utils\\utils.py:43: DtypeWarning: Columns (26,40,74,75,76,78,80,94) have mixed types. Specify dtype option on import or set low_memory=False.\n",
      "  df2 = pd.read_csv(folder_path / f\"{sample}_{f_type}.csv.gz\", sep=\";\", compression=\"gzip\").drop(\"Unnamed: 0\", axis=1)\n",
      "c:\\Users\\barte\\Desktop\\Studies\\V semester\\pathogenicity-assessment\\utils\\utils.py:43: DtypeWarning: Columns (26,40,74,75,76,78,80,96) have mixed types. Specify dtype option on import or set low_memory=False.\n",
      "  df2 = pd.read_csv(folder_path / f\"{sample}_{f_type}.csv.gz\", sep=\";\", compression=\"gzip\").drop(\"Unnamed: 0\", axis=1)\n"
     ]
    }
   ],
   "source": [
    "df_015_csq = get_data(\"data/EE_015/\", [\"default\", \"csq\"])\n",
    "df_050_csq = get_data(\"data/EE_050/\", [\"default\", \"csq\"])\n",
    "df_069_csq = get_data(\"data/EE_069/\", [\"default\", \"csq\"])\n",
    "\n",
    "unvcf_df_csq = pd.concat([df_015_csq, df_050_csq, df_069_csq], ignore_index=True, axis=0)"
   ]
  },
  {
   "cell_type": "code",
   "execution_count": 4,
   "metadata": {},
   "outputs": [
    {
     "data": {
      "text/plain": [
       "Index(['#CHROM', 'POS', 'ID', 'REF', 'ALT', 'QUAL', 'FILTER', 'Allele',\n",
       "       'Consequence', 'IMPACT',\n",
       "       ...\n",
       "       'SpliceAI_pred_DP_DG', 'SpliceAI_pred_DP_DL', 'SpliceAI_pred_DS_AG',\n",
       "       'SpliceAI_pred_DS_AL', 'SpliceAI_pred_DS_DG', 'SpliceAI_pred_DS_DL',\n",
       "       'SpliceAI_pred_SYMBOL', 'LOEUF', 'PHENOTYPES', 'NMD'],\n",
       "      dtype='object', length=103)"
      ]
     },
     "execution_count": 4,
     "metadata": {},
     "output_type": "execute_result"
    }
   ],
   "source": [
    "df_015_csq"
   ]
  },
  {
   "cell_type": "code",
   "execution_count": 6,
   "metadata": {},
   "outputs": [
    {
     "name": "stdout",
     "output_type": "stream",
     "text": [
      "Dtype: float64:\n",
      " - DISTANCE\n",
      " - STRAND\n",
      " - TSL\n",
      " - REFSEQ_MATCH\n",
      " - REFSEQ_OFFSET\n",
      " - HGVS_OFFSET\n",
      " - AF\n",
      " - AFR_AF\n",
      " - AMR_AF\n",
      " - EAS_AF\n",
      " - EUR_AF\n",
      " - SAS_AF\n",
      " - gnomADe_AF\n",
      " - gnomADe_AFR_AF\n",
      " - gnomADe_AMR_AF\n",
      " - gnomADe_ASJ_AF\n",
      " - gnomADe_EAS_AF\n",
      " - gnomADe_FIN_AF\n",
      " - gnomADe_NFE_AF\n",
      " - gnomADe_OTH_AF\n",
      " - gnomADe_SAS_AF\n",
      " - gnomADg_AF\n",
      " - gnomADg_AFR_AF\n",
      " - gnomADg_AMI_AF\n",
      " - gnomADg_AMR_AF\n",
      " - gnomADg_ASJ_AF\n",
      " - gnomADg_EAS_AF\n",
      " - gnomADg_FIN_AF\n",
      " - gnomADg_MID_AF\n",
      " - gnomADg_NFE_AF\n",
      " - gnomADg_OTH_AF\n",
      " - gnomADg_SAS_AF\n",
      " - MOTIF_POS\n",
      " - MOTIF_SCORE_CHANGE\n",
      " - EVE_SCORE\n",
      " - CADD_PHRED\n",
      " - CADD_RAW\n",
      " - SpliceAI_pred_DP_AG\n",
      " - SpliceAI_pred_DP_AL\n",
      " - SpliceAI_pred_DP_DG\n",
      " - SpliceAI_pred_DP_DL\n",
      " - SpliceAI_pred_DS_AG\n",
      " - SpliceAI_pred_DS_AL\n",
      " - SpliceAI_pred_DS_DG\n",
      " - SpliceAI_pred_DS_DL\n",
      " - LOEUF\n",
      "Dtype: object:\n",
      " - #CHROM\n",
      " - ID\n",
      " - REF\n",
      " - ALT\n",
      " - QUAL\n",
      " - FILTER\n",
      " - Allele\n",
      " - Consequence\n",
      " - IMPACT\n",
      " - SYMBOL\n",
      " - Gene\n",
      " - Feature_type\n",
      " - Feature\n",
      " - BIOTYPE\n",
      " - EXON\n",
      " - INTRON\n",
      " - HGVSc\n",
      " - HGVSp\n",
      " - cDNA_position\n",
      " - CDS_position\n",
      " - Protein_position\n",
      " - Amino_acids\n",
      " - Codons\n",
      " - Existing_variation\n",
      " - FLAGS\n",
      " - SYMBOL_SOURCE\n",
      " - HGNC_ID\n",
      " - CANONICAL\n",
      " - MANE_SELECT\n",
      " - MANE_PLUS_CLINICAL\n",
      " - APPRIS\n",
      " - CCDS\n",
      " - ENSP\n",
      " - SWISSPROT\n",
      " - TREMBL\n",
      " - UNIPARC\n",
      " - UNIPROT_ISOFORM\n",
      " - SOURCE\n",
      " - GIVEN_REF\n",
      " - USED_REF\n",
      " - BAM_EDIT\n",
      " - SIFT\n",
      " - PolyPhen\n",
      " - DOMAINS\n",
      " - CLIN_SIG\n",
      " - SOMATIC\n",
      " - PHENO\n",
      " - PUBMED\n",
      " - VAR_SYNONYMS\n",
      " - MOTIF_NAME\n",
      " - HIGH_INF_POS\n",
      " - TRANSCRIPTION_FACTORS\n",
      " - EVE_CLASS\n",
      " - SpliceAI_pred_SYMBOL\n",
      " - PHENOTYPES\n",
      " - NMD\n",
      "Dtype: int64:\n",
      " - POS\n"
     ]
    }
   ],
   "source": [
    "dt = unvcf_df_csq.dtypes.to_numpy()\n",
    "cols = unvcf_df_csq.columns\n",
    "dt_cols = [(d, col) for d, col in zip(dt, cols)]\n",
    "for d in set(dt):\n",
    "    print(f\"Dtype: {d}:\")\n",
    "    for _d, col in dt_cols:\n",
    "        if d == _d:\n",
    "            print(f\" - {col}\")"
   ]
  },
  {
   "cell_type": "code",
   "execution_count": 27,
   "metadata": {},
   "outputs": [
    {
     "data": {
      "text/plain": [
       "True"
      ]
     },
     "execution_count": 27,
     "metadata": {},
     "output_type": "execute_result"
    }
   ],
   "source": [
    "set(df_050_csq.columns) == set(df_015_csq.columns)"
   ]
  },
  {
   "cell_type": "code",
   "execution_count": 28,
   "metadata": {},
   "outputs": [
    {
     "data": {
      "text/plain": [
       "True"
      ]
     },
     "execution_count": 28,
     "metadata": {},
     "output_type": "execute_result"
    }
   ],
   "source": [
    "set(df_050_csq.columns) == set(df_069_csq.columns)"
   ]
  },
  {
   "cell_type": "code",
   "execution_count": 29,
   "metadata": {},
   "outputs": [
    {
     "data": {
      "text/plain": [
       "True"
      ]
     },
     "execution_count": 29,
     "metadata": {},
     "output_type": "execute_result"
    }
   ],
   "source": [
    "set(df_015_csq.columns) == set(df_069_csq.columns)"
   ]
  },
  {
   "cell_type": "code",
   "execution_count": 40,
   "metadata": {},
   "outputs": [
    {
     "data": {
      "text/plain": [
       "['UNIPROT_ISOFORM',\n",
       " 'IMPACT',\n",
       " 'Consequence',\n",
       " 'SYMBOL',\n",
       " 'GIVEN_REF',\n",
       " 'SOURCE',\n",
       " 'INTRON',\n",
       " 'DOMAINS',\n",
       " 'VAR_SYNONYMS',\n",
       " 'HGVSc',\n",
       " 'FLAGS',\n",
       " 'CANONICAL',\n",
       " 'UNIPARC',\n",
       " 'SOMATIC',\n",
       " 'APPRIS',\n",
       " 'EXON',\n",
       " 'Codons',\n",
       " 'Protein_position',\n",
       " 'Amino_acids',\n",
       " 'MANE_SELECT',\n",
       " 'SYMBOL_SOURCE',\n",
       " 'CCDS',\n",
       " 'EVE_CLASS',\n",
       " 'MANE_PLUS_CLINICAL',\n",
       " 'PUBMED',\n",
       " 'HIGH_INF_POS',\n",
       " 'TRANSCRIPTION_FACTORS',\n",
       " 'Feature_type',\n",
       " 'Allele',\n",
       " 'USED_REF',\n",
       " 'CDS_position',\n",
       " 'BAM_EDIT',\n",
       " 'Existing_variation',\n",
       " 'PolyPhen',\n",
       " 'MOTIF_NAME',\n",
       " 'PHENO',\n",
       " 'HGNC_ID',\n",
       " 'cDNA_position',\n",
       " 'Feature',\n",
       " 'ENSP',\n",
       " 'SWISSPROT',\n",
       " 'CLIN_SIG',\n",
       " 'TREMBL',\n",
       " 'PHENOTYPES',\n",
       " 'SIFT',\n",
       " 'SpliceAI_pred_SYMBOL',\n",
       " 'BIOTYPE',\n",
       " 'HGVSp',\n",
       " 'NMD']"
      ]
     },
     "execution_count": 40,
     "metadata": {},
     "output_type": "execute_result"
    }
   ],
   "source": [
    "object_columns = set(unvcf_df_csq.select_dtypes(object).columns).difference(set(unvcf_df.select_dtypes(object).columns))\n",
    "object_columns = list(object_columns)\n",
    "object_columns"
   ]
  },
  {
   "cell_type": "code",
   "execution_count": 50,
   "metadata": {},
   "outputs": [
    {
     "name": "stdout",
     "output_type": "stream",
     "text": [
      "UNIPROT_ISOFORM\n",
      "9307\n"
     ]
    }
   ],
   "source": [
    "i = 0\n",
    "print(object_columns[i])\n",
    "for x in unvcf_df_csq[object_columns[i]].unique():\n",
    "    # print(x)\n",
    "    pass\n",
    "\n",
    "print(len(unvcf_df_csq[object_columns[i]].unique()))"
   ]
  }
 ],
 "metadata": {
  "kernelspec": {
   "display_name": "pathogen",
   "language": "python",
   "name": "python3"
  },
  "language_info": {
   "codemirror_mode": {
    "name": "ipython",
    "version": 3
   },
   "file_extension": ".py",
   "mimetype": "text/x-python",
   "name": "python",
   "nbconvert_exporter": "python",
   "pygments_lexer": "ipython3",
   "version": "3.11.6"
  }
 },
 "nbformat": 4,
 "nbformat_minor": 2
}

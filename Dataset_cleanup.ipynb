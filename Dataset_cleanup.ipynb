{
 "cells": [
  {
   "cell_type": "markdown",
   "metadata": {},
   "source": [
    "##### TODO:\n",
    "- Separate array values\n",
    "- Add functionality to the utils module"
   ]
  },
  {
   "cell_type": "code",
   "execution_count": 1,
   "metadata": {},
   "outputs": [],
   "source": [
    "import numpy as np\n",
    "import pandas as pd\n",
    "\n",
    "from utils.utils import get_data"
   ]
  },
  {
   "cell_type": "markdown",
   "metadata": {},
   "source": [
    "## Default Data Cleanup"
   ]
  },
  {
   "cell_type": "markdown",
   "metadata": {},
   "source": [
    "#### Load a single dataframe"
   ]
  },
  {
   "cell_type": "code",
   "execution_count": 2,
   "metadata": {},
   "outputs": [],
   "source": [
    "EE_default_015 = get_data(\"data/EE_015/\", [\"default\"])\n",
    "EE_default_050 = get_data(\"data/EE_050/\", [\"default\"])\n",
    "EE_default_069 = get_data(\"data/EE_069/\", [\"default\"])\n",
    "EE_default = pd.concat([EE_default_015, EE_default_050, EE_default_069], ignore_index=True, axis=0)"
   ]
  },
  {
   "cell_type": "markdown",
   "metadata": {},
   "source": [
    "#### Drop ID"
   ]
  },
  {
   "cell_type": "code",
   "execution_count": 17,
   "metadata": {},
   "outputs": [],
   "source": [
    "EE_default.drop(\"ID\", axis=1, inplace=True)"
   ]
  },
  {
   "cell_type": "markdown",
   "metadata": {},
   "source": [
    "#### Split FILTER into separate columns (omit PASS and FAIL)\n",
    "\n",
    "https://docs.varsome.com/en/variant-calling-and-quality-filters"
   ]
  },
  {
   "cell_type": "code",
   "execution_count": 3,
   "metadata": {},
   "outputs": [
    {
     "data": {
      "text/plain": [
       "['haplotype',\n",
       " 'strand_bias',\n",
       " 'multiallelic',\n",
       " 'base_qual',\n",
       " 'germline',\n",
       " 'fragment',\n",
       " 'map_qual',\n",
       " 'weak_evidence',\n",
       " 'clustered_events',\n",
       " 'slippage']"
      ]
     },
     "execution_count": 3,
     "metadata": {},
     "output_type": "execute_result"
    }
   ],
   "source": [
    "unique_filters = set(';'.join(EE_default['FILTER']).split(';'))\n",
    "unique_filters = [f for f in unique_filters if f != \"PASS\" and f != \"FAIL\"]\n",
    "unique_filters"
   ]
  },
  {
   "cell_type": "markdown",
   "metadata": {},
   "source": [
    "#### Create new columns names"
   ]
  },
  {
   "cell_type": "code",
   "execution_count": 4,
   "metadata": {},
   "outputs": [
    {
     "data": {
      "text/plain": [
       "['FILTER_haplotype',\n",
       " 'FILTER_strand_bias',\n",
       " 'FILTER_multiallelic',\n",
       " 'FILTER_base_qual',\n",
       " 'FILTER_germline',\n",
       " 'FILTER_fragment',\n",
       " 'FILTER_map_qual',\n",
       " 'FILTER_weak_evidence',\n",
       " 'FILTER_clustered_events',\n",
       " 'FILTER_slippage']"
      ]
     },
     "execution_count": 4,
     "metadata": {},
     "output_type": "execute_result"
    }
   ],
   "source": [
    "filter_cols = [\"FILTER_\" + f for f in unique_filters]\n",
    "filter_cols"
   ]
  },
  {
   "cell_type": "code",
   "execution_count": 5,
   "metadata": {},
   "outputs": [
    {
     "data": {
      "text/html": [
       "<div>\n",
       "<style scoped>\n",
       "    .dataframe tbody tr th:only-of-type {\n",
       "        vertical-align: middle;\n",
       "    }\n",
       "\n",
       "    .dataframe tbody tr th {\n",
       "        vertical-align: top;\n",
       "    }\n",
       "\n",
       "    .dataframe thead th {\n",
       "        text-align: right;\n",
       "    }\n",
       "</style>\n",
       "<table border=\"1\" class=\"dataframe\">\n",
       "  <thead>\n",
       "    <tr style=\"text-align: right;\">\n",
       "      <th></th>\n",
       "      <th>#CHROM</th>\n",
       "      <th>POS</th>\n",
       "      <th>ID</th>\n",
       "      <th>REF</th>\n",
       "      <th>ALT</th>\n",
       "      <th>QUAL</th>\n",
       "      <th>FILTER_haplotype</th>\n",
       "      <th>FILTER_strand_bias</th>\n",
       "      <th>FILTER_multiallelic</th>\n",
       "      <th>FILTER_base_qual</th>\n",
       "      <th>FILTER_germline</th>\n",
       "      <th>FILTER_fragment</th>\n",
       "      <th>FILTER_map_qual</th>\n",
       "      <th>FILTER_weak_evidence</th>\n",
       "      <th>FILTER_clustered_events</th>\n",
       "      <th>FILTER_slippage</th>\n",
       "    </tr>\n",
       "  </thead>\n",
       "  <tbody>\n",
       "    <tr>\n",
       "      <th>0</th>\n",
       "      <td>chr1</td>\n",
       "      <td>15820</td>\n",
       "      <td>rs2691315</td>\n",
       "      <td>G</td>\n",
       "      <td>T</td>\n",
       "      <td>.</td>\n",
       "      <td>0</td>\n",
       "      <td>0</td>\n",
       "      <td>0</td>\n",
       "      <td>0</td>\n",
       "      <td>0</td>\n",
       "      <td>0</td>\n",
       "      <td>0</td>\n",
       "      <td>0</td>\n",
       "      <td>0</td>\n",
       "      <td>0</td>\n",
       "    </tr>\n",
       "    <tr>\n",
       "      <th>1</th>\n",
       "      <td>chr1</td>\n",
       "      <td>17385</td>\n",
       "      <td>rs201535981</td>\n",
       "      <td>G</td>\n",
       "      <td>A</td>\n",
       "      <td>.</td>\n",
       "      <td>0</td>\n",
       "      <td>0</td>\n",
       "      <td>0</td>\n",
       "      <td>0</td>\n",
       "      <td>0</td>\n",
       "      <td>0</td>\n",
       "      <td>0</td>\n",
       "      <td>0</td>\n",
       "      <td>0</td>\n",
       "      <td>0</td>\n",
       "    </tr>\n",
       "    <tr>\n",
       "      <th>2</th>\n",
       "      <td>chr1</td>\n",
       "      <td>17697</td>\n",
       "      <td>rs71260069</td>\n",
       "      <td>G</td>\n",
       "      <td>C</td>\n",
       "      <td>.</td>\n",
       "      <td>0</td>\n",
       "      <td>0</td>\n",
       "      <td>0</td>\n",
       "      <td>0</td>\n",
       "      <td>0</td>\n",
       "      <td>0</td>\n",
       "      <td>0</td>\n",
       "      <td>0</td>\n",
       "      <td>0</td>\n",
       "      <td>0</td>\n",
       "    </tr>\n",
       "    <tr>\n",
       "      <th>3</th>\n",
       "      <td>chr1</td>\n",
       "      <td>133129</td>\n",
       "      <td>rs367730352</td>\n",
       "      <td>G</td>\n",
       "      <td>A</td>\n",
       "      <td>.</td>\n",
       "      <td>0</td>\n",
       "      <td>0</td>\n",
       "      <td>0</td>\n",
       "      <td>0</td>\n",
       "      <td>0</td>\n",
       "      <td>0</td>\n",
       "      <td>0</td>\n",
       "      <td>0</td>\n",
       "      <td>0</td>\n",
       "      <td>0</td>\n",
       "    </tr>\n",
       "    <tr>\n",
       "      <th>4</th>\n",
       "      <td>chr1</td>\n",
       "      <td>183629</td>\n",
       "      <td>rs71267774</td>\n",
       "      <td>G</td>\n",
       "      <td>A</td>\n",
       "      <td>.</td>\n",
       "      <td>0</td>\n",
       "      <td>0</td>\n",
       "      <td>0</td>\n",
       "      <td>0</td>\n",
       "      <td>0</td>\n",
       "      <td>0</td>\n",
       "      <td>0</td>\n",
       "      <td>0</td>\n",
       "      <td>0</td>\n",
       "      <td>0</td>\n",
       "    </tr>\n",
       "  </tbody>\n",
       "</table>\n",
       "</div>"
      ],
      "text/plain": [
       "  #CHROM     POS           ID REF ALT QUAL  FILTER_haplotype  \\\n",
       "0   chr1   15820    rs2691315   G   T    .                 0   \n",
       "1   chr1   17385  rs201535981   G   A    .                 0   \n",
       "2   chr1   17697   rs71260069   G   C    .                 0   \n",
       "3   chr1  133129  rs367730352   G   A    .                 0   \n",
       "4   chr1  183629   rs71267774   G   A    .                 0   \n",
       "\n",
       "   FILTER_strand_bias  FILTER_multiallelic  FILTER_base_qual  FILTER_germline  \\\n",
       "0                   0                    0                 0                0   \n",
       "1                   0                    0                 0                0   \n",
       "2                   0                    0                 0                0   \n",
       "3                   0                    0                 0                0   \n",
       "4                   0                    0                 0                0   \n",
       "\n",
       "   FILTER_fragment  FILTER_map_qual  FILTER_weak_evidence  \\\n",
       "0                0                0                     0   \n",
       "1                0                0                     0   \n",
       "2                0                0                     0   \n",
       "3                0                0                     0   \n",
       "4                0                0                     0   \n",
       "\n",
       "   FILTER_clustered_events  FILTER_slippage  \n",
       "0                        0                0  \n",
       "1                        0                0  \n",
       "2                        0                0  \n",
       "3                        0                0  \n",
       "4                        0                0  "
      ]
     },
     "execution_count": 5,
     "metadata": {},
     "output_type": "execute_result"
    }
   ],
   "source": [
    "for f_col, f_val in zip(filter_cols, unique_filters):\n",
    "    EE_default[f_col] = EE_default['FILTER'].apply(lambda x: 1 if f_val in x else 0)\n",
    "\n",
    "EE_default_clean = EE_default.drop(\"FILTER\", axis=1)\n",
    "EE_default_clean.head()"
   ]
  },
  {
   "cell_type": "code",
   "execution_count": 10,
   "metadata": {},
   "outputs": [
    {
     "data": {
      "text/plain": [
       "FILTER_haplotype           14501\n",
       "FILTER_strand_bias          1032\n",
       "FILTER_multiallelic         3614\n",
       "FILTER_base_qual             562\n",
       "FILTER_germline             1075\n",
       "FILTER_fragment              315\n",
       "FILTER_map_qual            10247\n",
       "FILTER_weak_evidence        1423\n",
       "FILTER_clustered_events    20008\n",
       "FILTER_slippage             6497\n",
       "dtype: int64"
      ]
     },
     "execution_count": 10,
     "metadata": {},
     "output_type": "execute_result"
    }
   ],
   "source": [
    "EE_default_clean[filter_cols].sum(axis=0)"
   ]
  },
  {
   "cell_type": "markdown",
   "metadata": {},
   "source": [
    "## CSQ Data Cleanup"
   ]
  },
  {
   "cell_type": "markdown",
   "metadata": {},
   "source": [
    "#### Load a single dataframe"
   ]
  },
  {
   "cell_type": "code",
   "execution_count": 11,
   "metadata": {},
   "outputs": [],
   "source": [
    "EE_csq_015 = get_data(\"data/EE_015/\", [\"csq\"])\n",
    "EE_csq_050 = get_data(\"data/EE_050/\", [\"csq\"])\n",
    "EE_csq_069 = get_data(\"data/EE_069/\", [\"csq\"])\n",
    "EE_csq = pd.concat([EE_csq_015, EE_csq_050, EE_csq_069], ignore_index=True, axis=0)"
   ]
  },
  {
   "cell_type": "code",
   "execution_count": 12,
   "metadata": {},
   "outputs": [
    {
     "data": {
      "text/plain": [
       "Index(['Allele', 'Consequence', 'IMPACT', 'SYMBOL', 'Gene', 'Feature_type',\n",
       "       'Feature', 'BIOTYPE', 'EXON', 'INTRON', 'HGVSc', 'HGVSp',\n",
       "       'cDNA_position', 'CDS_position', 'Protein_position', 'Amino_acids',\n",
       "       'Codons', 'Existing_variation', 'DISTANCE', 'STRAND', 'FLAGS',\n",
       "       'SYMBOL_SOURCE', 'HGNC_ID', 'CANONICAL', 'MANE_SELECT',\n",
       "       'MANE_PLUS_CLINICAL', 'TSL', 'APPRIS', 'CCDS', 'ENSP', 'SWISSPROT',\n",
       "       'TREMBL', 'UNIPARC', 'UNIPROT_ISOFORM', 'REFSEQ_MATCH', 'SOURCE',\n",
       "       'REFSEQ_OFFSET', 'GIVEN_REF', 'USED_REF', 'BAM_EDIT', 'SIFT',\n",
       "       'PolyPhen', 'DOMAINS', 'HGVS_OFFSET', 'AF', 'AFR_AF', 'AMR_AF',\n",
       "       'EAS_AF', 'EUR_AF', 'SAS_AF', 'gnomADe_AF', 'gnomADe_AFR_AF',\n",
       "       'gnomADe_AMR_AF', 'gnomADe_ASJ_AF', 'gnomADe_EAS_AF', 'gnomADe_FIN_AF',\n",
       "       'gnomADe_NFE_AF', 'gnomADe_OTH_AF', 'gnomADe_SAS_AF', 'gnomADg_AF',\n",
       "       'gnomADg_AFR_AF', 'gnomADg_AMI_AF', 'gnomADg_AMR_AF', 'gnomADg_ASJ_AF',\n",
       "       'gnomADg_EAS_AF', 'gnomADg_FIN_AF', 'gnomADg_MID_AF', 'gnomADg_NFE_AF',\n",
       "       'gnomADg_OTH_AF', 'gnomADg_SAS_AF', 'CLIN_SIG', 'SOMATIC', 'PHENO',\n",
       "       'PUBMED', 'VAR_SYNONYMS', 'MOTIF_NAME', 'MOTIF_POS', 'HIGH_INF_POS',\n",
       "       'MOTIF_SCORE_CHANGE', 'TRANSCRIPTION_FACTORS', 'EVE_CLASS', 'EVE_SCORE',\n",
       "       'CADD_PHRED', 'CADD_RAW', 'SpliceAI_pred_DP_AG', 'SpliceAI_pred_DP_AL',\n",
       "       'SpliceAI_pred_DP_DG', 'SpliceAI_pred_DP_DL', 'SpliceAI_pred_DS_AG',\n",
       "       'SpliceAI_pred_DS_AL', 'SpliceAI_pred_DS_DG', 'SpliceAI_pred_DS_DL',\n",
       "       'SpliceAI_pred_SYMBOL', 'LOEUF', 'PHENOTYPES', 'NMD'],\n",
       "      dtype='object')"
      ]
     },
     "execution_count": 12,
     "metadata": {},
     "output_type": "execute_result"
    }
   ],
   "source": [
    "EE_csq.columns"
   ]
  },
  {
   "cell_type": "code",
   "execution_count": 13,
   "metadata": {},
   "outputs": [
    {
     "data": {
      "text/plain": [
       "(444444, 96)"
      ]
     },
     "execution_count": 13,
     "metadata": {},
     "output_type": "execute_result"
    }
   ],
   "source": [
    "EE_csq.shape"
   ]
  },
  {
   "cell_type": "markdown",
   "metadata": {},
   "source": [
    "#### Drop uninteresting columns"
   ]
  },
  {
   "cell_type": "code",
   "execution_count": 14,
   "metadata": {},
   "outputs": [
    {
     "data": {
      "text/plain": [
       "(444444, 56)"
      ]
     },
     "execution_count": 14,
     "metadata": {},
     "output_type": "execute_result"
    }
   ],
   "source": [
    "drop_columns = [\"TSL\", \"APPRIS\", \"CCDS\", \"ENSP\", \"SWISSPROT\", \"TREMBL\", \"UNIPARC\", \"UNIPROT_ISOFORM\", \"REFSEQ_MATCH\",\n",
    "                \"SOURCE\", \"REFSEQ_OFFSET\", \"GIVEN_REF\", \"USED_REF\", \"BAM_EDIT\", \"DOMAINS\", \"HGVS_OFFSET\", \"AF\", \"AFR_AF\",\n",
    "                \"AMR_AF\", \"EAS_AF\", \"EUR_AF\", \"SAS_AF\"]\n",
    "drop_columns_gnomad = [c for c in EE_csq if c.startswith(\"gnom\") and c != \"gnomADe_AF\" and c!= \"gnomADg_AF\"]\n",
    "drop_columns.extend(drop_columns_gnomad)\n",
    "EE_potential_csq = EE_csq.drop(drop_columns, axis=1)\n",
    "EE_potential_csq.shape"
   ]
  },
  {
   "cell_type": "markdown",
   "metadata": {},
   "source": [
    "#### Drop potentially interesting columns"
   ]
  },
  {
   "cell_type": "code",
   "execution_count": 15,
   "metadata": {},
   "outputs": [
    {
     "data": {
      "text/plain": [
       "(444444, 33)"
      ]
     },
     "execution_count": 15,
     "metadata": {},
     "output_type": "execute_result"
    }
   ],
   "source": [
    "potential_drop_columns = [\"Consequence\", \"IMPACT\", \"CANONICAL\", \"MANE_SELECT\", \"MANE_PLUS_CLINICAL\", \"SIFT\", \"PolyPhen\",\n",
    "                          \"CLIN_SIG\", \"EVE_CLASS\", \"EVE_SCORE\", \"CADD_PHRED\", \"CADD_RAW\", \"LOEUF\", \"NMD\", \"SpliceAI_pred_DP_AG\",\n",
    "                          \"SpliceAI_pred_DP_AL\", \"SpliceAI_pred_DP_DG\", \"SpliceAI_pred_DP_DL\", \"SpliceAI_pred_DS_AG\",\n",
    "                          \"SpliceAI_pred_DS_AL\", \"SpliceAI_pred_DS_DG\", \"SpliceAI_pred_DS_DL\", \"SpliceAI_pred_SYMBOL\"]\n",
    "\n",
    "EE_important_csq = EE_potential_csq.drop(potential_drop_columns, axis=1)\n",
    "EE_important_csq.shape"
   ]
  },
  {
   "cell_type": "markdown",
   "metadata": {},
   "source": [
    "#### Separate array values"
   ]
  },
  {
   "cell_type": "code",
   "execution_count": 40,
   "metadata": {},
   "outputs": [],
   "source": [
    "separable_csq_columns = [\"PHENOTYPES\", \"CLIN_SIG\", \"SOMATIC\", \"DOMAINS\", \"PUBMED\", \"TREMBL\", \"Consequence\", \"HGVSp\",\n",
    "                         \"FLAGS\", \"PHENO\", \"Existing_variation\", \"SWISSPROT\", \"TRANSCRIPTION_FACTORS\", \"VAR_SYNONYMS\"]\n",
    "potentially_separable_columns = [\"CDS_position\", \"cDNA_position\", \"HGNC_ID\", \"SIFT\", \"PolyPhen\", \"Protein_position\"]\n",
    "check_correctness = [\"Codons\"]"
   ]
  },
  {
   "cell_type": "code",
   "execution_count": null,
   "metadata": {},
   "outputs": [],
   "source": []
  },
  {
   "cell_type": "markdown",
   "metadata": {},
   "source": [
    "## Genotype Data Cleanup"
   ]
  },
  {
   "cell_type": "markdown",
   "metadata": {},
   "source": [
    "#### Load EE_15 with EE_50 and EE_69 separately"
   ]
  },
  {
   "cell_type": "code",
   "execution_count": 18,
   "metadata": {},
   "outputs": [],
   "source": [
    "EE_genotype_015 = get_data(\"data/EE_015/\", [\"genotype\"])\n",
    "EE_genotype_050 = get_data(\"data/EE_050/\", [\"genotype\"])\n",
    "EE_genotype_069 = get_data(\"data/EE_069/\", [\"genotype\"])"
   ]
  },
  {
   "cell_type": "markdown",
   "metadata": {},
   "source": [
    "#### Remove excess columns from EE_069"
   ]
  },
  {
   "cell_type": "code",
   "execution_count": 22,
   "metadata": {},
   "outputs": [
    {
     "data": {
      "text/plain": [
       "(140174, 46)"
      ]
     },
     "execution_count": 22,
     "metadata": {},
     "output_type": "execute_result"
    }
   ],
   "source": [
    "EE_genotype_069.shape"
   ]
  },
  {
   "cell_type": "code",
   "execution_count": 20,
   "metadata": {},
   "outputs": [
    {
     "data": {
      "text/plain": [
       "{'AC',\n",
       " 'AF',\n",
       " 'AN',\n",
       " 'BaseQRankSum',\n",
       " 'ClippingRankSum',\n",
       " 'ExcessHet',\n",
       " 'FS',\n",
       " 'MLEAC',\n",
       " 'MLEAF',\n",
       " 'MQ',\n",
       " 'MQRankSum',\n",
       " 'QD',\n",
       " 'ReadPosRankSum',\n",
       " 'SOR'}"
      ]
     },
     "execution_count": 20,
     "metadata": {},
     "output_type": "execute_result"
    }
   ],
   "source": [
    "excess_columns = set(EE_genotype_069.columns).difference(set(EE_genotype_050.columns))\n",
    "excess_columns"
   ]
  },
  {
   "cell_type": "code",
   "execution_count": 24,
   "metadata": {},
   "outputs": [
    {
     "data": {
      "text/plain": [
       "(140174, 32)"
      ]
     },
     "execution_count": 24,
     "metadata": {},
     "output_type": "execute_result"
    }
   ],
   "source": [
    "cut_EE_genotype_069 = EE_genotype_069.drop(excess_columns, axis=1)\n",
    "cut_EE_genotype_069.shape"
   ]
  },
  {
   "cell_type": "markdown",
   "metadata": {},
   "source": [
    "#### Delete uninteresting columns from EE_069"
   ]
  },
  {
   "cell_type": "code",
   "execution_count": 28,
   "metadata": {},
   "outputs": [
    {
     "data": {
      "text/plain": [
       "Index(['ACMG_class', 'CGDinheritance', 'ClinVarClass', 'ClinVarDisease',\n",
       "       'DANN_score', 'Gene', 'MutationTaster_pred', 'MutationTaster_score',\n",
       "       'SIFT_score', 'coding_impact', 'function', 'gnomadExomes_AF',\n",
       "       'gnomadGenomes_AF', 'hgvs'],\n",
       "      dtype='object')"
      ]
     },
     "execution_count": 28,
     "metadata": {},
     "output_type": "execute_result"
    }
   ],
   "source": [
    "drop_columns_acmg =  [c for c in cut_EE_genotype_069.columns if c.startswith(\"ACMG\") and c!=\"ACMG_class\"]\n",
    "drop_columns_gnomad = [c for c in cut_EE_genotype_069 if c.startswith(\"gnom\") and c != \"gnomadExomes_AF\" and c!= \"gnomadGenomes_AF\"]\n",
    "\n",
    "EE_potential_genotype_069 = cut_EE_genotype_069.drop(drop_columns_acmg, axis=1)\n",
    "EE_potential_genotype_069 = EE_potential_genotype_069.drop(drop_columns_gnomad, axis=1)\n",
    "EE_potential_genotype_069 = EE_potential_genotype_069.drop(\"DP\", axis=1)\n",
    "EE_potential_genotype_069.columns"
   ]
  },
  {
   "cell_type": "markdown",
   "metadata": {},
   "source": [
    "#### Delete potentially interesting columns from EE_069"
   ]
  },
  {
   "cell_type": "code",
   "execution_count": 29,
   "metadata": {},
   "outputs": [
    {
     "data": {
      "text/plain": [
       "Index(['ACMG_class', 'CGDinheritance', 'Gene', 'coding_impact', 'function',\n",
       "       'gnomadExomes_AF', 'gnomadGenomes_AF', 'hgvs'],\n",
       "      dtype='object')"
      ]
     },
     "execution_count": 29,
     "metadata": {},
     "output_type": "execute_result"
    }
   ],
   "source": [
    "potential_drop_columns = [\"ClinVarClass\", \"ClinVarDisease\", \"DANN_score\", \"MutationTaster_pred\", \"MutationTaster_score\", \"SIFT_score\"]\n",
    "\n",
    "EE_important_genotype_069 = EE_potential_genotype_069.drop(potential_drop_columns, axis=1)\n",
    "EE_important_genotype_069.columns"
   ]
  },
  {
   "cell_type": "markdown",
   "metadata": {},
   "source": [
    "#### Combine EE_015 and EE_050"
   ]
  },
  {
   "cell_type": "code",
   "execution_count": 30,
   "metadata": {},
   "outputs": [],
   "source": [
    "EE_genotype_015_050 = pd.concat([EE_genotype_015, EE_genotype_050], ignore_index=True, axis=0)"
   ]
  },
  {
   "cell_type": "markdown",
   "metadata": {},
   "source": [
    "#### Delete uninteresting columns from EE_050 and EE_015"
   ]
  },
  {
   "cell_type": "code",
   "execution_count": 31,
   "metadata": {},
   "outputs": [
    {
     "data": {
      "text/plain": [
       "Index(['ACMG_class', 'AS_FilterStatus', 'AS_SB_TABLE', 'CGDinheritance',\n",
       "       'ClinVarClass', 'ClinVarDisease', 'DANN_score', 'ECNT', 'GERMQ', 'Gene',\n",
       "       'MBQ', 'MFRL', 'MPOS', 'MutationTaster_pred', 'MutationTaster_score',\n",
       "       'POPAF', 'RPA', 'RU', 'SIFT_score', 'STR', 'STRQ', 'TLOD',\n",
       "       'coding_impact', 'cosmicFathMMPrediction', 'cosmicFathMMScore',\n",
       "       'function', 'gnomadExomes_AF', 'gnomadGenomes_AF', 'hgvs'],\n",
       "      dtype='object')"
      ]
     },
     "execution_count": 31,
     "metadata": {},
     "output_type": "execute_result"
    }
   ],
   "source": [
    "drop_columns_acmg_amp =  [c for c in EE_genotype_015_050.columns if (c.startswith(\"ACMG\") or c.startswith(\"AMP\")) and c!=\"ACMG_class\"]\n",
    "drop_columns_gnomad = [c for c in EE_genotype_015_050 if c.startswith(\"gnom\") and c != \"gnomadExomes_AF\" and c!= \"gnomadGenomes_AF\"]\n",
    "\n",
    "EE_potential_genotype_015_050 = EE_genotype_015_050.drop(drop_columns_acmg_amp, axis=1)\n",
    "EE_potential_genotype_015_050 = EE_potential_genotype_015_050.drop(drop_columns_gnomad, axis=1)\n",
    "EE_potential_genotype_015_050 = EE_potential_genotype_015_050.drop(\"DP\", axis=1)\n",
    "EE_potential_genotype_015_050 = EE_potential_genotype_015_050.drop(\"MMQ\", axis=1)\n",
    "EE_potential_genotype_015_050.columns"
   ]
  },
  {
   "cell_type": "markdown",
   "metadata": {},
   "source": [
    "#### Delete potentially interesting columns from EE_050 and EE_015"
   ]
  },
  {
   "cell_type": "code",
   "execution_count": 35,
   "metadata": {},
   "outputs": [
    {
     "data": {
      "text/plain": [
       "Index(['ACMG_class', 'AS_FilterStatus', 'AS_SB_TABLE', 'CGDinheritance',\n",
       "       'ECNT', 'GERMQ', 'Gene', 'MBQ', 'MFRL', 'MPOS', 'POPAF', 'RPA', 'RU',\n",
       "       'STR', 'STRQ', 'TLOD', 'coding_impact', 'cosmicFathMMPrediction',\n",
       "       'cosmicFathMMScore', 'function', 'gnomadExomes_AF', 'gnomadGenomes_AF',\n",
       "       'hgvs'],\n",
       "      dtype='object')"
      ]
     },
     "execution_count": 35,
     "metadata": {},
     "output_type": "execute_result"
    }
   ],
   "source": [
    "potential_drop_columns = [\"ClinVarClass\", \"ClinVarDisease\", \"DANN_score\", \"MutationTaster_pred\", \"MutationTaster_score\", \"SIFT_score\"]\n",
    "\n",
    "EE_important_genotype_015_050 = EE_potential_genotype_015_050.drop(potential_drop_columns, axis=1)\n",
    "EE_important_genotype_015_050.columns"
   ]
  },
  {
   "cell_type": "markdown",
   "metadata": {},
   "source": [
    "#### Propose two combinations of EE_015 EE_050 with EE_069"
   ]
  },
  {
   "cell_type": "code",
   "execution_count": 39,
   "metadata": {},
   "outputs": [],
   "source": [
    "# Concatenate with all columns from EE_015 EE_050\n",
    "EE_potential_genotype_all = pd.concat([EE_potential_genotype_015_050, EE_potential_genotype_069], ignore_index=True, axis=0)\n",
    "EE_important_genotype_all = pd.concat([EE_important_genotype_015_050, EE_important_genotype_069], ignore_index=True, axis=0)\n",
    "\n",
    "# Concatenate with only common columns\n",
    "different_potential_columns = set(EE_potential_genotype_015_050.columns).difference(set(EE_potential_genotype_069.columns))\n",
    "EE_important_genotype_common = pd.concat([EE_potential_genotype_015_050.drop(different_potential_columns, axis=1), EE_potential_genotype_069], ignore_index=True, axis=0)\n",
    "\n",
    "different_important_columns = set(EE_important_genotype_015_050.columns).difference(set(EE_important_genotype_069.columns))\n",
    "EE_important_genotype_common = pd.concat([EE_important_genotype_015_050.drop(different_potential_columns, axis=1), EE_important_genotype_069], ignore_index=True, axis=0)"
   ]
  },
  {
   "cell_type": "markdown",
   "metadata": {},
   "source": [
    "#### Separate array values"
   ]
  }
 ],
 "metadata": {
  "kernelspec": {
   "display_name": "pathogen",
   "language": "python",
   "name": "python3"
  },
  "language_info": {
   "codemirror_mode": {
    "name": "ipython",
    "version": 3
   },
   "file_extension": ".py",
   "mimetype": "text/x-python",
   "name": "python",
   "nbconvert_exporter": "python",
   "pygments_lexer": "ipython3",
   "version": "3.11.6"
  }
 },
 "nbformat": 4,
 "nbformat_minor": 2
}

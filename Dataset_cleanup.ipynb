{
 "cells": [
  {
   "cell_type": "code",
   "execution_count": 1,
   "metadata": {},
   "outputs": [],
   "source": [
    "import numpy as np\n",
    "import pandas as pd\n",
    "\n",
    "from utils.utils import get_sample_data"
   ]
  },
  {
   "cell_type": "markdown",
   "metadata": {},
   "source": [
    "## Default Data Cleanup"
   ]
  },
  {
   "cell_type": "markdown",
   "metadata": {},
   "source": [
    "#### Load a single dataframe"
   ]
  },
  {
   "cell_type": "code",
   "execution_count": 2,
   "metadata": {},
   "outputs": [
    {
     "name": "stderr",
     "output_type": "stream",
     "text": [
      "c:\\Users\\barte\\Desktop\\Studies\\V semester\\pathogenicity-assessment\\utils\\utils.py:341: UserWarning: This function is depracated watch out for changes in columns\n",
      "  warn(\"This function is depracated watch out for changes in columns\")\n",
      "c:\\Users\\barte\\Desktop\\Studies\\V semester\\pathogenicity-assessment\\utils\\utils.py:341: UserWarning: This function is depracated watch out for changes in columns\n",
      "  warn(\"This function is depracated watch out for changes in columns\")\n",
      "c:\\Users\\barte\\Desktop\\Studies\\V semester\\pathogenicity-assessment\\utils\\utils.py:341: UserWarning: This function is depracated watch out for changes in columns\n",
      "  warn(\"This function is depracated watch out for changes in columns\")\n"
     ]
    }
   ],
   "source": [
    "EE_default_015 = get_sample_data(\"data/EE_015/\", [\"default\"])\n",
    "EE_default_050 = get_sample_data(\"data/EE_050/\", [\"default\"])\n",
    "EE_default_069 = get_sample_data(\"data/EE_069/\", [\"default\"])\n",
    "EE_default = pd.concat([EE_default_015, EE_default_050, EE_default_069], ignore_index=True, axis=0)"
   ]
  },
  {
   "cell_type": "markdown",
   "metadata": {},
   "source": [
    "#### Drop ID"
   ]
  },
  {
   "cell_type": "code",
   "execution_count": 3,
   "metadata": {},
   "outputs": [],
   "source": [
    "EE_default.drop(\"ID\", axis=1, inplace=True)"
   ]
  },
  {
   "cell_type": "markdown",
   "metadata": {},
   "source": [
    "#### Split FILTER into separate columns (omit PASS and FAIL)\n",
    "\n",
    "https://docs.varsome.com/en/variant-calling-and-quality-filters"
   ]
  },
  {
   "cell_type": "code",
   "execution_count": 4,
   "metadata": {},
   "outputs": [
    {
     "data": {
      "text/plain": [
       "['clustered_events',\n",
       " 'map_qual',\n",
       " 'fragment',\n",
       " 'weak_evidence',\n",
       " 'strand_bias',\n",
       " 'haplotype',\n",
       " 'base_qual',\n",
       " 'germline',\n",
       " 'multiallelic',\n",
       " 'slippage']"
      ]
     },
     "execution_count": 4,
     "metadata": {},
     "output_type": "execute_result"
    }
   ],
   "source": [
    "unique_filters = set(';'.join(EE_default['FILTER']).split(';'))\n",
    "unique_filters = [f for f in unique_filters if f != \"PASS\" and f != \"FAIL\"]\n",
    "unique_filters"
   ]
  },
  {
   "cell_type": "markdown",
   "metadata": {},
   "source": [
    "#### Create new columns names"
   ]
  },
  {
   "cell_type": "code",
   "execution_count": 5,
   "metadata": {},
   "outputs": [
    {
     "data": {
      "text/plain": [
       "['FILTER_clustered_events',\n",
       " 'FILTER_map_qual',\n",
       " 'FILTER_fragment',\n",
       " 'FILTER_weak_evidence',\n",
       " 'FILTER_strand_bias',\n",
       " 'FILTER_haplotype',\n",
       " 'FILTER_base_qual',\n",
       " 'FILTER_germline',\n",
       " 'FILTER_multiallelic',\n",
       " 'FILTER_slippage']"
      ]
     },
     "execution_count": 5,
     "metadata": {},
     "output_type": "execute_result"
    }
   ],
   "source": [
    "filter_cols = [\"FILTER_\" + f for f in unique_filters]\n",
    "filter_cols"
   ]
  },
  {
   "cell_type": "code",
   "execution_count": 6,
   "metadata": {},
   "outputs": [
    {
     "data": {
      "text/html": [
       "<div>\n",
       "<style scoped>\n",
       "    .dataframe tbody tr th:only-of-type {\n",
       "        vertical-align: middle;\n",
       "    }\n",
       "\n",
       "    .dataframe tbody tr th {\n",
       "        vertical-align: top;\n",
       "    }\n",
       "\n",
       "    .dataframe thead th {\n",
       "        text-align: right;\n",
       "    }\n",
       "</style>\n",
       "<table border=\"1\" class=\"dataframe\">\n",
       "  <thead>\n",
       "    <tr style=\"text-align: right;\">\n",
       "      <th></th>\n",
       "      <th>#CHROM</th>\n",
       "      <th>POS</th>\n",
       "      <th>REF</th>\n",
       "      <th>ALT</th>\n",
       "      <th>QUAL</th>\n",
       "      <th>FILTER_clustered_events</th>\n",
       "      <th>FILTER_map_qual</th>\n",
       "      <th>FILTER_fragment</th>\n",
       "      <th>FILTER_weak_evidence</th>\n",
       "      <th>FILTER_strand_bias</th>\n",
       "      <th>FILTER_haplotype</th>\n",
       "      <th>FILTER_base_qual</th>\n",
       "      <th>FILTER_germline</th>\n",
       "      <th>FILTER_multiallelic</th>\n",
       "      <th>FILTER_slippage</th>\n",
       "    </tr>\n",
       "  </thead>\n",
       "  <tbody>\n",
       "    <tr>\n",
       "      <th>0</th>\n",
       "      <td>chr1</td>\n",
       "      <td>15820</td>\n",
       "      <td>G</td>\n",
       "      <td>T</td>\n",
       "      <td>.</td>\n",
       "      <td>0</td>\n",
       "      <td>0</td>\n",
       "      <td>0</td>\n",
       "      <td>0</td>\n",
       "      <td>0</td>\n",
       "      <td>0</td>\n",
       "      <td>0</td>\n",
       "      <td>0</td>\n",
       "      <td>0</td>\n",
       "      <td>0</td>\n",
       "    </tr>\n",
       "    <tr>\n",
       "      <th>1</th>\n",
       "      <td>chr1</td>\n",
       "      <td>17385</td>\n",
       "      <td>G</td>\n",
       "      <td>A</td>\n",
       "      <td>.</td>\n",
       "      <td>0</td>\n",
       "      <td>0</td>\n",
       "      <td>0</td>\n",
       "      <td>0</td>\n",
       "      <td>0</td>\n",
       "      <td>0</td>\n",
       "      <td>0</td>\n",
       "      <td>0</td>\n",
       "      <td>0</td>\n",
       "      <td>0</td>\n",
       "    </tr>\n",
       "    <tr>\n",
       "      <th>2</th>\n",
       "      <td>chr1</td>\n",
       "      <td>17697</td>\n",
       "      <td>G</td>\n",
       "      <td>C</td>\n",
       "      <td>.</td>\n",
       "      <td>0</td>\n",
       "      <td>0</td>\n",
       "      <td>0</td>\n",
       "      <td>0</td>\n",
       "      <td>0</td>\n",
       "      <td>0</td>\n",
       "      <td>0</td>\n",
       "      <td>0</td>\n",
       "      <td>0</td>\n",
       "      <td>0</td>\n",
       "    </tr>\n",
       "    <tr>\n",
       "      <th>3</th>\n",
       "      <td>chr1</td>\n",
       "      <td>133129</td>\n",
       "      <td>G</td>\n",
       "      <td>A</td>\n",
       "      <td>.</td>\n",
       "      <td>0</td>\n",
       "      <td>0</td>\n",
       "      <td>0</td>\n",
       "      <td>0</td>\n",
       "      <td>0</td>\n",
       "      <td>0</td>\n",
       "      <td>0</td>\n",
       "      <td>0</td>\n",
       "      <td>0</td>\n",
       "      <td>0</td>\n",
       "    </tr>\n",
       "    <tr>\n",
       "      <th>4</th>\n",
       "      <td>chr1</td>\n",
       "      <td>183629</td>\n",
       "      <td>G</td>\n",
       "      <td>A</td>\n",
       "      <td>.</td>\n",
       "      <td>0</td>\n",
       "      <td>0</td>\n",
       "      <td>0</td>\n",
       "      <td>0</td>\n",
       "      <td>0</td>\n",
       "      <td>0</td>\n",
       "      <td>0</td>\n",
       "      <td>0</td>\n",
       "      <td>0</td>\n",
       "      <td>0</td>\n",
       "    </tr>\n",
       "  </tbody>\n",
       "</table>\n",
       "</div>"
      ],
      "text/plain": [
       "  #CHROM     POS REF ALT QUAL  FILTER_clustered_events  FILTER_map_qual  \\\n",
       "0   chr1   15820   G   T    .                        0                0   \n",
       "1   chr1   17385   G   A    .                        0                0   \n",
       "2   chr1   17697   G   C    .                        0                0   \n",
       "3   chr1  133129   G   A    .                        0                0   \n",
       "4   chr1  183629   G   A    .                        0                0   \n",
       "\n",
       "   FILTER_fragment  FILTER_weak_evidence  FILTER_strand_bias  \\\n",
       "0                0                     0                   0   \n",
       "1                0                     0                   0   \n",
       "2                0                     0                   0   \n",
       "3                0                     0                   0   \n",
       "4                0                     0                   0   \n",
       "\n",
       "   FILTER_haplotype  FILTER_base_qual  FILTER_germline  FILTER_multiallelic  \\\n",
       "0                 0                 0                0                    0   \n",
       "1                 0                 0                0                    0   \n",
       "2                 0                 0                0                    0   \n",
       "3                 0                 0                0                    0   \n",
       "4                 0                 0                0                    0   \n",
       "\n",
       "   FILTER_slippage  \n",
       "0                0  \n",
       "1                0  \n",
       "2                0  \n",
       "3                0  \n",
       "4                0  "
      ]
     },
     "execution_count": 6,
     "metadata": {},
     "output_type": "execute_result"
    }
   ],
   "source": [
    "for f_col, f_val in zip(filter_cols, unique_filters):\n",
    "    EE_default[f_col] = EE_default['FILTER'].apply(lambda x: 1 if f_val in x else 0)\n",
    "\n",
    "EE_default_clean = EE_default.drop(\"FILTER\", axis=1)\n",
    "EE_default_clean.head()"
   ]
  },
  {
   "cell_type": "code",
   "execution_count": 7,
   "metadata": {},
   "outputs": [
    {
     "data": {
      "text/plain": [
       "FILTER_clustered_events    20008\n",
       "FILTER_map_qual            10247\n",
       "FILTER_fragment              315\n",
       "FILTER_weak_evidence        1423\n",
       "FILTER_strand_bias          1032\n",
       "FILTER_haplotype           14501\n",
       "FILTER_base_qual             562\n",
       "FILTER_germline             1075\n",
       "FILTER_multiallelic         3614\n",
       "FILTER_slippage             6497\n",
       "dtype: int64"
      ]
     },
     "execution_count": 7,
     "metadata": {},
     "output_type": "execute_result"
    }
   ],
   "source": [
    "EE_default_clean[filter_cols].sum(axis=0)"
   ]
  },
  {
   "cell_type": "markdown",
   "metadata": {},
   "source": [
    "Encode POS into relative positions\n",
    "```\n",
    "##contig=<ID=chrM,length=16569,assembly=hg38>\n",
    "##contig=<ID=chr1,length=248956422,assembly=hg38>\n",
    "##contig=<ID=chr2,length=242193529,assembly=hg38>\n",
    "##contig=<ID=chr3,length=198295559,assembly=hg38>\n",
    "##contig=<ID=chr4,length=190214555,assembly=hg38>\n",
    "##contig=<ID=chr5,length=181538259,assembly=hg38>\n",
    "##contig=<ID=chr6,length=170805979,assembly=hg38>\n",
    "##contig=<ID=chr7,length=159345973,assembly=hg38>\n",
    "##contig=<ID=chr8,length=145138636,assembly=hg38>\n",
    "##contig=<ID=chr9,length=138394717,assembly=hg38>\n",
    "##contig=<ID=chr10,length=133797422,assembly=hg38>\n",
    "##contig=<ID=chr11,length=135086622,assembly=hg38>\n",
    "##contig=<ID=chr12,length=133275309,assembly=hg38>\n",
    "##contig=<ID=chr13,length=114364328,assembly=hg38>\n",
    "##contig=<ID=chr14,length=107043718,assembly=hg38>\n",
    "##contig=<ID=chr15,length=101991189,assembly=hg38>\n",
    "##contig=<ID=chr16,length=90338345,assembly=hg38>\n",
    "##contig=<ID=chr17,length=83257441,assembly=hg38>\n",
    "##contig=<ID=chr18,length=80373285,assembly=hg38>\n",
    "##contig=<ID=chr19,length=58617616,assembly=hg38>\n",
    "##contig=<ID=chr20,length=64444167,assembly=hg38>\n",
    "##contig=<ID=chr21,length=46709983,assembly=hg38>\n",
    "##contig=<ID=chr22,length=50818468,assembly=hg38>\n",
    "##contig=<ID=chrX,length=156040895,assembly=hg38>\n",
    "##contig=<ID=chrY,length=57227415,assembly=hg38>\n",
    "```"
   ]
  },
  {
   "cell_type": "code",
   "execution_count": 32,
   "metadata": {},
   "outputs": [
    {
     "name": "stdout",
     "output_type": "stream",
     "text": [
      "#CHROM\n",
      "chr1                       40455\n",
      "chr19                      28215\n",
      "chr2                       28046\n",
      "chr6                       25725\n",
      "chr11                      25436\n",
      "chr17                      23574\n",
      "chr7                       23386\n",
      "chr3                       22801\n",
      "chr12                      22306\n",
      "chr10                      20141\n",
      "chr9                       18986\n",
      "chr4                       18577\n",
      "chr5                       18004\n",
      "chr15                      16625\n",
      "chr16                      16350\n",
      "chr8                       16199\n",
      "chr14                      12412\n",
      "chr20                      12389\n",
      "chr22                      12174\n",
      "chr13                      10779\n",
      "chrX                        7820\n",
      "chr18                       7804\n",
      "chr21                       7147\n",
      "chrY                        1220\n",
      "chr14_GL000225v1_random      878\n",
      "chrUn_KI270442v1             776\n",
      "chrUn_GL000219v1             564\n",
      "chr9_KI270719v1_random       473\n",
      "chrUn_KI270746v1             403\n",
      "chr17_GL000205v2_random      361\n",
      "chr1_KI270713v1_random       340\n",
      "chrUn_KI270438v1             319\n",
      "chrUn_KI270750v1             310\n",
      "chr14_GL000194v1_random      295\n",
      "chr1_KI270711v1_random       274\n",
      "chrUn_KI270742v1             271\n",
      "chrUn_GL000218v1             228\n",
      "chr16_KI270728v1_random      198\n",
      "chr22_KI270733v1_random      195\n",
      "chr1_KI270706v1_random       168\n",
      "chr1_KI270709v1_random       155\n",
      "chrUn_KI270744v1             153\n",
      "chr3_GL000221v1_random       149\n",
      "chr4_GL000008v2_random       134\n",
      "chrUn_GL000195v1             131\n",
      "chr14_GL000009v2_random      118\n",
      "chr17_KI270729v1_random      118\n",
      "chrUn_GL000216v2              98\n",
      "chr14_KI270723v1_random       75\n",
      "chrUn_KI270467v1              71\n",
      "chrM                          55\n",
      "chr15_KI270727v1_random       54\n",
      "chrUn_KI270743v1              54\n",
      "chr22_KI270731v1_random       53\n",
      "chr22_KI270738v1_random       50\n",
      "chr22_KI270734v1_random       43\n",
      "chrUn_GL000224v1              40\n",
      "chrUn_GL000214v1              34\n",
      "chr1_KI270714v1_random        34\n",
      "chr9_KI270720v1_random        32\n",
      "chrUn_KI270749v1              23\n",
      "chrUn_KI270466v1              21\n",
      "chrUn_GL000220v1              19\n",
      "chrUn_KI270754v1              18\n",
      "chr14_KI270724v1_random       17\n",
      "chrUn_KI270745v1              14\n",
      "chr14_KI270725v1_random       13\n",
      "chr1_KI270708v1_random        12\n",
      "chr14_KI270722v1_random       10\n",
      "chrUn_KI270741v1               6\n",
      "chr11_KI270721v1_random        3\n",
      "chr1_KI270712v1_random         3\n",
      "chr9_KI270718v1_random         3\n",
      "chrUn_GL000213v1               3\n",
      "chr22_KI270735v1_random        2\n",
      "chrUn_KI270755v1               2\n",
      "Name: count, dtype: int64\n"
     ]
    }
   ],
   "source": [
    "with pd.option_context('display.max_rows', None, 'display.max_columns', None):  # more options can be specified also\n",
    "    print(EE_default_clean[\"#CHROM\"].value_counts())"
   ]
  },
  {
   "cell_type": "code",
   "execution_count": 45,
   "metadata": {},
   "outputs": [],
   "source": [
    "chromosome_lengths = [0, 16569, 248956422, 242193529, 198295559, 190214555, 181538259, 170805979, 159345973, \n",
    "                      145138636, 138394717, 133797422, 135086622, 133275309, 114364328, 107043718, 101991189, \n",
    "                      90338345, 83257441, 80373285, 58617616, 64444167, 46709983, 50818468, 156040895]\n",
    "summed_lengths = np.cumsum(chromosome_lengths, dtype=np.int64)\n",
    "\n",
    "chromosome_names = [f\"chr{i}\" for i in range(0, 23)]\n",
    "chromosome_names[0] = \"chrM\"\n",
    "chromosome_names.append(\"chrX\")\n",
    "chromosome_names.append(\"chrY\")\n",
    "\n",
    "chromosome_lengths_dict = dict([n, l] for n, l in zip(chromosome_names, summed_lengths))\n",
    "# chromosome_lengths_dict"
   ]
  },
  {
   "cell_type": "code",
   "execution_count": 46,
   "metadata": {},
   "outputs": [
    {
     "data": {
      "text/plain": [
       "array([         0,      16569,  248972991,  491166520,  689462079,\n",
       "        879676634, 1061214893, 1232020872, 1391366845, 1536505481,\n",
       "       1674900198, 1808697620, 1943784242, 2077059551, 2191423879,\n",
       "       2298467597, 2400458786, 2490797131, 2574054572, 2654427857,\n",
       "       2713045473, 2777489640, 2824199623, 2875018091, 3031058986],\n",
       "      dtype=int64)"
      ]
     },
     "execution_count": 46,
     "metadata": {},
     "output_type": "execute_result"
    }
   ],
   "source": [
    "summed_lengths"
   ]
  },
  {
   "cell_type": "code",
   "execution_count": 47,
   "metadata": {},
   "outputs": [],
   "source": [
    "EE_default_clean['POS_REL'] = EE_default_clean.apply(lambda row: row['POS'] + chromosome_lengths_dict.get(row['#CHROM'], 0), axis=1)"
   ]
  },
  {
   "cell_type": "code",
   "execution_count": 54,
   "metadata": {},
   "outputs": [
    {
     "data": {
      "text/html": [
       "<div>\n",
       "<style scoped>\n",
       "    .dataframe tbody tr th:only-of-type {\n",
       "        vertical-align: middle;\n",
       "    }\n",
       "\n",
       "    .dataframe tbody tr th {\n",
       "        vertical-align: top;\n",
       "    }\n",
       "\n",
       "    .dataframe thead th {\n",
       "        text-align: right;\n",
       "    }\n",
       "</style>\n",
       "<table border=\"1\" class=\"dataframe\">\n",
       "  <thead>\n",
       "    <tr style=\"text-align: right;\">\n",
       "      <th></th>\n",
       "      <th>#CHROM</th>\n",
       "      <th>POS</th>\n",
       "      <th>POS_REL</th>\n",
       "    </tr>\n",
       "  </thead>\n",
       "  <tbody>\n",
       "    <tr>\n",
       "      <th>99366</th>\n",
       "      <td>chrM</td>\n",
       "      <td>146</td>\n",
       "      <td>146</td>\n",
       "    </tr>\n",
       "    <tr>\n",
       "      <th>99367</th>\n",
       "      <td>chrM</td>\n",
       "      <td>263</td>\n",
       "      <td>263</td>\n",
       "    </tr>\n",
       "    <tr>\n",
       "      <th>99368</th>\n",
       "      <td>chrM</td>\n",
       "      <td>310</td>\n",
       "      <td>310</td>\n",
       "    </tr>\n",
       "    <tr>\n",
       "      <th>99369</th>\n",
       "      <td>chrM</td>\n",
       "      <td>750</td>\n",
       "      <td>750</td>\n",
       "    </tr>\n",
       "    <tr>\n",
       "      <th>99370</th>\n",
       "      <td>chrM</td>\n",
       "      <td>951</td>\n",
       "      <td>951</td>\n",
       "    </tr>\n",
       "  </tbody>\n",
       "</table>\n",
       "</div>"
      ],
      "text/plain": [
       "      #CHROM  POS  POS_REL\n",
       "99366   chrM  146      146\n",
       "99367   chrM  263      263\n",
       "99368   chrM  310      310\n",
       "99369   chrM  750      750\n",
       "99370   chrM  951      951"
      ]
     },
     "execution_count": 54,
     "metadata": {},
     "output_type": "execute_result"
    }
   ],
   "source": [
    "EE_default_clean[EE_default_clean[\"#CHROM\"] == \"chrM\"][[\"#CHROM\", \"POS\", \"POS_REL\"]].head()"
   ]
  },
  {
   "cell_type": "code",
   "execution_count": 55,
   "metadata": {},
   "outputs": [
    {
     "data": {
      "text/html": [
       "<div>\n",
       "<style scoped>\n",
       "    .dataframe tbody tr th:only-of-type {\n",
       "        vertical-align: middle;\n",
       "    }\n",
       "\n",
       "    .dataframe tbody tr th {\n",
       "        vertical-align: top;\n",
       "    }\n",
       "\n",
       "    .dataframe thead th {\n",
       "        text-align: right;\n",
       "    }\n",
       "</style>\n",
       "<table border=\"1\" class=\"dataframe\">\n",
       "  <thead>\n",
       "    <tr style=\"text-align: right;\">\n",
       "      <th></th>\n",
       "      <th>#CHROM</th>\n",
       "      <th>POS</th>\n",
       "      <th>POS_REL</th>\n",
       "    </tr>\n",
       "  </thead>\n",
       "  <tbody>\n",
       "    <tr>\n",
       "      <th>0</th>\n",
       "      <td>chr1</td>\n",
       "      <td>15820</td>\n",
       "      <td>32389</td>\n",
       "    </tr>\n",
       "    <tr>\n",
       "      <th>1</th>\n",
       "      <td>chr1</td>\n",
       "      <td>17385</td>\n",
       "      <td>33954</td>\n",
       "    </tr>\n",
       "    <tr>\n",
       "      <th>2</th>\n",
       "      <td>chr1</td>\n",
       "      <td>17697</td>\n",
       "      <td>34266</td>\n",
       "    </tr>\n",
       "    <tr>\n",
       "      <th>3</th>\n",
       "      <td>chr1</td>\n",
       "      <td>133129</td>\n",
       "      <td>149698</td>\n",
       "    </tr>\n",
       "    <tr>\n",
       "      <th>4</th>\n",
       "      <td>chr1</td>\n",
       "      <td>183629</td>\n",
       "      <td>200198</td>\n",
       "    </tr>\n",
       "  </tbody>\n",
       "</table>\n",
       "</div>"
      ],
      "text/plain": [
       "  #CHROM     POS  POS_REL\n",
       "0   chr1   15820    32389\n",
       "1   chr1   17385    33954\n",
       "2   chr1   17697    34266\n",
       "3   chr1  133129   149698\n",
       "4   chr1  183629   200198"
      ]
     },
     "execution_count": 55,
     "metadata": {},
     "output_type": "execute_result"
    }
   ],
   "source": [
    "EE_default_clean[EE_default_clean[\"#CHROM\"] == \"chr1\"][[\"#CHROM\", \"POS\", \"POS_REL\"]].head()"
   ]
  },
  {
   "cell_type": "code",
   "execution_count": 56,
   "metadata": {},
   "outputs": [],
   "source": [
    "# NaNs in rows for unusual chromosomes\n",
    "\n",
    "EE_default_clean.loc[~EE_default_clean['#CHROM'].isin(chromosome_names), 'POS_REL'] = np.nan"
   ]
  },
  {
   "cell_type": "code",
   "execution_count": 57,
   "metadata": {},
   "outputs": [
    {
     "data": {
      "text/html": [
       "<div>\n",
       "<style scoped>\n",
       "    .dataframe tbody tr th:only-of-type {\n",
       "        vertical-align: middle;\n",
       "    }\n",
       "\n",
       "    .dataframe tbody tr th {\n",
       "        vertical-align: top;\n",
       "    }\n",
       "\n",
       "    .dataframe thead th {\n",
       "        text-align: right;\n",
       "    }\n",
       "</style>\n",
       "<table border=\"1\" class=\"dataframe\">\n",
       "  <thead>\n",
       "    <tr style=\"text-align: right;\">\n",
       "      <th></th>\n",
       "      <th>#CHROM</th>\n",
       "      <th>POS</th>\n",
       "      <th>POS_REL</th>\n",
       "    </tr>\n",
       "  </thead>\n",
       "  <tbody>\n",
       "    <tr>\n",
       "      <th>76190</th>\n",
       "      <td>chr4_GL000008v2_random</td>\n",
       "      <td>85563</td>\n",
       "      <td>NaN</td>\n",
       "    </tr>\n",
       "    <tr>\n",
       "      <th>76191</th>\n",
       "      <td>chr4_GL000008v2_random</td>\n",
       "      <td>152913</td>\n",
       "      <td>NaN</td>\n",
       "    </tr>\n",
       "    <tr>\n",
       "      <th>76192</th>\n",
       "      <td>chr4_GL000008v2_random</td>\n",
       "      <td>153410</td>\n",
       "      <td>NaN</td>\n",
       "    </tr>\n",
       "    <tr>\n",
       "      <th>76193</th>\n",
       "      <td>chr4_GL000008v2_random</td>\n",
       "      <td>153418</td>\n",
       "      <td>NaN</td>\n",
       "    </tr>\n",
       "    <tr>\n",
       "      <th>76194</th>\n",
       "      <td>chr4_GL000008v2_random</td>\n",
       "      <td>153457</td>\n",
       "      <td>NaN</td>\n",
       "    </tr>\n",
       "  </tbody>\n",
       "</table>\n",
       "</div>"
      ],
      "text/plain": [
       "                       #CHROM     POS  POS_REL\n",
       "76190  chr4_GL000008v2_random   85563      NaN\n",
       "76191  chr4_GL000008v2_random  152913      NaN\n",
       "76192  chr4_GL000008v2_random  153410      NaN\n",
       "76193  chr4_GL000008v2_random  153418      NaN\n",
       "76194  chr4_GL000008v2_random  153457      NaN"
      ]
     },
     "execution_count": 57,
     "metadata": {},
     "output_type": "execute_result"
    }
   ],
   "source": [
    "EE_default_clean[EE_default_clean[\"#CHROM\"] == \"chr4_GL000008v2_random\"][[\"#CHROM\", \"POS\", \"POS_REL\"]].head()"
   ]
  },
  {
   "cell_type": "markdown",
   "metadata": {},
   "source": [
    "## CSQ Data Cleanup"
   ]
  },
  {
   "cell_type": "markdown",
   "metadata": {},
   "source": [
    "#### Load a single dataframe"
   ]
  },
  {
   "cell_type": "code",
   "execution_count": 8,
   "metadata": {},
   "outputs": [
    {
     "name": "stderr",
     "output_type": "stream",
     "text": [
      "c:\\Users\\barte\\Desktop\\Studies\\V semester\\pathogenicity-assessment\\utils\\utils.py:345: UserWarning: This function is depracated watch out for changes in columns\n",
      "  warn(\"This function is depracated watch out for changes in columns\")\n",
      "c:\\Users\\barte\\Desktop\\Studies\\V semester\\pathogenicity-assessment\\utils\\utils.py:345: UserWarning: This function is depracated watch out for changes in columns\n",
      "  warn(\"This function is depracated watch out for changes in columns\")\n",
      "c:\\Users\\barte\\Desktop\\Studies\\V semester\\pathogenicity-assessment\\utils\\utils.py:345: UserWarning: This function is depracated watch out for changes in columns\n",
      "  warn(\"This function is depracated watch out for changes in columns\")\n"
     ]
    }
   ],
   "source": [
    "EE_csq_015 = get_sample_data(\"data/EE_015/\", [\"csq\"])\n",
    "EE_csq_050 = get_sample_data(\"data/EE_050/\", [\"csq\"])\n",
    "EE_csq_069 = get_sample_data(\"data/EE_069/\", [\"csq\"])\n",
    "EE_csq = pd.concat([EE_csq_015, EE_csq_050, EE_csq_069], ignore_index=True, axis=0)"
   ]
  },
  {
   "cell_type": "code",
   "execution_count": 9,
   "metadata": {},
   "outputs": [
    {
     "data": {
      "text/plain": [
       "Index(['Allele', 'Consequence', 'IMPACT', 'SYMBOL', 'Gene', 'Feature_type',\n",
       "       'Feature', 'BIOTYPE', 'EXON', 'INTRON', 'HGVSc', 'HGVSp',\n",
       "       'cDNA_position', 'CDS_position', 'Protein_position', 'Amino_acids',\n",
       "       'Codons', 'Existing_variation', 'DISTANCE', 'STRAND', 'FLAGS',\n",
       "       'SYMBOL_SOURCE', 'HGNC_ID', 'CANONICAL', 'MANE_SELECT',\n",
       "       'MANE_PLUS_CLINICAL', 'TSL', 'APPRIS', 'CCDS', 'ENSP', 'SWISSPROT',\n",
       "       'TREMBL', 'UNIPARC', 'UNIPROT_ISOFORM', 'REFSEQ_MATCH', 'SOURCE',\n",
       "       'REFSEQ_OFFSET', 'GIVEN_REF', 'USED_REF', 'BAM_EDIT', 'SIFT',\n",
       "       'PolyPhen', 'DOMAINS', 'HGVS_OFFSET', 'AF', 'AFR_AF', 'AMR_AF',\n",
       "       'EAS_AF', 'EUR_AF', 'SAS_AF', 'gnomADe_AF', 'gnomADe_AFR_AF',\n",
       "       'gnomADe_AMR_AF', 'gnomADe_ASJ_AF', 'gnomADe_EAS_AF', 'gnomADe_FIN_AF',\n",
       "       'gnomADe_NFE_AF', 'gnomADe_OTH_AF', 'gnomADe_SAS_AF', 'gnomADg_AF',\n",
       "       'gnomADg_AFR_AF', 'gnomADg_AMI_AF', 'gnomADg_AMR_AF', 'gnomADg_ASJ_AF',\n",
       "       'gnomADg_EAS_AF', 'gnomADg_FIN_AF', 'gnomADg_MID_AF', 'gnomADg_NFE_AF',\n",
       "       'gnomADg_OTH_AF', 'gnomADg_SAS_AF', 'CLIN_SIG', 'SOMATIC', 'PHENO',\n",
       "       'PUBMED', 'VAR_SYNONYMS', 'MOTIF_NAME', 'MOTIF_POS', 'HIGH_INF_POS',\n",
       "       'MOTIF_SCORE_CHANGE', 'TRANSCRIPTION_FACTORS', 'EVE_CLASS', 'EVE_SCORE',\n",
       "       'CADD_PHRED', 'CADD_RAW', 'SpliceAI_pred_DP_AG', 'SpliceAI_pred_DP_AL',\n",
       "       'SpliceAI_pred_DP_DG', 'SpliceAI_pred_DP_DL', 'SpliceAI_pred_DS_AG',\n",
       "       'SpliceAI_pred_DS_AL', 'SpliceAI_pred_DS_DG', 'SpliceAI_pred_DS_DL',\n",
       "       'SpliceAI_pred_SYMBOL', 'LOEUF', 'PHENOTYPES', 'NMD'],\n",
       "      dtype='object')"
      ]
     },
     "execution_count": 9,
     "metadata": {},
     "output_type": "execute_result"
    }
   ],
   "source": [
    "EE_csq.columns"
   ]
  },
  {
   "cell_type": "code",
   "execution_count": 10,
   "metadata": {},
   "outputs": [
    {
     "data": {
      "text/plain": [
       "(444444, 96)"
      ]
     },
     "execution_count": 10,
     "metadata": {},
     "output_type": "execute_result"
    }
   ],
   "source": [
    "EE_csq.shape"
   ]
  },
  {
   "cell_type": "markdown",
   "metadata": {},
   "source": [
    "#### Drop uninteresting columns"
   ]
  },
  {
   "cell_type": "code",
   "execution_count": 11,
   "metadata": {},
   "outputs": [
    {
     "data": {
      "text/plain": [
       "(444444, 46)"
      ]
     },
     "execution_count": 11,
     "metadata": {},
     "output_type": "execute_result"
    }
   ],
   "source": [
    "drop_columns = [\"TSL\", \"APPRIS\", \"CCDS\", \"ENSP\", \"SWISSPROT\", \"TREMBL\", \"UNIPARC\", \"UNIPROT_ISOFORM\", \"REFSEQ_MATCH\", \"Gene\",\n",
    "                \"SOURCE\", \"REFSEQ_OFFSET\", \"GIVEN_REF\", \"USED_REF\", \"BAM_EDIT\", \"DOMAINS\", \"HGVS_OFFSET\", \"AF\", \"AFR_AF\",\n",
    "                \"AMR_AF\", \"EAS_AF\", \"EUR_AF\", \"SAS_AF\", \"cDNA_position\", \"CDS_position\", \"Protein_position\", \"HGVSp\", \"Consequence\",\n",
    "                \"TRANSCRIPTION_FACTORS\", \"SOMATIC\", \"PHENO\", \"VAR_SYNONYMS\"]\n",
    "\n",
    "drop_columns_gnomad = [c for c in EE_csq if c.startswith(\"gnom\") and c != \"gnomADe_AF\" and c!= \"gnomADg_AF\"]\n",
    "drop_columns.extend(drop_columns_gnomad)\n",
    "EE_potential_csq = EE_csq.drop(drop_columns, axis=1)\n",
    "EE_potential_csq.shape"
   ]
  },
  {
   "cell_type": "code",
   "execution_count": 12,
   "metadata": {},
   "outputs": [
    {
     "data": {
      "text/plain": [
       "50"
      ]
     },
     "execution_count": 12,
     "metadata": {},
     "output_type": "execute_result"
    }
   ],
   "source": [
    "len(drop_columns)"
   ]
  },
  {
   "cell_type": "code",
   "execution_count": 13,
   "metadata": {},
   "outputs": [
    {
     "data": {
      "text/plain": [
       "Index(['Allele', 'IMPACT', 'SYMBOL', 'Feature_type', 'Feature', 'BIOTYPE',\n",
       "       'EXON', 'INTRON', 'HGVSc', 'Amino_acids', 'Codons',\n",
       "       'Existing_variation', 'DISTANCE', 'STRAND', 'FLAGS', 'SYMBOL_SOURCE',\n",
       "       'HGNC_ID', 'CANONICAL', 'MANE_SELECT', 'MANE_PLUS_CLINICAL', 'SIFT',\n",
       "       'PolyPhen', 'gnomADe_AF', 'gnomADg_AF', 'CLIN_SIG', 'PUBMED',\n",
       "       'MOTIF_NAME', 'MOTIF_POS', 'HIGH_INF_POS', 'MOTIF_SCORE_CHANGE',\n",
       "       'EVE_CLASS', 'EVE_SCORE', 'CADD_PHRED', 'CADD_RAW',\n",
       "       'SpliceAI_pred_DP_AG', 'SpliceAI_pred_DP_AL', 'SpliceAI_pred_DP_DG',\n",
       "       'SpliceAI_pred_DP_DL', 'SpliceAI_pred_DS_AG', 'SpliceAI_pred_DS_AL',\n",
       "       'SpliceAI_pred_DS_DG', 'SpliceAI_pred_DS_DL', 'SpliceAI_pred_SYMBOL',\n",
       "       'LOEUF', 'PHENOTYPES', 'NMD'],\n",
       "      dtype='object')"
      ]
     },
     "execution_count": 13,
     "metadata": {},
     "output_type": "execute_result"
    }
   ],
   "source": [
    "EE_potential_csq.columns"
   ]
  },
  {
   "cell_type": "markdown",
   "metadata": {},
   "source": [
    "#### Drop potentially interesting columns"
   ]
  },
  {
   "cell_type": "code",
   "execution_count": 14,
   "metadata": {},
   "outputs": [
    {
     "data": {
      "text/plain": [
       "(444444, 22)"
      ]
     },
     "execution_count": 14,
     "metadata": {},
     "output_type": "execute_result"
    }
   ],
   "source": [
    "potential_drop_columns = [\"IMPACT\", \"CANONICAL\", \"SYMBOL\", \"MANE_SELECT\", \"MANE_PLUS_CLINICAL\", \"SIFT\", \"PolyPhen\",\n",
    "                          \"CLIN_SIG\", \"EVE_CLASS\", \"EVE_SCORE\", \"CADD_PHRED\", \"CADD_RAW\", \"LOEUF\", \"NMD\", \"SpliceAI_pred_DP_AG\",\n",
    "                          \"SpliceAI_pred_DP_AL\", \"SpliceAI_pred_DP_DG\", \"SpliceAI_pred_DP_DL\", \"SpliceAI_pred_DS_AG\",\n",
    "                          \"SpliceAI_pred_DS_AL\", \"SpliceAI_pred_DS_DG\", \"SpliceAI_pred_DS_DL\", \"SpliceAI_pred_SYMBOL\", \"FLAGS\"]\n",
    "\n",
    "potential_drop_columns = [c for c in potential_drop_columns if c in EE_potential_csq.columns]\n",
    "\n",
    "EE_important_csq = EE_potential_csq.drop(potential_drop_columns, axis=1)\n",
    "EE_important_csq.shape"
   ]
  },
  {
   "cell_type": "code",
   "execution_count": 15,
   "metadata": {},
   "outputs": [
    {
     "data": {
      "text/plain": [
       "24"
      ]
     },
     "execution_count": 15,
     "metadata": {},
     "output_type": "execute_result"
    }
   ],
   "source": [
    "len(potential_drop_columns)"
   ]
  },
  {
   "cell_type": "markdown",
   "metadata": {},
   "source": [
    "#### Separate array values"
   ]
  },
  {
   "cell_type": "code",
   "execution_count": 16,
   "metadata": {},
   "outputs": [],
   "source": [
    "separable_csq_columns = [\"PHENOTYPES\", \"CLIN_SIG\", \"SOMATIC\", \"DOMAINS\", \"PUBMED\", \"TREMBL\", \"Consequence\", \"HGVSp\",\n",
    "                         \"FLAGS\", \"PHENO\", \"Existing_variation\", \"SWISSPROT\", \"TRANSCRIPTION_FACTORS\", \"VAR_SYNONYMS\"]\n",
    "# Filter out discarded columns\n",
    "separable_csq_columns = [c for c in separable_csq_columns if c in EE_potential_csq.columns]\n",
    "\n",
    "# Filter out discarded columns\n",
    "potentially_separable_columns = [\"CDS_position\", \"cDNA_position\", \"HGNC_ID\", \"SIFT\", \"PolyPhen\", \"Protein_position\"]\n",
    "potentially_separable_columns = [c for c in potentially_separable_columns if c in EE_potential_csq.columns]\n",
    "\n",
    "check_correctness = [\"Codons\"]"
   ]
  },
  {
   "cell_type": "code",
   "execution_count": 17,
   "metadata": {},
   "outputs": [
    {
     "name": "stdout",
     "output_type": "stream",
     "text": [
      "PHENOTYPES\n",
      "Num uniq: 54932\n",
      "Argmax: 54168\n",
      "FASTING_PLASMA_GLUCOSE_LEVEL_QUANTITATIVE_TRAIT_LOCUS_5+MIM_morbid+ENSG00000084734&ClinVar:_phenotype_not_specified+ClinVar+rs1260326&FASTING_PLASMA_GLUCOSE_LEVEL_QUANTITATIVE_TRAIT_LOCUS_5+ClinVar+rs1260326&Cholesterol+dbGaP+rs1260326&Cholesterol+dbGaP+rs1260326&Triglycerides+dbGaP+rs1260326&Triglycerides+dbGaP+rs1260326&Fasting_Glucose+MAGIC+rs1260326&1-carboxyethylisoleucine_levels+NHGRI-EBI_GWAS_catalog+rs1260326&1-carboxyethylleucine_levels+NHGRI-EBI_GWAS_catalog+rs1260326&1-carboxyethylphenylalanine_levels+NHGRI-EBI_GWAS_catalog+rs1260326&1-carboxyethylvaline_levels+NHGRI-EBI_GWAS_catalog+rs1260326&1-myristoyl-2-arachidonoyl-GPC_14:0/20:4_levels+NHGRI-EBI_GWAS_catalog+rs1260326&1-myristoyl-2-docosahexaenoyl-GPC_14:0/22:6_levels+NHGRI-EBI_GWAS_catalog+rs1260326&1-myristoyl-2-linoleoyl-GPC_14:0/18:2_levels+NHGRI-EBI_GWAS_catalog+rs1260326&1-myristoylglycerol_14:0_levels+NHGRI-EBI_GWAS_catalog+rs1260326&1-myristoyl-GPC_14:0_levels+NHGRI-EBI_GWAS_catalog+rs1260326&1-palmitoleoylglycerol_16:1_levels+NHGRI-EBI_GWAS_catalog+rs1260326&1-palmitoyl-2-oleoyl-GPE_16:0/18:1_levels+NHGRI-EBI_GWAS_catalog+rs1260326&1-palmitoyl-GPE_16:0_levels+NHGRI-EBI_GWAS_catalog+rs1260326&1-stearoyl-2-docosahexaenoyl-GPE_18:0/22:6_levels+NHGRI-EBI_GWAS_catalog+rs1260326&1-stearoyl-2-oleoyl-GPE_18:0/18:1_levels+NHGRI-EBI_GWAS_catalog+rs1260326&1-stearoyl-GPE_18:0_levels+NHGRI-EBI_GWAS_catalog+rs1260326&2-myristoyl-GPC_14:0_levels+NHGRI-EBI_GWAS_catalog+rs1260326&Acetate_levels+NHGRI-EBI_GWAS_catalog+rs1260326&Alanine_levels+NHGRI-EBI_GWAS_catalog+rs1260326&Alanine_levels+NHGRI-EBI_GWAS_catalog+rs1260326&Alanine_levels+NHGRI-EBI_GWAS_catalog+rs1260326&Albumin_levels+NHGRI-EBI_GWAS_catalog+rs1260326&Albumin_levels+NHGRI-EBI_GWAS_catalog+rs1260326&Albumin_levels+NHGRI-EBI_GWAS_catalog+rs1260326&Alcohol_consumption_drinkers_vs_non-drinkers+NHGRI-EBI_GWAS_catalog+rs1260326&Alcohol_consumption_drinks_per_month_UKB_data_field_1578__4424+NHGRI-EBI_GWAS_catalog+rs1260326&Alcohol_consumption__drinks_per_week___MTAG_+NHGRI-EBI_GWAS_catalog+rs1260326&Alcohol_consumption__drinks_per_week___MTAG_+NHGRI-EBI_GWAS_catalog+rs1260326&Alcohol_consumption_drinks_per_week+NHGRI-EBI_GWAS_catalog+rs1260326&Alcohol_consumption_drinks_per_week+NHGRI-EBI_GWAS_catalog+rs1260326&Alcohol_consumption__heavy_vs._light/non-drinkers_+NHGRI-EBI_GWAS_catalog+rs1260326&Alcohol_consumption_in_current_drinkers+NHGRI-EBI_GWAS_catalog+rs1260326&Alcohol_consumption+NHGRI-EBI_GWAS_catalog+rs1260326&Alcohol_consumption+NHGRI-EBI_GWAS_catalog+rs1260326&Alcohol_use_disorder__consumption_score_+NHGRI-EBI_GWAS_catalog+rs1260326&Alcohol_use_disorder__consumption_score_+NHGRI-EBI_GWAS_catalog+rs1260326&Alcohol_use_disorder__total_score_+NHGRI-EBI_GWAS_catalog+rs1260326&Alcohol_use_disorder+NHGRI-EBI_GWAS_catalog+rs1260326&Alcohol_use_disorder+NHGRI-EBI_GWAS_catalog+rs1260326&Apolipoprotein_A1_levels+NHGRI-EBI_GWAS_catalog+rs1260326&Apolipoprotein_B_levels+NHGRI-EBI_GWAS_catalog+rs1260326&Appendicular_lean_mass+NHGRI-EBI_GWAS_catalog+rs1260326&Appendicular_lean_mass+NHGRI-EBI_GWAS_catalog+rs1260326&Appendicular_lean_mass+NHGRI-EBI_GWAS_catalog+rs1260326&Asparagine_levels+NHGRI-EBI_GWAS_catalog+rs1260326&Aspartate_aminotransferase_levels+NHGRI-EBI_GWAS_catalog+rs1260326&Average_diameter_for_HDL_particles+NHGRI-EBI_GWAS_catalog+rs1260326&Average_diameter_for_LDL_particles+NHGRI-EBI_GWAS_catalog+rs1260326&Average_diameter_for_VLDL_particles+NHGRI-EBI_GWAS_catalog+rs1260326&Biological_age_PhenoAge+NHGRI-EBI_GWAS_catalog+rs1260326&Bitter_alcoholic_beverage_consumption+NHGRI-EBI_GWAS_catalog+rs1260326&Bitter_beverage_consumption+NHGRI-EBI_GWAS_catalog+rs1260326&Blood_metabolite_levels+NHGRI-EBI_GWAS_catalog+rs1260326&Blood_protein_levels_in_cardiovascular_risk+NHGRI-EBI_GWAS_catalog+rs1260326&Blood_sugar_levels+NHGRI-EBI_GWAS_catalog+rs1260326&Blood_urea_nitrogen_levels+NHGRI-EBI_GWAS_catalog+rs1260326&Blood_urea_nitrogen_levels+NHGRI-EBI_GWAS_catalog+rs1260326&Body_mass_index_and_LDL-C_pairwise+NHGRI-EBI_GWAS_catalog+rs1260326&Body_mass_index_and_triglycerides_pairwise+NHGRI-EBI_GWAS_catalog+rs1260326&Body_mass_index_MTAG+NHGRI-EBI_GWAS_catalog+rs1260326&Body_Mass_Index+NHGRI-EBI_GWAS_catalog+rs1260326&Body_surface_area+NHGRI-EBI_GWAS_catalog+rs1260326&Branched-chain_amino_acid_levels__Isoleucine_+NHGRI-EBI_GWAS_catalog+rs1260326&Branched-chain_amino_acid_levels__Leucine_+NHGRI-EBI_GWAS_catalog+rs1260326&Branched-chain_amino_acid_levels__Valine_+NHGRI-EBI_GWAS_catalog+rs1260326&Caffeine_consumption_from_coffee_or_tea+NHGRI-EBI_GWAS_catalog+rs1260326&Caffeine_metabolism__plasma_1_7-dimethylxanthine__paraxanthine__to_1_3_7-trimethylxanthine__caffeine__ratio_+NHGRI-EBI_GWAS_catalog+rs1260326&Calcium_levels+NHGRI-EBI_GWAS_catalog+rs1260326&Calcium_levels+NHGRI-EBI_GWAS_catalog+rs1260326&Cardiovascular_disease_risk_factors+NHGRI-EBI_GWAS_catalog+rs1260326&Cathepsin_D_levels+NHGRI-EBI_GWAS_catalog+rs1260326&Chitinase-3-like_protein_1_levels+NHGRI-EBI_GWAS_catalog+rs1260326&Cholecystitis+NHGRI-EBI_GWAS_catalog+rs1260326&Cholelithiasis+NHGRI-EBI_GWAS_catalog+rs1260326&Cholesterol_levels_in_chylomicrons_and_extremely_large_VLDL+NHGRI-EBI_GWAS_catalog+rs1260326&Cholesterol_levels_in_large_HDL+NHGRI-EBI_GWAS_catalog+rs1260326&Cholesterol_levels_in_large_LDL+NHGRI-EBI_GWAS_catalog+rs1260326&Cholesterol_levels_in_large_VLDL+NHGRI-EBI_GWAS_catalog+rs1260326&Cholesterol_levels_in_medium_HDL+NHGRI-EBI_GWAS_catalog+rs1260326&Cholesterol_levels_in_medium_LDL+NHGRI-EBI_GWAS_catalog+rs1260326&Cholesterol_levels_in_small_HDL+NHGRI-EBI_GWAS_catalog+rs1260326&Cholesterol_levels_in_small_LDL+NHGRI-EBI_GWAS_catalog+rs1260326&Cholesterol_levels_in_small_VLDL+NHGRI-EBI_GWAS_catalog+rs1260326&Cholesterol_levels_in_very_large_HDL+NHGRI-EBI_GWAS_catalog+rs1260326&Cholesterol_levels_in_very_large_VLDL+NHGRI-EBI_GWAS_catalog+rs1260326&Cholesterol__total+NHGRI-EBI_GWAS_catalog+rs1260326&Cholesterol__total+NHGRI-EBI_GWAS_catalog+rs1260326&Cholesterol__total+NHGRI-EBI_GWAS_catalog+rs1260326&Cholesterol_to_total_lipids_ratio_in_IDL+NHGRI-EBI_GWAS_catalog+rs1260326&Cholesterol_to_total_lipids_ratio_in_large_HDL+NHGRI-EBI_GWAS_catalog+rs1260326&Cholesterol_to_total_lipids_ratio_in_large_LDL+NHGRI-EBI_GWAS_catalog+rs1260326&Cholesterol_to_total_lipids_ratio_in_large_VLDL+NHGRI-EBI_GWAS_catalog+rs1260326&Cholesterol_to_total_lipids_ratio_in_medium_HDL+NHGRI-EBI_GWAS_catalog+rs1260326&Cholesterol_to_total_lipids_ratio_in_medium_LDL+NHGRI-EBI_GWAS_catalog+rs1260326&Cholesterol_to_total_lipids_ratio_in_medium_VLDL+NHGRI-EBI_GWAS_catalog+rs1260326&Cholesterol_to_total_lipids_ratio_in_small_HDL+NHGRI-EBI_GWAS_catalog+rs1260326&Cholesterol_to_total_lipids_ratio_in_small_VLDL+NHGRI-EBI_GWAS_catalog+rs1260326&Cholesterol_to_total_lipids_ratio_in_very_large_VLDL+NHGRI-EBI_GWAS_catalog+rs1260326&Cholesterol_to_total_lipids_ratio_in_very_small_VLDL+NHGRI-EBI_GWAS_catalog+rs1260326&Cholesteryl_ester_levels_in_chylomicrons_and_extremely_large_VLDL+NHGRI-EBI_GWAS_catalog+rs1260326&Cholesteryl_ester_levels_in_large_HDL+NHGRI-EBI_GWAS_catalog+rs1260326&Cholesteryl_ester_levels_in_large_LDL+NHGRI-EBI_GWAS_catalog+rs1260326&Cholesteryl_ester_levels_in_large_VLDL+NHGRI-EBI_GWAS_catalog+rs1260326&Cholesteryl_ester_levels_in_LDL+NHGRI-EBI_GWAS_catalog+rs1260326&Cholesteryl_ester_levels_in_medium_HDL+NHGRI-EBI_GWAS_catalog+rs1260326&Cholesteryl_ester_levels_in_medium_LDL+NHGRI-EBI_GWAS_catalog+rs1260326&Cholesteryl_ester_levels_in_small_HDL+NHGRI-EBI_GWAS_catalog+rs1260326&Cholesteryl_ester_levels_in_small_LDL+NHGRI-EBI_GWAS_catalog+rs1260326&Cholesteryl_ester_levels_in_small_VLDL+NHGRI-EBI_GWAS_catalog+rs1260326&Cholesteryl_ester_levels_in_very_large_HDL+NHGRI-EBI_GWAS_catalog+rs1260326&Cholesteryl_ester_levels_in_very_large_VLDL+NHGRI-EBI_GWAS_catalog+rs1260326&Cholesteryl_ester_levels_in_VLDL+NHGRI-EBI_GWAS_catalog+rs1260326&Cholesteryl_esters_to_total_lipids_ratio_in_IDL+NHGRI-EBI_GWAS_catalog+rs1260326&Cholesteryl_esters_to_total_lipids_ratio_in_large_HDL+NHGRI-EBI_GWAS_catalog+rs1260326&Cholesteryl_esters_to_total_lipids_ratio_in_large_LDL+NHGRI-EBI_GWAS_catalog+rs1260326&Cholesteryl_esters_to_total_lipids_ratio_in_large_VLDL+NHGRI-EBI_GWAS_catalog+rs1260326&Cholesteryl_esters_to_total_lipids_ratio_in_medium_HDL+NHGRI-EBI_GWAS_catalog+rs1260326&Cholesteryl_esters_to_total_lipids_ratio_in_medium_LDL+NHGRI-EBI_GWAS_catalog+rs1260326&Cholesteryl_esters_to_total_lipids_ratio_in_medium_VLDL+NHGRI-EBI_GWAS_catalog+rs1260326&Cholesteryl_esters_to_total_lipids_ratio_in_small_HDL+NHGRI-EBI_GWAS_catalog+rs1260326&Cholesteryl_esters_to_total_lipids_ratio_in_small_LDL+NHGRI-EBI_GWAS_catalog+rs1260326&Cholesteryl_esters_to_total_lipids_ratio_in_small_VLDL+NHGRI-EBI_GWAS_catalog+rs1260326&Cholesteryl_esters_to_total_lipids_ratio_in_very_large_VLDL+NHGRI-EBI_GWAS_catalog+rs1260326&Cholesteryl_esters_to_total_lipids_ratio_in_very_small_VLDL+NHGRI-EBI_GWAS_catalog+rs1260326&Chronic_inflammatory_diseases__ankylosing_spondylitis__Crohn's_disease__psoriasis__primary_sclerosing_cholangitis__ulcerative_colitis___pleiotropy_+NHGRI-EBI_GWAS_catalog+rs1260326&Chronic_kidney_disease+NHGRI-EBI_GWAS_catalog+rs1260326&Circulating_docosahexaenoic_acid_levels+NHGRI-EBI_GWAS_catalog+rs1260326&Circulating_fibroblast_growth_factor_21_levels+NHGRI-EBI_GWAS_catalog+rs1260326&circulating_leptin_levels_adjusted_for_BMI+NHGRI-EBI_GWAS_catalog+rs1260326&circulating_leptin_levels_adjusted_for_BMI+NHGRI-EBI_GWAS_catalog+rs1260326&circulating_leptin_levels_adjusted_for_BMI+NHGRI-EBI_GWAS_catalog+rs1260326&circulating_leptin_levels+NHGRI-EBI_GWAS_catalog+rs1260326&circulating_leptin_levels+NHGRI-EBI_GWAS_catalog+rs1260326&circulating_leptin_levels+NHGRI-EBI_GWAS_catalog+rs1260326&Coagulation_factor_IXab_levels+NHGRI-EBI_GWAS_catalog+rs1260326&Coagulation_factor_IX_levels+NHGRI-EBI_GWAS_catalog+rs1260326&Coffee_consumption__cups_per_day_+NHGRI-EBI_GWAS_catalog+rs1260326&Coffee_consumption__cups_per_day_+NHGRI-EBI_GWAS_catalog+rs1260326&Coffee_consumption+NHGRI-EBI_GWAS_catalog+rs1260326&Coffee_consumption+NHGRI-EBI_GWAS_catalog+rs1260326&Concentration_of_chylomicrons_and_extremely_large_VLDL_particles+NHGRI-EBI_GWAS_catalog+rs1260326&Concentration_of_HDL_particles+NHGRI-EBI_GWAS_catalog+rs1260326&Concentration_of_large_HDL_particles+NHGRI-EBI_GWAS_catalog+rs1260326&Concentration_of_large_VLDL_particles+NHGRI-EBI_GWAS_catalog+rs1260326&Concentration_of_medium_HDL_particles+NHGRI-EBI_GWAS_catalog+rs1260326&Concentration_of_medium_LDL_particles+NHGRI-EBI_GWAS_catalog+rs1260326&Concentration_of_medium_VLDL_particles+NHGRI-EBI_GWAS_catalog+rs1260326&Concentration_of_small_HDL_particles+NHGRI-EBI_GWAS_catalog+rs1260326&Concentration_of_small_LDL_particles+NHGRI-EBI_GWAS_catalog+rs1260326&Concentration_of_small_VLDL_particles+NHGRI-EBI_GWAS_catalog+rs1260326&Concentration_of_very_large_HDL_particles+NHGRI-EBI_GWAS_catalog+rs1260326&Concentration_of_very_large_VLDL_particles+NHGRI-EBI_GWAS_catalog+rs1260326&Concentration_of_very_small_VLDL_particles+NHGRI-EBI_GWAS_catalog+rs1260326&Concentration_of_VLDL_particles+NHGRI-EBI_GWAS_catalog+rs1260326&Coronary_artery_disease_or_factor_VII_levels_pleiotropy+NHGRI-EBI_GWAS_catalog+rs1260326&C-reactive_protein_levels_MTAG+NHGRI-EBI_GWAS_catalog+rs1260326&C-reactive_protein_levels_or_total_cholesterol_levels__pleiotropy_+NHGRI-EBI_GWAS_catalog+rs1260326&C-reactive_protein_levels_or_triglyceride_levels__pleiotropy_+NHGRI-EBI_GWAS_catalog+rs1260326&C-reactive_protein_levels+NHGRI-EBI_GWAS_catalog+rs1260326&C-reactive_protein_levels+NHGRI-EBI_GWAS_catalog+rs1260326&C-reactive_protein_levels+NHGRI-EBI_GWAS_catalog+rs1260326&C-reactive_protein_levels+NHGRI-EBI_GWAS_catalog+rs1260326&Creatinine_levels+NHGRI-EBI_GWAS_catalog+rs1260326&Crohn's_disease+NHGRI-EBI_GWAS_catalog+rs1260326&Degree_of_unsaturation+NHGRI-EBI_GWAS_catalog+rs1260326&Diacylglycerol_32:2_[M+H-H2O]1+_levels+NHGRI-EBI_GWAS_catalog+rs1260326&Diacylglycerol_34:1_[M+H-H2O]1+_levels+NHGRI-EBI_GWAS_catalog+rs1260326&Diacylglycerol_34:2_[M+H-H2O]1+_levels+NHGRI-EBI_GWAS_catalog+rs1260326&Diacylglycerol_34:3_[M+H-H2O]1+_levels+NHGRI-EBI_GWAS_catalog+rs1260326&Diacylglycerol_44:7_[M+H-H2O]1+_levels+NHGRI-EBI_GWAS_catalog+rs1260326&Docosahexaenoic_acid_levels+NHGRI-EBI_GWAS_catalog+rs1260326&Drinks_per_week+NHGRI-EBI_GWAS_catalog+rs1260326&Drinks_per_week+NHGRI-EBI_GWAS_catalog+rs1260326&Drinks_per_week+NHGRI-EBI_GWAS_catalog+rs1260326&Dyslipidemia+NHGRI-EBI_GWAS_catalog+rs1260326&Estimated_glomerular_filtration_rate_creatinine+NHGRI-EBI_GWAS_catalog+rs1260326&Estimated_glomerular_filtration_rate_creatinine+NHGRI-EBI_GWAS_catalog+rs1260326&Estimated_glomerular_filtration_rate_cystatin_c+NHGRI-EBI_GWAS_catalog+rs1260326&Estimated_glomerular_filtration_rate_in_non-diabetics+NHGRI-EBI_GWAS_catalog+rs1260326&Estimated_glomerular_filtration_rate+NHGRI-EBI_GWAS_catalog+rs1260326&Estimated_glomerular_filtration_rate+NHGRI-EBI_GWAS_catalog+rs1260326&Estimated_glomerular_filtration_rate+NHGRI-EBI_GWAS_catalog+rs1260326&Estradiol_levels+NHGRI-EBI_GWAS_catalog+rs1260326&Factor_VII_activity_or_levels+NHGRI-EBI_GWAS_catalog+rs1260326&Factor_VII_activity+NHGRI-EBI_GWAS_catalog+rs1260326&Factor_VII_activity+NHGRI-EBI_GWAS_catalog+rs1260326&Factor_VII_levels+NHGRI-EBI_GWAS_catalog+rs1260326&Familial_combined_hyperlipidemia_defined_by_Brunzell_criteria+NHGRI-EBI_GWAS_catalog+rs1260326&Familial_combined_hyperlipidemia_defined_by_Consensus_criteria+NHGRI-EBI_GWAS_catalog+rs1260326&Familial_combined_hyperlipidemia_defined_by_Dutch_criteria+NHGRI-EBI_GWAS_catalog+rs1260326&Familial_combined_hyperlipidemia_defined_by_Goldstein_criteria+NHGRI-EBI_GWAS_catalog+rs1260326&Familial_combined_hyperlipidemia_defined_by_Mexico_criteria+NHGRI-EBI_GWAS_catalog+rs1260326&Fasting_blood_glucose_adjusted_for_BMI+NHGRI-EBI_GWAS_catalog+rs1260326&Fasting_blood_glucose+NHGRI-EBI_GWAS_catalog+rs1260326&Fasting_blood_insulin_adjusted_for_BMI+NHGRI-EBI_GWAS_catalog+rs1260326&Fasting_glucose_adjusted_for_BMI+NHGRI-EBI_GWAS_catalog+rs1260326&Fasting_glucose_adjusted_for_BMI+NHGRI-EBI_GWAS_catalog+rs1260326&Fasting_Glucose+NHGRI-EBI_GWAS_catalog+rs1260326&Fasting_Glucose+NHGRI-EBI_GWAS_catalog+rs1260326&Fasting_Glucose+NHGRI-EBI_GWAS_catalog+rs1260326&Fasting_insulin_adjusted_for_BMI+NHGRI-EBI_GWAS_catalog+rs1260326&Fasting_insulin+NHGRI-EBI_GWAS_catalog+rs1260326&Fasting_insulin+NHGRI-EBI_GWAS_catalog+rs1260326&Fat-free_mass+NHGRI-EBI_GWAS_catalog+rs1260326&Fat-free_mass+NHGRI-EBI_GWAS_catalog+rs1260326&Fat-free_mass+NHGRI-EBI_GWAS_catalog+rs1260326&Fibrinogen_levels_or_factor_VII_levels_or_factor_XI_levels_or_tissue_plasminogen_activator_levels_pleiotropy+NHGRI-EBI_GWAS_catalog+rs1260326&Fibrinogen_levels_or_factor_VII_levels_pleiotropy+NHGRI-EBI_GWAS_catalog+rs1260326&Fibroblast_growth_factor_21_levels+NHGRI-EBI_GWAS_catalog+rs1260326&Follistatin_levels+NHGRI-EBI_GWAS_catalog+rs1260326&Free_cholesterol_levels_in_chylomicrons_and_extremely_large_VLDL+NHGRI-EBI_GWAS_catalog+rs1260326&Free_cholesterol_levels_in_large_HDL+NHGRI-EBI_GWAS_catalog+rs1260326&Free_cholesterol_levels_in_large_VLDL+NHGRI-EBI_GWAS_catalog+rs1260326&Free_cholesterol_levels_in_medium_HDL+NHGRI-EBI_GWAS_catalog+rs1260326&Free_cholesterol_levels_in_medium_VLDL+NHGRI-EBI_GWAS_catalog+rs1260326&Free_cholesterol_levels_in_small_HDL+NHGRI-EBI_GWAS_catalog+rs1260326&Free_cholesterol_levels_in_small_VLDL+NHGRI-EBI_GWAS_catalog+rs1260326&Free_cholesterol_levels_in_very_large_HDL+NHGRI-EBI_GWAS_catalog+rs1260326&Free_cholesterol_levels_in_very_large_VLDL+NHGRI-EBI_GWAS_catalog+rs1260326&Free_cholesterol_levels_in_VLDL+NHGRI-EBI_GWAS_catalog+rs1260326&Free_cholesterol_to_total_lipids_ratio_in_chylomicrons_and_extremely_large_VLDL+NHGRI-EBI_GWAS_catalog+rs1260326&Free_cholesterol_to_total_lipids_ratio_in_IDL+NHGRI-EBI_GWAS_catalog+rs1260326&Free_cholesterol_to_total_lipids_ratio_in_large_HDL+NHGRI-EBI_GWAS_catalog+rs1260326&Free_cholesterol_to_total_lipids_ratio_in_large_LDL+NHGRI-EBI_GWAS_catalog+rs1260326&Free_cholesterol_to_total_lipids_ratio_in_medium_LDL+NHGRI-EBI_GWAS_catalog+rs1260326&Free_cholesterol_to_total_lipids_ratio_in_medium_VLDL+NHGRI-EBI_GWAS_catalog+rs1260326&Free_cholesterol_to_total_lipids_ratio_in_small_LDL+NHGRI-EBI_GWAS_catalog+rs1260326&Free_cholesterol_to_total_lipids_ratio_in_small_VLDL+NHGRI-EBI_GWAS_catalog+rs1260326&Free_cholesterol_to_total_lipids_ratio_in_very_large_VLDL+NHGRI-EBI_GWAS_catalog+rs1260326&Free_cholesterol_to_total_lipids_ratio_in_very_small_VLDL+NHGRI-EBI_GWAS_catalog+rs1260326&Gallstone_disease+NHGRI-EBI_GWAS_catalog+rs1260326&Gallstone_disease+NHGRI-EBI_GWAS_catalog+rs1260326&Gamma-glutamylthreonine_levels+NHGRI-EBI_GWAS_catalog+rs1260326&Gamma_glutamyl_transferase_levels+NHGRI-EBI_GWAS_catalog+rs1260326&Gamma_glutamyl_transferase_levels+NHGRI-EBI_GWAS_catalog+rs1260326&Gamma_glutamyl_transpeptidase+NHGRI-EBI_GWAS_catalog+rs1260326&Gamma_glutamyl_transpeptidase+NHGRI-EBI_GWAS_catalog+rs1260326&Gestational_diabetes_mellitus+NHGRI-EBI_GWAS_catalog+rs1260326&Gestational_insulin_sensitivity+NHGRI-EBI_GWAS_catalog+rs1260326&Glomerular_filtration_rate+NHGRI-EBI_GWAS_catalog+rs1260326&Glomerular_filtration_rate_creatinine+NHGRI-EBI_GWAS_catalog+rs1260326&Glomerular_filtration_rate_in_non_diabetics__creatinine_+NHGRI-EBI_GWAS_catalog+rs1260326&Glomerular_filtration_rate+NHGRI-EBI_GWAS_catalog+rs1260326&Glucokinase_regulatory_protein_levels+NHGRI-EBI_GWAS_catalog+rs1260326&Glucose_levels+NHGRI-EBI_GWAS_catalog+rs1260326&Glucose_levels+NHGRI-EBI_GWAS_catalog+rs1260326&Glucose-to-mannose_ratio+NHGRI-EBI_GWAS_catalog+rs1260326&Glutamine_levels+NHGRI-EBI_GWAS_catalog+rs1260326&Glutamine_levels+NHGRI-EBI_GWAS_catalog+rs1260326&Glycated_haemoglobin_HbA1c_levels_adjusted_for_BMI+NHGRI-EBI_GWAS_catalog+rs1260326&Glycated_haemoglobin_HbA1c_levels_adjusted_for_BMI+NHGRI-EBI_GWAS_catalog+rs1260326&Glycemic_traits_pleiotropy+NHGRI-EBI_GWAS_catalog+rs1260326&Glycemic_traits__pregnancy_+NHGRI-EBI_GWAS_catalog+rs1260326&Glycemic_traits__pregnancy_+NHGRI-EBI_GWAS_catalog+rs1260326&Glycoprotein_acetyls_levels+NHGRI-EBI_GWAS_catalog+rs1260326&Gout+NHGRI-EBI_GWAS_catalog+rs1260326&Gout_combined_type+NHGRI-EBI_GWAS_catalog+rs1260326&Gout+NHGRI-EBI_GWAS_catalog+rs1260326&Gout_vs_asymptomatic_hyperuricemia+NHGRI-EBI_GWAS_catalog+rs1260326&Granulocyte_count+NHGRI-EBI_GWAS_catalog+rs1260326&Height+NHGRI-EBI_GWAS_catalog+rs1260326&Height+NHGRI-EBI_GWAS_catalog+rs1260326&Height+NHGRI-EBI_GWAS_catalog+rs1260326&Height+NHGRI-EBI_GWAS_catalog+rs1260326&Hematocrit+NHGRI-EBI_GWAS_catalog+rs1260326&Hematocrit+NHGRI-EBI_GWAS_catalog+rs1260326&Hematological_and_biochemical_traits+NHGRI-EBI_GWAS_catalog+rs1260326&High_density_lipoprotein_cholesterol_levels+NHGRI-EBI_GWAS_catalog+rs1260326&High_light_scatter_reticulocyte_count+NHGRI-EBI_GWAS_catalog+rs1260326&High_light_scatter_reticulocyte_percentage_of_red_cells+NHGRI-EBI_GWAS_catalog+rs1260326&High_light_scatter_reticulocyte_percentage_of_red_cells+NHGRI-EBI_GWAS_catalog+rs1260326&Hypertriglyceridemia+NHGRI-EBI_GWAS_catalog+rs1260326&IGF-1_and_IGFBP-3_levels_bivariate_analysis+NHGRI-EBI_GWAS_catalog+rs1260326&Inflammatory_bowel_disease+NHGRI-EBI_GWAS_catalog+rs1260326&Inflammatory_bowel_disease+NHGRI-EBI_GWAS_catalog+rs1260326&Intrahepatic_cholestasis_of_pregnancy+NHGRI-EBI_GWAS_catalog+rs1260326&Iron_status_biomarkers__ferritin_levels_+NHGRI-EBI_GWAS_catalog+rs1260326&Ischemic_stroke_or_factor_VII_levels_pleiotropy+NHGRI-EBI_GWAS_catalog+rs1260326&Isoleucine_levels+NHGRI-EBI_GWAS_catalog+rs1260326&Isoleucine_levels+NHGRI-EBI_GWAS_catalog+rs1260326&Lactate_levels+NHGRI-EBI_GWAS_catalog+rs1260326&Lactate_levels+NHGRI-EBI_GWAS_catalog+rs1260326&LDL_cholesterol_levels+NHGRI-EBI_GWAS_catalog+rs1260326&LDL_cholesterol_levels+NHGRI-EBI_GWAS_catalog+rs1260326&LDL_cholesterol_levels+NHGRI-EBI_GWAS_catalog+rs1260326&Leucine_levels+NHGRI-EBI_GWAS_catalog+rs1260326&Leucine_levels+NHGRI-EBI_GWAS_catalog+rs1260326&Linoleic_acid_levels+NHGRI-EBI_GWAS_catalog+rs1260326&Lipid_metabolism_phenotypes+NHGRI-EBI_GWAS_catalog+rs1260326&Lipid_metabolism_phenotypes+NHGRI-EBI_GWAS_catalog+rs1260326&Lipid_metabolism_phenotypes+NHGRI-EBI_GWAS_catalog+rs1260326&Lipid_traits+NHGRI-EBI_GWAS_catalog+rs1260326&Lipoprotein-associated_phospholipase_A2_activity_and_mass+NHGRI-EBI_GWAS_catalog+rs1260326&Liver_enzyme_levels__alkaline_phosphatase_+NHGRI-EBI_GWAS_catalog+rs1260326&Liver_enzyme_levels__gamma-glutamyl_transferase_+NHGRI-EBI_GWAS_catalog+rs1260326&Liver_fat_content_MRI_proton_density_fat_fraction_measure+NHGRI-EBI_GWAS_catalog+rs1260326&Liver_volume+NHGRI-EBI_GWAS_catalog+rs1260326&Low_density_lipoprotein_cholesterol_levels+NHGRI-EBI_GWAS_catalog+rs1260326&Low_density_lipoprotein_cholesterol_levels+NHGRI-EBI_GWAS_catalog+rs1260326&Low_density_lipoprotein_cholesterol_levels+NHGRI-EBI_GWAS_catalog+rs1260326&Low_testosterone_levels+NHGRI-EBI_GWAS_catalog+rs1260326&Lymphocyte_count+NHGRI-EBI_GWAS_catalog+rs1260326&Lymphocyte_count+NHGRI-EBI_GWAS_catalog+rs1260326&Lymphocyte_count+NHGRI-EBI_GWAS_catalog+rs1260326&lysoPhosphatidylcholine_acyl_C14:0_levels+NHGRI-EBI_GWAS_catalog+rs1260326&lysoPhosphatidylcholine_acyl_C16:0_levels+NHGRI-EBI_GWAS_catalog+rs1260326&lysoPhosphatidylcholine_acyl_C16:0_levels+NHGRI-EBI_GWAS_catalog+rs1260326&lysoPhosphatidylcholine_acyl_C16:1_levels+NHGRI-EBI_GWAS_catalog+rs1260326&lysoPhosphatidylcholine_acyl_C16:1_levels+NHGRI-EBI_GWAS_catalog+rs1260326&lysoPhosphatidylcholine_acyl_C18:0_levels+NHGRI-EBI_GWAS_catalog+rs1260326&lysoPhosphatidylcholine_acyl_C20:3_levels+NHGRI-EBI_GWAS_catalog+rs1260326&lysoPhosphatidylcholine_acyl_C20:3_levels+NHGRI-EBI_GWAS_catalog+rs1260326&Lysophosphatidylethanolamine_16:0_[M-H]1-_levels+NHGRI-EBI_GWAS_catalog+rs1260326&Macular_telangiectasia_type_2+NHGRI-EBI_GWAS_catalog+rs1260326&Macular_telangiectasia_type_2+NHGRI-EBI_GWAS_catalog+rs1260326&Mannonate_levels+NHGRI-EBI_GWAS_catalog+rs1260326&Mannose_levels+NHGRI-EBI_GWAS_catalog+rs1260326&Mannose_levels+NHGRI-EBI_GWAS_catalog+rs1260326&Mannose_levels+NHGRI-EBI_GWAS_catalog+rs1260326&Maximum_habitual_alcohol_consumption_MTAG+NHGRI-EBI_GWAS_catalog+rs1260326&Maximum_habitual_alcohol_consumption+NHGRI-EBI_GWAS_catalog+rs1260326&Maximum_habitual_alcohol_consumption+NHGRI-EBI_GWAS_catalog+rs1260326&Mean_platelet_volume+NHGRI-EBI_GWAS_catalog+rs1260326&Mean_reticulocyte_volume+NHGRI-EBI_GWAS_catalog+rs1260326&Mean_spheric_corpuscular_volume+NHGRI-EBI_GWAS_catalog+rs1260326&Medication_use_drugs_used_in_diabetes+NHGRI-EBI_GWAS_catalog+rs1260326&Medication_use_drugs_used_in_diabetes+NHGRI-EBI_GWAS_catalog+rs1260326&Medication_use_HMG_CoA_reductase_inhibitors+NHGRI-EBI_GWAS_catalog+rs1260326&Medication_use_HMG_CoA_reductase_inhibitors+NHGRI-EBI_GWAS_catalog+rs1260326&Medication_use_HMG_CoA_reductase_inhibitors+NHGRI-EBI_GWAS_catalog+rs1260326&Metabolic_syndrome+NHGRI-EBI_GWAS_catalog+rs1260326&Metabolic_traits+NHGRI-EBI_GWAS_catalog+rs1260326&Metabolite_levels+NHGRI-EBI_GWAS_catalog+rs1260326&Metabolite_levels+NHGRI-EBI_GWAS_catalog+rs1260326&Metabolite_levels+NHGRI-EBI_GWAS_catalog+rs1260326&Metabolite_levels+NHGRI-EBI_GWAS_catalog+rs1260326&Monocyte_percentage_of_white_cells+NHGRI-EBI_GWAS_catalog+rs1260326&Monounsaturated_fatty_acid_levels+NHGRI-EBI_GWAS_catalog+rs1260326&Myeloid_white_cell_count+NHGRI-EBI_GWAS_catalog+rs1260326&Myristoyl-linoleoyl-glycerol_14:0/18:2_[1]_levels+NHGRI-EBI_GWAS_catalog+rs1260326&Neutrophil_count+NHGRI-EBI_GWAS_catalog+rs1260326&Neutrophil_count+NHGRI-EBI_GWAS_catalog+rs1260326&Neutrophil_count+NHGRI-EBI_GWAS_catalog+rs1260326&Neutrophil_percentage_of_white_cells+NHGRI-EBI_GWAS_catalog+rs1260326&Non-albumin_protein_levels+NHGRI-EBI_GWAS_catalog+rs1260326&Nonalcoholic_fatty_liver_disease+NHGRI-EBI_GWAS_catalog+rs1260326&Nonalcoholic_fatty_liver_disease+NHGRI-EBI_GWAS_catalog+rs1260326&Nonalcoholic_fatty_liver_disease+NHGRI-EBI_GWAS_catalog+rs1260326&Nonalcoholic_fatty_liver_disease+NHGRI-EBI_GWAS_catalog+rs1260326&Nonalcoholic_steatohepatitis+NHGRI-EBI_GWAS_catalog+rs1260326&Non-HDL_cholesterol_levels+NHGRI-EBI_GWAS_catalog+rs1260326&Non-HDL_cholesterol_levels+NHGRI-EBI_GWAS_catalog+rs1260326&Non-HDL_cholesterol_levels+NHGRI-EBI_GWAS_catalog+rs1260326&Non-HDL_cholesterol_levels+NHGRI-EBI_GWAS_catalog+rs1260326&Non-oily_fish_consumption+NHGRI-EBI_GWAS_catalog+rs1260326&Oleoyl-arachidonoyl-glycerol_18:1/20:4_[1]_levels+NHGRI-EBI_GWAS_catalog+rs1260326&Omega-3_fatty_acid_levels+NHGRI-EBI_GWAS_catalog+rs1260326&Omega-6_fatty_acid_levels+NHGRI-EBI_GWAS_catalog+rs1260326&Palmitoleoyl-linoleoyl-glycerol_16:1/18:2_[1]_levels+NHGRI-EBI_GWAS_catalog+rs1260326&Percent_glycated_albumin+NHGRI-EBI_GWAS_catalog+rs1260326&Phosphatidylcholine-2O_32:0_[M+H]1+_levels+NHGRI-EBI_GWAS_catalog+rs1260326&Phosphatidylcholine_diacyl_C32:1_levels+NHGRI-EBI_GWAS_catalog+rs1260326&Phosphatidylcholine_diacyl_C32:2_levels+NHGRI-EBI_GWAS_catalog+rs1260326&Phosphatidylcholine_diacyl_C34:1_levels+NHGRI-EBI_GWAS_catalog+rs1260326&Phosphatidylcholine_diacyl_C34:3_levels+NHGRI-EBI_GWAS_catalog+rs1260326&Phosphatidylcholine_diacyl_C34:4_levels+NHGRI-EBI_GWAS_catalog+rs1260326&Phosphatidylcholine_diacyl_C34:4_levels+NHGRI-EBI_GWAS_catalog+rs1260326&Phosphatidylcholine_diacyl_C36:6_levels+NHGRI-EBI_GWAS_catalog+rs1260326&Phosphatidylcholine_diacyl_C38:5_levels+NHGRI-EBI_GWAS_catalog+rs1260326&Phosphatidylcholine_diacyl_C40:5_levels+NHGRI-EBI_GWAS_catalog+rs1260326&Phosphatidylcholine_diacyl_C40:6_levels+NHGRI-EBI_GWAS_catalog+rs1260326&Phosphatidylcholine_levels+NHGRI-EBI_GWAS_catalog+rs1260326&Phosphatidylcholine-O_30:1_[M+H]1+/Phosphatidylcholine-P_30:0_[M+H]1+/Phosphatidylethanolamine-O_33:1_[M+H]1+_levels+NHGRI-EBI_GWAS_catalog+rs1260326&Phosphatidylcholine-O_31:0_[M+H]1+/Phosphatidylethanolamine-O_34:0_[M+H]1+_levels+NHGRI-EBI_GWAS_catalog+rs1260326&Phosphatidylcholine-O_32:1_[M+H]1+/Phosphatidylcholine-P_32:0_[M+H]1+/Phosphatidylethanolamine-O_35:1_[M+H]1+_levels+NHGRI-EBI_GWAS_catalog+rs1260326&Phosphatidylcholine-O_34:1_[M+H]1+/Phosphatidylcholine-P_34:0_[M+H]1+/Phosphatidylethanolamine-O_37:1_[M+H]1+_levels+NHGRI-EBI_GWAS_catalog+rs1260326&Phosphatidylcholine-O_34:2_[M+H]1+/Phosphatidylcholine-P_34:1_[M+H]1+/Phosphatidylethanolamine-O_37:2_[M+H]1+_levels+NHGRI-EBI_GWAS_catalog+rs1260326&Phosphatidylcholine-O_34:3_[M+H]1+/Phosphatidylcholine-P_34:2_[M+H]1+/Phosphatidylethanolamine-P_37:2_[M+H]1+_levels+NHGRI-EBI_GWAS_catalog+rs1260326&Phosphatidylcholine-O_36:2_[M+H]1+/Phosphatidylcholine-P_36:1_[M+H]1+/Phosphatidylethanolamine-P_39:1_[M+H]1+_levels+NHGRI-EBI_GWAS_catalog+rs1260326&Phosphatidylcholine-O_36:3_[M+H]1+/Phosphatidylcholine-P_36:2_[M+H]1+_levels+NHGRI-EBI_GWAS_catalog+rs1260326&Phosphatidylethanolamine_34:1_[M-H]1-_levels+NHGRI-EBI_GWAS_catalog+rs1260326&Phosphoglycerides_levels+NHGRI-EBI_GWAS_catalog+rs1260326&Phospholipid_levels_in_chylomicrons_and_extremely_large_VLDL+NHGRI-EBI_GWAS_catalog+rs1260326&Phospholipid_levels_in_HDL+NHGRI-EBI_GWAS_catalog+rs1260326&Phospholipid_levels_in_large_VLDL+NHGRI-EBI_GWAS_catalog+rs1260326&Phospholipid_levels_in_LDL+NHGRI-EBI_GWAS_catalog+rs1260326&Phospholipid_levels_in_medium_HDL+NHGRI-EBI_GWAS_catalog+rs1260326&Phospholipid_levels_in_medium_LDL+NHGRI-EBI_GWAS_catalog+rs1260326&Phospholipid_levels_in_medium_VLDL+NHGRI-EBI_GWAS_catalog+rs1260326&Phospholipid_levels_in_small_HDL+NHGRI-EBI_GWAS_catalog+rs1260326&Phospholipid_levels_in_small_VLDL+NHGRI-EBI_GWAS_catalog+rs1260326&Phospholipid_levels_in_very_large_HDL+NHGRI-EBI_GWAS_catalog+rs1260326&Phospholipid_levels_in_very_large_VLDL+NHGRI-EBI_GWAS_catalog+rs1260326&Phospholipid_levels_in_very_small_VLDL+NHGRI-EBI_GWAS_catalog+rs1260326&Phospholipid_levels_in_VLDL+NHGRI-EBI_GWAS_catalog+rs1260326&Phospholipids_to_total_lipids_ratio_in_chylomicrons_and_extremely_large_VLDL+NHGRI-EBI_GWAS_catalog+rs1260326&Phospholipids_to_total_lipids_ratio_in_large_HDL+NHGRI-EBI_GWAS_catalog+rs1260326&Phospholipids_to_total_lipids_ratio_in_large_LDL+NHGRI-EBI_GWAS_catalog+rs1260326&Phospholipids_to_total_lipids_ratio_in_large_VLDL+NHGRI-EBI_GWAS_catalog+rs1260326&Phospholipids_to_total_lipids_ratio_in_medium_HDL+NHGRI-EBI_GWAS_catalog+rs1260326&Phospholipids_to_total_lipids_ratio_in_medium_LDL+NHGRI-EBI_GWAS_catalog+rs1260326&Phospholipids_to_total_lipids_ratio_in_medium_VLDL+NHGRI-EBI_GWAS_catalog+rs1260326&Phospholipids_to_total_lipids_ratio_in_small_LDL+NHGRI-EBI_GWAS_catalog+rs1260326&Phospholipids_to_total_lipids_ratio_in_small_VLDL+NHGRI-EBI_GWAS_catalog+rs1260326&Phospholipids_to_total_lipids_ratio_in_very_large_HDL+NHGRI-EBI_GWAS_catalog+rs1260326&Phospholipids_to_total_lipids_ratio_in_very_small_VLDL+NHGRI-EBI_GWAS_catalog+rs1260326&Plasma_ANGPTL8_levels+NHGRI-EBI_GWAS_catalog+rs1260326&Plasma_lactate_levels+NHGRI-EBI_GWAS_catalog+rs1260326&Platelet_Count+NHGRI-EBI_GWAS_catalog+rs1260326&Platelet_Count+NHGRI-EBI_GWAS_catalog+rs1260326&Platelet_Count+NHGRI-EBI_GWAS_catalog+rs1260326&Plateletcrit+NHGRI-EBI_GWAS_catalog+rs1260326&Plateletcrit+NHGRI-EBI_GWAS_catalog+rs1260326&Polyunsaturated_fatty_acid_levels+NHGRI-EBI_GWAS_catalog+rs1260326&Problematic_alcohol_use+NHGRI-EBI_GWAS_catalog+rs1260326&Problematic_alcohol_use_MTAG+NHGRI-EBI_GWAS_catalog+rs1260326&Problematic_alcohol_use_MTAG+NHGRI-EBI_GWAS_catalog+rs1260326&Protein_C_levels+NHGRI-EBI_GWAS_catalog+rs1260326&Pyruvate_levels+NHGRI-EBI_GWAS_catalog+rs1260326&Pyruvate_levels+NHGRI-EBI_GWAS_catalog+rs1260326&Ratio_of_linoleic_acid_to_total_fatty_acids+NHGRI-EBI_GWAS_catalog+rs1260326&Ratio_of_monounsaturated_fatty_acids_to_total_fatty_acids+NHGRI-EBI_GWAS_catalog+rs1260326&Ratio_of_omega-3_fatty_acids_to_total_fatty_acids+NHGRI-EBI_GWAS_catalog+rs1260326&Ratio_of_omega-6_fatty_acids_to_omega-3_fatty_acids+NHGRI-EBI_GWAS_catalog+rs1260326&Ratio_of_omega-6_fatty_acids_to_total_fatty_acids+NHGRI-EBI_GWAS_catalog+rs1260326&Ratio_of_polyunsaturated_fatty_acids_to_monounsaturated_fatty_acids+NHGRI-EBI_GWAS_catalog+rs1260326&Ratio_of_polyunsaturated_fatty_acids_to_total_fatty_acids+NHGRI-EBI_GWAS_catalog+rs1260326&Ratio_of_saturated_fatty_acids_to_total_fatty_acids+NHGRI-EBI_GWAS_catalog+rs1260326&Ratio_of_triglycerides_to_phosphoglycerides+NHGRI-EBI_GWAS_catalog+rs1260326&Red_cell_distribution_width+NHGRI-EBI_GWAS_catalog+rs1260326&Red_cell_distribution_width+NHGRI-EBI_GWAS_catalog+rs1260326&Red_cell_distribution_width+NHGRI-EBI_GWAS_catalog+rs1260326&Refractive_error+NHGRI-EBI_GWAS_catalog+rs1260326&Renal_overload_gout+NHGRI-EBI_GWAS_catalog+rs1260326&Resting_heart_rate+NHGRI-EBI_GWAS_catalog+rs1260326&Resting_heart_rate+NHGRI-EBI_GWAS_catalog+rs1260326&Reticulocyte_count+NHGRI-EBI_GWAS_catalog+rs1260326&Reticulocyte_fraction_of_red_cells+NHGRI-EBI_GWAS_catalog+rs1260326&Saturated_fatty_acid_levels+NHGRI-EBI_GWAS_catalog+rs1260326&Serine_levels+NHGRI-EBI_GWAS_catalog+rs1260326&Serum_25-Hydroxyvitamin_D_levels+NHGRI-EBI_GWAS_catalog+rs1260326&Serum_25-Hydroxyvitamin_D_levels+NHGRI-EBI_GWAS_catalog+rs1260326&Serum_albumin_levels+NHGRI-EBI_GWAS_catalog+rs1260326&Serum_albumin_levels+NHGRI-EBI_GWAS_catalog+rs1260326&Serum_albumin_levels+NHGRI-EBI_GWAS_catalog+rs1260326&Serum_alkaline_phosphatase_levels+NHGRI-EBI_GWAS_catalog+rs1260326&Serum_alkaline_phosphatase_levels+NHGRI-EBI_GWAS_catalog+rs1260326&Serum_alkaline_phosphatase_levels+NHGRI-EBI_GWAS_catalog+rs1260326&Serum_alpha1-antitrypsin_levels+NHGRI-EBI_GWAS_catalog+rs1260326&Serum_creatinine_levels+NHGRI-EBI_GWAS_catalog+rs1260326&Serum_metabolite_levels+NHGRI-EBI_GWAS_catalog+rs1260326&Serum_metabolite_levels+NHGRI-EBI_GWAS_catalog+rs1260326&Serum_metabolite_levels+NHGRI-EBI_GWAS_catalog+rs1260326&Serum_metabolite_levels+NHGRI-EBI_GWAS_catalog+rs1260326&Serum_metabolite_levels_CMS+NHGRI-EBI_GWAS_catalog+rs1260326&Serum_metabolite_levels_CMS+NHGRI-EBI_GWAS_catalog+rs1260326&Serum_metabolite_levels_CMS+NHGRI-EBI_GWAS_catalog+rs1260326&Serum_metabolite_levels_CMS+NHGRI-EBI_GWAS_catalog+rs1260326&Serum_total_protein_level+NHGRI-EBI_GWAS_catalog+rs1260326&Serum_total_protein_level+NHGRI-EBI_GWAS_catalog+rs1260326&Serum_total_protein_level+NHGRI-EBI_GWAS_catalog+rs1260326&Serum_uric_acid_levels+NHGRI-EBI_GWAS_catalog+rs1260326&Serum_uric_acid_levels+NHGRI-EBI_GWAS_catalog+rs1260326&Serum_uric_acid_levels+NHGRI-EBI_GWAS_catalog+rs1260326&Sex_hormone-binding_globulin_levels_adjusted_for_BMI+NHGRI-EBI_GWAS_catalog+rs1260326&Sex_hormone-binding_globulin_levels_adjusted_for_BMI+NHGRI-EBI_GWAS_catalog+rs1260326&Sex_hormone-binding_globulin_levels+NHGRI-EBI_GWAS_catalog+rs1260326&Sex_hormone-binding_globulin_levels+NHGRI-EBI_GWAS_catalog+rs1260326&Sex_hormone-binding_globulin_levels_in_postmenopausal_women+NHGRI-EBI_GWAS_catalog+rs1260326&Sex_hormone-binding_globulin_levels_in_premenopausal_women+NHGRI-EBI_GWAS_catalog+rs1260326&Sphingomyelin33:1_[M-CH3]1-_levels+NHGRI-EBI_GWAS_catalog+rs1260326&Sphingomyelin_33:1_[M+H]1+_levels+NHGRI-EBI_GWAS_catalog+rs1260326&Sphingomyelin_34:0_[M+H]1+_levels+NHGRI-EBI_GWAS_catalog+rs1260326&Sphingomyelin_34:1_[M+H]1+_levels+NHGRI-EBI_GWAS_catalog+rs1260326&Sphingomyelin_34:2_[M+H]1+_levels+NHGRI-EBI_GWAS_catalog+rs1260326&Sphingomyelin_35:1_[M+H]1+_levels+NHGRI-EBI_GWAS_catalog+rs1260326&Sphingomyelin37:1_[M+H]1+_levels+NHGRI-EBI_GWAS_catalog+rs1260326&Sphingomyelin_levels+NHGRI-EBI_GWAS_catalog+rs1260326&Sum_basophil_neutrophil_counts+NHGRI-EBI_GWAS_catalog+rs1260326&Sum_neutrophil_eosinophil_counts+NHGRI-EBI_GWAS_catalog+rs1260326&Testosterone_levels+NHGRI-EBI_GWAS_catalog+rs1260326&Testosterone_levels+NHGRI-EBI_GWAS_catalog+rs1260326&Testosterone_levels_in_postmenopausal_women+NHGRI-EBI_GWAS_catalog+rs1260326&Threonine_levels+NHGRI-EBI_GWAS_catalog+rs1260326&Total_cholesterol_levels+NHGRI-EBI_GWAS_catalog+rs1260326&Total_cholesterol_levels+NHGRI-EBI_GWAS_catalog+rs1260326&Total_cholesterol_levels+NHGRI-EBI_GWAS_catalog+rs1260326&Total_cholesterol_levels+NHGRI-EBI_GWAS_catalog+rs1260326&Total_cholesterol_minus_HDL-C_levels+NHGRI-EBI_GWAS_catalog+rs1260326&Total_cholines_levels+NHGRI-EBI_GWAS_catalog+rs1260326&Total_concentration_of_branched-chain_amino_acids_leucine_+_isoleucine_+_valine+NHGRI-EBI_GWAS_catalog+rs1260326&Total_concentration_of_lipoprotein_particles+NHGRI-EBI_GWAS_catalog+rs1260326&Total_esterified_cholesterol_levels+NHGRI-EBI_GWAS_catalog+rs1260326&Total_fatty_acid_levels+NHGRI-EBI_GWAS_catalog+rs1260326&Total_free_cholesterol_levels+NHGRI-EBI_GWAS_catalog+rs1260326&Total_lipid_levels_in_chylomicrons_and_extremely_large_VLDL+NHGRI-EBI_GWAS_catalog+rs1260326&Total_lipid_levels_in_HDL+NHGRI-EBI_GWAS_catalog+rs1260326&Total_lipid_levels_in_large_HDL+NHGRI-EBI_GWAS_catalog+rs1260326&Total_lipid_levels_in_large_LDL+NHGRI-EBI_GWAS_catalog+rs1260326&Total_lipid_levels_in_large_VLDL+NHGRI-EBI_GWAS_catalog+rs1260326&Total_lipid_levels_in_LDL+NHGRI-EBI_GWAS_catalog+rs1260326&Total_lipid_levels_in_lipoprotein_particles+NHGRI-EBI_GWAS_catalog+rs1260326&Total_lipid_levels_in_medium_HDL+NHGRI-EBI_GWAS_catalog+rs1260326&Total_lipid_levels_in_medium_LDL+NHGRI-EBI_GWAS_catalog+rs1260326&Total_lipid_levels_in_medium_VLDL+NHGRI-EBI_GWAS_catalog+rs1260326&Total_lipid_levels_in_small_HDL+NHGRI-EBI_GWAS_catalog+rs1260326&Total_lipid_levels_in_small_LDL+NHGRI-EBI_GWAS_catalog+rs1260326&Total_lipid_levels_in_small_VLDL+NHGRI-EBI_GWAS_catalog+rs1260326&Total_lipid_levels_in_very_large_HDL+NHGRI-EBI_GWAS_catalog+rs1260326&Total_lipid_levels_in_very_large_VLDL+NHGRI-EBI_GWAS_catalog+rs1260326&Total_lipid_levels_in_very_small_VLDL+NHGRI-EBI_GWAS_catalog+rs1260326&Total_lipid_levels_in_VLDL+NHGRI-EBI_GWAS_catalog+rs1260326&Total_omega-3_fatty_acid_levels+NHGRI-EBI_GWAS_catalog+rs1260326&Total_omega-6_fatty_acid_levels+NHGRI-EBI_GWAS_catalog+rs1260326&Total_phospholipid_levels_in_lipoprotein_particles+NHGRI-EBI_GWAS_catalog+rs1260326&Total_testosterone_levels+NHGRI-EBI_GWAS_catalog+rs1260326&Total_testosterone_levels+NHGRI-EBI_GWAS_catalog+rs1260326&Total_testosterone_levels+NHGRI-EBI_GWAS_catalog+rs1260326&Total_triglycerides_levels+NHGRI-EBI_GWAS_catalog+rs1260326&Total_triglycerides_levels+NHGRI-EBI_GWAS_catalog+rs1260326&Triacylglyceride_levels+NHGRI-EBI_GWAS_catalog+rs1260326&Triacylglycerol_48:2_[NL-16:0]_levels+NHGRI-EBI_GWAS_catalog+rs1260326&Triacylglycerol_50:2_[M+NH4]1+_levels+NHGRI-EBI_GWAS_catalog+rs1260326&Triacylglycerol_50:3_[M+NH4]1+_levels+NHGRI-EBI_GWAS_catalog+rs1260326&Triacylglycerol_50:4_[M+NH4]1+_levels+NHGRI-EBI_GWAS_catalog+rs1260326&Triacylglycerol_50:5_[M+NH4]1+_levels+NHGRI-EBI_GWAS_catalog+rs1260326&Triacylglycerol_52:6_[M+NH4]1+_levels+NHGRI-EBI_GWAS_catalog+rs1260326&Triglyceride_levels+NHGRI-EBI_GWAS_catalog+rs1260326&Triglyceride_levels+NHGRI-EBI_GWAS_catalog+rs1260326&Triglyceride_levels+NHGRI-EBI_GWAS_catalog+rs1260326&Triglyceride_levels+NHGRI-EBI_GWAS_catalog+rs1260326&Triglyceride_levels_in_chylomicrons_and_extremely_large_VLDL+NHGRI-EBI_GWAS_catalog+rs1260326&Triglyceride_levels_in_HDL+NHGRI-EBI_GWAS_catalog+rs1260326&Triglyceride_levels_in_IDL+NHGRI-EBI_GWAS_catalog+rs1260326&Triglyceride_levels_in_large_HDL+NHGRI-EBI_GWAS_catalog+rs1260326&Triglyceride_levels_in_large_LDL+NHGRI-EBI_GWAS_catalog+rs1260326&Triglyceride_levels_in_large_VLDL+NHGRI-EBI_GWAS_catalog+rs1260326&Triglyceride_levels_in_LDL+NHGRI-EBI_GWAS_catalog+rs1260326&Triglyceride_levels_in_medium_HDL+NHGRI-EBI_GWAS_catalog+rs1260326&Triglyceride_levels_in_medium_LDL+NHGRI-EBI_GWAS_catalog+rs1260326&Triglyceride_levels_in_medium_VLDL+NHGRI-EBI_GWAS_catalog+rs1260326&Triglyceride_levels_in_small_HDL+NHGRI-EBI_GWAS_catalog+rs1260326&Triglyceride_levels_in_small_LDL+NHGRI-EBI_GWAS_catalog+rs1260326&Triglyceride_levels_in_small_VLDL+NHGRI-EBI_GWAS_catalog+rs1260326&Triglyceride_levels_in_very_large_HDL+NHGRI-EBI_GWAS_catalog+rs1260326&Triglyceride_levels_in_very_large_VLDL+NHGRI-EBI_GWAS_catalog+rs1260326&Triglyceride_levels_in_very_small_VLDL+NHGRI-EBI_GWAS_catalog+rs1260326&Triglyceride_levels_in_VLDL+NHGRI-EBI_GWAS_catalog+rs1260326&Triglyceride_levels_x_long_total_sleep_time_interaction_2df_test+NHGRI-EBI_GWAS_catalog+rs1260326&Triglyceride_levels_x_short_total_sleep_time_interaction_2df_test+NHGRI-EBI_GWAS_catalog+rs1260326&Triglycerides+NHGRI-EBI_GWAS_catalog+rs1260326&Triglycerides+NHGRI-EBI_GWAS_catalog+rs1260326&Triglycerides+NHGRI-EBI_GWAS_catalog+rs1260326&Triglycerides+NHGRI-EBI_GWAS_catalog+rs1260326&Triglycerides_to_total_lipids_ratio_in_IDL+NHGRI-EBI_GWAS_catalog+rs1260326&Triglycerides_to_total_lipids_ratio_in_large_HDL+NHGRI-EBI_GWAS_catalog+rs1260326&Triglycerides_to_total_lipids_ratio_in_large_LDL+NHGRI-EBI_GWAS_catalog+rs1260326&Triglycerides_to_total_lipids_ratio_in_medium_HDL+NHGRI-EBI_GWAS_catalog+rs1260326&Triglycerides_to_total_lipids_ratio_in_medium_LDL+NHGRI-EBI_GWAS_catalog+rs1260326&Triglycerides_to_total_lipids_ratio_in_medium_VLDL+NHGRI-EBI_GWAS_catalog+rs1260326&Triglycerides_to_total_lipids_ratio_in_small_HDL+NHGRI-EBI_GWAS_catalog+rs1260326&Triglycerides_to_total_lipids_ratio_in_small_LDL+NHGRI-EBI_GWAS_catalog+rs1260326&Triglycerides_to_total_lipids_ratio_in_small_VLDL+NHGRI-EBI_GWAS_catalog+rs1260326&Triglycerides_to_total_lipids_ratio_in_very_large_HDL+NHGRI-EBI_GWAS_catalog+rs1260326&Triglycerides_to_total_lipids_ratio_in_very_large_VLDL+NHGRI-EBI_GWAS_catalog+rs1260326&Triglycerides_to_total_lipids_ratio_in_very_small_VLDL+NHGRI-EBI_GWAS_catalog+rs1260326&Triglycerides_x_physical_activity_interaction__2df_test_+NHGRI-EBI_GWAS_catalog+rs1260326&Two-hour_glucose+NHGRI-EBI_GWAS_catalog+rs1260326&Two-hour_glucose_challenge+NHGRI-EBI_GWAS_catalog+rs1260326&Type_2_diabetes__adjusted_for_BMI_+NHGRI-EBI_GWAS_catalog+rs1260326&Type_2_diabetes__adjusted_for_BMI_+NHGRI-EBI_GWAS_catalog+rs1260326&Type_2_diabetes+NHGRI-EBI_GWAS_catalog+rs1260326&Type_2_diabetes+NHGRI-EBI_GWAS_catalog+rs1260326&Type_2_diabetes+NHGRI-EBI_GWAS_catalog+rs1260326&Type_2_diabetes+NHGRI-EBI_GWAS_catalog+rs1260326&Urate_levels+NHGRI-EBI_GWAS_catalog+rs1260326&Urate_levels+NHGRI-EBI_GWAS_catalog+rs1260326&Urate_levels+NHGRI-EBI_GWAS_catalog+rs1260326&Urate_levels_in_overweight_individuals+NHGRI-EBI_GWAS_catalog+rs1260326&Urate_levels_in_overweight_individuals+NHGRI-EBI_GWAS_catalog+rs1260326&Urinary_sodium_excretion+NHGRI-EBI_GWAS_catalog+rs1260326&Urinary_sodium_to_creatinine_ratio+NHGRI-EBI_GWAS_catalog+rs1260326&Urolithiasis+NHGRI-EBI_GWAS_catalog+rs1260326&Urolithiasis+NHGRI-EBI_GWAS_catalog+rs1260326&Urolithiasis+NHGRI-EBI_GWAS_catalog+rs1260326&Valine_levels+NHGRI-EBI_GWAS_catalog+rs1260326&Venous_thromboembolism_or_factor_VII_levels_pleiotropy+NHGRI-EBI_GWAS_catalog+rs1260326&VLDL_cholesterol_levels+NHGRI-EBI_GWAS_catalog+rs1260326&Waist_circumference_and_related_phenotypes+NHGRI-EBI_GWAS_catalog+rs1260326&Weight+NHGRI-EBI_GWAS_catalog+rs1260326&White_blood_cell_count+NHGRI-EBI_GWAS_catalog+rs1260326&White_blood_cell_count+NHGRI-EBI_GWAS_catalog+rs1260326&White_blood_cell_count+NHGRI-EBI_GWAS_catalog+rs1260326&White_blood_cell_count+NHGRI-EBI_GWAS_catalog+rs1260326&X-19438_levels+NHGRI-EBI_GWAS_catalog+rs1260326&X-24295_levels+NHGRI-EBI_GWAS_catalog+rs1260326&Cholesterol__total+Teslovich+rs1260326\n",
      "[nan 'Retinitis_pigmentosa+G2P+ENSG00000187634'\n",
      " 'Retinitis_pigmentosa+G2P+ENSG00000187634&ClinVar:_phenotype_not_specified+ClinVar+rs6672356'\n",
      " 'Skin_reflectance__Melanin_index_+NHGRI-EBI_GWAS_catalog+rs2272756'\n",
      " 'Pancreatic_Cancer+NHGRI-EBI_GWAS_catalog+rs13303010'\n",
      " 'Height+NHGRI-EBI_GWAS_catalog+rs3829738'\n",
      " 'Neutrophil_inclusion_bodies+ClinVar+rs7417106&Renal_tubular_epithelial_cell_apoptosis+ClinVar+rs7417106'\n",
      " 'High_density_lipoprotein_cholesterol_levels+NHGRI-EBI_GWAS_catalog+rs13303368'\n",
      " 'IMMUNODEFICIENCY_38_WITH_BASAL_GANGLIA_CALCIFICATION+MIM_morbid+ENSG00000187608&Mendelian_susceptibility_to_mycobacterial_diseases_due_to_complete_ISG15_deficiency+Orphanet+ENSG00000187608'\n",
      " 'IMMUNODEFICIENCY_38_WITH_BASAL_GANGLIA_CALCIFICATION+MIM_morbid+ENSG00000187608&Mendelian_susceptibility_to_mycobacterial_diseases_due_to_complete_ISG15_deficiency+Orphanet+ENSG00000187608&Blood_protein_levels+NHGRI-EBI_GWAS_catalog+rs3121567']\n",
      "\n",
      "CLIN_SIG\n",
      "Num uniq: 184\n",
      "Argmax: 329885\n",
      "risk_factor&benign&likely_benign&association&pathogenic&other&likely_pathogenic&conflicting_interpretations_of_pathogenicity\n",
      "[nan 'benign' 'pathogenic' 'not_provided' 'likely_benign'\n",
      " 'benign&likely_benign' 'benign&uncertain_significance'\n",
      " 'benign&likely_benign&drug_response&not_provided&uncertain_significance&conflicting_interpretations_of_pathogenicity'\n",
      " 'uncertain_significance' 'association']\n",
      "\n",
      "PUBMED\n",
      "Num uniq: 12572\n",
      "Argmax: 12917\n",
      "20981351&21444836&21894447&30387422&27247849&20952631&20521218&21953487&22938532&23820649&25266489&26091847&27233804&18187665&20401335&19379518&20565774&22024213&26602921&31469255&27480026&22552919&21172166&18794727&23856471&28611364&27103841&23575227&27333884&22949529&30955239&25941324&20921971&32024468&26058836&12374873&17496726&17512307&19553224&29587766&31056593&18059082&17150099&27589963&16120061&26111150&18534365&18615004&20869266&21414566&21807569&26602751&26879662&27669015&30668166&31090079&21395649&19743955&19842931&22683993&24332148&26694722&27108086&30753253&30756358&10212248&16844790&17335470&22495925&22703382&23065660&23073218&29514624&28887371&24954895&29888336&22382501&28351962&25592601&31819590&25432901&28931564&21305273&18437562&25443111&28607931&28496656&23202124&31018568&23927520&29455858&31141530&24910551&31105432&24932357&24093767&23689943&18794726&28734628&26046407&24621099&22703928&20581797&29404309&29912962&27841878&30006737&26920668&28089639&30823438&30578418&27618447&23303660&2238000\n",
      "[nan '24447899&35987071' '35987071' '21130836' '17544380&33073494'\n",
      " '33073494' '19822575' '28860459' '22678113&25916332' '31637880']\n",
      "\n",
      "FLAGS\n",
      "Num uniq: 5\n",
      "Argmax: 1839\n",
      "cds_start_NF&cds_end_NF\n",
      "[nan 'cds_start_NF' 'cds_end_NF' 'cds_start_NF&cds_end_NF'\n",
      " 'cds_end_NF&cds_start_NF']\n",
      "\n",
      "Existing_variation\n",
      "Num uniq: 268961\n",
      "Argmax: 79593\n",
      "COSV106097567&COSV106097597&COSV106097613&COSV106097618&COSV51544217&COSV51551832&COSV51558469&COSV51558827&COSV51561854\n",
      "['rs2691315' 'rs201535981' 'rs71260069' 'rs367730352' 'rs71267774'\n",
      " 'rs1396210256' 'rs1441656517' 'rs1490434665' 'rs1364805962'\n",
      " 'rs1221392627']\n",
      "\n"
     ]
    }
   ],
   "source": [
    "for col in separable_csq_columns:\n",
    "    print(col)\n",
    "    print(\"Num uniq:\", len(EE_potential_csq[col].unique()))\n",
    "    max_len = np.argmax(list(map(len, map(str, EE_potential_csq[col]))))\n",
    "    print(\"Argmax:\",max_len)\n",
    "    print(EE_potential_csq[col][max_len])\n",
    "    print(EE_potential_csq[col].unique()[:10])\n",
    "    print()"
   ]
  },
  {
   "cell_type": "code",
   "execution_count": 18,
   "metadata": {},
   "outputs": [
    {
     "data": {
      "text/plain": [
       "0    0\n",
       "1    0\n",
       "2    0\n",
       "3    0\n",
       "4    0\n",
       "Name: PHENOTYPES_exist, dtype: int64"
      ]
     },
     "execution_count": 18,
     "metadata": {},
     "output_type": "execute_result"
    }
   ],
   "source": [
    "# PHENOTYPES split - test if a value exist in the cell\n",
    "phenotypes_split_example = [x.split(\"+\") for x in EE_potential_csq[\"PHENOTYPES\"].iloc[24931].split(\"&\")]\n",
    "\n",
    "# phenotypes_unique = set([])\n",
    "# for c in EE_potential_csq[\"PHENOTYPES\"].unique():\n",
    "#     if not isinstance(c, float):\n",
    "#         for _c in c.split(\"&\"):\n",
    "#             pc = _c.split(\"+\")[0]\n",
    "#             phenotypes_unique.add(pc)\n",
    "#     else:\n",
    "#         phenotypes_unique.add(c)\n",
    "\n",
    "EE_potential_csq[\"PHENOTYPES_exist\"] = EE_potential_csq[\"PHENOTYPES\"].apply(lambda x: 1 if pd.notna(x) else 0)\n",
    "EE_potential_csq.drop(\"PHENOTYPES\", axis=1, inplace=True)\n",
    "EE_potential_csq[\"PHENOTYPES_exist\"].head(5)"
   ]
  },
  {
   "cell_type": "code",
   "execution_count": 19,
   "metadata": {},
   "outputs": [
    {
     "data": {
      "text/plain": [
       "0    0\n",
       "1    0\n",
       "2    0\n",
       "3    0\n",
       "4    0\n",
       "Name: PUBMED_exist, dtype: int64"
      ]
     },
     "execution_count": 19,
     "metadata": {},
     "output_type": "execute_result"
    }
   ],
   "source": [
    "# PUBMED - test if a value exist in the cell\n",
    "\n",
    "EE_potential_csq[\"PUBMED_exist\"] = EE_potential_csq[\"PUBMED\"].apply(lambda x: 1 if pd.notna(x) else 0)\n",
    "EE_potential_csq.drop(\"PUBMED\", axis=1, inplace=True)\n",
    "EE_potential_csq[\"PUBMED_exist\"].head(5)"
   ]
  },
  {
   "cell_type": "code",
   "execution_count": 20,
   "metadata": {},
   "outputs": [
    {
     "data": {
      "text/plain": [
       "0    0\n",
       "1    0\n",
       "2    0\n",
       "3    0\n",
       "4    0\n",
       "Name: CLIN_SIG_exist, dtype: int64"
      ]
     },
     "execution_count": 20,
     "metadata": {},
     "output_type": "execute_result"
    }
   ],
   "source": [
    "# CLIN_SIG split - test if a value exists in the cell\n",
    "# clin_sig_unique = set([])\n",
    "# for c in EE_potential_csq[\"CLIN_SIG\"].unique():\n",
    "#     if not isinstance(c, float):\n",
    "#         for _c in c.split(\"&\"):\n",
    "#             clin_sig_unique.add(_c)\n",
    "#     else:\n",
    "#         clin_sig_unique.add(c)\n",
    "\n",
    "# clin_sig_unique\n",
    "        \n",
    "EE_potential_csq[\"CLIN_SIG_exist\"] = EE_potential_csq[\"CLIN_SIG\"].apply(lambda x: 1 if pd.notna(x) else 0)\n",
    "EE_potential_csq.drop(\"CLIN_SIG\", axis=1, inplace=True)\n",
    "EE_potential_csq[\"CLIN_SIG_exist\"].head(5)"
   ]
  },
  {
   "cell_type": "code",
   "execution_count": 21,
   "metadata": {},
   "outputs": [
    {
     "name": "stdout",
     "output_type": "stream",
     "text": [
      "['Existing_variation_COSV', 'Existing_variation_CX', 'Existing_variation_CS', 'Existing_variation_BM', 'Existing_variation_rs', 'Existing_variation_HM', 'Existing_variation_CD', 'Existing_variation_CP', 'Existing_variation_CR', 'Existing_variation_CM', 'Existing_variation_CI']\n"
     ]
    },
    {
     "data": {
      "text/html": [
       "<div>\n",
       "<style scoped>\n",
       "    .dataframe tbody tr th:only-of-type {\n",
       "        vertical-align: middle;\n",
       "    }\n",
       "\n",
       "    .dataframe tbody tr th {\n",
       "        vertical-align: top;\n",
       "    }\n",
       "\n",
       "    .dataframe thead th {\n",
       "        text-align: right;\n",
       "    }\n",
       "</style>\n",
       "<table border=\"1\" class=\"dataframe\">\n",
       "  <thead>\n",
       "    <tr style=\"text-align: right;\">\n",
       "      <th></th>\n",
       "      <th>Existing_variation_COSV</th>\n",
       "      <th>Existing_variation_CX</th>\n",
       "      <th>Existing_variation_CS</th>\n",
       "      <th>Existing_variation_BM</th>\n",
       "      <th>Existing_variation_rs</th>\n",
       "      <th>Existing_variation_HM</th>\n",
       "      <th>Existing_variation_CD</th>\n",
       "      <th>Existing_variation_CP</th>\n",
       "      <th>Existing_variation_CR</th>\n",
       "      <th>Existing_variation_CM</th>\n",
       "      <th>Existing_variation_CI</th>\n",
       "    </tr>\n",
       "  </thead>\n",
       "  <tbody>\n",
       "    <tr>\n",
       "      <th>0</th>\n",
       "      <td>0</td>\n",
       "      <td>0</td>\n",
       "      <td>0</td>\n",
       "      <td>0</td>\n",
       "      <td>1</td>\n",
       "      <td>0</td>\n",
       "      <td>0</td>\n",
       "      <td>0</td>\n",
       "      <td>0</td>\n",
       "      <td>0</td>\n",
       "      <td>0</td>\n",
       "    </tr>\n",
       "    <tr>\n",
       "      <th>1</th>\n",
       "      <td>0</td>\n",
       "      <td>0</td>\n",
       "      <td>0</td>\n",
       "      <td>0</td>\n",
       "      <td>1</td>\n",
       "      <td>0</td>\n",
       "      <td>0</td>\n",
       "      <td>0</td>\n",
       "      <td>0</td>\n",
       "      <td>0</td>\n",
       "      <td>0</td>\n",
       "    </tr>\n",
       "    <tr>\n",
       "      <th>2</th>\n",
       "      <td>0</td>\n",
       "      <td>0</td>\n",
       "      <td>0</td>\n",
       "      <td>0</td>\n",
       "      <td>1</td>\n",
       "      <td>0</td>\n",
       "      <td>0</td>\n",
       "      <td>0</td>\n",
       "      <td>0</td>\n",
       "      <td>0</td>\n",
       "      <td>0</td>\n",
       "    </tr>\n",
       "    <tr>\n",
       "      <th>3</th>\n",
       "      <td>0</td>\n",
       "      <td>0</td>\n",
       "      <td>0</td>\n",
       "      <td>0</td>\n",
       "      <td>1</td>\n",
       "      <td>0</td>\n",
       "      <td>0</td>\n",
       "      <td>0</td>\n",
       "      <td>0</td>\n",
       "      <td>0</td>\n",
       "      <td>0</td>\n",
       "    </tr>\n",
       "    <tr>\n",
       "      <th>4</th>\n",
       "      <td>0</td>\n",
       "      <td>0</td>\n",
       "      <td>0</td>\n",
       "      <td>0</td>\n",
       "      <td>1</td>\n",
       "      <td>0</td>\n",
       "      <td>0</td>\n",
       "      <td>0</td>\n",
       "      <td>0</td>\n",
       "      <td>0</td>\n",
       "      <td>0</td>\n",
       "    </tr>\n",
       "  </tbody>\n",
       "</table>\n",
       "</div>"
      ],
      "text/plain": [
       "   Existing_variation_COSV  Existing_variation_CX  Existing_variation_CS  \\\n",
       "0                        0                      0                      0   \n",
       "1                        0                      0                      0   \n",
       "2                        0                      0                      0   \n",
       "3                        0                      0                      0   \n",
       "4                        0                      0                      0   \n",
       "\n",
       "   Existing_variation_BM  Existing_variation_rs  Existing_variation_HM  \\\n",
       "0                      0                      1                      0   \n",
       "1                      0                      1                      0   \n",
       "2                      0                      1                      0   \n",
       "3                      0                      1                      0   \n",
       "4                      0                      1                      0   \n",
       "\n",
       "   Existing_variation_CD  Existing_variation_CP  Existing_variation_CR  \\\n",
       "0                      0                      0                      0   \n",
       "1                      0                      0                      0   \n",
       "2                      0                      0                      0   \n",
       "3                      0                      0                      0   \n",
       "4                      0                      0                      0   \n",
       "\n",
       "   Existing_variation_CM  Existing_variation_CI  \n",
       "0                      0                      0  \n",
       "1                      0                      0  \n",
       "2                      0                      0  \n",
       "3                      0                      0  \n",
       "4                      0                      0  "
      ]
     },
     "execution_count": 21,
     "metadata": {},
     "output_type": "execute_result"
    }
   ],
   "source": [
    "# Exising_variation - split on: exists in COSV/rs\n",
    "\n",
    "existing_var_unique = set([])\n",
    "for c in EE_potential_csq[\"Existing_variation\"].unique():\n",
    "    if not isinstance(c, float):\n",
    "        for _c in c.split(\"&\"):\n",
    "            existing_var_unique.add(\"\".join([x for x in _c if not x.isnumeric()]))\n",
    "    # else:\n",
    "    #     existing_var_unique.add(c)\n",
    "\n",
    "existing_var_cols = [\"Existing_variation_\" + x for x in list(existing_var_unique)]\n",
    "print(existing_var_cols)\n",
    "\n",
    "for prefix, col in zip(existing_var_unique, existing_var_cols):\n",
    "    EE_potential_csq[col] = EE_potential_csq[\"Existing_variation\"].apply(lambda x: 1 if prefix in str(x) else 0)\n",
    "\n",
    "EE_potential_csq.drop(\"Existing_variation\", axis=1, inplace=True)\n",
    "EE_potential_csq[existing_var_cols].head(5)"
   ]
  },
  {
   "cell_type": "code",
   "execution_count": 22,
   "metadata": {},
   "outputs": [],
   "source": [
    "# Consequence split - test if a value exists - ALL CELLS CONTAIN A VALUE - DELETED\n",
    "# consequence_unique = set([])\n",
    "# for c in EE_potential_csq[\"Consequence\"].unique():\n",
    "#     if not isinstance(c, float):\n",
    "#         for _c in c.split(\"&\"):\n",
    "#             consequence_unique.add(_c)\n",
    "#     else:\n",
    "#         consequence_unique.add(c)\n",
    "\n",
    "# consequence_unique\n",
    "# EE_potential_csq[\"Consequence_exist\"] = EE_potential_csq[\"Consequence\"].apply(lambda x: 1 if pd.notna(x) else 0)\n",
    "# EE_potential_csq.drop(\"Consequence\", axis=1, inplace=True)\n",
    "# EE_potential_csq[\"Consequence_exist\"].head(5)"
   ]
  },
  {
   "cell_type": "code",
   "execution_count": 23,
   "metadata": {},
   "outputs": [],
   "source": [
    "# FLAGS split\n",
    "flags = ['cds_start_NF', 'cds_end_NF']\n",
    "\n",
    "EE_potential_csq[\"FLAGS_start\"] = EE_potential_csq[\"FLAGS\"].apply(lambda x: 1 if flags[0] in str(x) else 0)\n",
    "EE_potential_csq[\"FLAGS_start\"] = EE_potential_csq[\"FLAGS\"].apply(lambda x: 1 if flags[1] in str(x) else 0)\n",
    "EE_potential_csq.drop(\"FLAGS\", axis=1, inplace=True)"
   ]
  },
  {
   "cell_type": "code",
   "execution_count": 24,
   "metadata": {},
   "outputs": [
    {
     "name": "stdout",
     "output_type": "stream",
     "text": [
      "HGNC_ID\n",
      "Num uniq: 22706\n",
      "Argmax: 0\n",
      "HGNC:37102\n",
      "['HGNC:37102' 'HGNC:48835' 'HGNC:49954' nan 'HGNC:50701' 'HGNC:49377'\n",
      " 'HGNC:32337' 'HGNC:24517' 'HGNC:24023' 'HGNC:28208']\n",
      "\n",
      "SIFT\n",
      "Num uniq: 205\n",
      "Argmax: 569\n",
      "deleterious_low_confidence(0.01)\n",
      "[nan 'tolerated(0.55)' 'tolerated(0.14)' 'tolerated(1)' 'tolerated(0.24)'\n",
      " 'tolerated(0.08)' 'tolerated(0.32)' 'deleterious_low_confidence(0)'\n",
      " 'tolerated_low_confidence(0.22)' 'tolerated_low_confidence(0.06)']\n",
      "\n",
      "PolyPhen\n",
      "Num uniq: 912\n",
      "Argmax: 62\n",
      "possibly_damaging(0.737)\n",
      "[nan 'benign(0)' 'possibly_damaging(0.737)' 'benign(0.049)'\n",
      " 'benign(0.068)' 'probably_damaging(0.991)' 'benign(0.014)'\n",
      " 'benign(0.048)' 'possibly_damaging(0.646)' 'benign(0.04)']\n",
      "\n"
     ]
    }
   ],
   "source": [
    "for col in potentially_separable_columns:\n",
    "    print(col)\n",
    "    print(\"Num uniq:\", len(EE_potential_csq[col].unique()))\n",
    "    max_len = np.argmax(list(map(len, map(str, EE_potential_csq[col]))))\n",
    "    print(\"Argmax:\",max_len)\n",
    "    print(EE_potential_csq[col][max_len])\n",
    "    print(EE_potential_csq[col].unique()[:10])\n",
    "    print()"
   ]
  },
  {
   "cell_type": "code",
   "execution_count": 25,
   "metadata": {},
   "outputs": [
    {
     "data": {
      "text/plain": [
       "0    1\n",
       "1    1\n",
       "2    1\n",
       "3    1\n",
       "4    1\n",
       "Name: HGNC_ID_exist, dtype: int64"
      ]
     },
     "execution_count": 25,
     "metadata": {},
     "output_type": "execute_result"
    }
   ],
   "source": [
    "# HGNC_ID split - test if a value exists\n",
    "\n",
    "EE_potential_csq[\"HGNC_ID_exist\"] = EE_potential_csq[\"HGNC_ID\"].apply(lambda x: 1 if pd.notna(x) else 0)\n",
    "EE_potential_csq.drop(\"HGNC_ID\", axis=1, inplace=True)\n",
    "EE_potential_csq[\"HGNC_ID_exist\"].head(5)"
   ]
  },
  {
   "cell_type": "code",
   "execution_count": 26,
   "metadata": {},
   "outputs": [],
   "source": [
    "# SIFT split\n",
    "sift_unique = set([])\n",
    "for c in EE_potential_csq[\"SIFT\"].unique():\n",
    "    if not isinstance(c, float):        \n",
    "        sift_unique.add(c.split(\"(\")[0])\n",
    "    else:\n",
    "        sift_unique.add(c)\n",
    "\n",
    "# sift_unique\n",
    "\n",
    "EE_potential_csq['SIFT_class'] = EE_potential_csq['SIFT'].str.extract(r'([^\\(]+)')\n",
    "EE_potential_csq['SIFT_pred'] = EE_potential_csq['SIFT'].str.extract(r'\\(([^)]+)\\)').astype(float)\n",
    "EE_potential_csq.drop(\"SIFT\", axis=1, inplace=True)"
   ]
  },
  {
   "cell_type": "code",
   "execution_count": 27,
   "metadata": {},
   "outputs": [
    {
     "data": {
      "text/html": [
       "<div>\n",
       "<style scoped>\n",
       "    .dataframe tbody tr th:only-of-type {\n",
       "        vertical-align: middle;\n",
       "    }\n",
       "\n",
       "    .dataframe tbody tr th {\n",
       "        vertical-align: top;\n",
       "    }\n",
       "\n",
       "    .dataframe thead th {\n",
       "        text-align: right;\n",
       "    }\n",
       "</style>\n",
       "<table border=\"1\" class=\"dataframe\">\n",
       "  <thead>\n",
       "    <tr style=\"text-align: right;\">\n",
       "      <th></th>\n",
       "      <th>SIFT_class</th>\n",
       "      <th>SIFT_pred</th>\n",
       "    </tr>\n",
       "  </thead>\n",
       "  <tbody>\n",
       "    <tr>\n",
       "      <th>43</th>\n",
       "      <td>tolerated</td>\n",
       "      <td>0.55</td>\n",
       "    </tr>\n",
       "    <tr>\n",
       "      <th>62</th>\n",
       "      <td>tolerated</td>\n",
       "      <td>0.14</td>\n",
       "    </tr>\n",
       "    <tr>\n",
       "      <th>64</th>\n",
       "      <td>tolerated</td>\n",
       "      <td>1.00</td>\n",
       "    </tr>\n",
       "    <tr>\n",
       "      <th>65</th>\n",
       "      <td>tolerated</td>\n",
       "      <td>0.24</td>\n",
       "    </tr>\n",
       "    <tr>\n",
       "      <th>109</th>\n",
       "      <td>tolerated</td>\n",
       "      <td>0.08</td>\n",
       "    </tr>\n",
       "    <tr>\n",
       "      <th>120</th>\n",
       "      <td>tolerated</td>\n",
       "      <td>0.32</td>\n",
       "    </tr>\n",
       "    <tr>\n",
       "      <th>133</th>\n",
       "      <td>tolerated</td>\n",
       "      <td>1.00</td>\n",
       "    </tr>\n",
       "    <tr>\n",
       "      <th>190</th>\n",
       "      <td>deleterious_low_confidence</td>\n",
       "      <td>0.00</td>\n",
       "    </tr>\n",
       "    <tr>\n",
       "      <th>213</th>\n",
       "      <td>tolerated_low_confidence</td>\n",
       "      <td>0.22</td>\n",
       "    </tr>\n",
       "    <tr>\n",
       "      <th>295</th>\n",
       "      <td>tolerated_low_confidence</td>\n",
       "      <td>0.06</td>\n",
       "    </tr>\n",
       "  </tbody>\n",
       "</table>\n",
       "</div>"
      ],
      "text/plain": [
       "                     SIFT_class  SIFT_pred\n",
       "43                    tolerated       0.55\n",
       "62                    tolerated       0.14\n",
       "64                    tolerated       1.00\n",
       "65                    tolerated       0.24\n",
       "109                   tolerated       0.08\n",
       "120                   tolerated       0.32\n",
       "133                   tolerated       1.00\n",
       "190  deleterious_low_confidence       0.00\n",
       "213    tolerated_low_confidence       0.22\n",
       "295    tolerated_low_confidence       0.06"
      ]
     },
     "execution_count": 27,
     "metadata": {},
     "output_type": "execute_result"
    }
   ],
   "source": [
    "EE_potential_csq[EE_potential_csq[\"SIFT_class\"].notna()][[\"SIFT_class\", \"SIFT_pred\"]].iloc[:10]"
   ]
  },
  {
   "cell_type": "code",
   "execution_count": 28,
   "metadata": {},
   "outputs": [],
   "source": [
    "# PolyPhen split        \n",
    "polyphen_unique = set([])\n",
    "for c in EE_potential_csq[\"PolyPhen\"].unique():\n",
    "    if not isinstance(c, float):        \n",
    "        polyphen_unique.add(c.split(\"(\")[0])\n",
    "    else:\n",
    "        polyphen_unique.add(c)\n",
    "\n",
    "# polyphen_unique\n",
    "EE_potential_csq['PolyPhen_class'] = EE_potential_csq['PolyPhen'].str.extract(r'([^\\(]+)')\n",
    "EE_potential_csq['PolyPhen_pred'] = EE_potential_csq['PolyPhen'].str.extract(r'\\(([^)]+)\\)').astype(float)\n",
    "EE_potential_csq.drop(\"PolyPhen\", axis=1, inplace=True)"
   ]
  },
  {
   "cell_type": "code",
   "execution_count": 29,
   "metadata": {},
   "outputs": [
    {
     "data": {
      "text/html": [
       "<div>\n",
       "<style scoped>\n",
       "    .dataframe tbody tr th:only-of-type {\n",
       "        vertical-align: middle;\n",
       "    }\n",
       "\n",
       "    .dataframe tbody tr th {\n",
       "        vertical-align: top;\n",
       "    }\n",
       "\n",
       "    .dataframe thead th {\n",
       "        text-align: right;\n",
       "    }\n",
       "</style>\n",
       "<table border=\"1\" class=\"dataframe\">\n",
       "  <thead>\n",
       "    <tr style=\"text-align: right;\">\n",
       "      <th></th>\n",
       "      <th>PolyPhen_class</th>\n",
       "      <th>PolyPhen_pred</th>\n",
       "    </tr>\n",
       "  </thead>\n",
       "  <tbody>\n",
       "    <tr>\n",
       "      <th>43</th>\n",
       "      <td>benign</td>\n",
       "      <td>0.000</td>\n",
       "    </tr>\n",
       "    <tr>\n",
       "      <th>62</th>\n",
       "      <td>possibly_damaging</td>\n",
       "      <td>0.737</td>\n",
       "    </tr>\n",
       "    <tr>\n",
       "      <th>64</th>\n",
       "      <td>benign</td>\n",
       "      <td>0.000</td>\n",
       "    </tr>\n",
       "    <tr>\n",
       "      <th>65</th>\n",
       "      <td>benign</td>\n",
       "      <td>0.000</td>\n",
       "    </tr>\n",
       "    <tr>\n",
       "      <th>109</th>\n",
       "      <td>benign</td>\n",
       "      <td>0.049</td>\n",
       "    </tr>\n",
       "    <tr>\n",
       "      <th>120</th>\n",
       "      <td>benign</td>\n",
       "      <td>0.068</td>\n",
       "    </tr>\n",
       "    <tr>\n",
       "      <th>133</th>\n",
       "      <td>benign</td>\n",
       "      <td>0.000</td>\n",
       "    </tr>\n",
       "    <tr>\n",
       "      <th>190</th>\n",
       "      <td>probably_damaging</td>\n",
       "      <td>0.991</td>\n",
       "    </tr>\n",
       "    <tr>\n",
       "      <th>213</th>\n",
       "      <td>benign</td>\n",
       "      <td>0.014</td>\n",
       "    </tr>\n",
       "    <tr>\n",
       "      <th>295</th>\n",
       "      <td>benign</td>\n",
       "      <td>0.048</td>\n",
       "    </tr>\n",
       "  </tbody>\n",
       "</table>\n",
       "</div>"
      ],
      "text/plain": [
       "        PolyPhen_class  PolyPhen_pred\n",
       "43              benign          0.000\n",
       "62   possibly_damaging          0.737\n",
       "64              benign          0.000\n",
       "65              benign          0.000\n",
       "109             benign          0.049\n",
       "120             benign          0.068\n",
       "133             benign          0.000\n",
       "190  probably_damaging          0.991\n",
       "213             benign          0.014\n",
       "295             benign          0.048"
      ]
     },
     "execution_count": 29,
     "metadata": {},
     "output_type": "execute_result"
    }
   ],
   "source": [
    "EE_potential_csq[EE_potential_csq[\"PolyPhen_class\"].notna()][[\"PolyPhen_class\", \"PolyPhen_pred\"]].iloc[:10]"
   ]
  },
  {
   "cell_type": "markdown",
   "metadata": {},
   "source": [
    "## Genotype Data Cleanup"
   ]
  },
  {
   "cell_type": "markdown",
   "metadata": {},
   "source": [
    "#### Load EE_15 with EE_50 and EE_69 separately"
   ]
  },
  {
   "cell_type": "code",
   "execution_count": 30,
   "metadata": {},
   "outputs": [
    {
     "name": "stderr",
     "output_type": "stream",
     "text": [
      "c:\\Users\\barte\\Desktop\\Studies\\V semester\\pathogenicity-assessment\\utils\\utils.py:345: UserWarning: This function is depracated watch out for changes in columns\n",
      "  warn(\"This function is depracated watch out for changes in columns\")\n",
      "c:\\Users\\barte\\Desktop\\Studies\\V semester\\pathogenicity-assessment\\utils\\utils.py:345: UserWarning: This function is depracated watch out for changes in columns\n",
      "  warn(\"This function is depracated watch out for changes in columns\")\n",
      "c:\\Users\\barte\\Desktop\\Studies\\V semester\\pathogenicity-assessment\\utils\\utils.py:345: UserWarning: This function is depracated watch out for changes in columns\n",
      "  warn(\"This function is depracated watch out for changes in columns\")\n"
     ]
    }
   ],
   "source": [
    "EE_genotype_015 = get_sample_data(\"data/EE_015/\", [\"genotype\"])\n",
    "EE_genotype_050 = get_sample_data(\"data/EE_050/\", [\"genotype\"])\n",
    "EE_genotype_069 = get_sample_data(\"data/EE_069/\", [\"genotype\"])"
   ]
  },
  {
   "cell_type": "markdown",
   "metadata": {},
   "source": [
    "#### Remove excess columns from EE_069"
   ]
  },
  {
   "cell_type": "code",
   "execution_count": 31,
   "metadata": {},
   "outputs": [
    {
     "data": {
      "text/plain": [
       "(140174, 46)"
      ]
     },
     "execution_count": 31,
     "metadata": {},
     "output_type": "execute_result"
    }
   ],
   "source": [
    "EE_genotype_069.shape"
   ]
  },
  {
   "cell_type": "code",
   "execution_count": 32,
   "metadata": {},
   "outputs": [
    {
     "data": {
      "text/plain": [
       "{'AC',\n",
       " 'AF',\n",
       " 'AN',\n",
       " 'BaseQRankSum',\n",
       " 'ClippingRankSum',\n",
       " 'ExcessHet',\n",
       " 'FS',\n",
       " 'MLEAC',\n",
       " 'MLEAF',\n",
       " 'MQ',\n",
       " 'MQRankSum',\n",
       " 'QD',\n",
       " 'ReadPosRankSum',\n",
       " 'SOR'}"
      ]
     },
     "execution_count": 32,
     "metadata": {},
     "output_type": "execute_result"
    }
   ],
   "source": [
    "excess_columns = set(EE_genotype_069.columns).difference(set(EE_genotype_050.columns))\n",
    "excess_columns"
   ]
  },
  {
   "cell_type": "code",
   "execution_count": 33,
   "metadata": {},
   "outputs": [
    {
     "data": {
      "text/plain": [
       "(140174, 32)"
      ]
     },
     "execution_count": 33,
     "metadata": {},
     "output_type": "execute_result"
    }
   ],
   "source": [
    "cut_EE_genotype_069 = EE_genotype_069.drop(excess_columns, axis=1)\n",
    "cut_EE_genotype_069.shape"
   ]
  },
  {
   "cell_type": "markdown",
   "metadata": {},
   "source": [
    "#### Delete uninteresting columns from EE_069"
   ]
  },
  {
   "cell_type": "code",
   "execution_count": 34,
   "metadata": {},
   "outputs": [
    {
     "data": {
      "text/plain": [
       "Index(['ACMG_class', 'CGDinheritance', 'ClinVarDisease', 'DANN_score',\n",
       "       'MutationTaster_pred', 'MutationTaster_score', 'SIFT_score',\n",
       "       'coding_impact', 'function', 'gnomadExomes_AF', 'gnomadGenomes_AF'],\n",
       "      dtype='object')"
      ]
     },
     "execution_count": 34,
     "metadata": {},
     "output_type": "execute_result"
    }
   ],
   "source": [
    "drop_columns_acmg =  [c for c in cut_EE_genotype_069.columns if c.startswith(\"ACMG\") and c!=\"ACMG_class\"]\n",
    "drop_columns_gnomad = [c for c in cut_EE_genotype_069 if c.startswith(\"gnom\") and c != \"gnomadExomes_AF\" and c!= \"gnomadGenomes_AF\"]\n",
    "\n",
    "EE_potential_genotype_069 = cut_EE_genotype_069.drop(drop_columns_acmg, axis=1)\n",
    "EE_potential_genotype_069.drop(drop_columns_gnomad, axis=1, inplace=True)\n",
    "EE_potential_genotype_069.drop(\"DP\", axis=1, inplace=True)\n",
    "EE_potential_genotype_069.drop(\"Gene\", axis=1, inplace=True)\n",
    "EE_potential_genotype_069.drop(\"hgvs\", axis=1, inplace=True)\n",
    "EE_potential_genotype_069.drop(\"ClinVarClass\", axis=1, inplace=True)\n",
    "EE_potential_genotype_069.columns"
   ]
  },
  {
   "cell_type": "markdown",
   "metadata": {},
   "source": [
    "#### Delete potentially interesting columns from EE_069"
   ]
  },
  {
   "cell_type": "code",
   "execution_count": 35,
   "metadata": {},
   "outputs": [
    {
     "data": {
      "text/plain": [
       "Index(['ACMG_class', 'CGDinheritance', 'coding_impact', 'function',\n",
       "       'gnomadExomes_AF', 'gnomadGenomes_AF'],\n",
       "      dtype='object')"
      ]
     },
     "execution_count": 35,
     "metadata": {},
     "output_type": "execute_result"
    }
   ],
   "source": [
    "potential_drop_columns = [\"ClinVarDisease\", \"DANN_score\", \"MutationTaster_pred\", \"MutationTaster_score\", \"SIFT_score\"]\n",
    "potential_drop_columns = [c for c in potential_drop_columns if c in EE_potential_genotype_069.columns]\n",
    "\n",
    "EE_important_genotype_069 = EE_potential_genotype_069.drop(potential_drop_columns, axis=1)\n",
    "EE_important_genotype_069.columns"
   ]
  },
  {
   "cell_type": "markdown",
   "metadata": {},
   "source": [
    "#### Combine EE_015 and EE_050"
   ]
  },
  {
   "cell_type": "code",
   "execution_count": 36,
   "metadata": {},
   "outputs": [],
   "source": [
    "EE_genotype_015_050 = pd.concat([EE_genotype_015, EE_genotype_050], ignore_index=True, axis=0)"
   ]
  },
  {
   "cell_type": "markdown",
   "metadata": {},
   "source": [
    "#### Delete uninteresting columns from EE_050 and EE_015"
   ]
  },
  {
   "cell_type": "code",
   "execution_count": 37,
   "metadata": {},
   "outputs": [
    {
     "data": {
      "text/plain": [
       "Index(['ACMG_class', 'CGDinheritance', 'ClinVarDisease', 'DANN_score', 'ECNT',\n",
       "       'GERMQ', 'MBQ', 'MFRL', 'MPOS', 'MutationTaster_pred',\n",
       "       'MutationTaster_score', 'POPAF', 'RPA', 'RU', 'SIFT_score', 'STR',\n",
       "       'STRQ', 'TLOD', 'coding_impact', 'cosmicFathMMPrediction',\n",
       "       'cosmicFathMMScore', 'function', 'gnomadExomes_AF', 'gnomadGenomes_AF'],\n",
       "      dtype='object')"
      ]
     },
     "execution_count": 37,
     "metadata": {},
     "output_type": "execute_result"
    }
   ],
   "source": [
    "drop_columns_acmg_amp =  [c for c in EE_genotype_015_050.columns if (c.startswith(\"ACMG\") or c.startswith(\"AMP\")) and c!=\"ACMG_class\"]\n",
    "drop_columns_gnomad = [c for c in EE_genotype_015_050 if c.startswith(\"gnom\") and c != \"gnomadExomes_AF\" and c!= \"gnomadGenomes_AF\"]\n",
    "\n",
    "EE_potential_genotype_015_050 = EE_genotype_015_050.drop(drop_columns_acmg_amp, axis=1)\n",
    "EE_potential_genotype_015_050.drop(drop_columns_gnomad, axis=1, inplace=True)\n",
    "EE_potential_genotype_015_050.drop(\"DP\", axis=1, inplace=True)\n",
    "EE_potential_genotype_015_050.drop(\"MMQ\", axis=1, inplace=True)\n",
    "EE_potential_genotype_015_050.drop(\"AS_SB_TABLE\", axis=1, inplace=True)\n",
    "EE_potential_genotype_015_050.drop(\"AS_FilterStatus\", axis=1, inplace=True)\n",
    "EE_potential_genotype_015_050.drop(\"Gene\", axis=1, inplace=True)\n",
    "EE_potential_genotype_015_050.drop(\"hgvs\", axis=1, inplace=True)\n",
    "EE_potential_genotype_015_050.drop(\"ClinVarClass\", axis=1, inplace=True)\n",
    "EE_potential_genotype_015_050.columns"
   ]
  },
  {
   "cell_type": "markdown",
   "metadata": {},
   "source": [
    "#### Delete potentially interesting columns from EE_050 and EE_015"
   ]
  },
  {
   "cell_type": "code",
   "execution_count": 38,
   "metadata": {},
   "outputs": [
    {
     "data": {
      "text/plain": [
       "Index(['ACMG_class', 'CGDinheritance', 'ECNT', 'GERMQ', 'MBQ', 'MFRL', 'MPOS',\n",
       "       'MutationTaster_pred', 'MutationTaster_score', 'POPAF', 'RPA', 'RU',\n",
       "       'STR', 'STRQ', 'TLOD', 'coding_impact', 'cosmicFathMMPrediction',\n",
       "       'cosmicFathMMScore', 'function', 'gnomadExomes_AF', 'gnomadGenomes_AF'],\n",
       "      dtype='object')"
      ]
     },
     "execution_count": 38,
     "metadata": {},
     "output_type": "execute_result"
    }
   ],
   "source": [
    "potential_drop_columns = [\"ClinVarDisease\", \"DANN_score\",  \"SIFT_score\"]\n",
    "potential_drop_columns = [c for c in potential_drop_columns if c in EE_potential_genotype_015_050.columns]\n",
    "\n",
    "EE_important_genotype_015_050 = EE_potential_genotype_015_050.drop(potential_drop_columns, axis=1)\n",
    "EE_important_genotype_015_050.columns"
   ]
  },
  {
   "cell_type": "markdown",
   "metadata": {},
   "source": [
    "#### Propose two combinations of EE_015 EE_050 with EE_069"
   ]
  },
  {
   "cell_type": "code",
   "execution_count": 39,
   "metadata": {},
   "outputs": [],
   "source": [
    "# Concatenate with all columns from EE_015 EE_050\n",
    "EE_potential_genotype_all = pd.concat([EE_potential_genotype_015_050, EE_potential_genotype_069], ignore_index=True, axis=0)\n",
    "EE_important_genotype_all = pd.concat([EE_important_genotype_015_050, EE_important_genotype_069], ignore_index=True, axis=0)\n",
    "\n",
    "# Concatenate with only common columns\n",
    "different_potential_columns = set(EE_potential_genotype_015_050.columns).difference(set(EE_potential_genotype_069.columns))\n",
    "EE_important_genotype_common = pd.concat([EE_potential_genotype_015_050.drop(different_potential_columns, axis=1), EE_potential_genotype_069], ignore_index=True, axis=0)\n",
    "\n",
    "different_important_columns = set(EE_important_genotype_015_050.columns).difference(set(EE_important_genotype_069.columns))\n",
    "EE_important_genotype_common = pd.concat([EE_important_genotype_015_050.drop(different_potential_columns, axis=1), EE_important_genotype_069], ignore_index=True, axis=0)"
   ]
  },
  {
   "cell_type": "code",
   "execution_count": 40,
   "metadata": {},
   "outputs": [
    {
     "data": {
      "text/plain": [
       "Index(['ACMG_class', 'CGDinheritance', 'ClinVarDisease', 'DANN_score', 'ECNT',\n",
       "       'GERMQ', 'MBQ', 'MFRL', 'MPOS', 'MutationTaster_pred',\n",
       "       'MutationTaster_score', 'POPAF', 'RPA', 'RU', 'SIFT_score', 'STR',\n",
       "       'STRQ', 'TLOD', 'coding_impact', 'cosmicFathMMPrediction',\n",
       "       'cosmicFathMMScore', 'function', 'gnomadExomes_AF', 'gnomadGenomes_AF'],\n",
       "      dtype='object')"
      ]
     },
     "execution_count": 40,
     "metadata": {},
     "output_type": "execute_result"
    }
   ],
   "source": [
    "EE_potential_genotype_all.columns"
   ]
  },
  {
   "cell_type": "markdown",
   "metadata": {},
   "source": [
    "#### Separate array values"
   ]
  },
  {
   "cell_type": "code",
   "execution_count": 41,
   "metadata": {},
   "outputs": [],
   "source": [
    "object_columns = set(EE_potential_genotype_all.select_dtypes(object).columns)\n",
    "object_columns = list(object_columns)\n",
    "# object_columns\n",
    "\n",
    "array_columns = [c for c in object_columns if c!=\"RU\" and c !=\"cosmicFathMMPrediction\" and c!=\"ACMG_class\"]"
   ]
  },
  {
   "cell_type": "code",
   "execution_count": 42,
   "metadata": {},
   "outputs": [
    {
     "name": "stdout",
     "output_type": "stream",
     "text": [
      "MutationTaster_pred\n",
      "Num uniq: 107\n",
      "Argmax: 170703\n",
      "N%3BN%3BN%3BN%3BN%3BN%3BN%3BN%3BN%3BN%3BN%3BN%3BN%3BN%3BN%3BN%3BN%3BN%3BN%3BN%3BN%3BN%3BN%3BN%3BN%3BN\n",
      "['0' 'P' 'P%3BP%3BP' 'P%3BP' 'P%3BP%3BP%3BP%3BP'\n",
      " 'D%3BD%3BD%3BD%3BD%3BD%3BD' 'N%3BN%3BN%3BN%3BN%3BN%3BN'\n",
      " 'P%3BP%3BP%3BP%3BP%3BP%3BP%3BP' 'P%3BP%3BP%3BP' 'D%3BD%3BD%3BD']\n",
      "\n",
      "coding_impact\n",
      "Num uniq: 33\n",
      "Argmax: 30133\n",
      "in%40frame,splice%40junction%40loss,start%40loss\n",
      "['0' 'missense' 'synonymous' 'synonymous,missense' 'in%40frame'\n",
      " 'missense,synonymous' 'splice%40junction%40loss,in%40frame' 'frameshift'\n",
      " 'missense,start%40loss' 'nonsense']\n",
      "\n",
      "MutationTaster_score\n",
      "Num uniq: 6942\n",
      "Argmax: 28402\n",
      "0.999834%3B0.999834%3B0.999683%3B0.999683%3B0.999921%3B0.999921%3B0.999921%3B0.999921%3B0.999921%3B0.999921%3B0.999921%3B0.999921%3B0.999683%3B0.999921%3B0.999921%3B0.999921%3B1.15852e-18%3B1.15852e-18%3B1.15852e-18%3B1.15852e-18%3B1.15852e-18%3B1.15852e-18%3B1.15852e-18%3B1.15852e-18\n",
      "['0' '0.999749' '1' '1%3B1%3B1' '1%3B1' '1%3B1%3B1%3B1%3B1'\n",
      " '1%3B0.999997%3B0.999997' '0.00137157%3B0.00137157'\n",
      " '5.97877e-19%3B5.97877e-19'\n",
      " '0.963437%3B0.963437%3B0.963437%3B0.963437%3B0.963437%3B0.963437%3B0.989972']\n",
      "\n",
      "SIFT_score\n",
      "Num uniq: 7860\n",
      "Argmax: 170703\n",
      "0.586%3B0.344%3B.%3B0.628%3B0.393%3B0.655%3B0.586%3B0.586%3B0.586%3B0.393%3B0.586%3B0.381%3B0.586%3B0.6%3B0.586%3B0.586%3B0.6%3B0.344%3B0.597%3B0.586%3B0.393%3B0.455%3B0.344%3B0.586%3B0.6%3B0.327%3B0.597%3B0.678\n",
      "['0' '1.0' '0.224%3B0.245%3B0.217%3B.' '0.024%3B.' '1.0%3B.' '0.236%3B.'\n",
      " '0.018%3B0.018' '0.413%3B0.397%3B0.397%3B0.399'\n",
      " '0.094%3B0.094%3B0.095%3B0.097%3B0.1%3B0.096%3B0.188'\n",
      " '0.109%3B0.109%3B0.154%3B0.102']\n",
      "\n",
      "function\n",
      "Num uniq: 1932\n",
      "Argmax: 313897\n",
      "3'utr,intronic,coding,splicing,splicing-ACMG,5'flank,3'flank,non-coding%40exon\n",
      "['non-coding%40exon' 'non-coding%40exon,intronic'\n",
      " \"5'flank,non-coding%40exon\" 'intronic' \"non-coding%40exon,3'flank\"\n",
      " \"3'flank,non-coding%40exon\" \"5'flank,non-coding%40exon,intronic\"\n",
      " \"non-coding%40exon,5'flank,intronic\" \"intronic,5'flank\"\n",
      " 'intronic,non-coding%40exon']\n",
      "\n",
      "CGDinheritance\n",
      "Num uniq: 46\n",
      "Argmax: 67078\n",
      "AD/Digenic%40(Severe%40digenic%40insulin%40resistance%40can%40be%40due%40to%40digenic%40variants%40in%40PPP1R3A%40and%40PPARG)\n",
      "['0' 'AR' 'AD' 'AD/AR' 'AR%40' 'AR|AD' 'AR/Digenic' 'BG' 'AD/Digenic'\n",
      " 'AD/AR%40']\n",
      "\n"
     ]
    }
   ],
   "source": [
    "for col in array_columns:\n",
    "    print(col)\n",
    "    print(\"Num uniq:\", len(EE_potential_genotype_all[col].unique()))\n",
    "    max_len = np.argmax(list(map(len, map(str, EE_potential_genotype_all[col]))))\n",
    "    print(\"Argmax:\",max_len)\n",
    "    print(EE_potential_genotype_all[col][max_len])\n",
    "    print(EE_potential_genotype_all[col].unique()[:10])\n",
    "    print()"
   ]
  },
  {
   "cell_type": "code",
   "execution_count": 43,
   "metadata": {},
   "outputs": [
    {
     "data": {
      "text/plain": [
       "{'0', 'A', 'D', 'N', 'P'}"
      ]
     },
     "execution_count": 43,
     "metadata": {},
     "output_type": "execute_result"
    }
   ],
   "source": [
    "# MutationTaster_pred and MutationTaster_score split select in order {A, D, P, N}>0.5 and with highest confidence otherwise highest confidence\n",
    "\n",
    "mutation_tester_pred_unique = set([])\n",
    "for c in EE_potential_genotype_all[\"MutationTaster_pred\"].unique():\n",
    "    if not isinstance(c, float):        \n",
    "        for _c in c.split(\"%3B\"):\n",
    "            mutation_tester_pred_unique.add(_c)\n",
    "    else:\n",
    "        mutation_tester_pred_unique.add(c)\n",
    "\n",
    "mutation_tester_pred_unique"
   ]
  },
  {
   "cell_type": "code",
   "execution_count": 44,
   "metadata": {},
   "outputs": [
    {
     "data": {
      "text/html": [
       "<div>\n",
       "<style scoped>\n",
       "    .dataframe tbody tr th:only-of-type {\n",
       "        vertical-align: middle;\n",
       "    }\n",
       "\n",
       "    .dataframe tbody tr th {\n",
       "        vertical-align: top;\n",
       "    }\n",
       "\n",
       "    .dataframe thead th {\n",
       "        text-align: right;\n",
       "    }\n",
       "</style>\n",
       "<table border=\"1\" class=\"dataframe\">\n",
       "  <thead>\n",
       "    <tr style=\"text-align: right;\">\n",
       "      <th></th>\n",
       "      <th>MutationTaster_pred</th>\n",
       "      <th>MutationTaster_score</th>\n",
       "    </tr>\n",
       "  </thead>\n",
       "  <tbody>\n",
       "    <tr>\n",
       "      <th>1020</th>\n",
       "      <td>0</td>\n",
       "      <td>0</td>\n",
       "    </tr>\n",
       "    <tr>\n",
       "      <th>1021</th>\n",
       "      <td>0</td>\n",
       "      <td>0</td>\n",
       "    </tr>\n",
       "    <tr>\n",
       "      <th>1022</th>\n",
       "      <td>0</td>\n",
       "      <td>0</td>\n",
       "    </tr>\n",
       "    <tr>\n",
       "      <th>1023</th>\n",
       "      <td>0</td>\n",
       "      <td>0</td>\n",
       "    </tr>\n",
       "    <tr>\n",
       "      <th>1024</th>\n",
       "      <td>P%3BP</td>\n",
       "      <td>1%3B1</td>\n",
       "    </tr>\n",
       "    <tr>\n",
       "      <th>1025</th>\n",
       "      <td>P%3BP</td>\n",
       "      <td>1%3B1</td>\n",
       "    </tr>\n",
       "    <tr>\n",
       "      <th>1026</th>\n",
       "      <td>0</td>\n",
       "      <td>0</td>\n",
       "    </tr>\n",
       "    <tr>\n",
       "      <th>1027</th>\n",
       "      <td>0</td>\n",
       "      <td>0</td>\n",
       "    </tr>\n",
       "    <tr>\n",
       "      <th>1028</th>\n",
       "      <td>0</td>\n",
       "      <td>0</td>\n",
       "    </tr>\n",
       "    <tr>\n",
       "      <th>1029</th>\n",
       "      <td>0</td>\n",
       "      <td>0</td>\n",
       "    </tr>\n",
       "  </tbody>\n",
       "</table>\n",
       "</div>"
      ],
      "text/plain": [
       "     MutationTaster_pred MutationTaster_score\n",
       "1020                   0                    0\n",
       "1021                   0                    0\n",
       "1022                   0                    0\n",
       "1023                   0                    0\n",
       "1024               P%3BP                1%3B1\n",
       "1025               P%3BP                1%3B1\n",
       "1026                   0                    0\n",
       "1027                   0                    0\n",
       "1028                   0                    0\n",
       "1029                   0                    0"
      ]
     },
     "execution_count": 44,
     "metadata": {},
     "output_type": "execute_result"
    }
   ],
   "source": [
    "EE_potential_genotype_all[[\"MutationTaster_pred\", \"MutationTaster_score\"]].iloc[1020:1030]"
   ]
  },
  {
   "cell_type": "code",
   "execution_count": 45,
   "metadata": {},
   "outputs": [],
   "source": [
    "def extract_MutationTaster_values(row):\n",
    "    if row['MutationTaster_pred'] == '0':\n",
    "        return pd.Series([np.nan, np.nan], index=[\"MutationTaster_selected_pred\", \"MutationTaster_selected_score\"])\n",
    "\n",
    "    symbols = ['A', 'D', 'P', 'N']\n",
    "    pred_symbols = row['MutationTaster_pred'].split('%3B')\n",
    "    score_values = [float(x) for x in row['MutationTaster_score'].split('%3B')]\n",
    "\n",
    "    top_score = -1\n",
    "    top_symbol = None\n",
    "\n",
    "    # Check for symbols A, D, P, N with score above 0.5 and select the one with the highest score\n",
    "    for symbol in symbols:\n",
    "        if symbol in pred_symbols:\n",
    "            index_symbol = pred_symbols.index(symbol)\n",
    "            selected_symbol = symbol\n",
    "            selected_score = score_values[index_symbol]\n",
    "            \n",
    "            if selected_score >= 0.5:\n",
    "                return pd.Series([selected_symbol, selected_score], index=[\"MutationTaster_selected_pred\", \"MutationTaster_selected_score\"])\n",
    "            \n",
    "            elif selected_score > top_score:\n",
    "                top_score = selected_score\n",
    "                top_symbol = selected_symbol\n",
    "\n",
    "    return pd.Series([top_symbol, top_score], index=[\"MutationTaster_selected_pred\", \"MutationTaster_selected_score\"])\n",
    "    \n",
    "\n",
    "# Apply the function row-wise to create new columns\n",
    "EE_potential_genotype_all[[\"MutationTaster_selected_pred\", \"MutationTaster_selected_score\"]] = EE_potential_genotype_all.apply(extract_MutationTaster_values, axis=1)"
   ]
  },
  {
   "cell_type": "code",
   "execution_count": 46,
   "metadata": {},
   "outputs": [
    {
     "data": {
      "text/html": [
       "<div>\n",
       "<style scoped>\n",
       "    .dataframe tbody tr th:only-of-type {\n",
       "        vertical-align: middle;\n",
       "    }\n",
       "\n",
       "    .dataframe tbody tr th {\n",
       "        vertical-align: top;\n",
       "    }\n",
       "\n",
       "    .dataframe thead th {\n",
       "        text-align: right;\n",
       "    }\n",
       "</style>\n",
       "<table border=\"1\" class=\"dataframe\">\n",
       "  <thead>\n",
       "    <tr style=\"text-align: right;\">\n",
       "      <th></th>\n",
       "      <th>function_0</th>\n",
       "      <th>function_NMD</th>\n",
       "      <th>function_3'utr</th>\n",
       "      <th>function_5'utr</th>\n",
       "      <th>function_3'flank</th>\n",
       "      <th>function_5'flank</th>\n",
       "      <th>function_coding</th>\n",
       "      <th>function_non-coding%40exon</th>\n",
       "      <th>function_intronic</th>\n",
       "      <th>function_splicing</th>\n",
       "      <th>function_splicing-ACMG</th>\n",
       "    </tr>\n",
       "  </thead>\n",
       "  <tbody>\n",
       "    <tr>\n",
       "      <th>0</th>\n",
       "      <td>1</td>\n",
       "      <td>0</td>\n",
       "      <td>0</td>\n",
       "      <td>0</td>\n",
       "      <td>0</td>\n",
       "      <td>0</td>\n",
       "      <td>1</td>\n",
       "      <td>1</td>\n",
       "      <td>0</td>\n",
       "      <td>0</td>\n",
       "      <td>0</td>\n",
       "    </tr>\n",
       "    <tr>\n",
       "      <th>1</th>\n",
       "      <td>1</td>\n",
       "      <td>0</td>\n",
       "      <td>0</td>\n",
       "      <td>0</td>\n",
       "      <td>0</td>\n",
       "      <td>0</td>\n",
       "      <td>1</td>\n",
       "      <td>1</td>\n",
       "      <td>1</td>\n",
       "      <td>0</td>\n",
       "      <td>0</td>\n",
       "    </tr>\n",
       "    <tr>\n",
       "      <th>2</th>\n",
       "      <td>1</td>\n",
       "      <td>0</td>\n",
       "      <td>0</td>\n",
       "      <td>0</td>\n",
       "      <td>0</td>\n",
       "      <td>1</td>\n",
       "      <td>1</td>\n",
       "      <td>1</td>\n",
       "      <td>0</td>\n",
       "      <td>0</td>\n",
       "      <td>0</td>\n",
       "    </tr>\n",
       "    <tr>\n",
       "      <th>3</th>\n",
       "      <td>1</td>\n",
       "      <td>0</td>\n",
       "      <td>0</td>\n",
       "      <td>0</td>\n",
       "      <td>0</td>\n",
       "      <td>0</td>\n",
       "      <td>1</td>\n",
       "      <td>1</td>\n",
       "      <td>1</td>\n",
       "      <td>0</td>\n",
       "      <td>0</td>\n",
       "    </tr>\n",
       "    <tr>\n",
       "      <th>4</th>\n",
       "      <td>0</td>\n",
       "      <td>0</td>\n",
       "      <td>0</td>\n",
       "      <td>0</td>\n",
       "      <td>0</td>\n",
       "      <td>0</td>\n",
       "      <td>0</td>\n",
       "      <td>0</td>\n",
       "      <td>1</td>\n",
       "      <td>0</td>\n",
       "      <td>0</td>\n",
       "    </tr>\n",
       "  </tbody>\n",
       "</table>\n",
       "</div>"
      ],
      "text/plain": [
       "   function_0  function_NMD  function_3'utr  function_5'utr  function_3'flank  \\\n",
       "0           1             0               0               0                 0   \n",
       "1           1             0               0               0                 0   \n",
       "2           1             0               0               0                 0   \n",
       "3           1             0               0               0                 0   \n",
       "4           0             0               0               0                 0   \n",
       "\n",
       "   function_5'flank  function_coding  function_non-coding%40exon  \\\n",
       "0                 0                1                           1   \n",
       "1                 0                1                           1   \n",
       "2                 1                1                           1   \n",
       "3                 0                1                           1   \n",
       "4                 0                0                           0   \n",
       "\n",
       "   function_intronic  function_splicing  function_splicing-ACMG  \n",
       "0                  0                  0                       0  \n",
       "1                  1                  0                       0  \n",
       "2                  0                  0                       0  \n",
       "3                  1                  0                       0  \n",
       "4                  1                  0                       0  "
      ]
     },
     "execution_count": 46,
     "metadata": {},
     "output_type": "execute_result"
    }
   ],
   "source": [
    "# function split\n",
    "functions = [\"0\", \"NMD\", \"3'utr\", \"5'utr\", \"3'flank\", \"5'flank\", \"coding\", \"non-coding%40exon\", \"intronic\", \"splicing\", \"splicing-ACMG\"]\n",
    "function_cols = [\"function_\" + c for c in functions]\n",
    "\n",
    "for function, col in zip(functions, function_cols):\n",
    "    EE_potential_genotype_all[col] = EE_potential_genotype_all[\"function\"].apply(lambda x: 1 if function in str(x) else 0)\n",
    "\n",
    "EE_potential_genotype_all.drop(\"function\", axis=1, inplace=True)\n",
    "EE_potential_genotype_all[function_cols].head(5)"
   ]
  },
  {
   "cell_type": "code",
   "execution_count": 47,
   "metadata": {},
   "outputs": [
    {
     "data": {
      "text/plain": [
       "array([0, 1], dtype=int64)"
      ]
     },
     "execution_count": 47,
     "metadata": {},
     "output_type": "execute_result"
    }
   ],
   "source": [
    "# CGDinheritance split - does a value exist - All rows contain a value - if '0' then 0 else 1\n",
    "\n",
    "# cgd_inheritance_unique = set([])\n",
    "# for c in EE_potential_genotype_all[\"CGDinheritance\"].unique():\n",
    "#     if not isinstance(c, float):        \n",
    "#         # for _c in c.split(\"|\"):\n",
    "#         clean_elem = c.split(\"%40\")[0]\n",
    "#         for _c in clean_elem.split(\"/\"):\n",
    "#             for __c in _c.split(\"|\"):\n",
    "#                 cgd_inheritance_unique.add(__c)\n",
    "\n",
    "#     else:\n",
    "#         cgd_inheritance_unique.add(c)\n",
    "\n",
    "# cgd_inheritance_cols = [\"CGDinheritance_\" + c for c in cgd_inheritance_unique]\n",
    "\n",
    "EE_potential_genotype_all[\"CGDinheritance_exist\"] = EE_potential_genotype_all[\"CGDinheritance\"].apply(lambda x: 1 if x!='0' else 0)\n",
    "EE_potential_genotype_all.drop(\"CGDinheritance\", axis=1, inplace=True)\n",
    "EE_potential_genotype_all[\"CGDinheritance_exist\"].unique()"
   ]
  },
  {
   "cell_type": "code",
   "execution_count": 48,
   "metadata": {},
   "outputs": [
    {
     "data": {
      "text/html": [
       "<div>\n",
       "<style scoped>\n",
       "    .dataframe tbody tr th:only-of-type {\n",
       "        vertical-align: middle;\n",
       "    }\n",
       "\n",
       "    .dataframe tbody tr th {\n",
       "        vertical-align: top;\n",
       "    }\n",
       "\n",
       "    .dataframe thead th {\n",
       "        text-align: right;\n",
       "    }\n",
       "</style>\n",
       "<table border=\"1\" class=\"dataframe\">\n",
       "  <thead>\n",
       "    <tr style=\"text-align: right;\">\n",
       "      <th></th>\n",
       "      <th>coding_impact_missense</th>\n",
       "      <th>coding_impact_splice%40junction%40loss</th>\n",
       "      <th>coding_impact_synonymous</th>\n",
       "      <th>coding_impact_0</th>\n",
       "      <th>coding_impact_in%40frame</th>\n",
       "      <th>coding_impact_stopLoss</th>\n",
       "      <th>coding_impact_non%40coding</th>\n",
       "      <th>coding_impact_nonsense</th>\n",
       "      <th>coding_impact_frameshift</th>\n",
       "      <th>coding_impact_start%40loss</th>\n",
       "    </tr>\n",
       "  </thead>\n",
       "  <tbody>\n",
       "    <tr>\n",
       "      <th>0</th>\n",
       "      <td>0</td>\n",
       "      <td>0</td>\n",
       "      <td>0</td>\n",
       "      <td>1</td>\n",
       "      <td>0</td>\n",
       "      <td>0</td>\n",
       "      <td>0</td>\n",
       "      <td>0</td>\n",
       "      <td>0</td>\n",
       "      <td>0</td>\n",
       "    </tr>\n",
       "    <tr>\n",
       "      <th>1</th>\n",
       "      <td>0</td>\n",
       "      <td>0</td>\n",
       "      <td>0</td>\n",
       "      <td>1</td>\n",
       "      <td>0</td>\n",
       "      <td>0</td>\n",
       "      <td>0</td>\n",
       "      <td>0</td>\n",
       "      <td>0</td>\n",
       "      <td>0</td>\n",
       "    </tr>\n",
       "    <tr>\n",
       "      <th>2</th>\n",
       "      <td>0</td>\n",
       "      <td>0</td>\n",
       "      <td>0</td>\n",
       "      <td>1</td>\n",
       "      <td>0</td>\n",
       "      <td>0</td>\n",
       "      <td>0</td>\n",
       "      <td>0</td>\n",
       "      <td>0</td>\n",
       "      <td>0</td>\n",
       "    </tr>\n",
       "    <tr>\n",
       "      <th>3</th>\n",
       "      <td>0</td>\n",
       "      <td>0</td>\n",
       "      <td>0</td>\n",
       "      <td>1</td>\n",
       "      <td>0</td>\n",
       "      <td>0</td>\n",
       "      <td>0</td>\n",
       "      <td>0</td>\n",
       "      <td>0</td>\n",
       "      <td>0</td>\n",
       "    </tr>\n",
       "    <tr>\n",
       "      <th>4</th>\n",
       "      <td>0</td>\n",
       "      <td>0</td>\n",
       "      <td>0</td>\n",
       "      <td>1</td>\n",
       "      <td>0</td>\n",
       "      <td>0</td>\n",
       "      <td>0</td>\n",
       "      <td>0</td>\n",
       "      <td>0</td>\n",
       "      <td>0</td>\n",
       "    </tr>\n",
       "  </tbody>\n",
       "</table>\n",
       "</div>"
      ],
      "text/plain": [
       "   coding_impact_missense  coding_impact_splice%40junction%40loss  \\\n",
       "0                       0                                       0   \n",
       "1                       0                                       0   \n",
       "2                       0                                       0   \n",
       "3                       0                                       0   \n",
       "4                       0                                       0   \n",
       "\n",
       "   coding_impact_synonymous  coding_impact_0  coding_impact_in%40frame  \\\n",
       "0                         0                1                         0   \n",
       "1                         0                1                         0   \n",
       "2                         0                1                         0   \n",
       "3                         0                1                         0   \n",
       "4                         0                1                         0   \n",
       "\n",
       "   coding_impact_stopLoss  coding_impact_non%40coding  coding_impact_nonsense  \\\n",
       "0                       0                           0                       0   \n",
       "1                       0                           0                       0   \n",
       "2                       0                           0                       0   \n",
       "3                       0                           0                       0   \n",
       "4                       0                           0                       0   \n",
       "\n",
       "   coding_impact_frameshift  coding_impact_start%40loss  \n",
       "0                         0                           0  \n",
       "1                         0                           0  \n",
       "2                         0                           0  \n",
       "3                         0                           0  \n",
       "4                         0                           0  "
      ]
     },
     "execution_count": 48,
     "metadata": {},
     "output_type": "execute_result"
    }
   ],
   "source": [
    "# coding_impact split\n",
    "\n",
    "coding_impact_unique = set([])\n",
    "for c in EE_potential_genotype_all[\"coding_impact\"].unique():\n",
    "    if not isinstance(c, float):        \n",
    "        for _c in c.split(\",\"):\n",
    "            coding_impact_unique.add(_c)\n",
    "    else:\n",
    "        coding_impact_unique.add(c)\n",
    "\n",
    "# coding_impact_unique\n",
    "\n",
    "coding_impact_cols = [\"coding_impact_\" + c for c in coding_impact_unique]\n",
    "\n",
    "for element, col in zip(coding_impact_unique, coding_impact_cols):\n",
    "    EE_potential_genotype_all[col] = EE_potential_genotype_all[\"coding_impact\"].apply(lambda x: 1 if element in str(x) else 0)\n",
    "\n",
    "EE_potential_genotype_all.drop(\"coding_impact\", axis=1, inplace=True)\n",
    "EE_potential_genotype_all[coding_impact_cols].head(5)   "
   ]
  }
 ],
 "metadata": {
  "kernelspec": {
   "display_name": "pathogen",
   "language": "python",
   "name": "python3"
  },
  "language_info": {
   "codemirror_mode": {
    "name": "ipython",
    "version": 3
   },
   "file_extension": ".py",
   "mimetype": "text/x-python",
   "name": "python",
   "nbconvert_exporter": "python",
   "pygments_lexer": "ipython3",
   "version": "3.11.6"
  }
 },
 "nbformat": 4,
 "nbformat_minor": 2
}

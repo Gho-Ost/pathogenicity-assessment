{
 "cells": [
  {
   "cell_type": "markdown",
   "metadata": {},
   "source": [
    "##### TODO:\n",
    "- Separate array values\n",
    "- Add functionality to the utils module"
   ]
  },
  {
   "cell_type": "code",
   "execution_count": 1,
   "metadata": {},
   "outputs": [],
   "source": [
    "import numpy as np\n",
    "import pandas as pd\n",
    "\n",
    "from utils.utils import get_data"
   ]
  },
  {
   "cell_type": "markdown",
   "metadata": {},
   "source": [
    "## Default Data Cleanup"
   ]
  },
  {
   "cell_type": "markdown",
   "metadata": {},
   "source": [
    "#### Load a single dataframe"
   ]
  },
  {
   "cell_type": "code",
   "execution_count": 2,
   "metadata": {},
   "outputs": [],
   "source": [
    "EE_default_015 = get_data(\"data/EE_015/\", [\"default\"])\n",
    "EE_default_050 = get_data(\"data/EE_050/\", [\"default\"])\n",
    "EE_default_069 = get_data(\"data/EE_069/\", [\"default\"])\n",
    "EE_default = pd.concat([EE_default_015, EE_default_050, EE_default_069], ignore_index=True, axis=0)"
   ]
  },
  {
   "cell_type": "markdown",
   "metadata": {},
   "source": [
    "#### Drop ID"
   ]
  },
  {
   "cell_type": "code",
   "execution_count": 3,
   "metadata": {},
   "outputs": [],
   "source": [
    "EE_default.drop(\"ID\", axis=1, inplace=True)"
   ]
  },
  {
   "cell_type": "markdown",
   "metadata": {},
   "source": [
    "#### Split FILTER into separate columns (omit PASS and FAIL)\n",
    "\n",
    "https://docs.varsome.com/en/variant-calling-and-quality-filters"
   ]
  },
  {
   "cell_type": "code",
   "execution_count": 4,
   "metadata": {},
   "outputs": [
    {
     "data": {
      "text/plain": [
       "['multiallelic',\n",
       " 'germline',\n",
       " 'fragment',\n",
       " 'base_qual',\n",
       " 'weak_evidence',\n",
       " 'map_qual',\n",
       " 'strand_bias',\n",
       " 'slippage',\n",
       " 'haplotype',\n",
       " 'clustered_events']"
      ]
     },
     "execution_count": 4,
     "metadata": {},
     "output_type": "execute_result"
    }
   ],
   "source": [
    "unique_filters = set(';'.join(EE_default['FILTER']).split(';'))\n",
    "unique_filters = [f for f in unique_filters if f != \"PASS\" and f != \"FAIL\"]\n",
    "unique_filters"
   ]
  },
  {
   "cell_type": "markdown",
   "metadata": {},
   "source": [
    "#### Create new columns names"
   ]
  },
  {
   "cell_type": "code",
   "execution_count": 5,
   "metadata": {},
   "outputs": [
    {
     "data": {
      "text/plain": [
       "['FILTER_multiallelic',\n",
       " 'FILTER_germline',\n",
       " 'FILTER_fragment',\n",
       " 'FILTER_base_qual',\n",
       " 'FILTER_weak_evidence',\n",
       " 'FILTER_map_qual',\n",
       " 'FILTER_strand_bias',\n",
       " 'FILTER_slippage',\n",
       " 'FILTER_haplotype',\n",
       " 'FILTER_clustered_events']"
      ]
     },
     "execution_count": 5,
     "metadata": {},
     "output_type": "execute_result"
    }
   ],
   "source": [
    "filter_cols = [\"FILTER_\" + f for f in unique_filters]\n",
    "filter_cols"
   ]
  },
  {
   "cell_type": "code",
   "execution_count": 6,
   "metadata": {},
   "outputs": [
    {
     "data": {
      "text/html": [
       "<div>\n",
       "<style scoped>\n",
       "    .dataframe tbody tr th:only-of-type {\n",
       "        vertical-align: middle;\n",
       "    }\n",
       "\n",
       "    .dataframe tbody tr th {\n",
       "        vertical-align: top;\n",
       "    }\n",
       "\n",
       "    .dataframe thead th {\n",
       "        text-align: right;\n",
       "    }\n",
       "</style>\n",
       "<table border=\"1\" class=\"dataframe\">\n",
       "  <thead>\n",
       "    <tr style=\"text-align: right;\">\n",
       "      <th></th>\n",
       "      <th>#CHROM</th>\n",
       "      <th>POS</th>\n",
       "      <th>REF</th>\n",
       "      <th>ALT</th>\n",
       "      <th>QUAL</th>\n",
       "      <th>FILTER_multiallelic</th>\n",
       "      <th>FILTER_germline</th>\n",
       "      <th>FILTER_fragment</th>\n",
       "      <th>FILTER_base_qual</th>\n",
       "      <th>FILTER_weak_evidence</th>\n",
       "      <th>FILTER_map_qual</th>\n",
       "      <th>FILTER_strand_bias</th>\n",
       "      <th>FILTER_slippage</th>\n",
       "      <th>FILTER_haplotype</th>\n",
       "      <th>FILTER_clustered_events</th>\n",
       "    </tr>\n",
       "  </thead>\n",
       "  <tbody>\n",
       "    <tr>\n",
       "      <th>0</th>\n",
       "      <td>chr1</td>\n",
       "      <td>15820</td>\n",
       "      <td>G</td>\n",
       "      <td>T</td>\n",
       "      <td>.</td>\n",
       "      <td>0</td>\n",
       "      <td>0</td>\n",
       "      <td>0</td>\n",
       "      <td>0</td>\n",
       "      <td>0</td>\n",
       "      <td>0</td>\n",
       "      <td>0</td>\n",
       "      <td>0</td>\n",
       "      <td>0</td>\n",
       "      <td>0</td>\n",
       "    </tr>\n",
       "    <tr>\n",
       "      <th>1</th>\n",
       "      <td>chr1</td>\n",
       "      <td>17385</td>\n",
       "      <td>G</td>\n",
       "      <td>A</td>\n",
       "      <td>.</td>\n",
       "      <td>0</td>\n",
       "      <td>0</td>\n",
       "      <td>0</td>\n",
       "      <td>0</td>\n",
       "      <td>0</td>\n",
       "      <td>0</td>\n",
       "      <td>0</td>\n",
       "      <td>0</td>\n",
       "      <td>0</td>\n",
       "      <td>0</td>\n",
       "    </tr>\n",
       "    <tr>\n",
       "      <th>2</th>\n",
       "      <td>chr1</td>\n",
       "      <td>17697</td>\n",
       "      <td>G</td>\n",
       "      <td>C</td>\n",
       "      <td>.</td>\n",
       "      <td>0</td>\n",
       "      <td>0</td>\n",
       "      <td>0</td>\n",
       "      <td>0</td>\n",
       "      <td>0</td>\n",
       "      <td>0</td>\n",
       "      <td>0</td>\n",
       "      <td>0</td>\n",
       "      <td>0</td>\n",
       "      <td>0</td>\n",
       "    </tr>\n",
       "    <tr>\n",
       "      <th>3</th>\n",
       "      <td>chr1</td>\n",
       "      <td>133129</td>\n",
       "      <td>G</td>\n",
       "      <td>A</td>\n",
       "      <td>.</td>\n",
       "      <td>0</td>\n",
       "      <td>0</td>\n",
       "      <td>0</td>\n",
       "      <td>0</td>\n",
       "      <td>0</td>\n",
       "      <td>0</td>\n",
       "      <td>0</td>\n",
       "      <td>0</td>\n",
       "      <td>0</td>\n",
       "      <td>0</td>\n",
       "    </tr>\n",
       "    <tr>\n",
       "      <th>4</th>\n",
       "      <td>chr1</td>\n",
       "      <td>183629</td>\n",
       "      <td>G</td>\n",
       "      <td>A</td>\n",
       "      <td>.</td>\n",
       "      <td>0</td>\n",
       "      <td>0</td>\n",
       "      <td>0</td>\n",
       "      <td>0</td>\n",
       "      <td>0</td>\n",
       "      <td>0</td>\n",
       "      <td>0</td>\n",
       "      <td>0</td>\n",
       "      <td>0</td>\n",
       "      <td>0</td>\n",
       "    </tr>\n",
       "  </tbody>\n",
       "</table>\n",
       "</div>"
      ],
      "text/plain": [
       "  #CHROM     POS REF ALT QUAL  FILTER_multiallelic  FILTER_germline  \\\n",
       "0   chr1   15820   G   T    .                    0                0   \n",
       "1   chr1   17385   G   A    .                    0                0   \n",
       "2   chr1   17697   G   C    .                    0                0   \n",
       "3   chr1  133129   G   A    .                    0                0   \n",
       "4   chr1  183629   G   A    .                    0                0   \n",
       "\n",
       "   FILTER_fragment  FILTER_base_qual  FILTER_weak_evidence  FILTER_map_qual  \\\n",
       "0                0                 0                     0                0   \n",
       "1                0                 0                     0                0   \n",
       "2                0                 0                     0                0   \n",
       "3                0                 0                     0                0   \n",
       "4                0                 0                     0                0   \n",
       "\n",
       "   FILTER_strand_bias  FILTER_slippage  FILTER_haplotype  \\\n",
       "0                   0                0                 0   \n",
       "1                   0                0                 0   \n",
       "2                   0                0                 0   \n",
       "3                   0                0                 0   \n",
       "4                   0                0                 0   \n",
       "\n",
       "   FILTER_clustered_events  \n",
       "0                        0  \n",
       "1                        0  \n",
       "2                        0  \n",
       "3                        0  \n",
       "4                        0  "
      ]
     },
     "execution_count": 6,
     "metadata": {},
     "output_type": "execute_result"
    }
   ],
   "source": [
    "for f_col, f_val in zip(filter_cols, unique_filters):\n",
    "    EE_default[f_col] = EE_default['FILTER'].apply(lambda x: 1 if f_val in x else 0)\n",
    "\n",
    "EE_default_clean = EE_default.drop(\"FILTER\", axis=1)\n",
    "EE_default_clean.head()"
   ]
  },
  {
   "cell_type": "code",
   "execution_count": 7,
   "metadata": {},
   "outputs": [
    {
     "data": {
      "text/plain": [
       "FILTER_multiallelic         3614\n",
       "FILTER_germline             1075\n",
       "FILTER_fragment              315\n",
       "FILTER_base_qual             562\n",
       "FILTER_weak_evidence        1423\n",
       "FILTER_map_qual            10247\n",
       "FILTER_strand_bias          1032\n",
       "FILTER_slippage             6497\n",
       "FILTER_haplotype           14501\n",
       "FILTER_clustered_events    20008\n",
       "dtype: int64"
      ]
     },
     "execution_count": 7,
     "metadata": {},
     "output_type": "execute_result"
    }
   ],
   "source": [
    "EE_default_clean[filter_cols].sum(axis=0)"
   ]
  },
  {
   "cell_type": "markdown",
   "metadata": {},
   "source": [
    "## CSQ Data Cleanup"
   ]
  },
  {
   "cell_type": "markdown",
   "metadata": {},
   "source": [
    "#### Load a single dataframe"
   ]
  },
  {
   "cell_type": "code",
   "execution_count": 8,
   "metadata": {},
   "outputs": [],
   "source": [
    "EE_csq_015 = get_data(\"data/EE_015/\", [\"csq\"])\n",
    "EE_csq_050 = get_data(\"data/EE_050/\", [\"csq\"])\n",
    "EE_csq_069 = get_data(\"data/EE_069/\", [\"csq\"])\n",
    "EE_csq = pd.concat([EE_csq_015, EE_csq_050, EE_csq_069], ignore_index=True, axis=0)"
   ]
  },
  {
   "cell_type": "code",
   "execution_count": 9,
   "metadata": {},
   "outputs": [
    {
     "data": {
      "text/plain": [
       "Index(['Allele', 'Consequence', 'IMPACT', 'SYMBOL', 'Gene', 'Feature_type',\n",
       "       'Feature', 'BIOTYPE', 'EXON', 'INTRON', 'HGVSc', 'HGVSp',\n",
       "       'cDNA_position', 'CDS_position', 'Protein_position', 'Amino_acids',\n",
       "       'Codons', 'Existing_variation', 'DISTANCE', 'STRAND', 'FLAGS',\n",
       "       'SYMBOL_SOURCE', 'HGNC_ID', 'CANONICAL', 'MANE_SELECT',\n",
       "       'MANE_PLUS_CLINICAL', 'TSL', 'APPRIS', 'CCDS', 'ENSP', 'SWISSPROT',\n",
       "       'TREMBL', 'UNIPARC', 'UNIPROT_ISOFORM', 'REFSEQ_MATCH', 'SOURCE',\n",
       "       'REFSEQ_OFFSET', 'GIVEN_REF', 'USED_REF', 'BAM_EDIT', 'SIFT',\n",
       "       'PolyPhen', 'DOMAINS', 'HGVS_OFFSET', 'AF', 'AFR_AF', 'AMR_AF',\n",
       "       'EAS_AF', 'EUR_AF', 'SAS_AF', 'gnomADe_AF', 'gnomADe_AFR_AF',\n",
       "       'gnomADe_AMR_AF', 'gnomADe_ASJ_AF', 'gnomADe_EAS_AF', 'gnomADe_FIN_AF',\n",
       "       'gnomADe_NFE_AF', 'gnomADe_OTH_AF', 'gnomADe_SAS_AF', 'gnomADg_AF',\n",
       "       'gnomADg_AFR_AF', 'gnomADg_AMI_AF', 'gnomADg_AMR_AF', 'gnomADg_ASJ_AF',\n",
       "       'gnomADg_EAS_AF', 'gnomADg_FIN_AF', 'gnomADg_MID_AF', 'gnomADg_NFE_AF',\n",
       "       'gnomADg_OTH_AF', 'gnomADg_SAS_AF', 'CLIN_SIG', 'SOMATIC', 'PHENO',\n",
       "       'PUBMED', 'VAR_SYNONYMS', 'MOTIF_NAME', 'MOTIF_POS', 'HIGH_INF_POS',\n",
       "       'MOTIF_SCORE_CHANGE', 'TRANSCRIPTION_FACTORS', 'EVE_CLASS', 'EVE_SCORE',\n",
       "       'CADD_PHRED', 'CADD_RAW', 'SpliceAI_pred_DP_AG', 'SpliceAI_pred_DP_AL',\n",
       "       'SpliceAI_pred_DP_DG', 'SpliceAI_pred_DP_DL', 'SpliceAI_pred_DS_AG',\n",
       "       'SpliceAI_pred_DS_AL', 'SpliceAI_pred_DS_DG', 'SpliceAI_pred_DS_DL',\n",
       "       'SpliceAI_pred_SYMBOL', 'LOEUF', 'PHENOTYPES', 'NMD'],\n",
       "      dtype='object')"
      ]
     },
     "execution_count": 9,
     "metadata": {},
     "output_type": "execute_result"
    }
   ],
   "source": [
    "EE_csq.columns"
   ]
  },
  {
   "cell_type": "code",
   "execution_count": 10,
   "metadata": {},
   "outputs": [
    {
     "data": {
      "text/plain": [
       "(444444, 96)"
      ]
     },
     "execution_count": 10,
     "metadata": {},
     "output_type": "execute_result"
    }
   ],
   "source": [
    "EE_csq.shape"
   ]
  },
  {
   "cell_type": "markdown",
   "metadata": {},
   "source": [
    "#### Drop uninteresting columns"
   ]
  },
  {
   "cell_type": "code",
   "execution_count": 11,
   "metadata": {},
   "outputs": [
    {
     "data": {
      "text/plain": [
       "(444444, 56)"
      ]
     },
     "execution_count": 11,
     "metadata": {},
     "output_type": "execute_result"
    }
   ],
   "source": [
    "drop_columns = [\"TSL\", \"APPRIS\", \"CCDS\", \"ENSP\", \"SWISSPROT\", \"TREMBL\", \"UNIPARC\", \"UNIPROT_ISOFORM\", \"REFSEQ_MATCH\",\n",
    "                \"SOURCE\", \"REFSEQ_OFFSET\", \"GIVEN_REF\", \"USED_REF\", \"BAM_EDIT\", \"DOMAINS\", \"HGVS_OFFSET\", \"AF\", \"AFR_AF\",\n",
    "                \"AMR_AF\", \"EAS_AF\", \"EUR_AF\", \"SAS_AF\", \"cDNA_position\", \"CDS_position\", \"Protein_position\"]\n",
    "drop_columns_gnomad = [c for c in EE_csq if c.startswith(\"gnom\") and c != \"gnomADe_AF\" and c!= \"gnomADg_AF\"]\n",
    "drop_columns.extend(drop_columns_gnomad)\n",
    "EE_potential_csq = EE_csq.drop(drop_columns, axis=1)\n",
    "EE_potential_csq.shape"
   ]
  },
  {
   "cell_type": "code",
   "execution_count": 12,
   "metadata": {},
   "outputs": [
    {
     "data": {
      "text/plain": [
       "Index(['Allele', 'Consequence', 'IMPACT', 'SYMBOL', 'Gene', 'Feature_type',\n",
       "       'Feature', 'BIOTYPE', 'EXON', 'INTRON', 'HGVSc', 'HGVSp',\n",
       "       'cDNA_position', 'CDS_position', 'Protein_position', 'Amino_acids',\n",
       "       'Codons', 'Existing_variation', 'DISTANCE', 'STRAND', 'FLAGS',\n",
       "       'SYMBOL_SOURCE', 'HGNC_ID', 'CANONICAL', 'MANE_SELECT',\n",
       "       'MANE_PLUS_CLINICAL', 'SIFT', 'PolyPhen', 'gnomADe_AF', 'gnomADg_AF',\n",
       "       'CLIN_SIG', 'SOMATIC', 'PHENO', 'PUBMED', 'VAR_SYNONYMS', 'MOTIF_NAME',\n",
       "       'MOTIF_POS', 'HIGH_INF_POS', 'MOTIF_SCORE_CHANGE',\n",
       "       'TRANSCRIPTION_FACTORS', 'EVE_CLASS', 'EVE_SCORE', 'CADD_PHRED',\n",
       "       'CADD_RAW', 'SpliceAI_pred_DP_AG', 'SpliceAI_pred_DP_AL',\n",
       "       'SpliceAI_pred_DP_DG', 'SpliceAI_pred_DP_DL', 'SpliceAI_pred_DS_AG',\n",
       "       'SpliceAI_pred_DS_AL', 'SpliceAI_pred_DS_DG', 'SpliceAI_pred_DS_DL',\n",
       "       'SpliceAI_pred_SYMBOL', 'LOEUF', 'PHENOTYPES', 'NMD'],\n",
       "      dtype='object')"
      ]
     },
     "execution_count": 12,
     "metadata": {},
     "output_type": "execute_result"
    }
   ],
   "source": [
    "EE_potential_csq.columns"
   ]
  },
  {
   "cell_type": "markdown",
   "metadata": {},
   "source": [
    "#### Drop potentially interesting columns"
   ]
  },
  {
   "cell_type": "code",
   "execution_count": 13,
   "metadata": {},
   "outputs": [
    {
     "data": {
      "text/plain": [
       "(444444, 33)"
      ]
     },
     "execution_count": 13,
     "metadata": {},
     "output_type": "execute_result"
    }
   ],
   "source": [
    "potential_drop_columns = [\"Consequence\", \"IMPACT\", \"CANONICAL\", \"MANE_SELECT\", \"MANE_PLUS_CLINICAL\", \"SIFT\", \"PolyPhen\",\n",
    "                          \"CLIN_SIG\", \"EVE_CLASS\", \"EVE_SCORE\", \"CADD_PHRED\", \"CADD_RAW\", \"LOEUF\", \"NMD\", \"SpliceAI_pred_DP_AG\",\n",
    "                          \"SpliceAI_pred_DP_AL\", \"SpliceAI_pred_DP_DG\", \"SpliceAI_pred_DP_DL\", \"SpliceAI_pred_DS_AG\",\n",
    "                          \"SpliceAI_pred_DS_AL\", \"SpliceAI_pred_DS_DG\", \"SpliceAI_pred_DS_DL\", \"SpliceAI_pred_SYMBOL\"]\n",
    "\n",
    "EE_important_csq = EE_potential_csq.drop(potential_drop_columns, axis=1)\n",
    "EE_important_csq.shape"
   ]
  },
  {
   "cell_type": "markdown",
   "metadata": {},
   "source": [
    "#### Separate array values"
   ]
  },
  {
   "cell_type": "code",
   "execution_count": 14,
   "metadata": {},
   "outputs": [],
   "source": [
    "separable_csq_columns = [\"PHENOTYPES\", \"CLIN_SIG\", \"SOMATIC\", \"DOMAINS\", \"PUBMED\", \"TREMBL\", \"Consequence\", \"HGVSp\",\n",
    "                         \"FLAGS\", \"PHENO\", \"Existing_variation\", \"SWISSPROT\", \"TRANSCRIPTION_FACTORS\", \"VAR_SYNONYMS\"]\n",
    "# Filter out discarded columns\n",
    "separable_csq_columns = [c for c in separable_csq_columns if c in EE_potential_csq.columns]\n",
    "\n",
    "# Filter out discarded columns\n",
    "potentially_separable_columns = [\"CDS_position\", \"cDNA_position\", \"HGNC_ID\", \"SIFT\", \"PolyPhen\", \"Protein_position\"]\n",
    "potentially_separable_columns = [c for c in potentially_separable_columns if c in EE_potential_csq.columns]\n",
    "\n",
    "check_correctness = [\"Codons\"]"
   ]
  },
  {
   "cell_type": "code",
   "execution_count": 15,
   "metadata": {},
   "outputs": [
    {
     "data": {
      "text/html": [
       "<div>\n",
       "<style scoped>\n",
       "    .dataframe tbody tr th:only-of-type {\n",
       "        vertical-align: middle;\n",
       "    }\n",
       "\n",
       "    .dataframe tbody tr th {\n",
       "        vertical-align: top;\n",
       "    }\n",
       "\n",
       "    .dataframe thead th {\n",
       "        text-align: right;\n",
       "    }\n",
       "</style>\n",
       "<table border=\"1\" class=\"dataframe\">\n",
       "  <thead>\n",
       "    <tr style=\"text-align: right;\">\n",
       "      <th></th>\n",
       "      <th>Existing_variation</th>\n",
       "      <th>PHENO</th>\n",
       "    </tr>\n",
       "  </thead>\n",
       "  <tbody>\n",
       "    <tr>\n",
       "      <th>200</th>\n",
       "      <td>rs2281171</td>\n",
       "      <td>NaN</td>\n",
       "    </tr>\n",
       "    <tr>\n",
       "      <th>201</th>\n",
       "      <td>rs66653340</td>\n",
       "      <td>NaN</td>\n",
       "    </tr>\n",
       "    <tr>\n",
       "      <th>202</th>\n",
       "      <td>rs3817856&amp;COSV55802795</td>\n",
       "      <td>0&amp;1</td>\n",
       "    </tr>\n",
       "    <tr>\n",
       "      <th>203</th>\n",
       "      <td>rs34869725&amp;COSV55803457</td>\n",
       "      <td>0&amp;1</td>\n",
       "    </tr>\n",
       "    <tr>\n",
       "      <th>204</th>\n",
       "      <td>rs1474648&amp;COSV55804435</td>\n",
       "      <td>0&amp;1</td>\n",
       "    </tr>\n",
       "  </tbody>\n",
       "</table>\n",
       "</div>"
      ],
      "text/plain": [
       "          Existing_variation PHENO\n",
       "200                rs2281171   NaN\n",
       "201               rs66653340   NaN\n",
       "202   rs3817856&COSV55802795   0&1\n",
       "203  rs34869725&COSV55803457   0&1\n",
       "204   rs1474648&COSV55804435   0&1"
      ]
     },
     "execution_count": 15,
     "metadata": {},
     "output_type": "execute_result"
    }
   ],
   "source": [
    "EE_potential_csq[[\"Existing_variation\", \"PHENO\"]].iloc[200:205]"
   ]
  },
  {
   "cell_type": "code",
   "execution_count": 16,
   "metadata": {},
   "outputs": [
    {
     "name": "stdout",
     "output_type": "stream",
     "text": [
      "PHENOTYPES\n",
      "Num uniq: 54932\n",
      "Argmax: 54168\n",
      "FASTING_PLASMA_GLUCOSE_LEVEL_QUANTITATIVE_TRAIT_LOCUS_5+MIM_morbid+ENSG00000084734&ClinVar:_phenotype_not_specified+ClinVar+rs1260326&FASTING_PLASMA_GLUCOSE_LEVEL_QUANTITATIVE_TRAIT_LOCUS_5+ClinVar+rs1260326&Cholesterol+dbGaP+rs1260326&Cholesterol+dbGaP+rs1260326&Triglycerides+dbGaP+rs1260326&Triglycerides+dbGaP+rs1260326&Fasting_Glucose+MAGIC+rs1260326&1-carboxyethylisoleucine_levels+NHGRI-EBI_GWAS_catalog+rs1260326&1-carboxyethylleucine_levels+NHGRI-EBI_GWAS_catalog+rs1260326&1-carboxyethylphenylalanine_levels+NHGRI-EBI_GWAS_catalog+rs1260326&1-carboxyethylvaline_levels+NHGRI-EBI_GWAS_catalog+rs1260326&1-myristoyl-2-arachidonoyl-GPC_14:0/20:4_levels+NHGRI-EBI_GWAS_catalog+rs1260326&1-myristoyl-2-docosahexaenoyl-GPC_14:0/22:6_levels+NHGRI-EBI_GWAS_catalog+rs1260326&1-myristoyl-2-linoleoyl-GPC_14:0/18:2_levels+NHGRI-EBI_GWAS_catalog+rs1260326&1-myristoylglycerol_14:0_levels+NHGRI-EBI_GWAS_catalog+rs1260326&1-myristoyl-GPC_14:0_levels+NHGRI-EBI_GWAS_catalog+rs1260326&1-palmitoleoylglycerol_16:1_levels+NHGRI-EBI_GWAS_catalog+rs1260326&1-palmitoyl-2-oleoyl-GPE_16:0/18:1_levels+NHGRI-EBI_GWAS_catalog+rs1260326&1-palmitoyl-GPE_16:0_levels+NHGRI-EBI_GWAS_catalog+rs1260326&1-stearoyl-2-docosahexaenoyl-GPE_18:0/22:6_levels+NHGRI-EBI_GWAS_catalog+rs1260326&1-stearoyl-2-oleoyl-GPE_18:0/18:1_levels+NHGRI-EBI_GWAS_catalog+rs1260326&1-stearoyl-GPE_18:0_levels+NHGRI-EBI_GWAS_catalog+rs1260326&2-myristoyl-GPC_14:0_levels+NHGRI-EBI_GWAS_catalog+rs1260326&Acetate_levels+NHGRI-EBI_GWAS_catalog+rs1260326&Alanine_levels+NHGRI-EBI_GWAS_catalog+rs1260326&Alanine_levels+NHGRI-EBI_GWAS_catalog+rs1260326&Alanine_levels+NHGRI-EBI_GWAS_catalog+rs1260326&Albumin_levels+NHGRI-EBI_GWAS_catalog+rs1260326&Albumin_levels+NHGRI-EBI_GWAS_catalog+rs1260326&Albumin_levels+NHGRI-EBI_GWAS_catalog+rs1260326&Alcohol_consumption_drinkers_vs_non-drinkers+NHGRI-EBI_GWAS_catalog+rs1260326&Alcohol_consumption_drinks_per_month_UKB_data_field_1578__4424+NHGRI-EBI_GWAS_catalog+rs1260326&Alcohol_consumption__drinks_per_week___MTAG_+NHGRI-EBI_GWAS_catalog+rs1260326&Alcohol_consumption__drinks_per_week___MTAG_+NHGRI-EBI_GWAS_catalog+rs1260326&Alcohol_consumption_drinks_per_week+NHGRI-EBI_GWAS_catalog+rs1260326&Alcohol_consumption_drinks_per_week+NHGRI-EBI_GWAS_catalog+rs1260326&Alcohol_consumption__heavy_vs._light/non-drinkers_+NHGRI-EBI_GWAS_catalog+rs1260326&Alcohol_consumption_in_current_drinkers+NHGRI-EBI_GWAS_catalog+rs1260326&Alcohol_consumption+NHGRI-EBI_GWAS_catalog+rs1260326&Alcohol_consumption+NHGRI-EBI_GWAS_catalog+rs1260326&Alcohol_use_disorder__consumption_score_+NHGRI-EBI_GWAS_catalog+rs1260326&Alcohol_use_disorder__consumption_score_+NHGRI-EBI_GWAS_catalog+rs1260326&Alcohol_use_disorder__total_score_+NHGRI-EBI_GWAS_catalog+rs1260326&Alcohol_use_disorder+NHGRI-EBI_GWAS_catalog+rs1260326&Alcohol_use_disorder+NHGRI-EBI_GWAS_catalog+rs1260326&Apolipoprotein_A1_levels+NHGRI-EBI_GWAS_catalog+rs1260326&Apolipoprotein_B_levels+NHGRI-EBI_GWAS_catalog+rs1260326&Appendicular_lean_mass+NHGRI-EBI_GWAS_catalog+rs1260326&Appendicular_lean_mass+NHGRI-EBI_GWAS_catalog+rs1260326&Appendicular_lean_mass+NHGRI-EBI_GWAS_catalog+rs1260326&Asparagine_levels+NHGRI-EBI_GWAS_catalog+rs1260326&Aspartate_aminotransferase_levels+NHGRI-EBI_GWAS_catalog+rs1260326&Average_diameter_for_HDL_particles+NHGRI-EBI_GWAS_catalog+rs1260326&Average_diameter_for_LDL_particles+NHGRI-EBI_GWAS_catalog+rs1260326&Average_diameter_for_VLDL_particles+NHGRI-EBI_GWAS_catalog+rs1260326&Biological_age_PhenoAge+NHGRI-EBI_GWAS_catalog+rs1260326&Bitter_alcoholic_beverage_consumption+NHGRI-EBI_GWAS_catalog+rs1260326&Bitter_beverage_consumption+NHGRI-EBI_GWAS_catalog+rs1260326&Blood_metabolite_levels+NHGRI-EBI_GWAS_catalog+rs1260326&Blood_protein_levels_in_cardiovascular_risk+NHGRI-EBI_GWAS_catalog+rs1260326&Blood_sugar_levels+NHGRI-EBI_GWAS_catalog+rs1260326&Blood_urea_nitrogen_levels+NHGRI-EBI_GWAS_catalog+rs1260326&Blood_urea_nitrogen_levels+NHGRI-EBI_GWAS_catalog+rs1260326&Body_mass_index_and_LDL-C_pairwise+NHGRI-EBI_GWAS_catalog+rs1260326&Body_mass_index_and_triglycerides_pairwise+NHGRI-EBI_GWAS_catalog+rs1260326&Body_mass_index_MTAG+NHGRI-EBI_GWAS_catalog+rs1260326&Body_Mass_Index+NHGRI-EBI_GWAS_catalog+rs1260326&Body_surface_area+NHGRI-EBI_GWAS_catalog+rs1260326&Branched-chain_amino_acid_levels__Isoleucine_+NHGRI-EBI_GWAS_catalog+rs1260326&Branched-chain_amino_acid_levels__Leucine_+NHGRI-EBI_GWAS_catalog+rs1260326&Branched-chain_amino_acid_levels__Valine_+NHGRI-EBI_GWAS_catalog+rs1260326&Caffeine_consumption_from_coffee_or_tea+NHGRI-EBI_GWAS_catalog+rs1260326&Caffeine_metabolism__plasma_1_7-dimethylxanthine__paraxanthine__to_1_3_7-trimethylxanthine__caffeine__ratio_+NHGRI-EBI_GWAS_catalog+rs1260326&Calcium_levels+NHGRI-EBI_GWAS_catalog+rs1260326&Calcium_levels+NHGRI-EBI_GWAS_catalog+rs1260326&Cardiovascular_disease_risk_factors+NHGRI-EBI_GWAS_catalog+rs1260326&Cathepsin_D_levels+NHGRI-EBI_GWAS_catalog+rs1260326&Chitinase-3-like_protein_1_levels+NHGRI-EBI_GWAS_catalog+rs1260326&Cholecystitis+NHGRI-EBI_GWAS_catalog+rs1260326&Cholelithiasis+NHGRI-EBI_GWAS_catalog+rs1260326&Cholesterol_levels_in_chylomicrons_and_extremely_large_VLDL+NHGRI-EBI_GWAS_catalog+rs1260326&Cholesterol_levels_in_large_HDL+NHGRI-EBI_GWAS_catalog+rs1260326&Cholesterol_levels_in_large_LDL+NHGRI-EBI_GWAS_catalog+rs1260326&Cholesterol_levels_in_large_VLDL+NHGRI-EBI_GWAS_catalog+rs1260326&Cholesterol_levels_in_medium_HDL+NHGRI-EBI_GWAS_catalog+rs1260326&Cholesterol_levels_in_medium_LDL+NHGRI-EBI_GWAS_catalog+rs1260326&Cholesterol_levels_in_small_HDL+NHGRI-EBI_GWAS_catalog+rs1260326&Cholesterol_levels_in_small_LDL+NHGRI-EBI_GWAS_catalog+rs1260326&Cholesterol_levels_in_small_VLDL+NHGRI-EBI_GWAS_catalog+rs1260326&Cholesterol_levels_in_very_large_HDL+NHGRI-EBI_GWAS_catalog+rs1260326&Cholesterol_levels_in_very_large_VLDL+NHGRI-EBI_GWAS_catalog+rs1260326&Cholesterol__total+NHGRI-EBI_GWAS_catalog+rs1260326&Cholesterol__total+NHGRI-EBI_GWAS_catalog+rs1260326&Cholesterol__total+NHGRI-EBI_GWAS_catalog+rs1260326&Cholesterol_to_total_lipids_ratio_in_IDL+NHGRI-EBI_GWAS_catalog+rs1260326&Cholesterol_to_total_lipids_ratio_in_large_HDL+NHGRI-EBI_GWAS_catalog+rs1260326&Cholesterol_to_total_lipids_ratio_in_large_LDL+NHGRI-EBI_GWAS_catalog+rs1260326&Cholesterol_to_total_lipids_ratio_in_large_VLDL+NHGRI-EBI_GWAS_catalog+rs1260326&Cholesterol_to_total_lipids_ratio_in_medium_HDL+NHGRI-EBI_GWAS_catalog+rs1260326&Cholesterol_to_total_lipids_ratio_in_medium_LDL+NHGRI-EBI_GWAS_catalog+rs1260326&Cholesterol_to_total_lipids_ratio_in_medium_VLDL+NHGRI-EBI_GWAS_catalog+rs1260326&Cholesterol_to_total_lipids_ratio_in_small_HDL+NHGRI-EBI_GWAS_catalog+rs1260326&Cholesterol_to_total_lipids_ratio_in_small_VLDL+NHGRI-EBI_GWAS_catalog+rs1260326&Cholesterol_to_total_lipids_ratio_in_very_large_VLDL+NHGRI-EBI_GWAS_catalog+rs1260326&Cholesterol_to_total_lipids_ratio_in_very_small_VLDL+NHGRI-EBI_GWAS_catalog+rs1260326&Cholesteryl_ester_levels_in_chylomicrons_and_extremely_large_VLDL+NHGRI-EBI_GWAS_catalog+rs1260326&Cholesteryl_ester_levels_in_large_HDL+NHGRI-EBI_GWAS_catalog+rs1260326&Cholesteryl_ester_levels_in_large_LDL+NHGRI-EBI_GWAS_catalog+rs1260326&Cholesteryl_ester_levels_in_large_VLDL+NHGRI-EBI_GWAS_catalog+rs1260326&Cholesteryl_ester_levels_in_LDL+NHGRI-EBI_GWAS_catalog+rs1260326&Cholesteryl_ester_levels_in_medium_HDL+NHGRI-EBI_GWAS_catalog+rs1260326&Cholesteryl_ester_levels_in_medium_LDL+NHGRI-EBI_GWAS_catalog+rs1260326&Cholesteryl_ester_levels_in_small_HDL+NHGRI-EBI_GWAS_catalog+rs1260326&Cholesteryl_ester_levels_in_small_LDL+NHGRI-EBI_GWAS_catalog+rs1260326&Cholesteryl_ester_levels_in_small_VLDL+NHGRI-EBI_GWAS_catalog+rs1260326&Cholesteryl_ester_levels_in_very_large_HDL+NHGRI-EBI_GWAS_catalog+rs1260326&Cholesteryl_ester_levels_in_very_large_VLDL+NHGRI-EBI_GWAS_catalog+rs1260326&Cholesteryl_ester_levels_in_VLDL+NHGRI-EBI_GWAS_catalog+rs1260326&Cholesteryl_esters_to_total_lipids_ratio_in_IDL+NHGRI-EBI_GWAS_catalog+rs1260326&Cholesteryl_esters_to_total_lipids_ratio_in_large_HDL+NHGRI-EBI_GWAS_catalog+rs1260326&Cholesteryl_esters_to_total_lipids_ratio_in_large_LDL+NHGRI-EBI_GWAS_catalog+rs1260326&Cholesteryl_esters_to_total_lipids_ratio_in_large_VLDL+NHGRI-EBI_GWAS_catalog+rs1260326&Cholesteryl_esters_to_total_lipids_ratio_in_medium_HDL+NHGRI-EBI_GWAS_catalog+rs1260326&Cholesteryl_esters_to_total_lipids_ratio_in_medium_LDL+NHGRI-EBI_GWAS_catalog+rs1260326&Cholesteryl_esters_to_total_lipids_ratio_in_medium_VLDL+NHGRI-EBI_GWAS_catalog+rs1260326&Cholesteryl_esters_to_total_lipids_ratio_in_small_HDL+NHGRI-EBI_GWAS_catalog+rs1260326&Cholesteryl_esters_to_total_lipids_ratio_in_small_LDL+NHGRI-EBI_GWAS_catalog+rs1260326&Cholesteryl_esters_to_total_lipids_ratio_in_small_VLDL+NHGRI-EBI_GWAS_catalog+rs1260326&Cholesteryl_esters_to_total_lipids_ratio_in_very_large_VLDL+NHGRI-EBI_GWAS_catalog+rs1260326&Cholesteryl_esters_to_total_lipids_ratio_in_very_small_VLDL+NHGRI-EBI_GWAS_catalog+rs1260326&Chronic_inflammatory_diseases__ankylosing_spondylitis__Crohn's_disease__psoriasis__primary_sclerosing_cholangitis__ulcerative_colitis___pleiotropy_+NHGRI-EBI_GWAS_catalog+rs1260326&Chronic_kidney_disease+NHGRI-EBI_GWAS_catalog+rs1260326&Circulating_docosahexaenoic_acid_levels+NHGRI-EBI_GWAS_catalog+rs1260326&Circulating_fibroblast_growth_factor_21_levels+NHGRI-EBI_GWAS_catalog+rs1260326&circulating_leptin_levels_adjusted_for_BMI+NHGRI-EBI_GWAS_catalog+rs1260326&circulating_leptin_levels_adjusted_for_BMI+NHGRI-EBI_GWAS_catalog+rs1260326&circulating_leptin_levels_adjusted_for_BMI+NHGRI-EBI_GWAS_catalog+rs1260326&circulating_leptin_levels+NHGRI-EBI_GWAS_catalog+rs1260326&circulating_leptin_levels+NHGRI-EBI_GWAS_catalog+rs1260326&circulating_leptin_levels+NHGRI-EBI_GWAS_catalog+rs1260326&Coagulation_factor_IXab_levels+NHGRI-EBI_GWAS_catalog+rs1260326&Coagulation_factor_IX_levels+NHGRI-EBI_GWAS_catalog+rs1260326&Coffee_consumption__cups_per_day_+NHGRI-EBI_GWAS_catalog+rs1260326&Coffee_consumption__cups_per_day_+NHGRI-EBI_GWAS_catalog+rs1260326&Coffee_consumption+NHGRI-EBI_GWAS_catalog+rs1260326&Coffee_consumption+NHGRI-EBI_GWAS_catalog+rs1260326&Concentration_of_chylomicrons_and_extremely_large_VLDL_particles+NHGRI-EBI_GWAS_catalog+rs1260326&Concentration_of_HDL_particles+NHGRI-EBI_GWAS_catalog+rs1260326&Concentration_of_large_HDL_particles+NHGRI-EBI_GWAS_catalog+rs1260326&Concentration_of_large_VLDL_particles+NHGRI-EBI_GWAS_catalog+rs1260326&Concentration_of_medium_HDL_particles+NHGRI-EBI_GWAS_catalog+rs1260326&Concentration_of_medium_LDL_particles+NHGRI-EBI_GWAS_catalog+rs1260326&Concentration_of_medium_VLDL_particles+NHGRI-EBI_GWAS_catalog+rs1260326&Concentration_of_small_HDL_particles+NHGRI-EBI_GWAS_catalog+rs1260326&Concentration_of_small_LDL_particles+NHGRI-EBI_GWAS_catalog+rs1260326&Concentration_of_small_VLDL_particles+NHGRI-EBI_GWAS_catalog+rs1260326&Concentration_of_very_large_HDL_particles+NHGRI-EBI_GWAS_catalog+rs1260326&Concentration_of_very_large_VLDL_particles+NHGRI-EBI_GWAS_catalog+rs1260326&Concentration_of_very_small_VLDL_particles+NHGRI-EBI_GWAS_catalog+rs1260326&Concentration_of_VLDL_particles+NHGRI-EBI_GWAS_catalog+rs1260326&Coronary_artery_disease_or_factor_VII_levels_pleiotropy+NHGRI-EBI_GWAS_catalog+rs1260326&C-reactive_protein_levels_MTAG+NHGRI-EBI_GWAS_catalog+rs1260326&C-reactive_protein_levels_or_total_cholesterol_levels__pleiotropy_+NHGRI-EBI_GWAS_catalog+rs1260326&C-reactive_protein_levels_or_triglyceride_levels__pleiotropy_+NHGRI-EBI_GWAS_catalog+rs1260326&C-reactive_protein_levels+NHGRI-EBI_GWAS_catalog+rs1260326&C-reactive_protein_levels+NHGRI-EBI_GWAS_catalog+rs1260326&C-reactive_protein_levels+NHGRI-EBI_GWAS_catalog+rs1260326&C-reactive_protein_levels+NHGRI-EBI_GWAS_catalog+rs1260326&Creatinine_levels+NHGRI-EBI_GWAS_catalog+rs1260326&Crohn's_disease+NHGRI-EBI_GWAS_catalog+rs1260326&Degree_of_unsaturation+NHGRI-EBI_GWAS_catalog+rs1260326&Diacylglycerol_32:2_[M+H-H2O]1+_levels+NHGRI-EBI_GWAS_catalog+rs1260326&Diacylglycerol_34:1_[M+H-H2O]1+_levels+NHGRI-EBI_GWAS_catalog+rs1260326&Diacylglycerol_34:2_[M+H-H2O]1+_levels+NHGRI-EBI_GWAS_catalog+rs1260326&Diacylglycerol_34:3_[M+H-H2O]1+_levels+NHGRI-EBI_GWAS_catalog+rs1260326&Diacylglycerol_44:7_[M+H-H2O]1+_levels+NHGRI-EBI_GWAS_catalog+rs1260326&Docosahexaenoic_acid_levels+NHGRI-EBI_GWAS_catalog+rs1260326&Drinks_per_week+NHGRI-EBI_GWAS_catalog+rs1260326&Drinks_per_week+NHGRI-EBI_GWAS_catalog+rs1260326&Drinks_per_week+NHGRI-EBI_GWAS_catalog+rs1260326&Dyslipidemia+NHGRI-EBI_GWAS_catalog+rs1260326&Estimated_glomerular_filtration_rate_creatinine+NHGRI-EBI_GWAS_catalog+rs1260326&Estimated_glomerular_filtration_rate_creatinine+NHGRI-EBI_GWAS_catalog+rs1260326&Estimated_glomerular_filtration_rate_cystatin_c+NHGRI-EBI_GWAS_catalog+rs1260326&Estimated_glomerular_filtration_rate_in_non-diabetics+NHGRI-EBI_GWAS_catalog+rs1260326&Estimated_glomerular_filtration_rate+NHGRI-EBI_GWAS_catalog+rs1260326&Estimated_glomerular_filtration_rate+NHGRI-EBI_GWAS_catalog+rs1260326&Estimated_glomerular_filtration_rate+NHGRI-EBI_GWAS_catalog+rs1260326&Estradiol_levels+NHGRI-EBI_GWAS_catalog+rs1260326&Factor_VII_activity_or_levels+NHGRI-EBI_GWAS_catalog+rs1260326&Factor_VII_activity+NHGRI-EBI_GWAS_catalog+rs1260326&Factor_VII_activity+NHGRI-EBI_GWAS_catalog+rs1260326&Factor_VII_levels+NHGRI-EBI_GWAS_catalog+rs1260326&Familial_combined_hyperlipidemia_defined_by_Brunzell_criteria+NHGRI-EBI_GWAS_catalog+rs1260326&Familial_combined_hyperlipidemia_defined_by_Consensus_criteria+NHGRI-EBI_GWAS_catalog+rs1260326&Familial_combined_hyperlipidemia_defined_by_Dutch_criteria+NHGRI-EBI_GWAS_catalog+rs1260326&Familial_combined_hyperlipidemia_defined_by_Goldstein_criteria+NHGRI-EBI_GWAS_catalog+rs1260326&Familial_combined_hyperlipidemia_defined_by_Mexico_criteria+NHGRI-EBI_GWAS_catalog+rs1260326&Fasting_blood_glucose_adjusted_for_BMI+NHGRI-EBI_GWAS_catalog+rs1260326&Fasting_blood_glucose+NHGRI-EBI_GWAS_catalog+rs1260326&Fasting_blood_insulin_adjusted_for_BMI+NHGRI-EBI_GWAS_catalog+rs1260326&Fasting_glucose_adjusted_for_BMI+NHGRI-EBI_GWAS_catalog+rs1260326&Fasting_glucose_adjusted_for_BMI+NHGRI-EBI_GWAS_catalog+rs1260326&Fasting_Glucose+NHGRI-EBI_GWAS_catalog+rs1260326&Fasting_Glucose+NHGRI-EBI_GWAS_catalog+rs1260326&Fasting_Glucose+NHGRI-EBI_GWAS_catalog+rs1260326&Fasting_insulin_adjusted_for_BMI+NHGRI-EBI_GWAS_catalog+rs1260326&Fasting_insulin+NHGRI-EBI_GWAS_catalog+rs1260326&Fasting_insulin+NHGRI-EBI_GWAS_catalog+rs1260326&Fat-free_mass+NHGRI-EBI_GWAS_catalog+rs1260326&Fat-free_mass+NHGRI-EBI_GWAS_catalog+rs1260326&Fat-free_mass+NHGRI-EBI_GWAS_catalog+rs1260326&Fibrinogen_levels_or_factor_VII_levels_or_factor_XI_levels_or_tissue_plasminogen_activator_levels_pleiotropy+NHGRI-EBI_GWAS_catalog+rs1260326&Fibrinogen_levels_or_factor_VII_levels_pleiotropy+NHGRI-EBI_GWAS_catalog+rs1260326&Fibroblast_growth_factor_21_levels+NHGRI-EBI_GWAS_catalog+rs1260326&Follistatin_levels+NHGRI-EBI_GWAS_catalog+rs1260326&Free_cholesterol_levels_in_chylomicrons_and_extremely_large_VLDL+NHGRI-EBI_GWAS_catalog+rs1260326&Free_cholesterol_levels_in_large_HDL+NHGRI-EBI_GWAS_catalog+rs1260326&Free_cholesterol_levels_in_large_VLDL+NHGRI-EBI_GWAS_catalog+rs1260326&Free_cholesterol_levels_in_medium_HDL+NHGRI-EBI_GWAS_catalog+rs1260326&Free_cholesterol_levels_in_medium_VLDL+NHGRI-EBI_GWAS_catalog+rs1260326&Free_cholesterol_levels_in_small_HDL+NHGRI-EBI_GWAS_catalog+rs1260326&Free_cholesterol_levels_in_small_VLDL+NHGRI-EBI_GWAS_catalog+rs1260326&Free_cholesterol_levels_in_very_large_HDL+NHGRI-EBI_GWAS_catalog+rs1260326&Free_cholesterol_levels_in_very_large_VLDL+NHGRI-EBI_GWAS_catalog+rs1260326&Free_cholesterol_levels_in_VLDL+NHGRI-EBI_GWAS_catalog+rs1260326&Free_cholesterol_to_total_lipids_ratio_in_chylomicrons_and_extremely_large_VLDL+NHGRI-EBI_GWAS_catalog+rs1260326&Free_cholesterol_to_total_lipids_ratio_in_IDL+NHGRI-EBI_GWAS_catalog+rs1260326&Free_cholesterol_to_total_lipids_ratio_in_large_HDL+NHGRI-EBI_GWAS_catalog+rs1260326&Free_cholesterol_to_total_lipids_ratio_in_large_LDL+NHGRI-EBI_GWAS_catalog+rs1260326&Free_cholesterol_to_total_lipids_ratio_in_medium_LDL+NHGRI-EBI_GWAS_catalog+rs1260326&Free_cholesterol_to_total_lipids_ratio_in_medium_VLDL+NHGRI-EBI_GWAS_catalog+rs1260326&Free_cholesterol_to_total_lipids_ratio_in_small_LDL+NHGRI-EBI_GWAS_catalog+rs1260326&Free_cholesterol_to_total_lipids_ratio_in_small_VLDL+NHGRI-EBI_GWAS_catalog+rs1260326&Free_cholesterol_to_total_lipids_ratio_in_very_large_VLDL+NHGRI-EBI_GWAS_catalog+rs1260326&Free_cholesterol_to_total_lipids_ratio_in_very_small_VLDL+NHGRI-EBI_GWAS_catalog+rs1260326&Gallstone_disease+NHGRI-EBI_GWAS_catalog+rs1260326&Gallstone_disease+NHGRI-EBI_GWAS_catalog+rs1260326&Gamma-glutamylthreonine_levels+NHGRI-EBI_GWAS_catalog+rs1260326&Gamma_glutamyl_transferase_levels+NHGRI-EBI_GWAS_catalog+rs1260326&Gamma_glutamyl_transferase_levels+NHGRI-EBI_GWAS_catalog+rs1260326&Gamma_glutamyl_transpeptidase+NHGRI-EBI_GWAS_catalog+rs1260326&Gamma_glutamyl_transpeptidase+NHGRI-EBI_GWAS_catalog+rs1260326&Gestational_diabetes_mellitus+NHGRI-EBI_GWAS_catalog+rs1260326&Gestational_insulin_sensitivity+NHGRI-EBI_GWAS_catalog+rs1260326&Glomerular_filtration_rate+NHGRI-EBI_GWAS_catalog+rs1260326&Glomerular_filtration_rate_creatinine+NHGRI-EBI_GWAS_catalog+rs1260326&Glomerular_filtration_rate_in_non_diabetics__creatinine_+NHGRI-EBI_GWAS_catalog+rs1260326&Glomerular_filtration_rate+NHGRI-EBI_GWAS_catalog+rs1260326&Glucokinase_regulatory_protein_levels+NHGRI-EBI_GWAS_catalog+rs1260326&Glucose_levels+NHGRI-EBI_GWAS_catalog+rs1260326&Glucose_levels+NHGRI-EBI_GWAS_catalog+rs1260326&Glucose-to-mannose_ratio+NHGRI-EBI_GWAS_catalog+rs1260326&Glutamine_levels+NHGRI-EBI_GWAS_catalog+rs1260326&Glutamine_levels+NHGRI-EBI_GWAS_catalog+rs1260326&Glycated_haemoglobin_HbA1c_levels_adjusted_for_BMI+NHGRI-EBI_GWAS_catalog+rs1260326&Glycated_haemoglobin_HbA1c_levels_adjusted_for_BMI+NHGRI-EBI_GWAS_catalog+rs1260326&Glycemic_traits_pleiotropy+NHGRI-EBI_GWAS_catalog+rs1260326&Glycemic_traits__pregnancy_+NHGRI-EBI_GWAS_catalog+rs1260326&Glycemic_traits__pregnancy_+NHGRI-EBI_GWAS_catalog+rs1260326&Glycoprotein_acetyls_levels+NHGRI-EBI_GWAS_catalog+rs1260326&Gout+NHGRI-EBI_GWAS_catalog+rs1260326&Gout_combined_type+NHGRI-EBI_GWAS_catalog+rs1260326&Gout+NHGRI-EBI_GWAS_catalog+rs1260326&Gout_vs_asymptomatic_hyperuricemia+NHGRI-EBI_GWAS_catalog+rs1260326&Granulocyte_count+NHGRI-EBI_GWAS_catalog+rs1260326&Height+NHGRI-EBI_GWAS_catalog+rs1260326&Height+NHGRI-EBI_GWAS_catalog+rs1260326&Height+NHGRI-EBI_GWAS_catalog+rs1260326&Height+NHGRI-EBI_GWAS_catalog+rs1260326&Hematocrit+NHGRI-EBI_GWAS_catalog+rs1260326&Hematocrit+NHGRI-EBI_GWAS_catalog+rs1260326&Hematological_and_biochemical_traits+NHGRI-EBI_GWAS_catalog+rs1260326&High_density_lipoprotein_cholesterol_levels+NHGRI-EBI_GWAS_catalog+rs1260326&High_light_scatter_reticulocyte_count+NHGRI-EBI_GWAS_catalog+rs1260326&High_light_scatter_reticulocyte_percentage_of_red_cells+NHGRI-EBI_GWAS_catalog+rs1260326&High_light_scatter_reticulocyte_percentage_of_red_cells+NHGRI-EBI_GWAS_catalog+rs1260326&Hypertriglyceridemia+NHGRI-EBI_GWAS_catalog+rs1260326&IGF-1_and_IGFBP-3_levels_bivariate_analysis+NHGRI-EBI_GWAS_catalog+rs1260326&Inflammatory_bowel_disease+NHGRI-EBI_GWAS_catalog+rs1260326&Inflammatory_bowel_disease+NHGRI-EBI_GWAS_catalog+rs1260326&Intrahepatic_cholestasis_of_pregnancy+NHGRI-EBI_GWAS_catalog+rs1260326&Iron_status_biomarkers__ferritin_levels_+NHGRI-EBI_GWAS_catalog+rs1260326&Ischemic_stroke_or_factor_VII_levels_pleiotropy+NHGRI-EBI_GWAS_catalog+rs1260326&Isoleucine_levels+NHGRI-EBI_GWAS_catalog+rs1260326&Isoleucine_levels+NHGRI-EBI_GWAS_catalog+rs1260326&Lactate_levels+NHGRI-EBI_GWAS_catalog+rs1260326&Lactate_levels+NHGRI-EBI_GWAS_catalog+rs1260326&LDL_cholesterol_levels+NHGRI-EBI_GWAS_catalog+rs1260326&LDL_cholesterol_levels+NHGRI-EBI_GWAS_catalog+rs1260326&LDL_cholesterol_levels+NHGRI-EBI_GWAS_catalog+rs1260326&Leucine_levels+NHGRI-EBI_GWAS_catalog+rs1260326&Leucine_levels+NHGRI-EBI_GWAS_catalog+rs1260326&Linoleic_acid_levels+NHGRI-EBI_GWAS_catalog+rs1260326&Lipid_metabolism_phenotypes+NHGRI-EBI_GWAS_catalog+rs1260326&Lipid_metabolism_phenotypes+NHGRI-EBI_GWAS_catalog+rs1260326&Lipid_metabolism_phenotypes+NHGRI-EBI_GWAS_catalog+rs1260326&Lipid_traits+NHGRI-EBI_GWAS_catalog+rs1260326&Lipoprotein-associated_phospholipase_A2_activity_and_mass+NHGRI-EBI_GWAS_catalog+rs1260326&Liver_enzyme_levels__alkaline_phosphatase_+NHGRI-EBI_GWAS_catalog+rs1260326&Liver_enzyme_levels__gamma-glutamyl_transferase_+NHGRI-EBI_GWAS_catalog+rs1260326&Liver_fat_content_MRI_proton_density_fat_fraction_measure+NHGRI-EBI_GWAS_catalog+rs1260326&Liver_volume+NHGRI-EBI_GWAS_catalog+rs1260326&Low_density_lipoprotein_cholesterol_levels+NHGRI-EBI_GWAS_catalog+rs1260326&Low_density_lipoprotein_cholesterol_levels+NHGRI-EBI_GWAS_catalog+rs1260326&Low_density_lipoprotein_cholesterol_levels+NHGRI-EBI_GWAS_catalog+rs1260326&Low_testosterone_levels+NHGRI-EBI_GWAS_catalog+rs1260326&Lymphocyte_count+NHGRI-EBI_GWAS_catalog+rs1260326&Lymphocyte_count+NHGRI-EBI_GWAS_catalog+rs1260326&Lymphocyte_count+NHGRI-EBI_GWAS_catalog+rs1260326&lysoPhosphatidylcholine_acyl_C14:0_levels+NHGRI-EBI_GWAS_catalog+rs1260326&lysoPhosphatidylcholine_acyl_C16:0_levels+NHGRI-EBI_GWAS_catalog+rs1260326&lysoPhosphatidylcholine_acyl_C16:0_levels+NHGRI-EBI_GWAS_catalog+rs1260326&lysoPhosphatidylcholine_acyl_C16:1_levels+NHGRI-EBI_GWAS_catalog+rs1260326&lysoPhosphatidylcholine_acyl_C16:1_levels+NHGRI-EBI_GWAS_catalog+rs1260326&lysoPhosphatidylcholine_acyl_C18:0_levels+NHGRI-EBI_GWAS_catalog+rs1260326&lysoPhosphatidylcholine_acyl_C20:3_levels+NHGRI-EBI_GWAS_catalog+rs1260326&lysoPhosphatidylcholine_acyl_C20:3_levels+NHGRI-EBI_GWAS_catalog+rs1260326&Lysophosphatidylethanolamine_16:0_[M-H]1-_levels+NHGRI-EBI_GWAS_catalog+rs1260326&Macular_telangiectasia_type_2+NHGRI-EBI_GWAS_catalog+rs1260326&Macular_telangiectasia_type_2+NHGRI-EBI_GWAS_catalog+rs1260326&Mannonate_levels+NHGRI-EBI_GWAS_catalog+rs1260326&Mannose_levels+NHGRI-EBI_GWAS_catalog+rs1260326&Mannose_levels+NHGRI-EBI_GWAS_catalog+rs1260326&Mannose_levels+NHGRI-EBI_GWAS_catalog+rs1260326&Maximum_habitual_alcohol_consumption_MTAG+NHGRI-EBI_GWAS_catalog+rs1260326&Maximum_habitual_alcohol_consumption+NHGRI-EBI_GWAS_catalog+rs1260326&Maximum_habitual_alcohol_consumption+NHGRI-EBI_GWAS_catalog+rs1260326&Mean_platelet_volume+NHGRI-EBI_GWAS_catalog+rs1260326&Mean_reticulocyte_volume+NHGRI-EBI_GWAS_catalog+rs1260326&Mean_spheric_corpuscular_volume+NHGRI-EBI_GWAS_catalog+rs1260326&Medication_use_drugs_used_in_diabetes+NHGRI-EBI_GWAS_catalog+rs1260326&Medication_use_drugs_used_in_diabetes+NHGRI-EBI_GWAS_catalog+rs1260326&Medication_use_HMG_CoA_reductase_inhibitors+NHGRI-EBI_GWAS_catalog+rs1260326&Medication_use_HMG_CoA_reductase_inhibitors+NHGRI-EBI_GWAS_catalog+rs1260326&Medication_use_HMG_CoA_reductase_inhibitors+NHGRI-EBI_GWAS_catalog+rs1260326&Metabolic_syndrome+NHGRI-EBI_GWAS_catalog+rs1260326&Metabolic_traits+NHGRI-EBI_GWAS_catalog+rs1260326&Metabolite_levels+NHGRI-EBI_GWAS_catalog+rs1260326&Metabolite_levels+NHGRI-EBI_GWAS_catalog+rs1260326&Metabolite_levels+NHGRI-EBI_GWAS_catalog+rs1260326&Metabolite_levels+NHGRI-EBI_GWAS_catalog+rs1260326&Monocyte_percentage_of_white_cells+NHGRI-EBI_GWAS_catalog+rs1260326&Monounsaturated_fatty_acid_levels+NHGRI-EBI_GWAS_catalog+rs1260326&Myeloid_white_cell_count+NHGRI-EBI_GWAS_catalog+rs1260326&Myristoyl-linoleoyl-glycerol_14:0/18:2_[1]_levels+NHGRI-EBI_GWAS_catalog+rs1260326&Neutrophil_count+NHGRI-EBI_GWAS_catalog+rs1260326&Neutrophil_count+NHGRI-EBI_GWAS_catalog+rs1260326&Neutrophil_count+NHGRI-EBI_GWAS_catalog+rs1260326&Neutrophil_percentage_of_white_cells+NHGRI-EBI_GWAS_catalog+rs1260326&Non-albumin_protein_levels+NHGRI-EBI_GWAS_catalog+rs1260326&Nonalcoholic_fatty_liver_disease+NHGRI-EBI_GWAS_catalog+rs1260326&Nonalcoholic_fatty_liver_disease+NHGRI-EBI_GWAS_catalog+rs1260326&Nonalcoholic_fatty_liver_disease+NHGRI-EBI_GWAS_catalog+rs1260326&Nonalcoholic_fatty_liver_disease+NHGRI-EBI_GWAS_catalog+rs1260326&Nonalcoholic_steatohepatitis+NHGRI-EBI_GWAS_catalog+rs1260326&Non-HDL_cholesterol_levels+NHGRI-EBI_GWAS_catalog+rs1260326&Non-HDL_cholesterol_levels+NHGRI-EBI_GWAS_catalog+rs1260326&Non-HDL_cholesterol_levels+NHGRI-EBI_GWAS_catalog+rs1260326&Non-HDL_cholesterol_levels+NHGRI-EBI_GWAS_catalog+rs1260326&Non-oily_fish_consumption+NHGRI-EBI_GWAS_catalog+rs1260326&Oleoyl-arachidonoyl-glycerol_18:1/20:4_[1]_levels+NHGRI-EBI_GWAS_catalog+rs1260326&Omega-3_fatty_acid_levels+NHGRI-EBI_GWAS_catalog+rs1260326&Omega-6_fatty_acid_levels+NHGRI-EBI_GWAS_catalog+rs1260326&Palmitoleoyl-linoleoyl-glycerol_16:1/18:2_[1]_levels+NHGRI-EBI_GWAS_catalog+rs1260326&Percent_glycated_albumin+NHGRI-EBI_GWAS_catalog+rs1260326&Phosphatidylcholine-2O_32:0_[M+H]1+_levels+NHGRI-EBI_GWAS_catalog+rs1260326&Phosphatidylcholine_diacyl_C32:1_levels+NHGRI-EBI_GWAS_catalog+rs1260326&Phosphatidylcholine_diacyl_C32:2_levels+NHGRI-EBI_GWAS_catalog+rs1260326&Phosphatidylcholine_diacyl_C34:1_levels+NHGRI-EBI_GWAS_catalog+rs1260326&Phosphatidylcholine_diacyl_C34:3_levels+NHGRI-EBI_GWAS_catalog+rs1260326&Phosphatidylcholine_diacyl_C34:4_levels+NHGRI-EBI_GWAS_catalog+rs1260326&Phosphatidylcholine_diacyl_C34:4_levels+NHGRI-EBI_GWAS_catalog+rs1260326&Phosphatidylcholine_diacyl_C36:6_levels+NHGRI-EBI_GWAS_catalog+rs1260326&Phosphatidylcholine_diacyl_C38:5_levels+NHGRI-EBI_GWAS_catalog+rs1260326&Phosphatidylcholine_diacyl_C40:5_levels+NHGRI-EBI_GWAS_catalog+rs1260326&Phosphatidylcholine_diacyl_C40:6_levels+NHGRI-EBI_GWAS_catalog+rs1260326&Phosphatidylcholine_levels+NHGRI-EBI_GWAS_catalog+rs1260326&Phosphatidylcholine-O_30:1_[M+H]1+/Phosphatidylcholine-P_30:0_[M+H]1+/Phosphatidylethanolamine-O_33:1_[M+H]1+_levels+NHGRI-EBI_GWAS_catalog+rs1260326&Phosphatidylcholine-O_31:0_[M+H]1+/Phosphatidylethanolamine-O_34:0_[M+H]1+_levels+NHGRI-EBI_GWAS_catalog+rs1260326&Phosphatidylcholine-O_32:1_[M+H]1+/Phosphatidylcholine-P_32:0_[M+H]1+/Phosphatidylethanolamine-O_35:1_[M+H]1+_levels+NHGRI-EBI_GWAS_catalog+rs1260326&Phosphatidylcholine-O_34:1_[M+H]1+/Phosphatidylcholine-P_34:0_[M+H]1+/Phosphatidylethanolamine-O_37:1_[M+H]1+_levels+NHGRI-EBI_GWAS_catalog+rs1260326&Phosphatidylcholine-O_34:2_[M+H]1+/Phosphatidylcholine-P_34:1_[M+H]1+/Phosphatidylethanolamine-O_37:2_[M+H]1+_levels+NHGRI-EBI_GWAS_catalog+rs1260326&Phosphatidylcholine-O_34:3_[M+H]1+/Phosphatidylcholine-P_34:2_[M+H]1+/Phosphatidylethanolamine-P_37:2_[M+H]1+_levels+NHGRI-EBI_GWAS_catalog+rs1260326&Phosphatidylcholine-O_36:2_[M+H]1+/Phosphatidylcholine-P_36:1_[M+H]1+/Phosphatidylethanolamine-P_39:1_[M+H]1+_levels+NHGRI-EBI_GWAS_catalog+rs1260326&Phosphatidylcholine-O_36:3_[M+H]1+/Phosphatidylcholine-P_36:2_[M+H]1+_levels+NHGRI-EBI_GWAS_catalog+rs1260326&Phosphatidylethanolamine_34:1_[M-H]1-_levels+NHGRI-EBI_GWAS_catalog+rs1260326&Phosphoglycerides_levels+NHGRI-EBI_GWAS_catalog+rs1260326&Phospholipid_levels_in_chylomicrons_and_extremely_large_VLDL+NHGRI-EBI_GWAS_catalog+rs1260326&Phospholipid_levels_in_HDL+NHGRI-EBI_GWAS_catalog+rs1260326&Phospholipid_levels_in_large_VLDL+NHGRI-EBI_GWAS_catalog+rs1260326&Phospholipid_levels_in_LDL+NHGRI-EBI_GWAS_catalog+rs1260326&Phospholipid_levels_in_medium_HDL+NHGRI-EBI_GWAS_catalog+rs1260326&Phospholipid_levels_in_medium_LDL+NHGRI-EBI_GWAS_catalog+rs1260326&Phospholipid_levels_in_medium_VLDL+NHGRI-EBI_GWAS_catalog+rs1260326&Phospholipid_levels_in_small_HDL+NHGRI-EBI_GWAS_catalog+rs1260326&Phospholipid_levels_in_small_VLDL+NHGRI-EBI_GWAS_catalog+rs1260326&Phospholipid_levels_in_very_large_HDL+NHGRI-EBI_GWAS_catalog+rs1260326&Phospholipid_levels_in_very_large_VLDL+NHGRI-EBI_GWAS_catalog+rs1260326&Phospholipid_levels_in_very_small_VLDL+NHGRI-EBI_GWAS_catalog+rs1260326&Phospholipid_levels_in_VLDL+NHGRI-EBI_GWAS_catalog+rs1260326&Phospholipids_to_total_lipids_ratio_in_chylomicrons_and_extremely_large_VLDL+NHGRI-EBI_GWAS_catalog+rs1260326&Phospholipids_to_total_lipids_ratio_in_large_HDL+NHGRI-EBI_GWAS_catalog+rs1260326&Phospholipids_to_total_lipids_ratio_in_large_LDL+NHGRI-EBI_GWAS_catalog+rs1260326&Phospholipids_to_total_lipids_ratio_in_large_VLDL+NHGRI-EBI_GWAS_catalog+rs1260326&Phospholipids_to_total_lipids_ratio_in_medium_HDL+NHGRI-EBI_GWAS_catalog+rs1260326&Phospholipids_to_total_lipids_ratio_in_medium_LDL+NHGRI-EBI_GWAS_catalog+rs1260326&Phospholipids_to_total_lipids_ratio_in_medium_VLDL+NHGRI-EBI_GWAS_catalog+rs1260326&Phospholipids_to_total_lipids_ratio_in_small_LDL+NHGRI-EBI_GWAS_catalog+rs1260326&Phospholipids_to_total_lipids_ratio_in_small_VLDL+NHGRI-EBI_GWAS_catalog+rs1260326&Phospholipids_to_total_lipids_ratio_in_very_large_HDL+NHGRI-EBI_GWAS_catalog+rs1260326&Phospholipids_to_total_lipids_ratio_in_very_small_VLDL+NHGRI-EBI_GWAS_catalog+rs1260326&Plasma_ANGPTL8_levels+NHGRI-EBI_GWAS_catalog+rs1260326&Plasma_lactate_levels+NHGRI-EBI_GWAS_catalog+rs1260326&Platelet_Count+NHGRI-EBI_GWAS_catalog+rs1260326&Platelet_Count+NHGRI-EBI_GWAS_catalog+rs1260326&Platelet_Count+NHGRI-EBI_GWAS_catalog+rs1260326&Plateletcrit+NHGRI-EBI_GWAS_catalog+rs1260326&Plateletcrit+NHGRI-EBI_GWAS_catalog+rs1260326&Polyunsaturated_fatty_acid_levels+NHGRI-EBI_GWAS_catalog+rs1260326&Problematic_alcohol_use+NHGRI-EBI_GWAS_catalog+rs1260326&Problematic_alcohol_use_MTAG+NHGRI-EBI_GWAS_catalog+rs1260326&Problematic_alcohol_use_MTAG+NHGRI-EBI_GWAS_catalog+rs1260326&Protein_C_levels+NHGRI-EBI_GWAS_catalog+rs1260326&Pyruvate_levels+NHGRI-EBI_GWAS_catalog+rs1260326&Pyruvate_levels+NHGRI-EBI_GWAS_catalog+rs1260326&Ratio_of_linoleic_acid_to_total_fatty_acids+NHGRI-EBI_GWAS_catalog+rs1260326&Ratio_of_monounsaturated_fatty_acids_to_total_fatty_acids+NHGRI-EBI_GWAS_catalog+rs1260326&Ratio_of_omega-3_fatty_acids_to_total_fatty_acids+NHGRI-EBI_GWAS_catalog+rs1260326&Ratio_of_omega-6_fatty_acids_to_omega-3_fatty_acids+NHGRI-EBI_GWAS_catalog+rs1260326&Ratio_of_omega-6_fatty_acids_to_total_fatty_acids+NHGRI-EBI_GWAS_catalog+rs1260326&Ratio_of_polyunsaturated_fatty_acids_to_monounsaturated_fatty_acids+NHGRI-EBI_GWAS_catalog+rs1260326&Ratio_of_polyunsaturated_fatty_acids_to_total_fatty_acids+NHGRI-EBI_GWAS_catalog+rs1260326&Ratio_of_saturated_fatty_acids_to_total_fatty_acids+NHGRI-EBI_GWAS_catalog+rs1260326&Ratio_of_triglycerides_to_phosphoglycerides+NHGRI-EBI_GWAS_catalog+rs1260326&Red_cell_distribution_width+NHGRI-EBI_GWAS_catalog+rs1260326&Red_cell_distribution_width+NHGRI-EBI_GWAS_catalog+rs1260326&Red_cell_distribution_width+NHGRI-EBI_GWAS_catalog+rs1260326&Refractive_error+NHGRI-EBI_GWAS_catalog+rs1260326&Renal_overload_gout+NHGRI-EBI_GWAS_catalog+rs1260326&Resting_heart_rate+NHGRI-EBI_GWAS_catalog+rs1260326&Resting_heart_rate+NHGRI-EBI_GWAS_catalog+rs1260326&Reticulocyte_count+NHGRI-EBI_GWAS_catalog+rs1260326&Reticulocyte_fraction_of_red_cells+NHGRI-EBI_GWAS_catalog+rs1260326&Saturated_fatty_acid_levels+NHGRI-EBI_GWAS_catalog+rs1260326&Serine_levels+NHGRI-EBI_GWAS_catalog+rs1260326&Serum_25-Hydroxyvitamin_D_levels+NHGRI-EBI_GWAS_catalog+rs1260326&Serum_25-Hydroxyvitamin_D_levels+NHGRI-EBI_GWAS_catalog+rs1260326&Serum_albumin_levels+NHGRI-EBI_GWAS_catalog+rs1260326&Serum_albumin_levels+NHGRI-EBI_GWAS_catalog+rs1260326&Serum_albumin_levels+NHGRI-EBI_GWAS_catalog+rs1260326&Serum_alkaline_phosphatase_levels+NHGRI-EBI_GWAS_catalog+rs1260326&Serum_alkaline_phosphatase_levels+NHGRI-EBI_GWAS_catalog+rs1260326&Serum_alkaline_phosphatase_levels+NHGRI-EBI_GWAS_catalog+rs1260326&Serum_alpha1-antitrypsin_levels+NHGRI-EBI_GWAS_catalog+rs1260326&Serum_creatinine_levels+NHGRI-EBI_GWAS_catalog+rs1260326&Serum_metabolite_levels+NHGRI-EBI_GWAS_catalog+rs1260326&Serum_metabolite_levels+NHGRI-EBI_GWAS_catalog+rs1260326&Serum_metabolite_levels+NHGRI-EBI_GWAS_catalog+rs1260326&Serum_metabolite_levels+NHGRI-EBI_GWAS_catalog+rs1260326&Serum_metabolite_levels_CMS+NHGRI-EBI_GWAS_catalog+rs1260326&Serum_metabolite_levels_CMS+NHGRI-EBI_GWAS_catalog+rs1260326&Serum_metabolite_levels_CMS+NHGRI-EBI_GWAS_catalog+rs1260326&Serum_metabolite_levels_CMS+NHGRI-EBI_GWAS_catalog+rs1260326&Serum_total_protein_level+NHGRI-EBI_GWAS_catalog+rs1260326&Serum_total_protein_level+NHGRI-EBI_GWAS_catalog+rs1260326&Serum_total_protein_level+NHGRI-EBI_GWAS_catalog+rs1260326&Serum_uric_acid_levels+NHGRI-EBI_GWAS_catalog+rs1260326&Serum_uric_acid_levels+NHGRI-EBI_GWAS_catalog+rs1260326&Serum_uric_acid_levels+NHGRI-EBI_GWAS_catalog+rs1260326&Sex_hormone-binding_globulin_levels_adjusted_for_BMI+NHGRI-EBI_GWAS_catalog+rs1260326&Sex_hormone-binding_globulin_levels_adjusted_for_BMI+NHGRI-EBI_GWAS_catalog+rs1260326&Sex_hormone-binding_globulin_levels+NHGRI-EBI_GWAS_catalog+rs1260326&Sex_hormone-binding_globulin_levels+NHGRI-EBI_GWAS_catalog+rs1260326&Sex_hormone-binding_globulin_levels_in_postmenopausal_women+NHGRI-EBI_GWAS_catalog+rs1260326&Sex_hormone-binding_globulin_levels_in_premenopausal_women+NHGRI-EBI_GWAS_catalog+rs1260326&Sphingomyelin33:1_[M-CH3]1-_levels+NHGRI-EBI_GWAS_catalog+rs1260326&Sphingomyelin_33:1_[M+H]1+_levels+NHGRI-EBI_GWAS_catalog+rs1260326&Sphingomyelin_34:0_[M+H]1+_levels+NHGRI-EBI_GWAS_catalog+rs1260326&Sphingomyelin_34:1_[M+H]1+_levels+NHGRI-EBI_GWAS_catalog+rs1260326&Sphingomyelin_34:2_[M+H]1+_levels+NHGRI-EBI_GWAS_catalog+rs1260326&Sphingomyelin_35:1_[M+H]1+_levels+NHGRI-EBI_GWAS_catalog+rs1260326&Sphingomyelin37:1_[M+H]1+_levels+NHGRI-EBI_GWAS_catalog+rs1260326&Sphingomyelin_levels+NHGRI-EBI_GWAS_catalog+rs1260326&Sum_basophil_neutrophil_counts+NHGRI-EBI_GWAS_catalog+rs1260326&Sum_neutrophil_eosinophil_counts+NHGRI-EBI_GWAS_catalog+rs1260326&Testosterone_levels+NHGRI-EBI_GWAS_catalog+rs1260326&Testosterone_levels+NHGRI-EBI_GWAS_catalog+rs1260326&Testosterone_levels_in_postmenopausal_women+NHGRI-EBI_GWAS_catalog+rs1260326&Threonine_levels+NHGRI-EBI_GWAS_catalog+rs1260326&Total_cholesterol_levels+NHGRI-EBI_GWAS_catalog+rs1260326&Total_cholesterol_levels+NHGRI-EBI_GWAS_catalog+rs1260326&Total_cholesterol_levels+NHGRI-EBI_GWAS_catalog+rs1260326&Total_cholesterol_levels+NHGRI-EBI_GWAS_catalog+rs1260326&Total_cholesterol_minus_HDL-C_levels+NHGRI-EBI_GWAS_catalog+rs1260326&Total_cholines_levels+NHGRI-EBI_GWAS_catalog+rs1260326&Total_concentration_of_branched-chain_amino_acids_leucine_+_isoleucine_+_valine+NHGRI-EBI_GWAS_catalog+rs1260326&Total_concentration_of_lipoprotein_particles+NHGRI-EBI_GWAS_catalog+rs1260326&Total_esterified_cholesterol_levels+NHGRI-EBI_GWAS_catalog+rs1260326&Total_fatty_acid_levels+NHGRI-EBI_GWAS_catalog+rs1260326&Total_free_cholesterol_levels+NHGRI-EBI_GWAS_catalog+rs1260326&Total_lipid_levels_in_chylomicrons_and_extremely_large_VLDL+NHGRI-EBI_GWAS_catalog+rs1260326&Total_lipid_levels_in_HDL+NHGRI-EBI_GWAS_catalog+rs1260326&Total_lipid_levels_in_large_HDL+NHGRI-EBI_GWAS_catalog+rs1260326&Total_lipid_levels_in_large_LDL+NHGRI-EBI_GWAS_catalog+rs1260326&Total_lipid_levels_in_large_VLDL+NHGRI-EBI_GWAS_catalog+rs1260326&Total_lipid_levels_in_LDL+NHGRI-EBI_GWAS_catalog+rs1260326&Total_lipid_levels_in_lipoprotein_particles+NHGRI-EBI_GWAS_catalog+rs1260326&Total_lipid_levels_in_medium_HDL+NHGRI-EBI_GWAS_catalog+rs1260326&Total_lipid_levels_in_medium_LDL+NHGRI-EBI_GWAS_catalog+rs1260326&Total_lipid_levels_in_medium_VLDL+NHGRI-EBI_GWAS_catalog+rs1260326&Total_lipid_levels_in_small_HDL+NHGRI-EBI_GWAS_catalog+rs1260326&Total_lipid_levels_in_small_LDL+NHGRI-EBI_GWAS_catalog+rs1260326&Total_lipid_levels_in_small_VLDL+NHGRI-EBI_GWAS_catalog+rs1260326&Total_lipid_levels_in_very_large_HDL+NHGRI-EBI_GWAS_catalog+rs1260326&Total_lipid_levels_in_very_large_VLDL+NHGRI-EBI_GWAS_catalog+rs1260326&Total_lipid_levels_in_very_small_VLDL+NHGRI-EBI_GWAS_catalog+rs1260326&Total_lipid_levels_in_VLDL+NHGRI-EBI_GWAS_catalog+rs1260326&Total_omega-3_fatty_acid_levels+NHGRI-EBI_GWAS_catalog+rs1260326&Total_omega-6_fatty_acid_levels+NHGRI-EBI_GWAS_catalog+rs1260326&Total_phospholipid_levels_in_lipoprotein_particles+NHGRI-EBI_GWAS_catalog+rs1260326&Total_testosterone_levels+NHGRI-EBI_GWAS_catalog+rs1260326&Total_testosterone_levels+NHGRI-EBI_GWAS_catalog+rs1260326&Total_testosterone_levels+NHGRI-EBI_GWAS_catalog+rs1260326&Total_triglycerides_levels+NHGRI-EBI_GWAS_catalog+rs1260326&Total_triglycerides_levels+NHGRI-EBI_GWAS_catalog+rs1260326&Triacylglyceride_levels+NHGRI-EBI_GWAS_catalog+rs1260326&Triacylglycerol_48:2_[NL-16:0]_levels+NHGRI-EBI_GWAS_catalog+rs1260326&Triacylglycerol_50:2_[M+NH4]1+_levels+NHGRI-EBI_GWAS_catalog+rs1260326&Triacylglycerol_50:3_[M+NH4]1+_levels+NHGRI-EBI_GWAS_catalog+rs1260326&Triacylglycerol_50:4_[M+NH4]1+_levels+NHGRI-EBI_GWAS_catalog+rs1260326&Triacylglycerol_50:5_[M+NH4]1+_levels+NHGRI-EBI_GWAS_catalog+rs1260326&Triacylglycerol_52:6_[M+NH4]1+_levels+NHGRI-EBI_GWAS_catalog+rs1260326&Triglyceride_levels+NHGRI-EBI_GWAS_catalog+rs1260326&Triglyceride_levels+NHGRI-EBI_GWAS_catalog+rs1260326&Triglyceride_levels+NHGRI-EBI_GWAS_catalog+rs1260326&Triglyceride_levels+NHGRI-EBI_GWAS_catalog+rs1260326&Triglyceride_levels_in_chylomicrons_and_extremely_large_VLDL+NHGRI-EBI_GWAS_catalog+rs1260326&Triglyceride_levels_in_HDL+NHGRI-EBI_GWAS_catalog+rs1260326&Triglyceride_levels_in_IDL+NHGRI-EBI_GWAS_catalog+rs1260326&Triglyceride_levels_in_large_HDL+NHGRI-EBI_GWAS_catalog+rs1260326&Triglyceride_levels_in_large_LDL+NHGRI-EBI_GWAS_catalog+rs1260326&Triglyceride_levels_in_large_VLDL+NHGRI-EBI_GWAS_catalog+rs1260326&Triglyceride_levels_in_LDL+NHGRI-EBI_GWAS_catalog+rs1260326&Triglyceride_levels_in_medium_HDL+NHGRI-EBI_GWAS_catalog+rs1260326&Triglyceride_levels_in_medium_LDL+NHGRI-EBI_GWAS_catalog+rs1260326&Triglyceride_levels_in_medium_VLDL+NHGRI-EBI_GWAS_catalog+rs1260326&Triglyceride_levels_in_small_HDL+NHGRI-EBI_GWAS_catalog+rs1260326&Triglyceride_levels_in_small_LDL+NHGRI-EBI_GWAS_catalog+rs1260326&Triglyceride_levels_in_small_VLDL+NHGRI-EBI_GWAS_catalog+rs1260326&Triglyceride_levels_in_very_large_HDL+NHGRI-EBI_GWAS_catalog+rs1260326&Triglyceride_levels_in_very_large_VLDL+NHGRI-EBI_GWAS_catalog+rs1260326&Triglyceride_levels_in_very_small_VLDL+NHGRI-EBI_GWAS_catalog+rs1260326&Triglyceride_levels_in_VLDL+NHGRI-EBI_GWAS_catalog+rs1260326&Triglyceride_levels_x_long_total_sleep_time_interaction_2df_test+NHGRI-EBI_GWAS_catalog+rs1260326&Triglyceride_levels_x_short_total_sleep_time_interaction_2df_test+NHGRI-EBI_GWAS_catalog+rs1260326&Triglycerides+NHGRI-EBI_GWAS_catalog+rs1260326&Triglycerides+NHGRI-EBI_GWAS_catalog+rs1260326&Triglycerides+NHGRI-EBI_GWAS_catalog+rs1260326&Triglycerides+NHGRI-EBI_GWAS_catalog+rs1260326&Triglycerides_to_total_lipids_ratio_in_IDL+NHGRI-EBI_GWAS_catalog+rs1260326&Triglycerides_to_total_lipids_ratio_in_large_HDL+NHGRI-EBI_GWAS_catalog+rs1260326&Triglycerides_to_total_lipids_ratio_in_large_LDL+NHGRI-EBI_GWAS_catalog+rs1260326&Triglycerides_to_total_lipids_ratio_in_medium_HDL+NHGRI-EBI_GWAS_catalog+rs1260326&Triglycerides_to_total_lipids_ratio_in_medium_LDL+NHGRI-EBI_GWAS_catalog+rs1260326&Triglycerides_to_total_lipids_ratio_in_medium_VLDL+NHGRI-EBI_GWAS_catalog+rs1260326&Triglycerides_to_total_lipids_ratio_in_small_HDL+NHGRI-EBI_GWAS_catalog+rs1260326&Triglycerides_to_total_lipids_ratio_in_small_LDL+NHGRI-EBI_GWAS_catalog+rs1260326&Triglycerides_to_total_lipids_ratio_in_small_VLDL+NHGRI-EBI_GWAS_catalog+rs1260326&Triglycerides_to_total_lipids_ratio_in_very_large_HDL+NHGRI-EBI_GWAS_catalog+rs1260326&Triglycerides_to_total_lipids_ratio_in_very_large_VLDL+NHGRI-EBI_GWAS_catalog+rs1260326&Triglycerides_to_total_lipids_ratio_in_very_small_VLDL+NHGRI-EBI_GWAS_catalog+rs1260326&Triglycerides_x_physical_activity_interaction__2df_test_+NHGRI-EBI_GWAS_catalog+rs1260326&Two-hour_glucose+NHGRI-EBI_GWAS_catalog+rs1260326&Two-hour_glucose_challenge+NHGRI-EBI_GWAS_catalog+rs1260326&Type_2_diabetes__adjusted_for_BMI_+NHGRI-EBI_GWAS_catalog+rs1260326&Type_2_diabetes__adjusted_for_BMI_+NHGRI-EBI_GWAS_catalog+rs1260326&Type_2_diabetes+NHGRI-EBI_GWAS_catalog+rs1260326&Type_2_diabetes+NHGRI-EBI_GWAS_catalog+rs1260326&Type_2_diabetes+NHGRI-EBI_GWAS_catalog+rs1260326&Type_2_diabetes+NHGRI-EBI_GWAS_catalog+rs1260326&Urate_levels+NHGRI-EBI_GWAS_catalog+rs1260326&Urate_levels+NHGRI-EBI_GWAS_catalog+rs1260326&Urate_levels+NHGRI-EBI_GWAS_catalog+rs1260326&Urate_levels_in_overweight_individuals+NHGRI-EBI_GWAS_catalog+rs1260326&Urate_levels_in_overweight_individuals+NHGRI-EBI_GWAS_catalog+rs1260326&Urinary_sodium_excretion+NHGRI-EBI_GWAS_catalog+rs1260326&Urinary_sodium_to_creatinine_ratio+NHGRI-EBI_GWAS_catalog+rs1260326&Urolithiasis+NHGRI-EBI_GWAS_catalog+rs1260326&Urolithiasis+NHGRI-EBI_GWAS_catalog+rs1260326&Urolithiasis+NHGRI-EBI_GWAS_catalog+rs1260326&Valine_levels+NHGRI-EBI_GWAS_catalog+rs1260326&Venous_thromboembolism_or_factor_VII_levels_pleiotropy+NHGRI-EBI_GWAS_catalog+rs1260326&VLDL_cholesterol_levels+NHGRI-EBI_GWAS_catalog+rs1260326&Waist_circumference_and_related_phenotypes+NHGRI-EBI_GWAS_catalog+rs1260326&Weight+NHGRI-EBI_GWAS_catalog+rs1260326&White_blood_cell_count+NHGRI-EBI_GWAS_catalog+rs1260326&White_blood_cell_count+NHGRI-EBI_GWAS_catalog+rs1260326&White_blood_cell_count+NHGRI-EBI_GWAS_catalog+rs1260326&White_blood_cell_count+NHGRI-EBI_GWAS_catalog+rs1260326&X-19438_levels+NHGRI-EBI_GWAS_catalog+rs1260326&X-24295_levels+NHGRI-EBI_GWAS_catalog+rs1260326&Cholesterol__total+Teslovich+rs1260326\n",
      "[nan 'Retinitis_pigmentosa+G2P+ENSG00000187634'\n",
      " 'Retinitis_pigmentosa+G2P+ENSG00000187634&ClinVar:_phenotype_not_specified+ClinVar+rs6672356'\n",
      " 'Skin_reflectance__Melanin_index_+NHGRI-EBI_GWAS_catalog+rs2272756'\n",
      " 'Pancreatic_Cancer+NHGRI-EBI_GWAS_catalog+rs13303010'\n",
      " 'Height+NHGRI-EBI_GWAS_catalog+rs3829738'\n",
      " 'Neutrophil_inclusion_bodies+ClinVar+rs7417106&Renal_tubular_epithelial_cell_apoptosis+ClinVar+rs7417106'\n",
      " 'High_density_lipoprotein_cholesterol_levels+NHGRI-EBI_GWAS_catalog+rs13303368'\n",
      " 'IMMUNODEFICIENCY_38_WITH_BASAL_GANGLIA_CALCIFICATION+MIM_morbid+ENSG00000187608&Mendelian_susceptibility_to_mycobacterial_diseases_due_to_complete_ISG15_deficiency+Orphanet+ENSG00000187608'\n",
      " 'IMMUNODEFICIENCY_38_WITH_BASAL_GANGLIA_CALCIFICATION+MIM_morbid+ENSG00000187608&Mendelian_susceptibility_to_mycobacterial_diseases_due_to_complete_ISG15_deficiency+Orphanet+ENSG00000187608&Blood_protein_levels+NHGRI-EBI_GWAS_catalog+rs3121567']\n",
      "\n",
      "CLIN_SIG\n",
      "Num uniq: 184\n",
      "Argmax: 329885\n",
      "risk_factor&benign&likely_benign&association&pathogenic&other&likely_pathogenic&conflicting_interpretations_of_pathogenicity\n",
      "[nan 'benign' 'pathogenic' 'not_provided' 'likely_benign'\n",
      " 'benign&likely_benign' 'benign&uncertain_significance'\n",
      " 'benign&likely_benign&drug_response&not_provided&uncertain_significance&conflicting_interpretations_of_pathogenicity'\n",
      " 'uncertain_significance' 'association']\n",
      "\n",
      "SOMATIC\n",
      "Num uniq: 19\n",
      "Argmax: 79593\n",
      "1&1&1&1&1&1&1&1&1\n",
      "[nan '0&1' '0&0&1' '0&1&1' '0&1&1&1' '0&0&1&1' '0&0&0&1' '0&1&1&1&1' '1'\n",
      " '0&0&0&0&1']\n",
      "\n",
      "PUBMED\n",
      "Num uniq: 12572\n",
      "Argmax: 12917\n",
      "20981351&21444836&21894447&30387422&27247849&20952631&20521218&21953487&22938532&23820649&25266489&26091847&27233804&18187665&20401335&19379518&20565774&22024213&26602921&31469255&27480026&22552919&21172166&18794727&23856471&28611364&27103841&23575227&27333884&22949529&30955239&25941324&20921971&32024468&26058836&12374873&17496726&17512307&19553224&29587766&31056593&18059082&17150099&27589963&16120061&26111150&18534365&18615004&20869266&21414566&21807569&26602751&26879662&27669015&30668166&31090079&21395649&19743955&19842931&22683993&24332148&26694722&27108086&30753253&30756358&10212248&16844790&17335470&22495925&22703382&23065660&23073218&29514624&28887371&24954895&29888336&22382501&28351962&25592601&31819590&25432901&28931564&21305273&18437562&25443111&28607931&28496656&23202124&31018568&23927520&29455858&31141530&24910551&31105432&24932357&24093767&23689943&18794726&28734628&26046407&24621099&22703928&20581797&29404309&29912962&27841878&30006737&26920668&28089639&30823438&30578418&27618447&23303660&2238000\n",
      "[nan '24447899&35987071' '35987071' '21130836' '17544380&33073494'\n",
      " '33073494' '19822575' '28860459' '22678113&25916332' '31637880']\n",
      "\n",
      "Consequence\n",
      "Num uniq: 94\n",
      "Argmax: 286527\n",
      "splice_acceptor_variant&splice_donor_variant&splice_donor_5th_base_variant&splice_polypyrimidine_tract_variant&intron_variant\n",
      "['downstream_gene_variant' 'non_coding_transcript_exon_variant'\n",
      " 'upstream_gene_variant' '3_prime_UTR_variant' 'intron_variant'\n",
      " 'splice_polypyrimidine_tract_variant&intron_variant' 'synonymous_variant'\n",
      " 'missense_variant' 'splice_donor_region_variant&intron_variant'\n",
      " '5_prime_UTR_variant']\n",
      "\n",
      "HGVSp\n",
      "Num uniq: 29180\n",
      "Argmax: 199393\n",
      "ENSP00000252825.3:p.His321_Gln322insGlyGlyHisArgLysGluGluAspGluAspValSerAspGluHisHisHisHisSerProSerHisArgHisArgGlyHisLysGluGluGluGluAspAspAspAspAspAspAspValSerThrGluTyrGlyHisGlnAlaHisArgHis\n",
      "[nan 'ENSP00000317992.6:p.Thr394%3D' 'ENSP00000317992.6:p.Glu306%3D'\n",
      " 'ENSP00000317992.6:p.Ile300Val' 'ENSP00000343930.3:p.Val621%3D'\n",
      " 'ENSP00000343864.2:p.Val663Ala' 'ENSP00000343864.2:p.Arg632%3D'\n",
      " 'ENSP00000343864.2:p.Gln406Glu' 'ENSP00000343864.2:p.Ser398Gly'\n",
      " 'ENSP00000343864.2:p.Leu281%3D']\n",
      "\n",
      "FLAGS\n",
      "Num uniq: 5\n",
      "Argmax: 1839\n",
      "cds_start_NF&cds_end_NF\n",
      "[nan 'cds_start_NF' 'cds_end_NF' 'cds_start_NF&cds_end_NF'\n",
      " 'cds_end_NF&cds_start_NF']\n",
      "\n",
      "PHENO\n",
      "Num uniq: 17\n",
      "Argmax: 79593\n",
      "1&1&1&1&1&1&1&1&1\n",
      "[nan '0&1' '1&1' '1' '0&1&1' '1&1&1' '1&1&1&1' '0&1&1&1' '1&1&1&1&1'\n",
      " '0&1&1&1&1']\n",
      "\n",
      "Existing_variation\n",
      "Num uniq: 268961\n",
      "Argmax: 79593\n",
      "COSV106097567&COSV106097597&COSV106097613&COSV106097618&COSV51544217&COSV51551832&COSV51558469&COSV51558827&COSV51561854\n",
      "['rs2691315' 'rs201535981' 'rs71260069' 'rs367730352' 'rs71267774'\n",
      " 'rs1396210256' 'rs1441656517' 'rs1490434665' 'rs1364805962'\n",
      " 'rs1221392627']\n",
      "\n",
      "TRANSCRIPTION_FACTORS\n",
      "Num uniq: 8\n",
      "Argmax: 231341\n",
      "MEF2A&MEF2D&MEF2B\n",
      "[nan 'SOX6::TBX21' 'CTCF' 'GCM1::MAX' 'TFAP2C::MAX' 'MYBL1::MAX'\n",
      " 'ETV2::RFX5' 'MEF2A&MEF2D&MEF2B']\n",
      "\n",
      "VAR_SYNONYMS\n",
      "Num uniq: 25211\n",
      "Argmax: 435314\n",
      "ClinVar::RCV000716073&VCV000587963&RCV000715753&VCV000587879&RCV000715497&VCV000587833&RCV000717985&VCV000588716&RCV000717468&VCV000588473&RCV001575862&RCV001527980&RCV001529698&RCV001559429&RCV001572885&RCV002249437&RCV001668223&RCV002493272&RCV002490760&RCV002314562&RCV002313653&RCV002312443&RCV002312367&RCV002312322&RCV002312020&RCV002311825&RCV002311824&RCV002298473&RCV002315506&RCV002367693&RCV001683642&RCV001727797&RCV001662789&RCV000717578&RCV000716277&RCV000715616&RCV000715206&RCV000611767&RCV000513731&RCV000504347&VCV000436801&RCV000503821&VCV000436797&RCV000502291&VCV000436800&RCV000192369&VCV000212231&RCV000194391&VCV000212230&RCV000114296&VCV000126353&RCV000114295&VCV000126352&RCV001262347\n",
      "[nan 'ClinVar::VCV001185186&RCV001543790--COSMIC::COSM3807975'\n",
      " 'ClinVar::VCV001185191&RCV001543795--COSMIC::COSM146863'\n",
      " 'COSMIC::COSM4594799' 'COSMIC::COSM5546535'\n",
      " 'ClinVar::VCV001185187&RCV001543791' 'ClinVar::VCV001185188&RCV001543792'\n",
      " 'ClinVar::VCV001185189&RCV001543793--COSMIC::COSM7220108'\n",
      " 'ClinVar::VCV001185190&RCV001543794' 'ClinVar::VCV001185192&RCV001543796']\n",
      "\n"
     ]
    }
   ],
   "source": [
    "for col in separable_csq_columns:\n",
    "    print(col)\n",
    "    print(\"Num uniq:\", len(EE_potential_csq[col].unique()))\n",
    "    max_len = np.argmax(list(map(len, map(str, EE_potential_csq[col]))))\n",
    "    print(\"Argmax:\",max_len)\n",
    "    print(EE_potential_csq[col][max_len])\n",
    "    print(EE_potential_csq[col].unique()[:10])\n",
    "    print()"
   ]
  },
  {
   "cell_type": "code",
   "execution_count": 17,
   "metadata": {},
   "outputs": [
    {
     "data": {
      "text/plain": [
       "20043"
      ]
     },
     "execution_count": 17,
     "metadata": {},
     "output_type": "execute_result"
    }
   ],
   "source": [
    "# PHENOTYPES split\n",
    "phenotypes_split_example = [x.split(\"+\") for x in EE_potential_csq[\"PHENOTYPES\"].iloc[24931].split(\"&\")]\n",
    "\n",
    "phenotypes_unique = set([])\n",
    "for c in EE_potential_csq[\"PHENOTYPES\"].unique():\n",
    "    if not isinstance(c, float):\n",
    "        for _c in c.split(\"&\"):\n",
    "            pc = _c.split(\"+\")[0]\n",
    "            phenotypes_unique.add(pc)\n",
    "    else:\n",
    "        phenotypes_unique.add(c)\n",
    "\n",
    "len(phenotypes_unique)"
   ]
  },
  {
   "cell_type": "code",
   "execution_count": 18,
   "metadata": {},
   "outputs": [],
   "source": [
    "# CLIN_SIG split\n",
    "clin_sig_unique = set([])\n",
    "for c in EE_potential_csq[\"CLIN_SIG\"].unique():\n",
    "    if not isinstance(c, float):\n",
    "        for _c in c.split(\"&\"):\n",
    "            clin_sig_unique.add(_c)\n",
    "    else:\n",
    "        clin_sig_unique.add(c)\n",
    "\n",
    "# clin_sig_unique"
   ]
  },
  {
   "cell_type": "code",
   "execution_count": 19,
   "metadata": {},
   "outputs": [
    {
     "data": {
      "text/html": [
       "<div>\n",
       "<style scoped>\n",
       "    .dataframe tbody tr th:only-of-type {\n",
       "        vertical-align: middle;\n",
       "    }\n",
       "\n",
       "    .dataframe tbody tr th {\n",
       "        vertical-align: top;\n",
       "    }\n",
       "\n",
       "    .dataframe thead th {\n",
       "        text-align: right;\n",
       "    }\n",
       "</style>\n",
       "<table border=\"1\" class=\"dataframe\">\n",
       "  <thead>\n",
       "    <tr style=\"text-align: right;\">\n",
       "      <th></th>\n",
       "      <th>Existing_variation</th>\n",
       "      <th>SOMATIC</th>\n",
       "      <th>PHENO</th>\n",
       "      <th>CLIN_SIG</th>\n",
       "    </tr>\n",
       "  </thead>\n",
       "  <tbody>\n",
       "    <tr>\n",
       "      <th>92</th>\n",
       "      <td>rs397834473&amp;COSV65068887</td>\n",
       "      <td>0&amp;1</td>\n",
       "      <td>1&amp;1</td>\n",
       "      <td>benign</td>\n",
       "    </tr>\n",
       "    <tr>\n",
       "      <th>93</th>\n",
       "      <td>rs147681220&amp;COSV101038847</td>\n",
       "      <td>0&amp;1</td>\n",
       "      <td>1&amp;1</td>\n",
       "      <td>benign</td>\n",
       "    </tr>\n",
       "    <tr>\n",
       "      <th>98</th>\n",
       "      <td>rs3121561&amp;COSV65069616</td>\n",
       "      <td>0&amp;1</td>\n",
       "      <td>1&amp;1</td>\n",
       "      <td>benign</td>\n",
       "    </tr>\n",
       "    <tr>\n",
       "      <th>99</th>\n",
       "      <td>rs2465136&amp;COSV65069776</td>\n",
       "      <td>0&amp;1</td>\n",
       "      <td>1&amp;1</td>\n",
       "      <td>benign</td>\n",
       "    </tr>\n",
       "    <tr>\n",
       "      <th>133</th>\n",
       "      <td>rs307377&amp;CM098260&amp;COSV59564749</td>\n",
       "      <td>0&amp;0&amp;1</td>\n",
       "      <td>0&amp;1&amp;1</td>\n",
       "      <td>NaN</td>\n",
       "    </tr>\n",
       "  </tbody>\n",
       "</table>\n",
       "</div>"
      ],
      "text/plain": [
       "                 Existing_variation SOMATIC  PHENO CLIN_SIG\n",
       "92         rs397834473&COSV65068887     0&1    1&1   benign\n",
       "93        rs147681220&COSV101038847     0&1    1&1   benign\n",
       "98           rs3121561&COSV65069616     0&1    1&1   benign\n",
       "99           rs2465136&COSV65069776     0&1    1&1   benign\n",
       "133  rs307377&CM098260&COSV59564749   0&0&1  0&1&1      NaN"
      ]
     },
     "execution_count": 19,
     "metadata": {},
     "output_type": "execute_result"
    }
   ],
   "source": [
    "unequal_rows = EE_potential_csq[EE_potential_csq['SOMATIC'].notna() & EE_potential_csq['PHENO'].notna() & (EE_potential_csq['SOMATIC'] != EE_potential_csq['PHENO'])]\n",
    "unequal_rows[[\"Existing_variation\", \"SOMATIC\", \"PHENO\", \"CLIN_SIG\"]].iloc[10:15]"
   ]
  },
  {
   "cell_type": "code",
   "execution_count": 20,
   "metadata": {},
   "outputs": [
    {
     "data": {
      "text/html": [
       "<div>\n",
       "<style scoped>\n",
       "    .dataframe tbody tr th:only-of-type {\n",
       "        vertical-align: middle;\n",
       "    }\n",
       "\n",
       "    .dataframe tbody tr th {\n",
       "        vertical-align: top;\n",
       "    }\n",
       "\n",
       "    .dataframe thead th {\n",
       "        text-align: right;\n",
       "    }\n",
       "</style>\n",
       "<table border=\"1\" class=\"dataframe\">\n",
       "  <thead>\n",
       "    <tr style=\"text-align: right;\">\n",
       "      <th></th>\n",
       "      <th>Existing_variation</th>\n",
       "      <th>SOMATIC</th>\n",
       "      <th>PHENO</th>\n",
       "      <th>CLIN_SIG</th>\n",
       "    </tr>\n",
       "  </thead>\n",
       "  <tbody>\n",
       "    <tr>\n",
       "      <th>202</th>\n",
       "      <td>rs3817856&amp;COSV55802795</td>\n",
       "      <td>0&amp;1</td>\n",
       "      <td>0&amp;1</td>\n",
       "      <td>NaN</td>\n",
       "    </tr>\n",
       "    <tr>\n",
       "      <th>203</th>\n",
       "      <td>rs34869725&amp;COSV55803457</td>\n",
       "      <td>0&amp;1</td>\n",
       "      <td>0&amp;1</td>\n",
       "      <td>NaN</td>\n",
       "    </tr>\n",
       "    <tr>\n",
       "      <th>204</th>\n",
       "      <td>rs1474648&amp;COSV55804435</td>\n",
       "      <td>0&amp;1</td>\n",
       "      <td>0&amp;1</td>\n",
       "      <td>NaN</td>\n",
       "    </tr>\n",
       "    <tr>\n",
       "      <th>205</th>\n",
       "      <td>rs1474649</td>\n",
       "      <td>NaN</td>\n",
       "      <td>NaN</td>\n",
       "      <td>NaN</td>\n",
       "    </tr>\n",
       "    <tr>\n",
       "      <th>206</th>\n",
       "      <td>rs2377208</td>\n",
       "      <td>NaN</td>\n",
       "      <td>NaN</td>\n",
       "      <td>NaN</td>\n",
       "    </tr>\n",
       "    <tr>\n",
       "      <th>207</th>\n",
       "      <td>rs2889577</td>\n",
       "      <td>NaN</td>\n",
       "      <td>NaN</td>\n",
       "      <td>NaN</td>\n",
       "    </tr>\n",
       "  </tbody>\n",
       "</table>\n",
       "</div>"
      ],
      "text/plain": [
       "          Existing_variation SOMATIC PHENO CLIN_SIG\n",
       "202   rs3817856&COSV55802795     0&1   0&1      NaN\n",
       "203  rs34869725&COSV55803457     0&1   0&1      NaN\n",
       "204   rs1474648&COSV55804435     0&1   0&1      NaN\n",
       "205                rs1474649     NaN   NaN      NaN\n",
       "206                rs2377208     NaN   NaN      NaN\n",
       "207                rs2889577     NaN   NaN      NaN"
      ]
     },
     "execution_count": 20,
     "metadata": {},
     "output_type": "execute_result"
    }
   ],
   "source": [
    "# SOMATIC split\n",
    "EE_potential_csq[[\"Existing_variation\", \"SOMATIC\", \"PHENO\", \"CLIN_SIG\"]].iloc[202:208]"
   ]
  },
  {
   "cell_type": "code",
   "execution_count": 21,
   "metadata": {},
   "outputs": [
    {
     "data": {
      "text/plain": [
       "{'3_prime_UTR_variant',\n",
       " '5_prime_UTR_variant',\n",
       " 'NMD_transcript_variant',\n",
       " 'TF_binding_site_variant',\n",
       " 'coding_sequence_variant',\n",
       " 'downstream_gene_variant',\n",
       " 'frameshift_variant',\n",
       " 'inframe_deletion',\n",
       " 'inframe_insertion',\n",
       " 'intergenic_variant',\n",
       " 'intron_variant',\n",
       " 'mature_miRNA_variant',\n",
       " 'missense_variant',\n",
       " 'non_coding_transcript_exon_variant',\n",
       " 'non_coding_transcript_variant',\n",
       " 'protein_altering_variant',\n",
       " 'regulatory_region_variant',\n",
       " 'splice_acceptor_variant',\n",
       " 'splice_donor_5th_base_variant',\n",
       " 'splice_donor_region_variant',\n",
       " 'splice_donor_variant',\n",
       " 'splice_polypyrimidine_tract_variant',\n",
       " 'splice_region_variant',\n",
       " 'start_lost',\n",
       " 'start_retained_variant',\n",
       " 'stop_gained',\n",
       " 'stop_lost',\n",
       " 'stop_retained_variant',\n",
       " 'synonymous_variant',\n",
       " 'upstream_gene_variant'}"
      ]
     },
     "execution_count": 21,
     "metadata": {},
     "output_type": "execute_result"
    }
   ],
   "source": [
    "# Consequence split\n",
    "consequence_unique = set([])\n",
    "for c in EE_potential_csq[\"Consequence\"].unique():\n",
    "    if not isinstance(c, float):\n",
    "        for _c in c.split(\"&\"):\n",
    "            consequence_unique.add(_c)\n",
    "    else:\n",
    "        consequence_unique.add(c)\n",
    "\n",
    "consequence_unique"
   ]
  },
  {
   "cell_type": "code",
   "execution_count": 22,
   "metadata": {},
   "outputs": [],
   "source": [
    "# FLAGS split\n",
    "flags = ['cds_start_NF', 'cds_end_NF']"
   ]
  },
  {
   "cell_type": "code",
   "execution_count": 23,
   "metadata": {},
   "outputs": [
    {
     "data": {
      "text/plain": [
       "{'CTCF',\n",
       " 'ETV2::RFX5',\n",
       " 'GCM1::MAX',\n",
       " 'MEF2A',\n",
       " 'MEF2B',\n",
       " 'MEF2D',\n",
       " 'MYBL1::MAX',\n",
       " 'SOX6::TBX21',\n",
       " 'TFAP2C::MAX',\n",
       " nan}"
      ]
     },
     "execution_count": 23,
     "metadata": {},
     "output_type": "execute_result"
    }
   ],
   "source": [
    "# TRANSCRIPTION_FACTORS split\n",
    "consequence_unique = set([])\n",
    "for c in EE_potential_csq[\"TRANSCRIPTION_FACTORS\"].unique():\n",
    "    if not isinstance(c, float):\n",
    "        for _c in c.split(\"&\"):\n",
    "            consequence_unique.add(_c)\n",
    "    else:\n",
    "        consequence_unique.add(c)\n",
    "\n",
    "consequence_unique"
   ]
  },
  {
   "cell_type": "code",
   "execution_count": 24,
   "metadata": {},
   "outputs": [],
   "source": [
    "# VAR_SYNONYMS split\n",
    "# ..."
   ]
  },
  {
   "cell_type": "code",
   "execution_count": 25,
   "metadata": {},
   "outputs": [
    {
     "name": "stdout",
     "output_type": "stream",
     "text": [
      "CDS_position\n",
      "Num uniq: 6519\n",
      "Argmax: 43820\n",
      "11857-11858\n",
      "[nan '1182' '918' '898' '1863' '1988' '1896' '1216' '1192' '841']\n",
      "\n",
      "cDNA_position\n",
      "Num uniq: 14066\n",
      "Argmax: 2503\n",
      "11335-11336\n",
      "[nan '2105' '2100' '301' '251' '257' '2664' '2653' '1198' '934']\n",
      "\n",
      "HGNC_ID\n",
      "Num uniq: 22706\n",
      "Argmax: 0\n",
      "HGNC:37102\n",
      "['HGNC:37102' 'HGNC:48835' 'HGNC:49954' nan 'HGNC:50701' 'HGNC:49377'\n",
      " 'HGNC:32337' 'HGNC:24517' 'HGNC:24023' 'HGNC:28208']\n",
      "\n",
      "SIFT\n",
      "Num uniq: 205\n",
      "Argmax: 569\n",
      "deleterious_low_confidence(0.01)\n",
      "[nan 'tolerated(0.55)' 'tolerated(0.14)' 'tolerated(1)' 'tolerated(0.24)'\n",
      " 'tolerated(0.08)' 'tolerated(0.32)' 'deleterious_low_confidence(0)'\n",
      " 'tolerated_low_confidence(0.22)' 'tolerated_low_confidence(0.06)']\n",
      "\n",
      "PolyPhen\n",
      "Num uniq: 912\n",
      "Argmax: 62\n",
      "possibly_damaging(0.737)\n",
      "[nan 'benign(0)' 'possibly_damaging(0.737)' 'benign(0.049)'\n",
      " 'benign(0.068)' 'probably_damaging(0.991)' 'benign(0.014)'\n",
      " 'benign(0.048)' 'possibly_damaging(0.646)' 'benign(0.04)']\n",
      "\n",
      "Protein_position\n",
      "Num uniq: 3401\n",
      "Argmax: 192717\n",
      "13558-13559\n",
      "[nan '394' '306' '300' '621' '663' '632' '406' '398' '281']\n",
      "\n"
     ]
    }
   ],
   "source": [
    "for col in potentially_separable_columns:\n",
    "    print(col)\n",
    "    print(\"Num uniq:\", len(EE_potential_csq[col].unique()))\n",
    "    max_len = np.argmax(list(map(len, map(str, EE_potential_csq[col]))))\n",
    "    print(\"Argmax:\",max_len)\n",
    "    print(EE_potential_csq[col][max_len])\n",
    "    print(EE_potential_csq[col].unique()[:10])\n",
    "    print()"
   ]
  },
  {
   "cell_type": "code",
   "execution_count": 26,
   "metadata": {},
   "outputs": [
    {
     "data": {
      "text/plain": [
       "{'deleterious',\n",
       " 'deleterious_low_confidence',\n",
       " nan,\n",
       " 'tolerated',\n",
       " 'tolerated_low_confidence'}"
      ]
     },
     "execution_count": 26,
     "metadata": {},
     "output_type": "execute_result"
    }
   ],
   "source": [
    "# SIFT split\n",
    "sift_unique = set([])\n",
    "for c in EE_potential_csq[\"SIFT\"].unique():\n",
    "    if not isinstance(c, float):        \n",
    "        sift_unique.add(c.split(\"(\")[0])\n",
    "    else:\n",
    "        sift_unique.add(c)\n",
    "\n",
    "sift_unique"
   ]
  },
  {
   "cell_type": "code",
   "execution_count": 27,
   "metadata": {},
   "outputs": [
    {
     "data": {
      "text/plain": [
       "{'benign', nan, 'possibly_damaging', 'probably_damaging', 'unknown'}"
      ]
     },
     "execution_count": 27,
     "metadata": {},
     "output_type": "execute_result"
    }
   ],
   "source": [
    "# PolyPhen split        \n",
    "polyphen_unique = set([])\n",
    "for c in EE_potential_csq[\"PolyPhen\"].unique():\n",
    "    if not isinstance(c, float):        \n",
    "        polyphen_unique.add(c.split(\"(\")[0])\n",
    "    else:\n",
    "        polyphen_unique.add(c)\n",
    "\n",
    "polyphen_unique"
   ]
  },
  {
   "cell_type": "markdown",
   "metadata": {},
   "source": [
    "## Genotype Data Cleanup"
   ]
  },
  {
   "cell_type": "markdown",
   "metadata": {},
   "source": [
    "#### Load EE_15 with EE_50 and EE_69 separately"
   ]
  },
  {
   "cell_type": "code",
   "execution_count": 29,
   "metadata": {},
   "outputs": [],
   "source": [
    "EE_genotype_015 = get_data(\"data/EE_015/\", [\"genotype\"])\n",
    "EE_genotype_050 = get_data(\"data/EE_050/\", [\"genotype\"])\n",
    "EE_genotype_069 = get_data(\"data/EE_069/\", [\"genotype\"])"
   ]
  },
  {
   "cell_type": "markdown",
   "metadata": {},
   "source": [
    "#### Remove excess columns from EE_069"
   ]
  },
  {
   "cell_type": "code",
   "execution_count": 30,
   "metadata": {},
   "outputs": [
    {
     "data": {
      "text/plain": [
       "(140174, 46)"
      ]
     },
     "execution_count": 30,
     "metadata": {},
     "output_type": "execute_result"
    }
   ],
   "source": [
    "EE_genotype_069.shape"
   ]
  },
  {
   "cell_type": "code",
   "execution_count": 31,
   "metadata": {},
   "outputs": [
    {
     "data": {
      "text/plain": [
       "{'AC',\n",
       " 'AF',\n",
       " 'AN',\n",
       " 'BaseQRankSum',\n",
       " 'ClippingRankSum',\n",
       " 'ExcessHet',\n",
       " 'FS',\n",
       " 'MLEAC',\n",
       " 'MLEAF',\n",
       " 'MQ',\n",
       " 'MQRankSum',\n",
       " 'QD',\n",
       " 'ReadPosRankSum',\n",
       " 'SOR'}"
      ]
     },
     "execution_count": 31,
     "metadata": {},
     "output_type": "execute_result"
    }
   ],
   "source": [
    "excess_columns = set(EE_genotype_069.columns).difference(set(EE_genotype_050.columns))\n",
    "excess_columns"
   ]
  },
  {
   "cell_type": "code",
   "execution_count": 32,
   "metadata": {},
   "outputs": [
    {
     "data": {
      "text/plain": [
       "(140174, 32)"
      ]
     },
     "execution_count": 32,
     "metadata": {},
     "output_type": "execute_result"
    }
   ],
   "source": [
    "cut_EE_genotype_069 = EE_genotype_069.drop(excess_columns, axis=1)\n",
    "cut_EE_genotype_069.shape"
   ]
  },
  {
   "cell_type": "markdown",
   "metadata": {},
   "source": [
    "#### Delete uninteresting columns from EE_069"
   ]
  },
  {
   "cell_type": "code",
   "execution_count": 33,
   "metadata": {},
   "outputs": [
    {
     "data": {
      "text/plain": [
       "Index(['ACMG_class', 'CGDinheritance', 'ClinVarClass', 'ClinVarDisease',\n",
       "       'DANN_score', 'Gene', 'MutationTaster_pred', 'MutationTaster_score',\n",
       "       'SIFT_score', 'coding_impact', 'function', 'gnomadExomes_AF',\n",
       "       'gnomadGenomes_AF', 'hgvs'],\n",
       "      dtype='object')"
      ]
     },
     "execution_count": 33,
     "metadata": {},
     "output_type": "execute_result"
    }
   ],
   "source": [
    "drop_columns_acmg =  [c for c in cut_EE_genotype_069.columns if c.startswith(\"ACMG\") and c!=\"ACMG_class\"]\n",
    "drop_columns_gnomad = [c for c in cut_EE_genotype_069 if c.startswith(\"gnom\") and c != \"gnomadExomes_AF\" and c!= \"gnomadGenomes_AF\"]\n",
    "\n",
    "EE_potential_genotype_069 = cut_EE_genotype_069.drop(drop_columns_acmg, axis=1)\n",
    "EE_potential_genotype_069 = EE_potential_genotype_069.drop(drop_columns_gnomad, axis=1)\n",
    "EE_potential_genotype_069 = EE_potential_genotype_069.drop(\"DP\", axis=1)\n",
    "EE_potential_genotype_069.columns"
   ]
  },
  {
   "cell_type": "markdown",
   "metadata": {},
   "source": [
    "#### Delete potentially interesting columns from EE_069"
   ]
  },
  {
   "cell_type": "code",
   "execution_count": 34,
   "metadata": {},
   "outputs": [
    {
     "data": {
      "text/plain": [
       "Index(['ACMG_class', 'CGDinheritance', 'Gene', 'coding_impact', 'function',\n",
       "       'gnomadExomes_AF', 'gnomadGenomes_AF', 'hgvs'],\n",
       "      dtype='object')"
      ]
     },
     "execution_count": 34,
     "metadata": {},
     "output_type": "execute_result"
    }
   ],
   "source": [
    "potential_drop_columns = [\"ClinVarClass\", \"ClinVarDisease\", \"DANN_score\", \"MutationTaster_pred\", \"MutationTaster_score\", \"SIFT_score\"]\n",
    "\n",
    "EE_important_genotype_069 = EE_potential_genotype_069.drop(potential_drop_columns, axis=1)\n",
    "EE_important_genotype_069.columns"
   ]
  },
  {
   "cell_type": "markdown",
   "metadata": {},
   "source": [
    "#### Combine EE_015 and EE_050"
   ]
  },
  {
   "cell_type": "code",
   "execution_count": 35,
   "metadata": {},
   "outputs": [],
   "source": [
    "EE_genotype_015_050 = pd.concat([EE_genotype_015, EE_genotype_050], ignore_index=True, axis=0)"
   ]
  },
  {
   "cell_type": "markdown",
   "metadata": {},
   "source": [
    "#### Delete uninteresting columns from EE_050 and EE_015"
   ]
  },
  {
   "cell_type": "code",
   "execution_count": 36,
   "metadata": {},
   "outputs": [
    {
     "data": {
      "text/plain": [
       "Index(['ACMG_class', 'AS_FilterStatus', 'AS_SB_TABLE', 'CGDinheritance',\n",
       "       'ClinVarClass', 'ClinVarDisease', 'DANN_score', 'ECNT', 'GERMQ', 'Gene',\n",
       "       'MBQ', 'MFRL', 'MPOS', 'MutationTaster_pred', 'MutationTaster_score',\n",
       "       'POPAF', 'RPA', 'RU', 'SIFT_score', 'STR', 'STRQ', 'TLOD',\n",
       "       'coding_impact', 'cosmicFathMMPrediction', 'cosmicFathMMScore',\n",
       "       'function', 'gnomadExomes_AF', 'gnomadGenomes_AF', 'hgvs'],\n",
       "      dtype='object')"
      ]
     },
     "execution_count": 36,
     "metadata": {},
     "output_type": "execute_result"
    }
   ],
   "source": [
    "drop_columns_acmg_amp =  [c for c in EE_genotype_015_050.columns if (c.startswith(\"ACMG\") or c.startswith(\"AMP\")) and c!=\"ACMG_class\"]\n",
    "drop_columns_gnomad = [c for c in EE_genotype_015_050 if c.startswith(\"gnom\") and c != \"gnomadExomes_AF\" and c!= \"gnomadGenomes_AF\"]\n",
    "\n",
    "EE_potential_genotype_015_050 = EE_genotype_015_050.drop(drop_columns_acmg_amp, axis=1)\n",
    "EE_potential_genotype_015_050 = EE_potential_genotype_015_050.drop(drop_columns_gnomad, axis=1)\n",
    "EE_potential_genotype_015_050 = EE_potential_genotype_015_050.drop(\"DP\", axis=1)\n",
    "EE_potential_genotype_015_050 = EE_potential_genotype_015_050.drop(\"MMQ\", axis=1)\n",
    "EE_potential_genotype_015_050.columns"
   ]
  },
  {
   "cell_type": "markdown",
   "metadata": {},
   "source": [
    "#### Delete potentially interesting columns from EE_050 and EE_015"
   ]
  },
  {
   "cell_type": "code",
   "execution_count": 37,
   "metadata": {},
   "outputs": [
    {
     "data": {
      "text/plain": [
       "Index(['ACMG_class', 'AS_FilterStatus', 'AS_SB_TABLE', 'CGDinheritance',\n",
       "       'ECNT', 'GERMQ', 'Gene', 'MBQ', 'MFRL', 'MPOS', 'POPAF', 'RPA', 'RU',\n",
       "       'STR', 'STRQ', 'TLOD', 'coding_impact', 'cosmicFathMMPrediction',\n",
       "       'cosmicFathMMScore', 'function', 'gnomadExomes_AF', 'gnomadGenomes_AF',\n",
       "       'hgvs'],\n",
       "      dtype='object')"
      ]
     },
     "execution_count": 37,
     "metadata": {},
     "output_type": "execute_result"
    }
   ],
   "source": [
    "potential_drop_columns = [\"ClinVarClass\", \"ClinVarDisease\", \"DANN_score\", \"MutationTaster_pred\", \"MutationTaster_score\", \"SIFT_score\"]\n",
    "\n",
    "EE_important_genotype_015_050 = EE_potential_genotype_015_050.drop(potential_drop_columns, axis=1)\n",
    "EE_important_genotype_015_050.columns"
   ]
  },
  {
   "cell_type": "markdown",
   "metadata": {},
   "source": [
    "#### Propose two combinations of EE_015 EE_050 with EE_069"
   ]
  },
  {
   "cell_type": "code",
   "execution_count": 38,
   "metadata": {},
   "outputs": [],
   "source": [
    "# Concatenate with all columns from EE_015 EE_050\n",
    "EE_potential_genotype_all = pd.concat([EE_potential_genotype_015_050, EE_potential_genotype_069], ignore_index=True, axis=0)\n",
    "EE_important_genotype_all = pd.concat([EE_important_genotype_015_050, EE_important_genotype_069], ignore_index=True, axis=0)\n",
    "\n",
    "# Concatenate with only common columns\n",
    "different_potential_columns = set(EE_potential_genotype_015_050.columns).difference(set(EE_potential_genotype_069.columns))\n",
    "EE_important_genotype_common = pd.concat([EE_potential_genotype_015_050.drop(different_potential_columns, axis=1), EE_potential_genotype_069], ignore_index=True, axis=0)\n",
    "\n",
    "different_important_columns = set(EE_important_genotype_015_050.columns).difference(set(EE_important_genotype_069.columns))\n",
    "EE_important_genotype_common = pd.concat([EE_important_genotype_015_050.drop(different_potential_columns, axis=1), EE_important_genotype_069], ignore_index=True, axis=0)"
   ]
  },
  {
   "cell_type": "markdown",
   "metadata": {},
   "source": [
    "#### Separate array values"
   ]
  },
  {
   "cell_type": "code",
   "execution_count": 76,
   "metadata": {},
   "outputs": [],
   "source": [
    "object_columns = set(EE_potential_genotype_all.select_dtypes(object).columns)\n",
    "object_columns = list(object_columns)\n",
    "# object_columns\n",
    "\n",
    "array_columns = [c for c in object_columns if c!=\"RU\" and c !=\"cosmicFathMMPrediction\" and c!=\"ACMG_class\"]"
   ]
  },
  {
   "cell_type": "code",
   "execution_count": 77,
   "metadata": {},
   "outputs": [
    {
     "name": "stdout",
     "output_type": "stream",
     "text": [
      "MutationTaster_pred\n",
      "Num uniq: 107\n",
      "Argmax: 170703\n",
      "N%3BN%3BN%3BN%3BN%3BN%3BN%3BN%3BN%3BN%3BN%3BN%3BN%3BN%3BN%3BN%3BN%3BN%3BN%3BN%3BN%3BN%3BN%3BN%3BN%3BN\n",
      "['0' 'P' 'P%3BP%3BP' 'P%3BP' 'P%3BP%3BP%3BP%3BP'\n",
      " 'D%3BD%3BD%3BD%3BD%3BD%3BD' 'N%3BN%3BN%3BN%3BN%3BN%3BN'\n",
      " 'P%3BP%3BP%3BP%3BP%3BP%3BP%3BP' 'P%3BP%3BP%3BP' 'D%3BD%3BD%3BD']\n",
      "\n",
      "SIFT_score\n",
      "Num uniq: 7860\n",
      "Argmax: 170703\n",
      "0.586%3B0.344%3B.%3B0.628%3B0.393%3B0.655%3B0.586%3B0.586%3B0.586%3B0.393%3B0.586%3B0.381%3B0.586%3B0.6%3B0.586%3B0.586%3B0.6%3B0.344%3B0.597%3B0.586%3B0.393%3B0.455%3B0.344%3B0.586%3B0.6%3B0.327%3B0.597%3B0.678\n",
      "['0' '1.0' '0.224%3B0.245%3B0.217%3B.' '0.024%3B.' '1.0%3B.' '0.236%3B.'\n",
      " '0.018%3B0.018' '0.413%3B0.397%3B0.397%3B0.399'\n",
      " '0.094%3B0.094%3B0.095%3B0.097%3B0.1%3B0.096%3B0.188'\n",
      " '0.109%3B0.109%3B0.154%3B0.102']\n",
      "\n",
      "AS_FilterStatus\n",
      "Num uniq: 64\n",
      "Argmax: 170785\n",
      "base_qual%2Cweak_evidence|base_qual%2Cweak_evidence\n",
      "['SITE' 'SITE|SITE' 'SITE|base_qual' 'SITE|base_qual%2Cweak_evidence'\n",
      " 'SITE|SITE|SITE' 'SITE|strand_bias' 'SITE|map_qual%2Cweak_evidence'\n",
      " 'SITE|strand_bias|SITE' 'SITE|weak_evidence' 'SITE|map_qual']\n",
      "\n",
      "AS_SB_TABLE\n",
      "Num uniq: 86335\n",
      "Argmax: 298903\n",
      "14%2C10|10%2C16|31%2C32|6%2C6|8%2C6\n",
      "['12%2C23|7%2C2' '37%2C9|17%2C6' '0%2C39|0%2C8' '0%2C0|18%2C2'\n",
      " '50%2C53|19%2C14' '32%2C33|3%2C4' '68%2C49|12%2C10' '32%2C17|6%2C0'\n",
      " '6%2C2|4%2C2' '63%2C48|19%2C14']\n",
      "\n",
      "MutationTaster_score\n",
      "Num uniq: 6942\n",
      "Argmax: 28402\n",
      "0.999834%3B0.999834%3B0.999683%3B0.999683%3B0.999921%3B0.999921%3B0.999921%3B0.999921%3B0.999921%3B0.999921%3B0.999921%3B0.999921%3B0.999683%3B0.999921%3B0.999921%3B0.999921%3B1.15852e-18%3B1.15852e-18%3B1.15852e-18%3B1.15852e-18%3B1.15852e-18%3B1.15852e-18%3B1.15852e-18%3B1.15852e-18\n",
      "['0' '0.999749' '1' '1%3B1%3B1' '1%3B1' '1%3B1%3B1%3B1%3B1'\n",
      " '1%3B0.999997%3B0.999997' '0.00137157%3B0.00137157'\n",
      " '5.97877e-19%3B5.97877e-19'\n",
      " '0.963437%3B0.963437%3B0.963437%3B0.963437%3B0.963437%3B0.963437%3B0.989972']\n",
      "\n",
      "CGDinheritance\n",
      "Num uniq: 46\n",
      "Argmax: 67078\n",
      "AD/Digenic%40(Severe%40digenic%40insulin%40resistance%40can%40be%40due%40to%40digenic%40variants%40in%40PPP1R3A%40and%40PPARG)\n",
      "['0' 'AR' 'AD' 'AD/AR' 'AR%40' 'AR|AD' 'AR/Digenic' 'BG' 'AD/Digenic'\n",
      " 'AD/AR%40']\n",
      "\n",
      "function\n",
      "Num uniq: 1932\n",
      "Argmax: 313897\n",
      "3'utr,intronic,coding,splicing,splicing-ACMG,5'flank,3'flank,non-coding%40exon\n",
      "['non-coding%40exon' 'non-coding%40exon,intronic'\n",
      " \"5'flank,non-coding%40exon\" 'intronic' \"non-coding%40exon,3'flank\"\n",
      " \"3'flank,non-coding%40exon\" \"5'flank,non-coding%40exon,intronic\"\n",
      " \"non-coding%40exon,5'flank,intronic\" \"intronic,5'flank\"\n",
      " 'intronic,non-coding%40exon']\n",
      "\n",
      "hgvs\n",
      "Num uniq: 200924\n",
      "Argmax: 248091\n",
      "NM_001354225.1%3Ac.3591C>T%3Ap.Arg1197%3D(R1197%3D),NM_001354253.1%3Ac.3354C>T%3Ap.Arg1118%3D(R1118%3D),NM_001354273.1%3Ac.3279C>T%3Ap.Arg1093%3D(R1093%3D),NM_020977.4%3Ac.3579C>T%3Ap.Arg1193%3D(R1193%3D),NM_001354281.1%3Ac.1107C>T%3Ap.Arg369%3D(R369%3D),NM_001354243.1%3Ac.3516C>T%3Ap.Arg1172%3D(R1172%3D),NM_001354240.1%3Ac.3624C>T%3Ap.Arg1208%3D(R1208%3D),NM_001354278.1%3Ac.1107C>T%3Ap.Arg369%3D(R369%3D),NM_001354258.1%3Ac.3480C>T%3Ap.Arg1160%3D(R1160%3D),NM_001354282.1%3Ac.1143C>T%3Ap.Arg381%3D(R381%3D),NM_001354260.1%3Ac.3294C>T%3Ap.Arg1098%3D(R1098%3D),NM_001354246.1%3Ac.3576C>T%3Ap.Arg1192%3D(R1192%3D),NM_001354231.1%3Ac.3621C>T%3Ap.Arg1207%3D(R1207%3D),NM_001354261.1%3Ac.3438C>T%3Ap.Arg1146%3D(R1146%3D),NM_001354271.1%3Ac.3294C>T%3Ap.Arg1098%3D(R1098%3D),NM_001354270.1%3Ac.3354C>T%3Ap.Arg1118%3D(R1118%3D),NM_001354269.1%3Ac.3366C>T%3Ap.Arg1122%3D(R1122%3D),NM_001354237.1%3Ac.3657C>T%3Ap.Arg1219%3D(R1219%3D),NM_001354230.1%3Ac.3558C>T%3Ap.Arg1186%3D(R1186%3D),NM_001354249.1%3Ac.3393C>T%3Ap.Arg1131%3D(R1131%3D),NM_001354264.1%3Ac.3414C>T%3Ap.Arg1138%3D(R1138%3D),NM_001127493.2%3Ac.3552C>T%3Ap.Arg1184%3D(R1184%3D),NM_001354268.1%3Ac.3381C>T%3Ap.Arg1127%3D(R1127%3D),NM_001354232.1%3Ac.3615C>T%3Ap.Arg1205%3D(R1205%3D),NM_001354279.1%3Ac.1143C>T%3Ap.Arg381%3D(R381%3D),NM_001354257.1%3Ac.3318C>T%3Ap.Arg1106%3D(R1106%3D),NM_001354280.1%3Ac.1128C>T%3Ap.Arg376%3D(R376%3D),NM_001354235.1%3Ac.3576C>T%3Ap.Arg1192%3D(R1192%3D),NM_001354275.1%3Ac.3417C>T%3Ap.Arg1139%3D(R1139%3D),NM_001354274.1%3Ac.3378C>T%3Ap.Arg1126%3D(R1126%3D),NM_001354266.1%3Ac.3393C>T%3Ap.Arg1131%3D(R1131%3D),NM_001354276.1%3Ac.3393C>T%3Ap.Arg1131%3D(R1131%3D),NM_001354277.1%3Ac.3195C>T%3Ap.Arg1065%3D(R1065%3D),NM_001354265.1%3Ac.3576C>T%3Ap.Arg1192%3D(R1192%3D),NM_001354255.1%3Ac.3516C>T%3Ap.Arg1172%3D(R1172%3D),NM_001354262.1%3Ac.3417C>T%3Ap.Arg1139%3D(R1139%3D),NM_001354244.1%3Ac.3513C>T%3Ap.Arg1171%3D(R1171%3D),NM_001354252.1%3Ac.3549C>T%3Ap.Arg1183%3D(R1183%3D),NM_001354245.1%3Ac.3417C>T%3Ap.Arg1139%3D(R1139%3D),NM_001354256.1%3Ac.3513C>T%3Ap.Arg1171%3D(R1171%3D),NM_001354241.1%3Ac.3624C>T%3Ap.Arg1208%3D(R1208%3D),NM_001354267.1%3Ac.3393C>T%3Ap.Arg1131%3D(R1131%3D),NM_001354236.1%3Ac.3477C>T%3Ap.Arg1159%3D(R1159%3D),NM_001354228.1%3Ac.3480C>T%3Ap.Arg1160%3D(R1160%3D),NM_001354242.1%3Ac.3621C>T%3Ap.Arg1207%3D(R1207%3D),NM_001354272.1%3Ac.3450C>T%3Ap.Arg1150%3D(R1150%3D),NM_001354239.1%3Ac.3549C>T%3Ap.Arg1183%3D(R1183%3D),NM_001354254.1%3Ac.3528C>T%3Ap.Arg1176%3D(R1176%3D),NM_001148.6%3Ac.3579C>T%3Ap.Arg1193%3D(R1193%3D),ENST00000510275.8%3Ac.261C>T%3Ap.Arg87%3D(R87%3D),ENST00000514960.5%3Ac.615C>T%3Ap.Arg205%3D(R205%3D),ENST00000673048.1%3Ac.1128C>T%3Ap.Arg376%3D(R376%3D),ENST00000509550.5%3Ac.1107C>T%3Ap.Arg369%3D(R369%3D),ENST00000672915.1%3Ac.966C>T%3Ap.Arg322%3D(R322%3D),ENST00000505342.6%3Ac.966C>T%3Ap.Arg322%3D(R322%3D),ENST00000673353.1%3Ac.1107C>T%3Ap.Arg369%3D(R369%3D),ENST00000673231.1%3Ac.1143C>T%3Ap.Arg381%3D(R381%3D),ENST00000672411.1%3Ac.1143C>T%3Ap.Arg381%3D(R381%3D),ENST00000673943.1%3Ac.3237C>T%3Ap.Arg1079%3D(R1079%3D),ENST00000671882.1%3Ac.3396C>T%3Ap.Arg1132%3D(R1132%3D),ENST00000634436.1%3Ac.3492C>T%3Ap.Arg1164%3D(R1164%3D),ENST00000673363.1%3Ac.3525C>T%3Ap.Arg1175%3D(R1175%3D),ENST00000673240.1%3Ac.3624C>T%3Ap.Arg1208%3D(R1208%3D),ENST00000672240.1%3Ac.3660C>T%3Ap.Arg1220%3D(R1220%3D),ENST00000671971.1%3Ac.3624C>T%3Ap.Arg1208%3D(R1208%3D),ENST00000264366.10%3Ac.3480C>T%3Ap.Arg1160%3D(R1160%3D),ENST00000672779.1%3Ac.3624C>T%3Ap.Arg1208%3D(R1208%3D),ENST00000394537.7%3Ac.3579C>T%3Ap.Arg1193%3D(R1193%3D),ENST00000357077.9%3Ac.3579C>T%3Ap.Arg1193%3D(R1193%3D),ENST00000504454.5%3Ac.3624C>T%3Ap.Arg1208%3D(R1208%3D),ENST00000672854.1%3Ac.3381C>T%3Ap.Arg1127%3D(R1127%3D),ENST00000672251.1%3Ac.3381C>T%3Ap.Arg1127%3D(R1127%3D),ENST00000672045.1%3Ac.3417C>T%3Ap.Arg1139%3D(R1139%3D),ENST00000672502.1%3Ac.3480C>T%3Ap.Arg1160%3D(R1160%3D),ENST00000672366.1%3Ac.3480C>T%3Ap.Arg1160%3D(R1160%3D),ENST00000671762.1%3Ac.3615C>T%3Ap.Arg1205%3D(R1205%3D),ENST00000671727.1%3Ac.3480C>T%3Ap.Arg1160%3D(R1160%3D),ENST00000672221.1%3Ac.3414C>T%3Ap.Arg1138%3D(R1138%3D),ENST00000671704.1%3Ac.3393C>T%3Ap.Arg1131%3D(R1131%3D),ENST00000671951.1%3Ac.3294C>T%3Ap.Arg1098%3D(R1098%3D),ENST00000672986.1%3Ac.2997C>T%3Ap.Arg999%3D(R999%3D),ENST00000673536.1%3Ac.3087C>T%3Ap.Arg1029%3D(R1029%3D),ENST00000506722.5%3Ac.3552C>T%3Ap.Arg1184%3D(R1184%3D),ENST00000673109.1%3Ac.3294C>T%3Ap.Arg1098%3D(R1098%3D),ENST00000672965.1%3Ac.3453C>T%3Ap.Arg1151%3D(R1151%3D),ENST00000672759.1%3Ac.3294C>T%3Ap.Arg1098%3D(R1098%3D),ENST00000672177.1%3Ac.3429C>T%3Ap.Arg1143%3D(R1143%3D),ENST00000672090.1%3Ac.3417C>T%3Ap.Arg1139%3D(R1139%3D),ENST00000671906.1%3Ac.3393C>T%3Ap.Arg1131%3D(R1131%3D),ENST00000671809.1%3Ac.3453C>T%3Ap.Arg1151%3D(R1151%3D),ENST00000671756.1%3Ac.3417C>T%3Ap.Arg1139%3D(R1139%3D),ENST00000672209.1%3Ac.3417C>T%3Ap.Arg1139%3D(R1139%3D),ENST00000672793.1%3Ac.3417C>T%3Ap.Arg1139%3D(R1139%3D),ENST00000672362.1%3Ac.3552C>T%3Ap.Arg1184%3D(R1184%3D),ENST00000672068.1%3Ac.3417C>T%3Ap.Arg1139%3D(R1139%3D),ENST00000673298.1%3Ac.3417C>T%3Ap.Arg1139%3D(R1139%3D),ENST00000673430.1%3Ac.3417C>T%3Ap.Arg1139%3D(R1139%3D),ENST00000672990.1%3Ac.3453C>T%3Ap.Arg1151%3D(R1151%3D),ENST00000672880.1%3Ac.3417C>T%3Ap.Arg1139%3D(R1139%3D),ENST00000673555.1%3Ac.3417C>T%3Ap.Arg1139%3D(R1139%3D),ENST00000673453.1%3Ac.3378C>T%3Ap.Arg1126%3D(R1126%3D),ENST00000673334.1%3Ac.3417C>T%3Ap.Arg1139%3D(R1139%3D),ENST00000672930.1%3Ac.3417C>T%3Ap.Arg1139%3D(R1139%3D),ENST00000672246.1%3Ac.3402C>T%3Ap.Arg1134%3D(R1134%3D),ENST00000671893.1%3Ac.3195C>T%3Ap.Arg1065%3D(R1065%3D),ENST00000673255.1%3Ac.3417C>T%3Ap.Arg1139%3D(R1139%3D),ENST00000503423.6%3Ac.3417C>T%3Ap.Arg1139%3D(R1139%3D),ENST00000673573.1%3Ac.3354C>T%3Ap.Arg1118%3D(R1118%3D),ENST00000673546.1%3Ac.3354C>T%3Ap.Arg1118%3D(R1118%3D),ENST00000672934.1%3Ac.3318C>T%3Ap.Arg1106%3D(R1106%3D),ENST00000672684.1%3Ac.3318C>T%3Ap.Arg1106%3D(R1106%3D),ENST00000672350.1%3Ac.3354C>T%3Ap.Arg1118%3D(R1118%3D),ENST00000671854.1%3Ac.3318C>T%3Ap.Arg1106%3D(R1106%3D),ENST00000672731.1%3Ac.3393C>T%3Ap.Arg1131%3D(R1131%3D),ENST00000672830.1%3Ac.3516C>T%3Ap.Arg1172%3D(R1172%3D),ENST00000672312.1%3Ac.3417C>T%3Ap.Arg1139%3D(R1139%3D),ENST00000671825.1%3Ac.3516C>T%3Ap.Arg1172%3D(R1172%3D),ENST00000672402.1%3Ac.3516C>T%3Ap.Arg1172%3D(R1172%3D),ENST00000671793.1%3Ac.3516C>T%3Ap.Arg1172%3D(R1172%3D),ENST00000672088.1%3Ac.3393C>T%3Ap.Arg1131%3D(R1131%3D),ENST00000672315.1%3Ac.3516C>T%3Ap.Arg1172%3D(R1172%3D),ENST00000672696.1%3Ac.3516C>T%3Ap.Arg1172%3D(R1172%3D),ENST00000673044.1%3Ac.3516C>T%3Ap.Arg1172%3D(R1172%3D),ENST00000672955.1%3Ac.3393C>T%3Ap.Arg1131%3D(R1131%3D),ENST00000672356.1%3Ac.3294C>T%3Ap.Arg1098%3D(R1098%3D)\n",
      "['0'\n",
      " 'NM_152486.4%3Ac.986-75C>G,NM_001385641.1%3Ac.1475-75C>G,NM_001385640.1%3Ac.1478-75C>G,ENST00000455979.1%3Ac.464-75C>G,ENST00000341065.8%3Ac.707-75C>G,ENST00000617307.5%3Ac.989-75C>G,ENST00000618181.5%3Ac.611-75C>G,ENST00000622503.5%3Ac.989-75C>G,ENST00000618779.5%3Ac.800-75C>G,ENST00000616125.5%3Ac.662-75C>G,ENST00000342066.8%3Ac.986-75C>G,ENST00000618323.5%3Ac.1478-75C>G,ENST00000616016.5%3Ac.1475-75C>G'\n",
      " 'NM_152486.4%3Ac.1027T>C%3Ap.Trp343Arg(W343R),NM_001385641.1%3Ac.1516T>C%3Ap.Trp506Arg(W506R),NM_001385640.1%3Ac.1519T>C%3Ap.Trp507Arg(W507R),ENST00000455979.1%3Ac.505T>C%3Ap.Trp169Arg(W169R),ENST00000341065.8%3Ac.748T>C%3Ap.Trp250Arg(W250R),ENST00000617307.5%3Ac.1030T>C%3Ap.Trp344Arg(W344R),ENST00000618181.5%3Ac.652T>C%3Ap.Trp218Arg(W218R),ENST00000622503.5%3Ac.1030T>C%3Ap.Trp344Arg(W344R),ENST00000618779.5%3Ac.841T>C%3Ap.Trp281Arg(W281R),ENST00000616125.5%3Ac.703T>C%3Ap.Trp235Arg(W235R),ENST00000342066.8%3Ac.1027T>C%3Ap.Trp343Arg(W343R),ENST00000618323.5%3Ac.1519T>C%3Ap.Trp507Arg(W507R),ENST00000616016.5%3Ac.1516T>C%3Ap.Trp506Arg(W506R)'\n",
      " 'NM_015658.4%3Ac.*398C>T,NM_152486.4%3Ac.*143G>A,NM_001385641.1%3Ac.*143G>A,NM_001385640.1%3Ac.*143G>A,ENST00000341065.8%3Ac.*143G>A,ENST00000342066.8%3Ac.*143G>A,ENST00000618323.5%3Ac.*143G>A,ENST00000616016.5%3Ac.*143G>A,ENST00000327044.7%3Ac.*398C>T'\n",
      " 'NM_015658.4%3Ac.*387A>G,NM_152486.4%3Ac.*154T>C,NM_001385641.1%3Ac.*154T>C,NM_001385640.1%3Ac.*154T>C,ENST00000341065.8%3Ac.*154T>C,ENST00000342066.8%3Ac.*154T>C,ENST00000618323.5%3Ac.*154T>C,ENST00000616016.5%3Ac.*154T>C,ENST00000327044.7%3Ac.*387A>G'\n",
      " 'NM_015658.4%3Ac.2144-58T>C,ENST00000327044.7%3Ac.2144-58T>C'\n",
      " 'NM_015658.4%3Ac.1660-108C>T,ENST00000327044.7%3Ac.1660-108C>T'\n",
      " 'NM_015658.4%3Ac.1558-13T>C,ENST00000327044.7%3Ac.1558-13T>C'\n",
      " 'NM_015658.4%3Ac.1444-109_1444-108insCCAGCCAGGTGCAGGGCCAAAGGGACCAGGGGGACCAGGGT,ENST00000327044.7%3Ac.1444-109_1444-108insCCAGCCAGGTGCAGGGCCAAAGGGACCAGGGGGACCAGGGT'\n",
      " 'NM_015658.4%3Ac.1332-170C>T,ENST00000327044.7%3Ac.1332-170C>T']\n",
      "\n",
      "ClinVarClass\n",
      "Num uniq: 25\n",
      "Argmax: 1463\n",
      "108\n",
      "[0 2 1 3 6 108 112 109 5 113 110 111 '0' '2' '112' '3' '6' '108' '113' '1'\n",
      " '109' '110' '111' '5' '2,5']\n",
      "\n",
      "Gene\n",
      "Num uniq: 37055\n",
      "Argmax: 78986\n",
      "PCDHGA1,PCDHGA2,PCDHGA3,PCDHGA4,PCDHGA5,PCDHGA6,PCDHGA7,PCDHGA8,PCDHGA9,PCDHGA10,PCDHGA11,PCDHGA12,PCDHGB1,PCDHGB2,PCDHGB3,PCDHGB4,PCDHGB5,PCDHGB6,PCDHGB7,PCDHGC3,PCDHGC4,PCDHGC5\n",
      "['WASH7P' 'MIR6859-1,WASH7P' 'CICP27,ENSG00000238009' 'DDX11L17' 'WASH9P'\n",
      " 'MIR6859-2,WASH9P' 'LOC100288069,ENSG00000230021,ENSG00000228327'\n",
      " 'LOC100288069,ENSG00000230021,ENSG00000228327,LINC01409'\n",
      " 'LINC00115,LINC01128,ENSG00000230021' 'FAM41C']\n",
      "\n",
      "coding_impact\n",
      "Num uniq: 33\n",
      "Argmax: 30133\n",
      "in%40frame,splice%40junction%40loss,start%40loss\n",
      "['0' 'missense' 'synonymous' 'synonymous,missense' 'in%40frame'\n",
      " 'missense,synonymous' 'splice%40junction%40loss,in%40frame' 'frameshift'\n",
      " 'missense,start%40loss' 'nonsense']\n",
      "\n"
     ]
    }
   ],
   "source": [
    "for col in array_columns:\n",
    "    print(col)\n",
    "    print(\"Num uniq:\", len(EE_potential_genotype_all[col].unique()))\n",
    "    max_len = np.argmax(list(map(len, map(str, EE_potential_genotype_all[col]))))\n",
    "    print(\"Argmax:\",max_len)\n",
    "    print(EE_potential_genotype_all[col][max_len])\n",
    "    if col == \"ClinVarClass\":\n",
    "        print(EE_potential_genotype_all[col].unique())\n",
    "    else:\n",
    "        print(EE_potential_genotype_all[col].unique()[:10])\n",
    "    print()"
   ]
  },
  {
   "cell_type": "code",
   "execution_count": 54,
   "metadata": {},
   "outputs": [
    {
     "data": {
      "text/plain": [
       "{'0', 'A', 'D', 'N', 'P'}"
      ]
     },
     "execution_count": 54,
     "metadata": {},
     "output_type": "execute_result"
    }
   ],
   "source": [
    "# MutationTaster_pred split\n",
    "\n",
    "mutation_tester_pred_unique = set([])\n",
    "for c in EE_potential_genotype_all[\"MutationTaster_pred\"].unique():\n",
    "    if not isinstance(c, float):        \n",
    "        for _c in c.split(\"%3B\"):\n",
    "            mutation_tester_pred_unique.add(_c)\n",
    "    else:\n",
    "        mutation_tester_pred_unique.add(c)\n",
    "\n",
    "mutation_tester_pred_unique"
   ]
  },
  {
   "cell_type": "code",
   "execution_count": 62,
   "metadata": {},
   "outputs": [],
   "source": [
    "# MutationTaster_score split\n",
    "# Corresponding to the MutationTaster_pred split"
   ]
  },
  {
   "cell_type": "code",
   "execution_count": 65,
   "metadata": {},
   "outputs": [],
   "source": [
    "# CGDinheritance split\n",
    "# Leave alone maybe try to delete additional comments"
   ]
  },
  {
   "cell_type": "code",
   "execution_count": 66,
   "metadata": {},
   "outputs": [],
   "source": [
    "# function split\n",
    "functions = [\"0\", \"NMD\", \"3'utr\", \"5'utr\", \"3'flank\", \"5'flank\", \"coding\", \"non-coding%40exon\", \"intronic\", \"splicing\", \"splicing-ACMG\"]"
   ]
  },
  {
   "cell_type": "code",
   "execution_count": 67,
   "metadata": {},
   "outputs": [],
   "source": [
    "# hgvs split\n",
    "# No idea yet"
   ]
  },
  {
   "cell_type": "code",
   "execution_count": 74,
   "metadata": {},
   "outputs": [],
   "source": [
    "# ClinVarClass split\n",
    "# No idea yet"
   ]
  },
  {
   "cell_type": "code",
   "execution_count": 78,
   "metadata": {},
   "outputs": [],
   "source": [
    "# Gene split\n",
    "# We can skip it - Gene ID"
   ]
  },
  {
   "cell_type": "code",
   "execution_count": 79,
   "metadata": {},
   "outputs": [
    {
     "data": {
      "text/plain": [
       "{'0',\n",
       " 'frameshift',\n",
       " 'in%40frame',\n",
       " 'missense',\n",
       " 'non%40coding',\n",
       " 'nonsense',\n",
       " 'splice%40junction%40loss',\n",
       " 'start%40loss',\n",
       " 'stopLoss',\n",
       " 'synonymous'}"
      ]
     },
     "execution_count": 79,
     "metadata": {},
     "output_type": "execute_result"
    }
   ],
   "source": [
    "# coding_impact split\n",
    "\n",
    "coding_impact_unique = set([])\n",
    "for c in EE_potential_genotype_all[\"coding_impact\"].unique():\n",
    "    if not isinstance(c, float):        \n",
    "        for _c in c.split(\",\"):\n",
    "            coding_impact_unique.add(_c)\n",
    "    else:\n",
    "        coding_impact_unique.add(c)\n",
    "\n",
    "coding_impact_unique"
   ]
  }
 ],
 "metadata": {
  "kernelspec": {
   "display_name": "pathogen",
   "language": "python",
   "name": "python3"
  },
  "language_info": {
   "codemirror_mode": {
    "name": "ipython",
    "version": 3
   },
   "file_extension": ".py",
   "mimetype": "text/x-python",
   "name": "python",
   "nbconvert_exporter": "python",
   "pygments_lexer": "ipython3",
   "version": "3.11.6"
  }
 },
 "nbformat": 4,
 "nbformat_minor": 2
}

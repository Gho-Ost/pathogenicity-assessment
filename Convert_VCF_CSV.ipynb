{
  "cells": [
    {
      "cell_type": "markdown",
      "metadata": {
        "id": "BcWEw0OUZ8gD"
      },
      "source": [
        "### Reading all VCF data and saving it as CSV files"
      ]
    },
    {
      "cell_type": "markdown",
      "source": [
        "This notebook is here to convert VCF files to something more familiar and easier to use - CSV files. However, I do not claim to have enough expertise in working with VCF files to say if this makes sense and if I have done it correctly here. As such, I would like to ask other team members to review this code, check if such transformation even makes sense and improve this notebook as they see fit."
      ],
      "metadata": {
        "id": "8J7DTN3QB82N"
      }
    },
    {
      "cell_type": "code",
      "execution_count": 1,
      "metadata": {
        "colab": {
          "base_uri": "https://localhost:8080/",
          "height": 592
        },
        "id": "2Hw4PIsmY28F",
        "outputId": "1e60c8db-c72e-4351-fc85-04058ba27c0c"
      },
      "outputs": [
        {
          "output_type": "stream",
          "name": "stdout",
          "text": [
            "Collecting setuptools<58\n",
            "  Downloading setuptools-57.5.0-py3-none-any.whl (819 kB)\n",
            "\u001b[2K     \u001b[90m━━━━━━━━━━━━━━━━━━━━━━━━━━━━━━━━━━━━━━━━\u001b[0m \u001b[32m819.3/819.3 kB\u001b[0m \u001b[31m12.0 MB/s\u001b[0m eta \u001b[36m0:00:00\u001b[0m\n",
            "\u001b[?25hInstalling collected packages: setuptools\n",
            "  Attempting uninstall: setuptools\n",
            "    Found existing installation: setuptools 67.7.2\n",
            "    Uninstalling setuptools-67.7.2:\n",
            "      Successfully uninstalled setuptools-67.7.2\n",
            "\u001b[31mERROR: pip's dependency resolver does not currently take into account all the packages that are installed. This behaviour is the source of the following dependency conflicts.\n",
            "ipython 7.34.0 requires jedi>=0.16, which is not installed.\n",
            "arviz 0.15.1 requires setuptools>=60.0.0, but you have setuptools 57.5.0 which is incompatible.\n",
            "cvxpy 1.3.2 requires setuptools>65.5.1, but you have setuptools 57.5.0 which is incompatible.\u001b[0m\u001b[31m\n",
            "\u001b[0mSuccessfully installed setuptools-57.5.0\n"
          ]
        },
        {
          "output_type": "display_data",
          "data": {
            "application/vnd.colab-display-data+json": {
              "pip_warning": {
                "packages": [
                  "_distutils_hack",
                  "pkg_resources",
                  "setuptools"
                ]
              }
            }
          },
          "metadata": {}
        },
        {
          "output_type": "stream",
          "name": "stdout",
          "text": [
            "\u001b[33mWARNING: Skipping pyvcf as it is not installed.\u001b[0m\u001b[33m\n",
            "\u001b[0mCollecting pyvcf\n",
            "  Downloading PyVCF-0.6.8.tar.gz (34 kB)\n",
            "  Preparing metadata (setup.py) ... \u001b[?25l\u001b[?25hdone\n",
            "Requirement already satisfied: setuptools in /usr/local/lib/python3.10/dist-packages (from pyvcf) (57.5.0)\n",
            "Building wheels for collected packages: pyvcf\n",
            "  Building wheel for pyvcf (setup.py) ... \u001b[?25l\u001b[?25hdone\n",
            "  Created wheel for pyvcf: filename=PyVCF-0.6.8-cp310-cp310-linux_x86_64.whl size=174265 sha256=6f62a567c25d33757750fddae1d38b530818cdd133b560904fdc38b1de4b4d72\n",
            "  Stored in directory: /root/.cache/pip/wheels/da/88/3b/b691691894da44fc597c93ba7f953a46d1413ed7411906a6d2\n",
            "Successfully built pyvcf\n",
            "Installing collected packages: pyvcf\n",
            "Successfully installed pyvcf-0.6.8\n"
          ]
        }
      ],
      "source": [
        "!pip install \"setuptools<58\" --upgrade\n",
        "!pip uninstall pyvcf\n",
        "!pip install pyvcf"
      ]
    },
    {
      "cell_type": "code",
      "execution_count": 2,
      "metadata": {
        "id": "PDCDYXsAaNKR"
      },
      "outputs": [],
      "source": [
        "file1 = \"/content/drive/MyDrive/Pathogenicity_Data/EE_015.vcf.gz\"\n",
        "file2 = \"/content/drive/MyDrive/Pathogenicity_Data/EE_050.vcf.gz\"\n",
        "file3 = \"/content/drive/MyDrive/Pathogenicity_Data/EE_069.vcf.gz\""
      ]
    },
    {
      "cell_type": "code",
      "execution_count": 3,
      "metadata": {
        "id": "FnIOz7lhl5gg"
      },
      "outputs": [],
      "source": [
        "import vcf\n",
        "import pandas as pd"
      ]
    },
    {
      "cell_type": "code",
      "execution_count": 4,
      "metadata": {
        "id": "9A6LWWvFaskW"
      },
      "outputs": [],
      "source": [
        "def convert_to_csv(vcf_file):\n",
        "    data = []\n",
        "\n",
        "    with open(vcf_file, 'rb') as vcf_file_binary:\n",
        "        vcf_reader = vcf.Reader(vcf_file_binary)\n",
        "        column_headers = [\"CHROM\", \"POS\", \"ID\", \"REF\", \"ALT\", \"QUAL\", \"FILTER\", \"FORMAT\"]\n",
        "\n",
        "        column_headers.extend(vcf_reader.infos.keys())\n",
        "        column_headers.append(\"SAMPLE\")\n",
        "\n",
        "        for record in vcf_reader:\n",
        "            row = []\n",
        "            row.extend([record.CHROM, record.POS, record.ID, record.REF, record.ALT, record.QUAL, record.FILTER, record.FORMAT])\n",
        "\n",
        "            for field in vcf_reader.infos.keys():\n",
        "                info_value = record.INFO.get(field)\n",
        "                row.append(info_value)\n",
        "\n",
        "            for sample in record.samples:\n",
        "                row.append(sample['GT'])\n",
        "\n",
        "            data.append(row)\n",
        "\n",
        "    df = pd.DataFrame(data, columns=column_headers)\n",
        "    return df"
      ]
    },
    {
      "cell_type": "code",
      "execution_count": null,
      "metadata": {
        "id": "C3KLa29mnxuL"
      },
      "outputs": [],
      "source": [
        "EE_015=convert_to_csv(file1)\n",
        "EE_015.to_csv('/content/drive/MyDrive/Pathogenicity_Data/EE_015.csv', index=False)"
      ]
    },
    {
      "cell_type": "code",
      "execution_count": null,
      "metadata": {
        "id": "2bxn-U8QnybO"
      },
      "outputs": [],
      "source": [
        "EE_050=convert_to_csv(file2)\n",
        "EE_050.to_csv('/content/drive/MyDrive/Pathogenicity_Data/EE_050.csv', index=False)"
      ]
    },
    {
      "cell_type": "code",
      "execution_count": 5,
      "metadata": {
        "id": "zVZiwbTDcims"
      },
      "outputs": [],
      "source": [
        "EE_069=convert_to_csv(file3)\n",
        "EE_069.to_csv('/content/drive/MyDrive/Pathogenicity_Data/EE_069.csv', index=False)"
      ]
    }
  ],
  "metadata": {
    "colab": {
      "provenance": []
    },
    "kernelspec": {
      "display_name": "Python 3",
      "name": "python3"
    },
    "language_info": {
      "name": "python"
    }
  },
  "nbformat": 4,
  "nbformat_minor": 0
}
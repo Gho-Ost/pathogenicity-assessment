{
 "cells": [
  {
   "cell_type": "code",
   "execution_count": 28,
   "metadata": {},
   "outputs": [],
   "source": [
    "import pandas as pd"
   ]
  },
  {
   "cell_type": "code",
   "execution_count": 37,
   "metadata": {},
   "outputs": [
    {
     "data": {
      "text/plain": [
       "2          MIR6859-1,WASH7P\n",
       "3    CICP27,ENSG00000238009\n",
       "4                  DDX11L17\n",
       "5                  DDX11L17\n",
       "6                  DDX11L17\n",
       "7                    WASH9P\n",
       "8                    WASH9P\n",
       "9                    WASH9P\n",
       "Name: Gene, dtype: object"
      ]
     },
     "execution_count": 37,
     "metadata": {},
     "output_type": "execute_result"
    }
   ],
   "source": [
    "df = pd.read_csv(\"data/EE_015/EE_015_genotype.csv.gz\", sep=\";\", compression=\"gzip\")\n",
    "df[\"Gene\"].iloc[2:10]"
   ]
  }
 ],
 "metadata": {
  "kernelspec": {
   "display_name": "pathogen",
   "language": "python",
   "name": "python3"
  },
  "language_info": {
   "codemirror_mode": {
    "name": "ipython",
    "version": 3
   },
   "file_extension": ".py",
   "mimetype": "text/x-python",
   "name": "python",
   "nbconvert_exporter": "python",
   "pygments_lexer": "ipython3",
   "version": "3.11.6"
  }
 },
 "nbformat": 4,
 "nbformat_minor": 2
}
